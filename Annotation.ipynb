{
 "cells": [
  {
   "cell_type": "code",
   "execution_count": 1,
   "metadata": {
    "collapsed": true
   },
   "outputs": [],
   "source": [
    "import re,os\n",
    "import pandas as pd\n",
    "from natsort import natsorted\n",
    "from Bio import SeqIO"
   ]
  },
  {
   "cell_type": "code",
   "execution_count": 2,
   "metadata": {
    "collapsed": true
   },
   "outputs": [],
   "source": [
    "hamster_id = '/data/shangzhong/Database/hamster/hamster_all_id.txt'\n",
    "id_map_fn = '/data/shangzhong/Picr_assembly/Annotation/pasa_exonerate/01_gene_tr_pr.txt'\n",
    "pasa_path = '/data/shangzhong/Picr_assembly/Annotation/PASA/pasa_rnaseq'\n",
    "gmap_gff = pasa_path + '/gmap.spliced_alignments.gff3'\n",
    "pasa_desp = pasa_path + '/picr_db_rna.pasa_assemblies_described.txt'\n",
    "pasa_gff = pasa_path + '/picr_db_rna.pasa_assemblies.gff3'\n",
    "transde_gff = pasa_path + '/picr_db_rna.assemblies.fasta.transdecoder.genome.gff3'\n",
    "transde_cds = pasa_path + '/picr_db_rna.assemblies.fasta.transdecoder.pep'\n",
    "exonerate_gff = '/data/shangzhong/Picr_assembly/Annotation/exonerate/exonerate.gff'\n",
    "refseq_pr_fa = '/data/shangzhong/Picr_assembly/Annotation/hamster_pr.fa'"
   ]
  },
  {
   "cell_type": "markdown",
   "metadata": {},
   "source": [
    "#### 1. Build gmap transcripts position.\n",
    "* gmap_pos_dic = {tr:{chr+str:[[s1,e1],[s2,e2],...]}}\n",
    "The reason why we build this one is that some transcripts in gmap maps to different chromosome. So we save them in different item in the dictionary."
   ]
  },
  {
   "cell_type": "code",
   "execution_count": 3,
   "metadata": {
    "collapsed": true
   },
   "outputs": [],
   "source": [
    "# build gmap transcripts position\n",
    "gmap_pos_dic = {}\n",
    "with open(gmap_gff) as f:\n",
    "    for line in f:\n",
    "        if line.strip() == '' or line.startswith('#'):\n",
    "            continue\n",
    "        item = line.split('\\t')\n",
    "        chrom = item[0]\n",
    "        start = int(item[3])\n",
    "        end = int(item[4])\n",
    "        anno = item[8]\n",
    "        strand = item[6]\n",
    "        tr = re.search('(?<=Target=).+?(?=\\.)',anno).group(0)\n",
    "        if tr not in gmap_pos_dic:\n",
    "            gmap_pos_dic[tr] = {chrom+strand:[[start,end]]}\n",
    "        else:\n",
    "            if chrom+strand not in gmap_pos_dic[tr]:\n",
    "                gmap_pos_dic[tr][chrom+strand] = [[start,end]]\n",
    "            else:\n",
    "                gmap_pos_dic[tr][chrom+strand].append([start,end])"
   ]
  },
  {
   "cell_type": "markdown",
   "metadata": {},
   "source": [
    "#### 2. Get gene, assembly, transcripts mapping from pasa descriptions.\n",
    "Genes can have multiple assebmlies, each assembly maps to many transcripts. \n",
    "Here we build an assembly as {gene:{assemble#:[MSTR,XM_**]}}"
   ]
  },
  {
   "cell_type": "code",
   "execution_count": 4,
   "metadata": {
    "collapsed": true
   },
   "outputs": [],
   "source": [
    "# get {gene:{assemble:[MSTG,XM_****]}}\n",
    "# {assmbl:gene}\n",
    "gene_assem_tr_dic = {}\n",
    "assm_geneclust_dic = {}\n",
    "geneclust_chrom_dic = {}\n",
    "with open(pasa_desp) as f:\n",
    "    for line in f:\n",
    "        if line.strip() == '' or line.startswith('#'):\n",
    "            continue\n",
    "        item = line.strip().split('\\t')\n",
    "        chrom = item[0]\n",
    "        gene  = item[1]\n",
    "        rna  = item[2]\n",
    "        geneclust_chrom_dic[gene] = chrom\n",
    "        assm_geneclust_dic[rna] = gene\n",
    "        trs   = [tr if tr.startswith('MSTRG') else tr.split('.')[0] for tr in item[3].split(',')]\n",
    "        if gene not in gene_assem_tr_dic:\n",
    "            gene_assem_tr_dic[gene] = {rna:trs}\n",
    "        else:\n",
    "            if rna not in gene_assem_tr_dic[gene]:\n",
    "                gene_assem_tr_dic[gene][rna] = trs\n",
    "            else:\n",
    "                gene_assem_tr_dic[gene][rna].extend(trs)"
   ]
  },
  {
   "cell_type": "markdown",
   "metadata": {},
   "source": [
    "#### 3. PASA assembly splice positions\n",
    "{assembly:[chr+strand,[s1,e1],[s2,e2]}"
   ]
  },
  {
   "cell_type": "code",
   "execution_count": 5,
   "metadata": {
    "collapsed": true
   },
   "outputs": [],
   "source": [
    "pasa_pos_dic = {}\n",
    "with open(pasa_gff) as f:\n",
    "    for line in f:\n",
    "        if line.strip() == '' or line.startswith('#'):\n",
    "            continue\n",
    "        item = line.strip().split('\\t')\n",
    "        chrom = item[0]\n",
    "        start = int(item[3])\n",
    "        end = int(item[4])\n",
    "        strand = item[6]\n",
    "        anno = item[8]\n",
    "        tr = re.search('(?<=Target=).+?(?=\\ )',anno).group(0)\n",
    "        if tr not in pasa_pos_dic:\n",
    "            pasa_pos_dic[tr] = [chrom+strand,[start,end]]\n",
    "        else:\n",
    "            pasa_pos_dic[tr].append([start,end])"
   ]
  },
  {
   "cell_type": "markdown",
   "metadata": {},
   "source": [
    "#### 4. Exonerate protein position"
   ]
  },
  {
   "cell_type": "code",
   "execution_count": 6,
   "metadata": {
    "collapsed": true
   },
   "outputs": [],
   "source": [
    "exonerate_pos_dic = {}\n",
    "pre_pattern = ''\n",
    "with open(exonerate_gff) as f:\n",
    "    for line in f:\n",
    "        if line.strip() == '' or line.startswith('#'):\n",
    "            continue\n",
    "        item = line.strip().split('\\t')\n",
    "        chrom = item[0]\n",
    "        start = int(item[3])\n",
    "        end = int(item[4])\n",
    "        strand = item[6]\n",
    "        anno = item[8]\n",
    "        pr = re.search('(?<=Target=).+?(?=\\.)',anno).group(0)\n",
    "        pattern = chrom + strand + pr\n",
    "        if pr not in exonerate_pos_dic:\n",
    "            exonerate_pos_dic[pr] = {chrom+strand:[[start,end]]}\n",
    "        else:\n",
    "            if chrom+strand not in exonerate_pos_dic[pr]:\n",
    "                exonerate_pos_dic[pr][chrom+strand]=[[start,end]]\n",
    "            else:\n",
    "                exonerate_pos_dic[pr][chrom+strand].append([start,end])"
   ]
  },
  {
   "cell_type": "markdown",
   "metadata": {},
   "source": [
    "#### 5. build annotation "
   ]
  },
  {
   "cell_type": "code",
   "execution_count": 7,
   "metadata": {
    "collapsed": true,
    "hideCode": false
   },
   "outputs": [],
   "source": [
    "# build gene, traccess, pr access mapping\n",
    "from Bio import Entrez\n",
    "Entrez.email = 'shl198@eng.ucsd.edu'\n",
    "def gene_rna_pr_id_map(hamster_id,access,out_fn):\n",
    "    '''this function gets all gene rna pr id, including both refseq and gff information.\n",
    "    * hamster_id: a file that has all ids in hamster.gff file\n",
    "    * access: a list accessions\n",
    "    * out_fn:  \n",
    "    '''\n",
    "    # rna accession in gff file\n",
    "    ham_id_df = pd.read_csv(hamster_id,sep='\\t',header=0)\n",
    "    ham_id_df = ham_id_df.astype('str')\n",
    "    ham_id_df['TrAccess'] = ham_id_df['TrAccess'].map(lambda x: x.split('.')[0])\n",
    "    ham_id_df['PrAccess'] = ham_id_df['PrAccess'].map(lambda x: x.split('.')[0])\n",
    "    rna_gene_dic = ham_id_df.set_index('TrAccess')['GeneID'].to_dict()\n",
    "    rna_pr_dic = ham_id_df.set_index('TrAccess')['PrAccess'].to_dict()\n",
    "    rna_gname_dic = ham_id_df.set_index('TrAccess')['GeneSymbol'].to_dict()\n",
    "    # new rna in refseq compared to gff\n",
    "    new_ref_rna = list(set(access) - set(rna_gene_dic.keys()))\n",
    "    # get geneid for new ref_rna gene id\n",
    "    for r in new_ref_rna:\n",
    "        if r.startswith('MSTRG'):\n",
    "            rna_gene_dic[r] = '.'.join(r.split('.')[:2])\n",
    "            rna_pr_dic[r] = '-'\n",
    "            rna_gname_dic[r] = '.'.join(r.split('.')[:2])\n",
    "        else:\n",
    "            handle = Entrez.efetch(db='nucleotide',id=r,rettype='gb',retmode='text').read()\n",
    "            \n",
    "            geneid = re.search('(?<=GeneID:).+?(?=\\\")',handle).group(0)\n",
    "            gename = re.search('(?<=gene=\\\").+?(?=\\\")',handle).group(0)\n",
    "            try:\n",
    "                p = re.search('(?<=protein_id=\\\").+?(?=\\.)',handle).group(0)\n",
    "            except:\n",
    "                p = '-'\n",
    "            rna_gene_dic[r] = geneid\n",
    "            rna_pr_dic[r] = p\n",
    "            rna_gname_dic[r] = gename\n",
    "    # transfer dic to dataframe\n",
    "    r_g_df = pd.DataFrame.from_dict(rna_gene_dic,'index')\n",
    "    r_g_df.columns = ['geneid']\n",
    "    r_p_df = pd.DataFrame.from_dict(rna_pr_dic,'index')\n",
    "    r_p_df.columns = ['pr_ac']\n",
    "    r_n_df = pd.DataFrame.from_dict(rna_gname_dic,'index')\n",
    "    r_n_df.columns = ['gename']\n",
    "    g_r_p_df = pd.concat([r_g_df,r_n_df,r_p_df],axis=1)\n",
    "    g_r_p_df['rna_ac'] = g_r_p_df.index\n",
    "    g_r_p_df[['geneid','gename','rna_ac','pr_ac']].to_csv(out_fn,sep='\\t',index=False)"
   ]
  },
  {
   "cell_type": "code",
   "execution_count": 7,
   "metadata": {
    "collapsed": true
   },
   "outputs": [],
   "source": [
    "#------------- get gene, tr, pr id mapping\n",
    "all_trs = []\n",
    "for k,v in gene_assem_tr_dic.iteritems():\n",
    "    for k1,v1 in v.iteritems():\n",
    "        all_trs.extend(v1)\n",
    "all_trs = list(set(all_trs))\n",
    "if not os.path.exists(id_map_fn):\n",
    "    gene_rna_pr_id_map(hamster_id,all_trs,id_map_fn)"
   ]
  },
  {
   "cell_type": "markdown",
   "metadata": {},
   "source": [
    "#### 6. compare pasa assebly with gmap results"
   ]
  },
  {
   "cell_type": "code",
   "execution_count": 8,
   "metadata": {
    "collapsed": true
   },
   "outputs": [],
   "source": [
    "id_df = pd.read_csv(id_map_fn,sep='\\t',header=0)\n",
    "tr_gid_dic = id_df.set_index('rna_ac')['geneid'].to_dict()\n",
    "tr_pr_dic = id_df.set_index('rna_ac')['pr_ac'].to_dict()\n",
    "tr_gnm_dic = id_df.set_index('rna_ac')['gename'].to_dict()\n",
    "tr_gnm_dic = {k:v.upper() for k,v in tr_gnm_dic.iteritems()}\n",
    "pr_tr_dic = id_df.set_index('pr_ac')['rna_ac'].to_dict()\n",
    "known_genes = list(set([str(g) for g in id_df['geneid'] if not g.startswith('MSTRG.')]))"
   ]
  },
  {
   "cell_type": "code",
   "execution_count": 9,
   "metadata": {
    "collapsed": true
   },
   "outputs": [],
   "source": [
    "assm_refseq_dic = {}  # stores {assemble_id: [refseq_tr]} that have exact same splice\n",
    "for gene,assm_dic in gene_assem_tr_dic.iteritems():\n",
    "    for assm,rnas in assm_dic.iteritems(): # {assem:[rnas]}\n",
    "        assm_chr = pasa_pos_dic[assm][0]\n",
    "        assm_pos = natsorted([p for pos in pasa_pos_dic[assm][1:] for p in pos])\n",
    "        for rna in rnas:\n",
    "            if rna in gmap_pos_dic:\n",
    "                for rna_k,rna_v in gmap_pos_dic[rna].iteritems(): #{chr+str:[[]]}\n",
    "                    refseq_pos = natsorted([p for pos in rna_v for p in pos])\n",
    "                if [assm_chr,assm_pos] == [rna_k,refseq_pos]:\n",
    "                        if assm not in assm_refseq_dic:\n",
    "                            assm_refseq_dic[assm] = [rna]\n",
    "                        else:\n",
    "                            assm_refseq_dic[assm].append(rna)"
   ]
  },
  {
   "cell_type": "code",
   "execution_count": 10,
   "metadata": {},
   "outputs": [
    {
     "name": "stdout",
     "output_type": "stream",
     "text": [
      "There are 78290 transcript in pasa assembly\n",
      "Among them 25321 have the same position with gmap\n"
     ]
    }
   ],
   "source": [
    "print('There are '+ str(len(pasa_pos_dic)) + ' transcript in pasa assembly')\n",
    "print('Among them ' +str(len(assm_refseq_dic))+' have the same position with gmap')"
   ]
  },
  {
   "cell_type": "markdown",
   "metadata": {},
   "source": [
    "#### 7. compare gmap consistent  assembly with exonerate"
   ]
  },
  {
   "cell_type": "code",
   "execution_count": 11,
   "metadata": {},
   "outputs": [
    {
     "name": "stdout",
     "output_type": "stream",
     "text": [
      "there are 626 protiens that have one CDS but corresponding rna has more than one exon\n"
     ]
    }
   ],
   "source": [
    "n = 0\n",
    "assm_pr_dic = {}  # {assemble_id:[pr accessions]}\n",
    "pr_pos_dic = {}   # {praccession:[chr+str,[pos]}\n",
    "for assm,ref_ac in assm_refseq_dic.iteritems(): # k is assmble_id, v is list of refseq accession\n",
    "    prs = [tr_pr_dic[t] for t in ref_ac]\n",
    "    assm_chr = pasa_pos_dic[assm][0]\n",
    "    assm_pos = natsorted([p for pos in pasa_pos_dic[assm][1:] for p in pos])\n",
    "    for pr in prs:\n",
    "        if pr in exonerate_pos_dic:\n",
    "            for pr_k,pr_v in exonerate_pos_dic[pr].iteritems(): #{chr+str:[[pos]]}\n",
    "                pr_pos = natsorted([p for pos in pr_v for p in pos])\n",
    "                if pr_k == assm_chr: # chromosome and strand consistent\n",
    "                    if len(pr_pos) == 2: # one CDS protein\n",
    "                        if len(assm_pos) == 2:\n",
    "                            if assm_pos[0] <= pr_pos[0]<=pr_pos[1]<=assm_pos[1]:\n",
    "                                add = True\n",
    "                            else:\n",
    "                                add = False\n",
    "                        else:\n",
    "                            n += 1\n",
    "                            add = False #assert False,assm_pos#'one CDS in two exon rna'\n",
    "                            for pp in pasa_pos_dic[assm][1:]:\n",
    "                                if pp[0]<=pr_pos[0]<=pr_pos[1]<=pp[1]:\n",
    "                                    add=True\n",
    "                    else: # more than one CDS\n",
    "                        if len(set(pr_pos[1:-1]).intersection(assm_pos)) == len(pr_pos[1:-1]):\n",
    "                            add = True\n",
    "                        else:\n",
    "                            add = False\n",
    "                else:\n",
    "                    add = False\n",
    "                if add == True:\n",
    "                    pr_pos_dic[pr] = [pr_k]+pr_v\n",
    "                    if not assm in assm_pr_dic:\n",
    "                        assm_pr_dic[assm] = [pr]\n",
    "                    else:\n",
    "                        assm_pr_dic[assm].append(pr)\n",
    "print('there are '+str(n)+' protiens that have one CDS but corresponding rna has more than one exon')"
   ]
  },
  {
   "cell_type": "code",
   "execution_count": 12,
   "metadata": {
    "collapsed": true
   },
   "outputs": [],
   "source": [
    "# keep refseq rna accession whose protein splices maps perfect with pasa rna assmblies\n",
    "assm_tr_dic = {}\n",
    "for assm,prs in assm_pr_dic.iteritems():  # {assemble_id:[praccessions]}\n",
    "    trs = [pr_tr_dic[p] for p in prs]\n",
    "    assm_tr_dic[assm] = trs"
   ]
  },
  {
   "cell_type": "code",
   "execution_count": 13,
   "metadata": {
    "collapsed": true
   },
   "outputs": [],
   "source": [
    "tr_assm_dic = {v[0]:k for k,v in assm_tr_dic.iteritems()}"
   ]
  },
  {
   "cell_type": "markdown",
   "metadata": {},
   "source": [
    "** Till now all transcripts assmblies position is in pasa_pos_dic, all protein position is in pr_pos_dic, all assmblies to tr/pr ids are in assm_tr_dic,assm_pr_dic. **"
   ]
  },
  {
   "cell_type": "markdown",
   "metadata": {},
   "source": [
    "#### 8. build transdecoder and pr position\n",
    "{cds_pr_id:[chrom+strand,[s,e],...]}"
   ]
  },
  {
   "cell_type": "code",
   "execution_count": 14,
   "metadata": {
    "collapsed": true
   },
   "outputs": [],
   "source": [
    "trans_pr_pos_dic = {}\n",
    "with open(transde_gff) as f:\n",
    "    for line in f:\n",
    "        if line.strip() == '': continue\n",
    "        item = line.split('\\t')\n",
    "        chrom = item[0]\n",
    "        start = int(item[3])\n",
    "        end = int(item[4])\n",
    "        strand = item[6]\n",
    "        anno = item[8]\n",
    "        if item[2] =='CDS':\n",
    "            fid = re.search('(?<=ID=).+?(?=;)',anno).group(0)[4:]\n",
    "            if fid not in trans_pr_pos_dic:\n",
    "                trans_pr_pos_dic[fid] = [chrom+strand,[start,end]]\n",
    "            else:\n",
    "                trans_pr_pos_dic[fid].append([start,end])"
   ]
  },
  {
   "cell_type": "markdown",
   "metadata": {},
   "source": [
    "#### 9. extract all protein sequence from transdecoder that are not verified by previous steps.\n",
    "** 1). These proteins don't have exact splice sites with pasa assemblies.\n",
    "Next, we blast protein sequence of those un-verified transcripts to hamster protein again to see if any of them maps perfectly to refseq proteins, this means the exonerate cannot map proteins correctly. **"
   ]
  },
  {
   "cell_type": "code",
   "execution_count": 15,
   "metadata": {},
   "outputs": [
    {
     "name": "stdout",
     "output_type": "stream",
     "text": [
      "there are 56835 pasa assemblies need to be further verified\n"
     ]
    }
   ],
   "source": [
    "lncrna = [k for k,v in assm_refseq_dic.iteritems() if v[0].startswith('XR_')]\n",
    "non_refseq_asmbl = [k for k in pasa_pos_dic if k not in assm_tr_dic and k not in lncrna]\n",
    "print('there are ' +str(len(non_refseq_asmbl))+' pasa assemblies need to be further verified')"
   ]
  },
  {
   "cell_type": "code",
   "execution_count": 25,
   "metadata": {},
   "outputs": [
    {
     "name": "stdout",
     "output_type": "stream",
     "text": [
      "there are 57484 assemblies have predicted proteins\n"
     ]
    }
   ],
   "source": [
    "# get longest protien for transdecoder proteins.\n",
    "longest_pr = {}  # {assm:cds_assm}\n",
    "with open(transde_cds) as f:\n",
    "    for line in f:\n",
    "        if line.startswith('>'):\n",
    "            cds_assm = re.search('(?<=>).+?(?=\\ )',line).group(0)\n",
    "            if cds_assm not in trans_pr_pos_dic:\n",
    "                continue\n",
    "            assm = cds_assm.split('|')[0]\n",
    "            length = int(re.search('(?<=len:).+?(?=\\ )',line).group(0))\n",
    "            if assm not in longest_pr:\n",
    "                longest_pr[assm] = [cds_assm,length]\n",
    "            else:\n",
    "                if length > longest_pr[assm][1]:\n",
    "                    longest_pr[assm] = [cds_assm,length]\n",
    "for k in longest_pr:\n",
    "    longest_pr[k] = longest_pr[k][0]\n",
    "print('there are '+str(len(longest_pr))+' assemblies have predicted proteins')"
   ]
  },
  {
   "cell_type": "code",
   "execution_count": 16,
   "metadata": {},
   "outputs": [
    {
     "data": {
      "text/plain": [
       "\"blastp -db hamster -query trans_pr.fa -out map2hamster.txt -outfmt\\n'6 qacc sacc pident length mismatch gapopen qstart qend sstart send evalue qlen slen'\\n-num_alignments 1 -num_threads 3 -evalue 1e-7\""
      ]
     },
     "execution_count": 16,
     "metadata": {},
     "output_type": "execute_result"
    }
   ],
   "source": [
    "# extract proteins that need to be blasted to uniprot and hamster refseq.\n",
    "trans_pr_fn = pasa_path + '/trans_pr.fa'\n",
    "if not os.path.exists(trans_pr_fn):\n",
    "    with open(transde_cds) as in_h,open(trans_pr_fn,'w') as out_h:\n",
    "        for record in SeqIO.parse(in_h,'fasta'):\n",
    "            rid = record.id\n",
    "            assm_id = rid.split('|')[0]\n",
    "            if assm_id in non_refseq_asmbl and rid in longest_pr.values():\n",
    "                SeqIO.write(record,out_h,'fasta')\n",
    "# blast\n",
    "'''blastp -db hamster -query trans_pr.fa -out map2hamster.txt -outfmt\n",
    "'6 qacc sacc pident length mismatch gapopen qstart qend sstart send evalue qlen slen'\n",
    "-num_alignments 1 -num_threads 3 -evalue 1e-7'''"
   ]
  },
  {
   "cell_type": "code",
   "execution_count": 18,
   "metadata": {
    "collapsed": true
   },
   "outputs": [],
   "source": [
    "# parse blast results of transdecoder proteins to hamster refseq\n",
    "trans_blast2ham_fn = pasa_path + '/trans_map2hamster.txt'\n",
    "trans_blast2ham_df = pd.read_csv(trans_blast2ham_fn,sep='\\t',header=None,names=['qacc',\n",
    "        'sacc','pident','length','mismatch','gapopen','qstart','qend','sstart','send',\n",
    "        'evalue','qlen','slen'])\n",
    "trans_blast2ham_df['assm'] = trans_blast2ham_df['qacc'].map(lambda x: x.split('|')[0])\n",
    "trans_blast2ham_df['sacc'] = trans_blast2ham_df['sacc'].map(lambda x: x.split('.')[0])\n",
    "\n",
    "# trans_blast2ham_df[trans_blast2ham_df['qacc'].isin(longest_pr.values())\n",
    "#                   ].iloc[:,range(14)].to_csv(trans_blast2ham_fn,sep='\\t',header=None,index=False)"
   ]
  },
  {
   "cell_type": "code",
   "execution_count": 19,
   "metadata": {
    "scrolled": true
   },
   "outputs": [
    {
     "name": "stdout",
     "output_type": "stream",
     "text": [
      "there are 12521 assemblies whose protein map perfectly to refseq\n"
     ]
    }
   ],
   "source": [
    "# get perfect mapping\n",
    "blt2ham100map_df = trans_blast2ham_df.query('(pident==100) and (length==qlen-1)')\n",
    "# cri = blt2ham100map_df[['assm','sacc','length']].groupby(['assm'])['length'].transform(max) == blt2ham100map_df['length']\n",
    "# blt2ham100map_df = blt2ham100map_df[cri]\n",
    "print('there are '+str(blt2ham100map_df['assm'].unique().shape[0])+' assemblies whose protein map perfectly to refseq')\n",
    "# stores the assemblies that have perfect blastp mapping to refseq \n",
    "# but missing by previous steps\n",
    "n = 0\n",
    "assm_blt2ham_tr_pr100map_dic = {} \n",
    "for assm,pr,cds in zip(blt2ham100map_df['assm'],blt2ham100map_df['sacc'],blt2ham100map_df['qacc']):\n",
    "    if assm in assm_tr_dic: #or ([pr] in assm_pr_dic.values()):\n",
    "        n += 1\n",
    "        print assm\n",
    "    assm_blt2ham_tr_pr100map_dic[assm] = [pr,cds]"
   ]
  },
  {
   "cell_type": "markdown",
   "metadata": {},
   "source": [
    "** 2). After getting mappings for pasa exonerate matched proteins and non coding rnas, then we get proteins that map more than 80% of the whole sequence with at least 80% identify. **"
   ]
  },
  {
   "cell_type": "code",
   "execution_count": 21,
   "metadata": {},
   "outputs": [
    {
     "name": "stdout",
     "output_type": "stream",
     "text": [
      "44314 assemblies do not map to know proteins\n"
     ]
    }
   ],
   "source": [
    "# assemblies not identified by previous steps\n",
    "non_refseq_asmbl1 = [assm for assm in non_refseq_asmbl if assm not in assm_blt2ham_tr_pr100map_dic]\n",
    "print len(non_refseq_asmbl1),'assemblies do not map to know proteins'"
   ]
  },
  {
   "cell_type": "code",
   "execution_count": 188,
   "metadata": {
    "collapsed": true
   },
   "outputs": [],
   "source": [
    "# pasa_pr_consist_genes = list(set([assm_geneclust_dic[assm] for assm in assm_tr_dic.keys()+\\\n",
    "#                                  assm_blt2ham_tr_pr100map_dic.keys()]))\n",
    "# # use previous identified genes to recover assemblies not included in previous steps \n",
    "# # these rescued genes will have entrez gene id and names\n",
    "# gene_rescued_assm = []\n",
    "# for assm in non_refseq_asmbl1:\n",
    "#     if assm_geneclust_dic[assm] in pasa_pr_consist_genes:\n",
    "#         gene_rescued_assm.append(assm)\n",
    "\n",
    "# # assmblies left\n",
    "# non_refseq_asmbl2 = list(set(non_refseq_asmbl1) - set(gene_rescued_assm))"
   ]
  },
  {
   "cell_type": "code",
   "execution_count": 22,
   "metadata": {
    "scrolled": true
   },
   "outputs": [],
   "source": [
    "blt2ham80map_df = trans_blast2ham_df[trans_blast2ham_df['assm'].isin(non_refseq_asmbl1) & \n",
    "                  (trans_blast2ham_df['pident'].values>80) &\n",
    "                  (trans_blast2ham_df['pident'].values<100) & \n",
    "                   (trans_blast2ham_df['length']/trans_blast2ham_df['qlen'] > 0.8)]\n",
    "assm_blt2ham_tr_pr80map_dic = {}\n",
    "for assm,pr,cds in zip(blt2ham80map_df['assm'],blt2ham80map_df['sacc'],blt2ham80map_df['qacc']):\n",
    "    if assm not in assm_blt2ham_tr_pr80map_dic:\n",
    "        assm_blt2ham_tr_pr80map_dic[assm] = [pr,cds]\n",
    "    else:\n",
    "        if assm_blt2ham_tr_pr80map_dic[assm] != [pr,cds]:\n",
    "            print assm"
   ]
  },
  {
   "cell_type": "code",
   "execution_count": 23,
   "metadata": {},
   "outputs": [
    {
     "name": "stdout",
     "output_type": "stream",
     "text": [
      "30706 assemblies do not map to know proteins\n"
     ]
    }
   ],
   "source": [
    "non_refseq_asmbl2 = list(set(non_refseq_asmbl1) - set(assm_blt2ham_tr_pr80map_dic))\n",
    "print len(non_refseq_asmbl2),'assemblies do not map to know proteins'"
   ]
  },
  {
   "cell_type": "markdown",
   "metadata": {},
   "source": [
    "** 3). For the rest of the assemblies, we blast to uniprot to decide their functions **"
   ]
  },
  {
   "cell_type": "code",
   "execution_count": 26,
   "metadata": {},
   "outputs": [],
   "source": [
    "trans_blast2uni_fn = pasa_path + '/trans_map2uniprot.txt'\n",
    "trans_blast2uni_df = pd.read_csv(trans_blast2uni_fn,sep='\\t',header=None,names=['qacc',\n",
    "        'sacc','pident','length','mismatch','gapopen','qstart','qend','sstart','send',\n",
    "        'evalue','bit','qlen','slen'])\n",
    "trans_blast2uni_df['assm'] = trans_blast2uni_df['qacc'].map(lambda x: x.split('|')[0])\n",
    "trans_blast2uni_df = trans_blast2uni_df[(trans_blast2uni_df['assm'].isin(non_refseq_asmbl2)) & \n",
    "                                       (trans_blast2uni_df['qacc'].isin(longest_pr.values()))]\n",
    "trans_blast2uni_df['gename'] = trans_blast2uni_df['sacc'].map(lambda x: \n",
    "                                        (x.split('|')[2]).split('_')[0])\n",
    "\n",
    "# trans_blast2uni_df = pd.read_csv(trans_blast2uni_fn,sep='\\t',header=None)\n",
    "# trans_blast2uni_df['qlen'] = trans_blast2uni_df[0].map(lambda x: len(hamster_index[x].seq))\n",
    "# trans_blast2uni_df['slen'] = trans_blast2uni_df[1].map(lambda x: len(uniprot_index[x].seq))\n",
    "# trans_blast2uni_df.to_csv(trans_blast2uni_fn,sep='\\t',header=None,index=False)"
   ]
  },
  {
   "cell_type": "code",
   "execution_count": 545,
   "metadata": {
    "collapsed": true
   },
   "outputs": [],
   "source": [
    "# trans_blast2uni_df = trans_blast2uni_df[(trans_blast2uni_df['pident'].values>60) & \n",
    "#                   (trans_blast2uni_df['length']/trans_blast2uni_df['qlen']>0.6)]"
   ]
  },
  {
   "cell_type": "code",
   "execution_count": 27,
   "metadata": {},
   "outputs": [
    {
     "name": "stdout",
     "output_type": "stream",
     "text": [
      "There are 9776 pr coding genes verified by uniprot\n"
     ]
    }
   ],
   "source": [
    "assm_gename_dic = {k:list(set(v)) for k,v in trans_blast2uni_df.groupby('assm')['gename']}\n",
    "print('There are '+str(len(assm_gename_dic))+' pr coding genes verified by uniprot')"
   ]
  },
  {
   "cell_type": "code",
   "execution_count": 28,
   "metadata": {
    "collapsed": true
   },
   "outputs": [],
   "source": [
    "# build {gene:assembly} dictionary\n",
    "gename_assm_dic = {}\n",
    "for k,v in assm_gename_dic.iteritems():\n",
    "    if v[0] in gename_assm_dic:\n",
    "        gename_assm_dic[v[0]].append(k)\n",
    "    else:\n",
    "        gename_assm_dic[v[0]] = [k]"
   ]
  },
  {
   "cell_type": "code",
   "execution_count": 29,
   "metadata": {},
   "outputs": [
    {
     "name": "stdout",
     "output_type": "stream",
     "text": [
      "there are 20930 assemblies left\n"
     ]
    }
   ],
   "source": [
    "non_refseq_asmbl3 = list(set(non_refseq_asmbl2) - set(assm_gename_dic.keys()))\n",
    "print('there are '+str(len(non_refseq_asmbl3))+' assemblies left')"
   ]
  },
  {
   "cell_type": "markdown",
   "metadata": {},
   "source": [
    "#### 10. build gene cluster gene id, gene name dic\n",
    "1. assm_tr_dic (16679). geneid, genename, tr_ac,pr_ac\n",
    "2. assm_blt2ham_tr_pr100map_dic (9693), geneid,genename,assm_id,pr_ac\n",
    "3. gene_rescued_assm (17898). geneid,genename,assm_id,cds_assm\n",
    "4. assm_gename_dic (12804): gene_clust,genename,assm_id,cds_assm"
   ]
  },
  {
   "cell_type": "code",
   "execution_count": 30,
   "metadata": {
    "collapsed": true
   },
   "outputs": [],
   "source": [
    "def update_gene_clust_idname_dic(gene_clust_idname_dic,gclust,gid,gnm,assm,known_genes):\n",
    "    if gclust not in gene_clust_idname_dic:\n",
    "        gene_clust_idname_dic[gclust] = [[gid,gnm,assm]]\n",
    "    else:\n",
    "        gnms = [g[1] for g in gene_clust_idname_dic[gclust]]\n",
    "        gids = [g[0] for g in gene_clust_idname_dic[gclust]]\n",
    "        if gnm not in gnms:\n",
    "            gene_clust_idname_dic[gclust].append([gid,gnm,assm])\n",
    "#             if gid in known_genes:\n",
    "#                 gene_clust_idname_dic[gclust].append([gid,gnm,assm])\n",
    "#             else:  \n",
    "#             # here we discard some assemblies that can't be decided to known or novel\n",
    "#             # need to think more, I think i should include all gene_# ids.\n",
    "#                 if len(gids)==1:\n",
    "#                     gene_clust_idname_dic[gclust][0].append(assm)\n",
    "        else:\n",
    "            index = gnms.index(gnm)\n",
    "            gene_clust_idname_dic[gclust][index].append(assm)\n",
    "    return gene_clust_idname_dic\n",
    "\n",
    "# build gene cluster\n",
    "gene_clust_idname_dic = {}\n",
    "for assm in assm_tr_dic: # case 1\n",
    "    gclust = assm_geneclust_dic[assm]\n",
    "    gid = tr_gid_dic[assm_tr_dic[assm][0]]\n",
    "    gnm = tr_gnm_dic[assm_tr_dic[assm][0]]\n",
    "    gene_clust_idname_dic = update_gene_clust_idname_dic(gene_clust_idname_dic,gclust,gid,gnm,assm,known_genes)\n",
    "for assm in assm_blt2ham_tr_pr100map_dic: # case 2\n",
    "    gclust = assm_geneclust_dic[assm]\n",
    "    pr = assm_blt2ham_tr_pr100map_dic[assm][0]\n",
    "    gid = tr_gid_dic[pr_tr_dic[pr]]\n",
    "    gnm = tr_gnm_dic[pr_tr_dic[pr]]\n",
    "    gene_clust_idname_dic = update_gene_clust_idname_dic(gene_clust_idname_dic,gclust,gid,gnm,assm,known_genes)\n",
    "for assm in assm_blt2ham_tr_pr80map_dic: # case 2\n",
    "    gclust = assm_geneclust_dic[assm]\n",
    "    pr = assm_blt2ham_tr_pr80map_dic[assm][0]\n",
    "    gid = tr_gid_dic[pr_tr_dic[pr]]\n",
    "    gnm = tr_gnm_dic[pr_tr_dic[pr]]\n",
    "    gene_clust_idname_dic = update_gene_clust_idname_dic(gene_clust_idname_dic,gclust,gid,gnm,assm,known_genes)\n",
    "for assm in assm_gename_dic:\n",
    "    gclust = assm_geneclust_dic[assm]\n",
    "    gid = 'gene_' + assm_geneclust_dic[assm]\n",
    "    gnm = assm_gename_dic[assm][0]\n",
    "    gene_clust_idname_dic = update_gene_clust_idname_dic(gene_clust_idname_dic,gclust,gid,gnm,assm,known_genes)\n",
    "for gclust in gene_assem_tr_dic:\n",
    "    if gclust not in gene_clust_idname_dic:\n",
    "        assms = gene_assem_tr_dic[gclust].keys()\n",
    "        gene_clust_idname_dic[gclust] = [['gene_'+gclust]*2+assms]"
   ]
  },
  {
   "cell_type": "markdown",
   "metadata": {
    "collapsed": true
   },
   "source": [
    "#### 11. output to gff"
   ]
  },
  {
   "cell_type": "code",
   "execution_count": 31,
   "metadata": {
    "collapsed": true
   },
   "outputs": [],
   "source": [
    "def get_pasa_pos_info(pasa_pos_dic,assm):\n",
    "    tr_pos = pasa_pos_dic[assm]\n",
    "    tr_str = tr_pos[0][-1]\n",
    "    tr_chrom = tr_pos[0][:-1]\n",
    "    tr_stt = str(tr_pos[1][0])\n",
    "    tr_end = str(tr_pos[-1][-1])\n",
    "    tr_pos = tr_pos[1:]\n",
    "    if tr_str == '-':\n",
    "        tr_pos = sorted(tr_pos,key=lambda x:x[0],reverse=True)\n",
    "    return [tr_chrom,tr_stt,tr_end,tr_str,tr_pos]\n",
    "\n",
    "def get_exonerate_pos_info(pr_pos_dic,pr_ac):\n",
    "    pr_pos = pr_pos_dic[pr_ac]\n",
    "    pr_str = pr_pos[0][-1]\n",
    "    pr_chrom = pr_pos[0][:-1]\n",
    "    pr_stt = str(pr_pos[1][0])\n",
    "    pr_end = str(pr_pos[-1][-1])\n",
    "    if pr_str == '-':\n",
    "        pr_stt, pr_end = pr_end,pr_stt\n",
    "    return [pr_chrom,pr_stt,pr_end,pr_str,pr_pos[1:]]\n",
    "\n",
    "def get_trans_cds_pos_info(trans_pr_pos_dic,pr_id):\n",
    "    pr_pos = trans_pr_pos_dic[pr_id]\n",
    "    pr_str = pr_pos[0][-1]\n",
    "    pr_chrom = pr_pos[0][:-1]\n",
    "    pr_stt = str(pr_pos[1][0])\n",
    "    pr_end = str(pr_pos[-1][-1])\n",
    "    if pr_str == '-':\n",
    "        pr_stt, pr_end = pr_end,pr_stt\n",
    "    return [pr_chrom,pr_stt,pr_end,pr_str,pr_pos[1:]]"
   ]
  },
  {
   "cell_type": "code",
   "execution_count": 32,
   "metadata": {
    "scrolled": true
   },
   "outputs": [
    {
     "name": "stdout",
     "output_type": "stream",
     "text": [
      "asmbl_130 tr and pr are not in the same scaffold/strand\n",
      "asmbl_173 tr and pr are not in the same scaffold/strand\n",
      "asmbl_348 tr and pr are not in the same scaffold/strand\n",
      "asmbl_509 tr and pr are not in the same scaffold/strand\n",
      "asmbl_586 tr and pr are not in the same scaffold/strand\n",
      "asmbl_1360 tr and pr are not in the same scaffold/strand\n",
      "asmbl_2013 tr and pr are not in the same scaffold/strand\n",
      "asmbl_2304 tr and pr are not in the same scaffold/strand\n",
      "asmbl_2903 tr and pr are not in the same scaffold/strand\n",
      "asmbl_2964 tr and pr are not in the same scaffold/strand\n",
      "asmbl_3025 tr and pr are not in the same scaffold/strand\n",
      "asmbl_3287 tr and pr are not in the same scaffold/strand\n",
      "asmbl_3288 tr and pr are not in the same scaffold/strand\n",
      "asmbl_3559 tr and pr are not in the same scaffold/strand\n",
      "asmbl_3788 tr and pr are not in the same scaffold/strand\n",
      "asmbl_3825 tr and pr are not in the same scaffold/strand\n",
      "asmbl_3840 tr and pr are not in the same scaffold/strand\n",
      "asmbl_3882 tr and pr are not in the same scaffold/strand\n",
      "asmbl_3951 tr and pr are not in the same scaffold/strand\n",
      "asmbl_4008 tr and pr are not in the same scaffold/strand\n",
      "asmbl_4087 tr and pr are not in the same scaffold/strand\n",
      "asmbl_4691 tr and pr are not in the same scaffold/strand\n",
      "asmbl_4796 tr and pr are not in the same scaffold/strand\n",
      "asmbl_4933 tr and pr are not in the same scaffold/strand\n",
      "asmbl_5043 tr and pr are not in the same scaffold/strand\n",
      "asmbl_5076 tr and pr are not in the same scaffold/strand\n",
      "asmbl_5127 tr and pr are not in the same scaffold/strand\n",
      "asmbl_5139 tr and pr are not in the same scaffold/strand\n",
      "asmbl_5507 tr and pr are not in the same scaffold/strand\n",
      "asmbl_5527 tr and pr are not in the same scaffold/strand\n",
      "asmbl_5530 tr and pr are not in the same scaffold/strand\n",
      "asmbl_5587 tr and pr are not in the same scaffold/strand\n",
      "asmbl_5626 tr and pr are not in the same scaffold/strand\n",
      "asmbl_5637 tr and pr are not in the same scaffold/strand\n",
      "asmbl_5679 tr and pr are not in the same scaffold/strand\n",
      "asmbl_5760 tr and pr are not in the same scaffold/strand\n",
      "asmbl_5821 tr and pr are not in the same scaffold/strand\n",
      "asmbl_5986 tr and pr are not in the same scaffold/strand\n",
      "asmbl_6326 tr and pr are not in the same scaffold/strand\n",
      "asmbl_6559 tr and pr are not in the same scaffold/strand\n",
      "asmbl_6837 tr and pr are not in the same scaffold/strand\n",
      "asmbl_7010 tr and pr are not in the same scaffold/strand\n",
      "asmbl_7136 tr and pr are not in the same scaffold/strand\n",
      "asmbl_7447 tr and pr are not in the same scaffold/strand\n",
      "asmbl_7459 tr and pr are not in the same scaffold/strand\n",
      "asmbl_7483 tr and pr are not in the same scaffold/strand\n",
      "asmbl_7531 tr and pr are not in the same scaffold/strand\n",
      "asmbl_7550 tr and pr are not in the same scaffold/strand\n",
      "asmbl_7952 tr and pr are not in the same scaffold/strand\n",
      "asmbl_8173 tr and pr are not in the same scaffold/strand\n",
      "asmbl_8676 tr and pr are not in the same scaffold/strand\n",
      "asmbl_8744 tr and pr are not in the same scaffold/strand\n",
      "asmbl_8765 tr and pr are not in the same scaffold/strand\n",
      "asmbl_8772 tr and pr are not in the same scaffold/strand\n",
      "asmbl_9004 tr and pr are not in the same scaffold/strand\n",
      "asmbl_9438 tr and pr are not in the same scaffold/strand\n",
      "asmbl_9488 tr and pr are not in the same scaffold/strand\n",
      "asmbl_9672 tr and pr are not in the same scaffold/strand\n",
      "asmbl_9879 tr and pr are not in the same scaffold/strand\n",
      "asmbl_10017 tr and pr are not in the same scaffold/strand\n",
      "asmbl_10042 tr and pr are not in the same scaffold/strand\n",
      "asmbl_10135 tr and pr are not in the same scaffold/strand\n",
      "asmbl_10163 tr and pr are not in the same scaffold/strand\n",
      "asmbl_10336 tr and pr are not in the same scaffold/strand\n",
      "asmbl_10758 tr and pr are not in the same scaffold/strand\n",
      "asmbl_10776 tr and pr are not in the same scaffold/strand\n",
      "asmbl_11221 tr and pr are not in the same scaffold/strand\n",
      "asmbl_11512 tr and pr are not in the same scaffold/strand\n",
      "asmbl_11578 tr and pr are not in the same scaffold/strand\n",
      "asmbl_11762 tr and pr are not in the same scaffold/strand\n",
      "asmbl_11900 tr and pr are not in the same scaffold/strand\n",
      "asmbl_11901 tr and pr are not in the same scaffold/strand\n",
      "asmbl_11970 tr and pr are not in the same scaffold/strand\n",
      "asmbl_11971 tr and pr are not in the same scaffold/strand\n",
      "asmbl_11988 tr and pr are not in the same scaffold/strand\n",
      "asmbl_12257 tr and pr are not in the same scaffold/strand\n",
      "asmbl_12259 tr and pr are not in the same scaffold/strand\n",
      "asmbl_12354 tr and pr are not in the same scaffold/strand\n",
      "asmbl_12421 tr and pr are not in the same scaffold/strand\n",
      "asmbl_12572 tr and pr are not in the same scaffold/strand\n",
      "asmbl_12661 tr and pr are not in the same scaffold/strand\n",
      "asmbl_12833 tr and pr are not in the same scaffold/strand\n",
      "asmbl_12920 tr and pr are not in the same scaffold/strand\n",
      "asmbl_13033 tr and pr are not in the same scaffold/strand\n",
      "asmbl_13087 tr and pr are not in the same scaffold/strand\n",
      "asmbl_13445 tr and pr are not in the same scaffold/strand\n",
      "asmbl_13643 tr and pr are not in the same scaffold/strand\n",
      "asmbl_13738 tr and pr are not in the same scaffold/strand\n",
      "asmbl_13795 tr and pr are not in the same scaffold/strand\n",
      "asmbl_13825 tr and pr are not in the same scaffold/strand\n",
      "asmbl_14235 tr and pr are not in the same scaffold/strand\n",
      "asmbl_14274 tr and pr are not in the same scaffold/strand\n",
      "asmbl_14278 tr and pr are not in the same scaffold/strand\n",
      "asmbl_14287 tr and pr are not in the same scaffold/strand\n",
      "asmbl_14303 tr and pr are not in the same scaffold/strand\n",
      "asmbl_14410 tr and pr are not in the same scaffold/strand\n",
      "asmbl_14438 tr and pr are not in the same scaffold/strand\n",
      "asmbl_14453 tr and pr are not in the same scaffold/strand\n",
      "asmbl_14559 tr and pr are not in the same scaffold/strand\n",
      "asmbl_14636 tr and pr are not in the same scaffold/strand\n",
      "asmbl_14644 tr and pr are not in the same scaffold/strand\n",
      "asmbl_14828 tr and pr are not in the same scaffold/strand\n",
      "asmbl_15427 tr and pr are not in the same scaffold/strand\n",
      "asmbl_16171 tr and pr are not in the same scaffold/strand\n",
      "asmbl_16193 tr and pr are not in the same scaffold/strand\n",
      "asmbl_16239 tr and pr are not in the same scaffold/strand\n",
      "asmbl_16385 tr and pr are not in the same scaffold/strand\n",
      "asmbl_16751 tr and pr are not in the same scaffold/strand\n",
      "asmbl_16831 tr and pr are not in the same scaffold/strand\n",
      "asmbl_16873 tr and pr are not in the same scaffold/strand\n",
      "asmbl_16951 tr and pr are not in the same scaffold/strand\n",
      "asmbl_16992 tr and pr are not in the same scaffold/strand\n",
      "asmbl_17005 tr and pr are not in the same scaffold/strand\n",
      "asmbl_17223 tr and pr are not in the same scaffold/strand\n",
      "asmbl_17264 tr and pr are not in the same scaffold/strand\n",
      "asmbl_17396 tr and pr are not in the same scaffold/strand\n",
      "asmbl_17398 tr and pr are not in the same scaffold/strand\n",
      "asmbl_17399 tr and pr are not in the same scaffold/strand\n",
      "asmbl_18005 tr and pr are not in the same scaffold/strand\n",
      "asmbl_18028 tr and pr are not in the same scaffold/strand\n",
      "asmbl_18043 tr and pr are not in the same scaffold/strand\n",
      "asmbl_18099 tr and pr are not in the same scaffold/strand\n",
      "asmbl_18106 tr and pr are not in the same scaffold/strand\n",
      "asmbl_18439 tr and pr are not in the same scaffold/strand\n",
      "asmbl_18486 tr and pr are not in the same scaffold/strand\n",
      "asmbl_18685 tr and pr are not in the same scaffold/strand\n",
      "asmbl_18692 tr and pr are not in the same scaffold/strand\n",
      "asmbl_18777 tr and pr are not in the same scaffold/strand\n",
      "asmbl_18890 tr and pr are not in the same scaffold/strand\n",
      "asmbl_18941 tr and pr are not in the same scaffold/strand\n",
      "asmbl_18980 tr and pr are not in the same scaffold/strand\n",
      "asmbl_19017 tr and pr are not in the same scaffold/strand\n",
      "asmbl_19146 tr and pr are not in the same scaffold/strand\n",
      "asmbl_19353 tr and pr are not in the same scaffold/strand\n",
      "asmbl_19356 tr and pr are not in the same scaffold/strand\n",
      "asmbl_19480 tr and pr are not in the same scaffold/strand\n",
      "asmbl_19484 tr and pr are not in the same scaffold/strand\n",
      "asmbl_19605 tr and pr are not in the same scaffold/strand\n",
      "asmbl_19876 tr and pr are not in the same scaffold/strand\n",
      "asmbl_19877 tr and pr are not in the same scaffold/strand\n",
      "asmbl_20057 tr and pr are not in the same scaffold/strand\n",
      "asmbl_20284 tr and pr are not in the same scaffold/strand\n",
      "asmbl_20303 tr and pr are not in the same scaffold/strand\n",
      "asmbl_20457 tr and pr are not in the same scaffold/strand\n",
      "asmbl_20475 tr and pr are not in the same scaffold/strand\n",
      "asmbl_20478 tr and pr are not in the same scaffold/strand\n",
      "asmbl_20486 tr and pr are not in the same scaffold/strand\n",
      "asmbl_20538 tr and pr are not in the same scaffold/strand\n",
      "asmbl_20700 tr and pr are not in the same scaffold/strand\n",
      "asmbl_20705 tr and pr are not in the same scaffold/strand\n"
     ]
    },
    {
     "name": "stdout",
     "output_type": "stream",
     "text": [
      "asmbl_21097 tr and pr are not in the same scaffold/strand\n",
      "asmbl_21104 tr and pr are not in the same scaffold/strand\n",
      "asmbl_21268 tr and pr are not in the same scaffold/strand\n",
      "asmbl_21570 tr and pr are not in the same scaffold/strand\n",
      "asmbl_21589 tr and pr are not in the same scaffold/strand\n",
      "asmbl_21641 tr and pr are not in the same scaffold/strand\n",
      "asmbl_21686 tr and pr are not in the same scaffold/strand\n",
      "asmbl_21721 tr and pr are not in the same scaffold/strand\n",
      "asmbl_21796 tr and pr are not in the same scaffold/strand\n",
      "asmbl_22009 tr and pr are not in the same scaffold/strand\n",
      "asmbl_22257 tr and pr are not in the same scaffold/strand\n",
      "asmbl_22680 tr and pr are not in the same scaffold/strand\n",
      "asmbl_22704 tr and pr are not in the same scaffold/strand\n",
      "asmbl_23052 tr and pr are not in the same scaffold/strand\n",
      "asmbl_23468 tr and pr are not in the same scaffold/strand\n",
      "asmbl_23534 tr and pr are not in the same scaffold/strand\n",
      "asmbl_23551 tr and pr are not in the same scaffold/strand\n",
      "asmbl_23595 tr and pr are not in the same scaffold/strand\n",
      "asmbl_23598 tr and pr are not in the same scaffold/strand\n",
      "asmbl_23627 tr and pr are not in the same scaffold/strand\n",
      "asmbl_23720 tr and pr are not in the same scaffold/strand\n",
      "asmbl_23885 tr and pr are not in the same scaffold/strand\n",
      "asmbl_23920 tr and pr are not in the same scaffold/strand\n",
      "asmbl_23981 tr and pr are not in the same scaffold/strand\n",
      "asmbl_24279 tr and pr are not in the same scaffold/strand\n",
      "asmbl_24283 tr and pr are not in the same scaffold/strand\n",
      "asmbl_24351 tr and pr are not in the same scaffold/strand\n",
      "asmbl_24455 tr and pr are not in the same scaffold/strand\n",
      "asmbl_24561 tr and pr are not in the same scaffold/strand\n",
      "asmbl_25053 tr and pr are not in the same scaffold/strand\n",
      "asmbl_25054 tr and pr are not in the same scaffold/strand\n",
      "asmbl_25245 tr and pr are not in the same scaffold/strand\n",
      "asmbl_25544 tr and pr are not in the same scaffold/strand\n",
      "asmbl_25567 tr and pr are not in the same scaffold/strand\n",
      "asmbl_25573 tr and pr are not in the same scaffold/strand\n",
      "asmbl_25686 tr and pr are not in the same scaffold/strand\n",
      "asmbl_25793 tr and pr are not in the same scaffold/strand\n",
      "asmbl_25842 tr and pr are not in the same scaffold/strand\n",
      "asmbl_26627 tr and pr are not in the same scaffold/strand\n",
      "asmbl_26856 tr and pr are not in the same scaffold/strand\n",
      "asmbl_27107 tr and pr are not in the same scaffold/strand\n",
      "asmbl_27453 tr and pr are not in the same scaffold/strand\n",
      "asmbl_28127 tr and pr are not in the same scaffold/strand\n",
      "asmbl_28170 tr and pr are not in the same scaffold/strand\n",
      "asmbl_28173 tr and pr are not in the same scaffold/strand\n",
      "asmbl_28579 tr and pr are not in the same scaffold/strand\n",
      "asmbl_28602 tr and pr are not in the same scaffold/strand\n",
      "asmbl_28881 tr and pr are not in the same scaffold/strand\n",
      "asmbl_28924 tr and pr are not in the same scaffold/strand\n",
      "asmbl_29050 tr and pr are not in the same scaffold/strand\n",
      "asmbl_29314 tr and pr are not in the same scaffold/strand\n",
      "asmbl_29563 tr and pr are not in the same scaffold/strand\n",
      "asmbl_29659 tr and pr are not in the same scaffold/strand\n",
      "asmbl_29871 tr and pr are not in the same scaffold/strand\n",
      "asmbl_30110 tr and pr are not in the same scaffold/strand\n",
      "asmbl_30251 tr and pr are not in the same scaffold/strand\n",
      "asmbl_30799 tr and pr are not in the same scaffold/strand\n",
      "asmbl_30972 tr and pr are not in the same scaffold/strand\n",
      "asmbl_31082 tr and pr are not in the same scaffold/strand\n",
      "asmbl_31470 tr and pr are not in the same scaffold/strand\n",
      "asmbl_32381 tr and pr are not in the same scaffold/strand\n",
      "asmbl_32395 tr and pr are not in the same scaffold/strand\n",
      "asmbl_32405 tr and pr are not in the same scaffold/strand\n",
      "asmbl_32443 tr and pr are not in the same scaffold/strand\n",
      "asmbl_32487 tr and pr are not in the same scaffold/strand\n",
      "asmbl_32980 tr and pr are not in the same scaffold/strand\n",
      "asmbl_33146 tr and pr are not in the same scaffold/strand\n",
      "asmbl_33275 tr and pr are not in the same scaffold/strand\n",
      "asmbl_33755 tr and pr are not in the same scaffold/strand\n",
      "asmbl_34205 tr and pr are not in the same scaffold/strand\n",
      "asmbl_34233 tr and pr are not in the same scaffold/strand\n",
      "asmbl_34622 tr and pr are not in the same scaffold/strand\n",
      "asmbl_34631 tr and pr are not in the same scaffold/strand\n",
      "asmbl_34819 tr and pr are not in the same scaffold/strand\n",
      "asmbl_34820 tr and pr are not in the same scaffold/strand\n",
      "asmbl_34837 tr and pr are not in the same scaffold/strand\n",
      "asmbl_34935 tr and pr are not in the same scaffold/strand\n",
      "asmbl_35026 tr and pr are not in the same scaffold/strand\n",
      "asmbl_35086 tr and pr are not in the same scaffold/strand\n",
      "asmbl_35087 tr and pr are not in the same scaffold/strand\n",
      "asmbl_35136 tr and pr are not in the same scaffold/strand\n",
      "asmbl_35146 tr and pr are not in the same scaffold/strand\n",
      "asmbl_35259 tr and pr are not in the same scaffold/strand\n",
      "asmbl_35313 tr and pr are not in the same scaffold/strand\n",
      "asmbl_35372 tr and pr are not in the same scaffold/strand\n",
      "asmbl_35396 tr and pr are not in the same scaffold/strand\n",
      "asmbl_35519 tr and pr are not in the same scaffold/strand\n",
      "asmbl_35568 tr and pr are not in the same scaffold/strand\n",
      "asmbl_35698 tr and pr are not in the same scaffold/strand\n",
      "asmbl_36056 tr and pr are not in the same scaffold/strand\n",
      "asmbl_36059 tr and pr are not in the same scaffold/strand\n",
      "asmbl_36605 tr and pr are not in the same scaffold/strand\n",
      "asmbl_36811 tr and pr are not in the same scaffold/strand\n",
      "asmbl_37030 tr and pr are not in the same scaffold/strand\n",
      "asmbl_37062 tr and pr are not in the same scaffold/strand\n",
      "asmbl_37086 tr and pr are not in the same scaffold/strand\n",
      "asmbl_37206 tr and pr are not in the same scaffold/strand\n",
      "asmbl_37693 tr and pr are not in the same scaffold/strand\n",
      "asmbl_37747 tr and pr are not in the same scaffold/strand\n",
      "asmbl_37778 tr and pr are not in the same scaffold/strand\n",
      "asmbl_37857 tr and pr are not in the same scaffold/strand\n",
      "asmbl_37887 tr and pr are not in the same scaffold/strand\n",
      "asmbl_38093 tr and pr are not in the same scaffold/strand\n",
      "asmbl_38157 tr and pr are not in the same scaffold/strand\n",
      "asmbl_38204 tr and pr are not in the same scaffold/strand\n",
      "asmbl_38206 tr and pr are not in the same scaffold/strand\n",
      "asmbl_38241 tr and pr are not in the same scaffold/strand\n",
      "asmbl_38311 tr and pr are not in the same scaffold/strand\n",
      "asmbl_38500 tr and pr are not in the same scaffold/strand\n",
      "asmbl_39151 tr and pr are not in the same scaffold/strand\n",
      "asmbl_39224 tr and pr are not in the same scaffold/strand\n",
      "asmbl_39239 tr and pr are not in the same scaffold/strand\n",
      "asmbl_39243 tr and pr are not in the same scaffold/strand\n",
      "asmbl_39433 tr and pr are not in the same scaffold/strand\n",
      "asmbl_39761 tr and pr are not in the same scaffold/strand\n",
      "asmbl_39769 tr and pr are not in the same scaffold/strand\n",
      "asmbl_39932 tr and pr are not in the same scaffold/strand\n",
      "asmbl_39946 tr and pr are not in the same scaffold/strand\n",
      "asmbl_40095 tr and pr are not in the same scaffold/strand\n",
      "asmbl_40113 tr and pr are not in the same scaffold/strand\n",
      "asmbl_40214 tr and pr are not in the same scaffold/strand\n",
      "asmbl_40364 tr and pr are not in the same scaffold/strand\n",
      "asmbl_40434 tr and pr are not in the same scaffold/strand\n",
      "asmbl_40440 tr and pr are not in the same scaffold/strand\n",
      "asmbl_40588 tr and pr are not in the same scaffold/strand\n",
      "asmbl_40725 tr and pr are not in the same scaffold/strand\n",
      "asmbl_40734 tr and pr are not in the same scaffold/strand\n",
      "asmbl_40743 tr and pr are not in the same scaffold/strand\n",
      "asmbl_41115 tr and pr are not in the same scaffold/strand\n",
      "asmbl_41254 tr and pr are not in the same scaffold/strand\n",
      "asmbl_41449 tr and pr are not in the same scaffold/strand\n",
      "asmbl_41469 tr and pr are not in the same scaffold/strand\n",
      "asmbl_41491 tr and pr are not in the same scaffold/strand\n",
      "asmbl_41502 tr and pr are not in the same scaffold/strand\n",
      "asmbl_41667 tr and pr are not in the same scaffold/strand\n",
      "asmbl_41692 tr and pr are not in the same scaffold/strand\n",
      "asmbl_41734 tr and pr are not in the same scaffold/strand\n",
      "asmbl_41814 tr and pr are not in the same scaffold/strand\n",
      "asmbl_41837 tr and pr are not in the same scaffold/strand\n",
      "asmbl_42029 tr and pr are not in the same scaffold/strand\n",
      "asmbl_42049 tr and pr are not in the same scaffold/strand\n",
      "asmbl_42291 tr and pr are not in the same scaffold/strand\n",
      "asmbl_42463 tr and pr are not in the same scaffold/strand\n"
     ]
    },
    {
     "name": "stdout",
     "output_type": "stream",
     "text": [
      "asmbl_43270 tr and pr are not in the same scaffold/strand\n",
      "asmbl_43511 tr and pr are not in the same scaffold/strand\n",
      "asmbl_43777 tr and pr are not in the same scaffold/strand\n",
      "asmbl_44127 tr and pr are not in the same scaffold/strand\n",
      "asmbl_44148 tr and pr are not in the same scaffold/strand\n",
      "asmbl_44309 tr and pr are not in the same scaffold/strand\n",
      "asmbl_44316 tr and pr are not in the same scaffold/strand\n",
      "asmbl_44502 tr and pr are not in the same scaffold/strand\n",
      "asmbl_44959 tr and pr are not in the same scaffold/strand\n",
      "asmbl_45325 tr and pr are not in the same scaffold/strand\n",
      "asmbl_45502 tr and pr are not in the same scaffold/strand\n",
      "asmbl_45504 tr and pr are not in the same scaffold/strand\n",
      "asmbl_45626 tr and pr are not in the same scaffold/strand\n",
      "asmbl_45845 tr and pr are not in the same scaffold/strand\n",
      "asmbl_46162 tr and pr are not in the same scaffold/strand\n",
      "asmbl_46182 tr and pr are not in the same scaffold/strand\n",
      "asmbl_46515 tr and pr are not in the same scaffold/strand\n",
      "asmbl_46545 tr and pr are not in the same scaffold/strand\n",
      "asmbl_46587 tr and pr are not in the same scaffold/strand\n",
      "asmbl_47072 tr and pr are not in the same scaffold/strand\n",
      "asmbl_47109 tr and pr are not in the same scaffold/strand\n",
      "asmbl_47255 tr and pr are not in the same scaffold/strand\n",
      "asmbl_47382 tr and pr are not in the same scaffold/strand\n",
      "asmbl_47414 tr and pr are not in the same scaffold/strand\n",
      "asmbl_47442 tr and pr are not in the same scaffold/strand\n",
      "asmbl_48252 tr and pr are not in the same scaffold/strand\n",
      "asmbl_48288 tr and pr are not in the same scaffold/strand\n",
      "asmbl_48540 tr and pr are not in the same scaffold/strand\n",
      "asmbl_48650 tr and pr are not in the same scaffold/strand\n",
      "asmbl_48873 tr and pr are not in the same scaffold/strand\n",
      "asmbl_48888 tr and pr are not in the same scaffold/strand\n",
      "asmbl_49040 tr and pr are not in the same scaffold/strand\n",
      "asmbl_49088 tr and pr are not in the same scaffold/strand\n",
      "asmbl_49238 tr and pr are not in the same scaffold/strand\n",
      "asmbl_49262 tr and pr are not in the same scaffold/strand\n",
      "asmbl_49273 tr and pr are not in the same scaffold/strand\n",
      "asmbl_49633 tr and pr are not in the same scaffold/strand\n",
      "asmbl_49706 tr and pr are not in the same scaffold/strand\n",
      "asmbl_49888 tr and pr are not in the same scaffold/strand\n",
      "asmbl_49923 tr and pr are not in the same scaffold/strand\n",
      "asmbl_50206 tr and pr are not in the same scaffold/strand\n",
      "asmbl_50369 tr and pr are not in the same scaffold/strand\n",
      "asmbl_50445 tr and pr are not in the same scaffold/strand\n",
      "asmbl_50496 tr and pr are not in the same scaffold/strand\n",
      "asmbl_50586 tr and pr are not in the same scaffold/strand\n",
      "asmbl_50744 tr and pr are not in the same scaffold/strand\n",
      "asmbl_50763 tr and pr are not in the same scaffold/strand\n",
      "asmbl_50870 tr and pr are not in the same scaffold/strand\n",
      "asmbl_51388 tr and pr are not in the same scaffold/strand\n",
      "asmbl_51399 tr and pr are not in the same scaffold/strand\n",
      "asmbl_51401 tr and pr are not in the same scaffold/strand\n",
      "asmbl_51406 tr and pr are not in the same scaffold/strand\n",
      "asmbl_51619 tr and pr are not in the same scaffold/strand\n",
      "asmbl_51732 tr and pr are not in the same scaffold/strand\n",
      "asmbl_51846 tr and pr are not in the same scaffold/strand\n",
      "asmbl_51861 tr and pr are not in the same scaffold/strand\n",
      "asmbl_51886 tr and pr are not in the same scaffold/strand\n",
      "asmbl_51894 tr and pr are not in the same scaffold/strand\n",
      "asmbl_51908 tr and pr are not in the same scaffold/strand\n",
      "asmbl_52043 tr and pr are not in the same scaffold/strand\n",
      "asmbl_52359 tr and pr are not in the same scaffold/strand\n",
      "asmbl_52444 tr and pr are not in the same scaffold/strand\n",
      "asmbl_52462 tr and pr are not in the same scaffold/strand\n",
      "asmbl_52468 tr and pr are not in the same scaffold/strand\n",
      "asmbl_52471 tr and pr are not in the same scaffold/strand\n",
      "asmbl_52476 tr and pr are not in the same scaffold/strand\n",
      "asmbl_53078 tr and pr are not in the same scaffold/strand\n",
      "asmbl_53079 tr and pr are not in the same scaffold/strand\n",
      "asmbl_53253 tr and pr are not in the same scaffold/strand\n",
      "asmbl_53417 tr and pr are not in the same scaffold/strand\n",
      "asmbl_53418 tr and pr are not in the same scaffold/strand\n",
      "asmbl_53505 tr and pr are not in the same scaffold/strand\n",
      "asmbl_53718 tr and pr are not in the same scaffold/strand\n",
      "asmbl_54357 tr and pr are not in the same scaffold/strand\n",
      "asmbl_54410 tr and pr are not in the same scaffold/strand\n",
      "asmbl_54417 tr and pr are not in the same scaffold/strand\n",
      "asmbl_55752 tr and pr are not in the same scaffold/strand\n",
      "asmbl_56170 tr and pr are not in the same scaffold/strand\n",
      "asmbl_56351 tr and pr are not in the same scaffold/strand\n",
      "asmbl_56715 tr and pr are not in the same scaffold/strand\n",
      "asmbl_56724 tr and pr are not in the same scaffold/strand\n",
      "asmbl_56746 tr and pr are not in the same scaffold/strand\n",
      "asmbl_56755 tr and pr are not in the same scaffold/strand\n",
      "asmbl_56766 tr and pr are not in the same scaffold/strand\n",
      "asmbl_57127 tr and pr are not in the same scaffold/strand\n",
      "asmbl_57142 tr and pr are not in the same scaffold/strand\n",
      "asmbl_57149 tr and pr are not in the same scaffold/strand\n",
      "asmbl_57624 tr and pr are not in the same scaffold/strand\n",
      "asmbl_57964 tr and pr are not in the same scaffold/strand\n",
      "asmbl_58245 tr and pr are not in the same scaffold/strand\n",
      "asmbl_58945 tr and pr are not in the same scaffold/strand\n",
      "asmbl_58954 tr and pr are not in the same scaffold/strand\n",
      "asmbl_59042 tr and pr are not in the same scaffold/strand\n",
      "asmbl_59156 tr and pr are not in the same scaffold/strand\n",
      "asmbl_60139 tr and pr are not in the same scaffold/strand\n",
      "asmbl_60140 tr and pr are not in the same scaffold/strand\n",
      "asmbl_60637 tr and pr are not in the same scaffold/strand\n",
      "asmbl_60673 tr and pr are not in the same scaffold/strand\n",
      "asmbl_60731 tr and pr are not in the same scaffold/strand\n",
      "asmbl_60771 tr and pr are not in the same scaffold/strand\n",
      "asmbl_60960 tr and pr are not in the same scaffold/strand\n",
      "asmbl_61091 tr and pr are not in the same scaffold/strand\n",
      "asmbl_61203 tr and pr are not in the same scaffold/strand\n",
      "asmbl_61301 tr and pr are not in the same scaffold/strand\n",
      "asmbl_61309 tr and pr are not in the same scaffold/strand\n",
      "asmbl_61815 tr and pr are not in the same scaffold/strand\n",
      "asmbl_61876 tr and pr are not in the same scaffold/strand\n",
      "asmbl_61920 tr and pr are not in the same scaffold/strand\n",
      "asmbl_61982 tr and pr are not in the same scaffold/strand\n",
      "asmbl_62166 tr and pr are not in the same scaffold/strand\n",
      "asmbl_62183 tr and pr are not in the same scaffold/strand\n",
      "asmbl_62425 tr and pr are not in the same scaffold/strand\n",
      "asmbl_62700 tr and pr are not in the same scaffold/strand\n",
      "asmbl_62784 tr and pr are not in the same scaffold/strand\n",
      "asmbl_62828 tr and pr are not in the same scaffold/strand\n",
      "asmbl_62898 tr and pr are not in the same scaffold/strand\n",
      "asmbl_62942 tr and pr are not in the same scaffold/strand\n",
      "asmbl_62943 tr and pr are not in the same scaffold/strand\n",
      "asmbl_63161 tr and pr are not in the same scaffold/strand\n",
      "asmbl_63185 tr and pr are not in the same scaffold/strand\n",
      "asmbl_63305 tr and pr are not in the same scaffold/strand\n",
      "asmbl_63324 tr and pr are not in the same scaffold/strand\n",
      "asmbl_63350 tr and pr are not in the same scaffold/strand\n",
      "asmbl_63352 tr and pr are not in the same scaffold/strand\n",
      "asmbl_63377 tr and pr are not in the same scaffold/strand\n",
      "asmbl_63694 tr and pr are not in the same scaffold/strand\n",
      "asmbl_63884 tr and pr are not in the same scaffold/strand\n",
      "asmbl_63900 tr and pr are not in the same scaffold/strand\n",
      "asmbl_63913 tr and pr are not in the same scaffold/strand\n",
      "asmbl_64002 tr and pr are not in the same scaffold/strand\n",
      "asmbl_64037 tr and pr are not in the same scaffold/strand\n",
      "asmbl_64072 tr and pr are not in the same scaffold/strand\n",
      "asmbl_64073 tr and pr are not in the same scaffold/strand\n",
      "asmbl_64075 tr and pr are not in the same scaffold/strand\n",
      "asmbl_64343 tr and pr are not in the same scaffold/strand\n",
      "asmbl_64347 tr and pr are not in the same scaffold/strand\n",
      "asmbl_64445 tr and pr are not in the same scaffold/strand\n",
      "asmbl_64838 tr and pr are not in the same scaffold/strand\n",
      "asmbl_64841 tr and pr are not in the same scaffold/strand\n",
      "asmbl_64962 tr and pr are not in the same scaffold/strand\n",
      "asmbl_64992 tr and pr are not in the same scaffold/strand\n",
      "asmbl_65015 tr and pr are not in the same scaffold/strand\n",
      "asmbl_65053 tr and pr are not in the same scaffold/strand\n",
      "asmbl_65088 tr and pr are not in the same scaffold/strand\n",
      "asmbl_65214 tr and pr are not in the same scaffold/strand\n",
      "asmbl_65239 tr and pr are not in the same scaffold/strand\n",
      "asmbl_65261 tr and pr are not in the same scaffold/strand\n",
      "asmbl_65477 tr and pr are not in the same scaffold/strand\n"
     ]
    },
    {
     "name": "stdout",
     "output_type": "stream",
     "text": [
      "asmbl_66164 tr and pr are not in the same scaffold/strand\n",
      "asmbl_66194 tr and pr are not in the same scaffold/strand\n",
      "asmbl_66382 tr and pr are not in the same scaffold/strand\n",
      "asmbl_66457 tr and pr are not in the same scaffold/strand\n",
      "asmbl_66476 tr and pr are not in the same scaffold/strand\n",
      "asmbl_66483 tr and pr are not in the same scaffold/strand\n",
      "asmbl_66515 tr and pr are not in the same scaffold/strand\n",
      "asmbl_66725 tr and pr are not in the same scaffold/strand\n",
      "asmbl_66789 tr and pr are not in the same scaffold/strand\n",
      "asmbl_66791 tr and pr are not in the same scaffold/strand\n",
      "asmbl_66832 tr and pr are not in the same scaffold/strand\n",
      "asmbl_67146 tr and pr are not in the same scaffold/strand\n",
      "asmbl_67565 tr and pr are not in the same scaffold/strand\n",
      "asmbl_67857 tr and pr are not in the same scaffold/strand\n",
      "asmbl_67918 tr and pr are not in the same scaffold/strand\n",
      "asmbl_67989 tr and pr are not in the same scaffold/strand\n",
      "asmbl_68299 tr and pr are not in the same scaffold/strand\n",
      "asmbl_68332 tr and pr are not in the same scaffold/strand\n",
      "asmbl_68454 tr and pr are not in the same scaffold/strand\n",
      "asmbl_68544 tr and pr are not in the same scaffold/strand\n",
      "asmbl_68632 tr and pr are not in the same scaffold/strand\n",
      "asmbl_68881 tr and pr are not in the same scaffold/strand\n",
      "asmbl_69077 tr and pr are not in the same scaffold/strand\n",
      "asmbl_69154 tr and pr are not in the same scaffold/strand\n",
      "asmbl_69371 tr and pr are not in the same scaffold/strand\n",
      "asmbl_69487 tr and pr are not in the same scaffold/strand\n",
      "asmbl_70042 tr and pr are not in the same scaffold/strand\n",
      "asmbl_70180 tr and pr are not in the same scaffold/strand\n",
      "asmbl_70388 tr and pr are not in the same scaffold/strand\n",
      "asmbl_71140 tr and pr are not in the same scaffold/strand\n",
      "asmbl_71149 tr and pr are not in the same scaffold/strand\n",
      "asmbl_71301 tr and pr are not in the same scaffold/strand\n",
      "asmbl_71474 tr and pr are not in the same scaffold/strand\n",
      "asmbl_71481 tr and pr are not in the same scaffold/strand\n",
      "asmbl_71674 tr and pr are not in the same scaffold/strand\n",
      "asmbl_71774 tr and pr are not in the same scaffold/strand\n",
      "asmbl_71840 tr and pr are not in the same scaffold/strand\n",
      "asmbl_71905 tr and pr are not in the same scaffold/strand\n",
      "asmbl_71955 tr and pr are not in the same scaffold/strand\n",
      "asmbl_73027 tr and pr are not in the same scaffold/strand\n",
      "asmbl_73090 tr and pr are not in the same scaffold/strand\n",
      "asmbl_73091 tr and pr are not in the same scaffold/strand\n",
      "asmbl_73271 tr and pr are not in the same scaffold/strand\n",
      "asmbl_73337 tr and pr are not in the same scaffold/strand\n",
      "asmbl_73480 tr and pr are not in the same scaffold/strand\n",
      "asmbl_73487 tr and pr are not in the same scaffold/strand\n",
      "asmbl_73517 tr and pr are not in the same scaffold/strand\n",
      "asmbl_73554 tr and pr are not in the same scaffold/strand\n",
      "asmbl_73666 tr and pr are not in the same scaffold/strand\n",
      "asmbl_73784 tr and pr are not in the same scaffold/strand\n",
      "asmbl_73924 tr and pr are not in the same scaffold/strand\n",
      "asmbl_73932 tr and pr are not in the same scaffold/strand\n",
      "asmbl_73987 tr and pr are not in the same scaffold/strand\n",
      "asmbl_74107 tr and pr are not in the same scaffold/strand\n",
      "asmbl_74143 tr and pr are not in the same scaffold/strand\n",
      "asmbl_74146 tr and pr are not in the same scaffold/strand\n",
      "asmbl_74981 tr and pr are not in the same scaffold/strand\n",
      "asmbl_75430 tr and pr are not in the same scaffold/strand\n",
      "asmbl_75466 tr and pr are not in the same scaffold/strand\n",
      "asmbl_75489 tr and pr are not in the same scaffold/strand\n",
      "asmbl_75490 tr and pr are not in the same scaffold/strand\n",
      "asmbl_75536 tr and pr are not in the same scaffold/strand\n",
      "asmbl_75691 tr and pr are not in the same scaffold/strand\n",
      "asmbl_75695 tr and pr are not in the same scaffold/strand\n",
      "asmbl_75766 tr and pr are not in the same scaffold/strand\n",
      "asmbl_75885 tr and pr are not in the same scaffold/strand\n",
      "asmbl_75976 tr and pr are not in the same scaffold/strand\n",
      "asmbl_76052 tr and pr are not in the same scaffold/strand\n",
      "asmbl_76351 tr and pr are not in the same scaffold/strand\n",
      "asmbl_76535 tr and pr are not in the same scaffold/strand\n",
      "asmbl_76758 tr and pr are not in the same scaffold/strand\n",
      "asmbl_77092 tr and pr are not in the same scaffold/strand\n",
      "asmbl_77147 tr and pr are not in the same scaffold/strand\n",
      "asmbl_77613 tr and pr are not in the same scaffold/strand\n",
      "asmbl_77744 tr and pr are not in the same scaffold/strand\n",
      "asmbl_77755 tr and pr are not in the same scaffold/strand\n",
      "asmbl_77762 tr and pr are not in the same scaffold/strand\n",
      "asmbl_77854 tr and pr are not in the same scaffold/strand\n",
      "asmbl_77951 tr and pr are not in the same scaffold/strand\n",
      "asmbl_78192 tr and pr are not in the same scaffold/strand\n",
      "asmbl_78270 tr and pr are not in the same scaffold/strand\n"
     ]
    }
   ],
   "source": [
    "with open(pasa_path +'/merge.gff3','w') as gff:\n",
    "    for gene in natsorted(gene_assem_tr_dic.keys()):\n",
    "        # get assembly id\n",
    "        chrom = geneclust_chrom_dic[gene]\n",
    "        if len(gene_clust_idname_dic[gene]) == 1: # one gene cluster maps to only one gene\n",
    "            try:\n",
    "                [geneid,gename] = gene_clust_idname_dic[gene][0][:2]\n",
    "            except:\n",
    "                geneid = gename = 'gene_'+gene\n",
    "            assm_dic = gene_assem_tr_dic[gene]  # {assm:[tr]}\n",
    "            out_assms = [[geneid,gename]+assm_dic.keys()]\n",
    "        else:\n",
    "            out_assms = gene_clust_idname_dic[gene] # [[geneid,genename,assm_id1,assm_id2,..]]\n",
    "        for assms in out_assms:\n",
    "            [geneid,gename] = assms[:2]\n",
    "            for assm in natsorted(assms[2:]):\n",
    "                if assm in assm_tr_dic:\n",
    "                    # get tr information\n",
    "                    tr_ac  = assm_tr_dic[assm][0]\n",
    "                    # get pr information\n",
    "                    pr_ac  = assm_pr_dic[assm][0]\n",
    "                    pr_info = get_exonerate_pos_info(pr_pos_dic,pr_ac)\n",
    "                    cr = 1\n",
    "                elif assm in assm_blt2ham_tr_pr100map_dic or assm in assm_blt2ham_tr_pr80map_dic:\n",
    "                    try:\n",
    "                        [pr_ac,pr_id] = assm_blt2ham_tr_pr100map_dic[assm]\n",
    "                    except:\n",
    "                        [pr_ac,pr_id] = assm_blt2ham_tr_pr80map_dic[assm]\n",
    "                    tr_ac = pr_tr_dic[pr_ac]\n",
    "                    gid = tr_gid_dic[tr_ac]\n",
    "                    if gid  != geneid:\n",
    "                        print assm\n",
    "                    pr_info = get_trans_cds_pos_info(trans_pr_pos_dic,pr_id)\n",
    "                    cr = 2\n",
    "                elif assm in assm_gename_dic: # this is got from mapping to swiss prot\n",
    "                    pr_ac = longest_pr[assm]\n",
    "                    pr_info = get_trans_cds_pos_info(trans_pr_pos_dic,pr_ac)\n",
    "                    tr_ac = assm\n",
    "                    cr = 3\n",
    "                elif assm in lncrna:\n",
    "                    tr_ac = assm_refseq_dic[assm][0]\n",
    "                    pr_ac = ''\n",
    "                    cr = 1\n",
    "                else:\n",
    "                    tr_ac = assm\n",
    "                    try:\n",
    "                        pr_ac = longest_pr[assm]\n",
    "                        pr_info = get_trans_cds_pos_info(trans_pr_pos_dic,pr_ac)\n",
    "                    except:\n",
    "                        pr_ac = ''\n",
    "                    cr = 4\n",
    "                tr_info = get_pasa_pos_info(pasa_pos_dic,assm)\n",
    "                # sometimes transdecoder and pasa assemblies have different strand, use transdecoder\n",
    "                if (pr_info[3] != tr_info[3] or pr_info[0]!= tr_info[0]) and pr_ac !='':\n",
    "                    tr_info[3] = pr_info[3]\n",
    "                    print(assm+' tr and pr are not in the same scaffold/strand')\n",
    "                # write mRNA line\n",
    "                rna_anno = ('ID={assm};Parent={gid};gene_id={gid};Name={gnm};'\n",
    "                'transcript_id={tr};cr={cr}').format(assm=assm,gid=geneid,gnm=gename,tr=tr_ac,cr=cr)\n",
    "                if geneid == gename: # \n",
    "                    feature = 'mRNA'\n",
    "                    gff.write('\\t'.join([tr_info[0],'merge',feature,tr_info[1],tr_info[2],'.',tr_info[3],\n",
    "                                     '.',rna_anno+';gene unknown'])+'\\n')\n",
    "                else:\n",
    "                    if assm in lncrna:\n",
    "                        feature = 'lncRNA'\n",
    "                    else:\n",
    "                        feature = 'mRNA'\n",
    "                    gff.write('\\t'.join([tr_info[0],'merge',feature,tr_info[1],tr_info[2],'.',tr_info[3],\n",
    "                                         '.',rna_anno])+'\\n')\n",
    "                n = 0\n",
    "                for t in tr_info[-1]:\n",
    "                    n +=1\n",
    "                    tr_anno = ('ID={assm}.exon{n};Parent={assm};gene_id={gid};Name={gnm};'\n",
    "                        'transcript_id={tr}').format(assm=assm,n=str(n),gid=geneid,gnm=gename,tr=tr_ac)\n",
    "                    gff.write('\\t'.join([tr_info[0],'merge','exon',str(t[0]),str(t[1]),\\\n",
    "                                        '.',tr_info[3],'.',tr_anno])+'\\n')\n",
    "                if pr_ac != '':\n",
    "                    n = 0\n",
    "                    for p in pr_info[-1]:\n",
    "                        n+=1\n",
    "                        pr_anno = ('ID={assm}.cds{n};Parent={assm};gene_id={gid};Name={gnm};'\n",
    "                            'protein_id={pr}').format(assm=assm,n=str(n),gid=geneid,gnm=gename,pr=pr_ac)\n",
    "                        gff.write('\\t'.join([pr_info[0],'merge','CDS',str(p[0]),str(p[1]),\\\n",
    "                                             '.',pr_info[3],'.',pr_anno])+'\\n')      "
   ]
  },
  {
   "cell_type": "code",
   "execution_count": 47,
   "metadata": {
    "collapsed": true
   },
   "outputs": [],
   "source": [
    "gene_rna_dic = {}\n",
    "rna_all_dic = {}\n",
    "with open(pasa_path+'/merge.gff3',) as in_f:\n",
    "    for line in in_f:\n",
    "        item = line.strip().split('\\t')\n",
    "        if item[2] in ['mRNA','lncRNA']:\n",
    "            rnaid = re.search('(?<=ID=).+?(?=;)',item[8]).group(0)\n",
    "            rna_all_dic[rnaid] = [item]\n",
    "            chrom = item[0]\n",
    "            strand = item[6]\n",
    "            geneid = re.search('(?<=gene_id=).+?(?=;)',item[8]).group(0)\n",
    "            gename = re.search('(?<=Name=).+?(?=;|$)',item[8]).group(0)\n",
    "            if geneid in gene_rna_dic:\n",
    "                gene_rna_dic[geneid].append([chrom,rnaid,strand,gename,[int(item[3]),int(item[4])]])\n",
    "            else:\n",
    "                gene_rna_dic[geneid] = [[chrom,rnaid,strand,gename,[int(item[3]),int(item[4])]]]\n",
    "        else:\n",
    "            rna_all_dic[rnaid].append(item)"
   ]
  },
  {
   "cell_type": "code",
   "execution_count": 49,
   "metadata": {
    "collapsed": true
   },
   "outputs": [],
   "source": [
    "with open(pasa_path + '/final.gff3','w') as out_f:\n",
    "    for gene,rnas in gene_rna_dic.iteritems():\n",
    "        rnas = sorted(rnas,key=lambda x: (x[0],x[4][0]))\n",
    "        # get the list of number having the same length with rnas, indicating \n",
    "        # whether to write the gene batch line. stores in gene_batch\n",
    "        n = 0\n",
    "        gene_batch = []\n",
    "        gene_pos = {}  # {batch#:[start,end]}\n",
    "        pre_chrom = ''\n",
    "        pre_name = ''\n",
    "        pre_start = pre_end = 0\n",
    "        for rna in rnas: # [chrom,asmbl_id,[start,end]]\n",
    "            rna_s = rna[4][0]\n",
    "            rna_e = rna[4][1]\n",
    "            if rna[0] != pre_chrom or rna[3] != pre_name:\n",
    "                n += 1\n",
    "                gene_batch.append(n)\n",
    "                gene_pos[n] = [rna_s,rna_e]\n",
    "            else:\n",
    "                if rna_s > pre_end:\n",
    "                    n += 1\n",
    "                    gene_batch.append(n)\n",
    "                    gene_pos[n] = [rna_s,rna_e]\n",
    "                else:\n",
    "                    gene_batch.append(n)\n",
    "                    gene_pos[n] = [min(rna_s,gene_pos[n][0]),max(rna_e,gene_pos[n][1])]\n",
    "            pre_start = rna_s\n",
    "            pre_end = rna_e\n",
    "            pre_chrom = rna[0]\n",
    "            pre_name = rna[3]\n",
    "        pre_b = 0\n",
    "        if len(set(gene_batch)) > 1:\n",
    "            for b,rna in zip(gene_batch,rnas):\n",
    "                if b != pre_b:\n",
    "                    anno='ID={g}_{b};gene_id={g};Name={name}'.format(g=gene,b=str(b),name=rna[3])\n",
    "                    out_f.write('\\t'.join([rna[0],'merge','gene',str(gene_pos[b][0]),\n",
    "                                        str(gene_pos[b][1]),'.',rna[2],'.',anno])+'\\n')\n",
    "                    rna_all_info = rna_all_dic[rna[1]]\n",
    "                    for rna_item in rna_all_info:\n",
    "                        if rna_item[2] in ['mRNA','lncRNA']:\n",
    "                            rna_item[8]=re.sub('(?<=Parent=).+?(?=;)',gene+'_'+str(b),rna_item[8])\n",
    "                        rna_item[8]=re.sub('(?<=gene_id=).+?(?=;)',gene+'_'+str(b),rna_item[8])\n",
    "                        out_f.write('\\t'.join(rna_item)+'\\n')\n",
    "                    pre_b = b\n",
    "                else:\n",
    "                    rna_all_info = rna_all_dic[rna[1]]\n",
    "                    for rna_item in rna_all_info:\n",
    "                        if rna_item[2] in ['mRNA','lncRNA']:\n",
    "                            rna_item[8]=re.sub('(?<=Parent=).+?(?=;)',gene+'_'+str(b),rna_item[8])\n",
    "                        rna_item[8]=re.sub('(?<=gene_id=).+?(?=;)',gene+'_'+str(b),rna_item[8])\n",
    "                        out_f.write('\\t'.join(rna_item)+'\\n')\n",
    "        else:\n",
    "            anno='ID={g};gene_id={g};Name={name}'.format(g=gene,name=rna[3])\n",
    "            out_f.write('\\t'.join([rnas[0][0],'merge','gene',str(gene_pos[1][0]),\n",
    "                                str(gene_pos[1][1]),'.',rna[2],'.',anno])+'\\n')\n",
    "            for rna in rnas:\n",
    "                rna_all_info = rna_all_dic[rna[1]]\n",
    "                for rna_item in rna_all_info:\n",
    "#                     if rna_item[2] in ['mRNA','lncRNA']:\n",
    "#                         rna_item[8]=re.sub('(?<=Parent=).+?(?=;)',gene,rna_item[8])\n",
    "                    out_f.write('\\t'.join(rna_item)+'\\n')"
   ]
  },
  {
   "cell_type": "markdown",
   "metadata": {},
   "source": [
    "Next we need to add the frame information for all the CDS lines."
   ]
  },
  {
   "cell_type": "code",
   "execution_count": 50,
   "metadata": {
    "collapsed": true
   },
   "outputs": [],
   "source": [
    "# add frame information for CDS\n",
    "with open(pasa_path+'/pasa_stringtie.gff3','w') as out, open(pasa_path+'/final.gff3') as inf:\n",
    "    pre_pr = ''\n",
    "    for line in inf:\n",
    "        if line.startswith('#'):\n",
    "            out.write(line)\n",
    "        else:\n",
    "            item = line.split('\\t')\n",
    "            if item[2] == 'CDS':\n",
    "                pr = re.search('(?<=protein_id=).+?(?=$|;)',item[8]).group(0)\n",
    "                if pr != pre_pr:\n",
    "                    pre_pr = pr\n",
    "                    item[7] = '0'\n",
    "                    n = abs(int(item[3])-int(item[4]))+1\n",
    "                else:\n",
    "                    item[7] = str(n % 3)\n",
    "                    n += abs(int(item[3])-int(item[4]))+1\n",
    "                out.write('\\t'.join(item))\n",
    "            else:\n",
    "                out.write(line)\n",
    "                    "
   ]
  }
 ],
 "metadata": {
  "celltoolbar": "Hide code",
  "kernelspec": {
   "display_name": "Python 2",
   "language": "python",
   "name": "python2"
  },
  "language_info": {
   "codemirror_mode": {
    "name": "ipython",
    "version": 2
   },
   "file_extension": ".py",
   "mimetype": "text/x-python",
   "name": "python",
   "nbconvert_exporter": "python",
   "pygments_lexer": "ipython2",
   "version": "2.7.12"
  }
 },
 "nbformat": 4,
 "nbformat_minor": 2
}
