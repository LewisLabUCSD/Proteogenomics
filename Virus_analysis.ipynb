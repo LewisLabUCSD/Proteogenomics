{
 "cells": [
  {
   "cell_type": "markdown",
   "metadata": {},
   "source": [
    "#### Aim: find if CHO cells have endogenous retrovirus."
   ]
  },
  {
   "cell_type": "code",
   "execution_count": 1,
   "metadata": {
    "collapsed": true
   },
   "outputs": [],
   "source": [
    "import os,sarge,re\n",
    "import pandas as pd\n",
    "from Bio import SeqIO\n",
    "import matplotlib\n",
    "import matplotlib.pyplot as plt\n",
    "%matplotlib inline\n",
    "plt.style.use('ggplot')\n",
    "from pybedtools import BedTool\n",
    "from natsort import natsorted\n",
    "import glob\n",
    "import numpy as np\n",
    "import pysam"
   ]
  },
  {
   "cell_type": "markdown",
   "metadata": {},
   "source": [
    "### Map virus proteins to hamster genome\n",
    "1. download all endogenous retroirus in ncbi here: https://www.ncbi.nlm.nih.gov/genomes/GenomesGroup.cgi?taxid=11632. There are 66 retrovirus by the time (2017/12) I downloaded. \n",
    "2. Map the proteins to hamster reference genome."
   ]
  },
  {
   "cell_type": "code",
   "execution_count": 2,
   "metadata": {
    "collapsed": true
   },
   "outputs": [],
   "source": [
    "path = '/data/shangzhong/Proteogenomics/virus'\n",
    "pasa_path = '/data/shangzhong/Picr_assembly/Annotation/PASA/pasa_stringtie'\n",
    "event_path = '/data/shangzhong/Proteogenomics/event_results'\n",
    "ham_blastdb = '/data/genome/hamster/picr_old/picr_blast_Db/picr'\n",
    "ham_fa = '/data/genome/hamster/picr_old/picr.fa'\n",
    "ham_gff = pasa_path + '/03_pasa_stringtie.gff3'\n",
    "rna_fa = pasa_path + '/03_pasa_stringtie_rna.fa'\n",
    "thread = 19\n",
    "uniprot_fa_fn = pasa_path + '/uniprot_sprot.fasta'\n",
    "uniprot_id_map = pasa_path + '/uniprot_idmap.txt' # accession:gene name mapping\n",
    "known_pep_pos_fn = event_path + '/known_pos.txt'\n",
    "cho_known_pep_pos_fn = event_path + '/cho_known_pos.txt'"
   ]
  },
  {
   "cell_type": "markdown",
   "metadata": {},
   "source": [
    "First, we extract CHO peptides from the original peptide results"
   ]
  },
  {
   "cell_type": "code",
   "execution_count": 3,
   "metadata": {},
   "outputs": [],
   "source": [
    "tissue_fns = ['spectrum-' + str(i).zfill(5) + '.mgf' for i in range(343, 439)]\n",
    "# 1. get cho map results\n",
    "if not os.path.exists(cho_known_pep_pos_fn):\n",
    "    df = pd.read_csv(fn,sep='\\t',header=0)\n",
    "    df = df[~df['#SpecFile'].isin(tissue_fns)]\n",
    "    df.to_csv(cho_known_pep_pos_fn,sep='\\t',index=False)\n",
    "# 2. get cho novel peptides\n",
    "novel_res = event_path + '/novel_res.txt'\n",
    "novel_res_df = pd.read_csv(novel_res, sep='\\t',header=0)\n",
    "\n",
    "novel_res_df = novel_res_df[~novel_res_df['#SpecFile'].isin(tissue_fns)]\n",
    "novel_res_df = novel_res_df.reset_index(drop=True)\n",
    "novel_res_df['pep'] = novel_res_df['Peptide'].map(lambda x: ''.join([p for p in x if p.isalpha()][:-1]))\n",
    "cho_novel_peps = novel_res_df['pep'].unique().tolist()"
   ]
  },
  {
   "cell_type": "code",
   "execution_count": 4,
   "metadata": {
    "scrolled": true
   },
   "outputs": [],
   "source": [
    "# blast peptides to virus\n",
    "def makeblastdb(fastaFile,datatype,out_path,outputname):\n",
    "    \"\"\"\n",
    "    this function build database given a fasta file\n",
    "    * fastaFile: can be gzipped or not\n",
    "    \"\"\"\n",
    "    if not os.path.exists(out_path):os.mkdir(out_path)\n",
    "    os.chdir(out_path)\n",
    "    if fastaFile.endswith('.gz'):\n",
    "        cmd = ('gunzip -c {input} | makeblastdb -in - -dbtype {type} -title {title} -out {outputname}').format(\n",
    "            input=fastaFile,type=datatype,outputname=outputname,title=outputname)\n",
    "    else:\n",
    "        cmd = ('makeblastdb -in {input} -dbtype {type} -title {title} -out {outputname}').format(\n",
    "            input=fastaFile,type=datatype,outputname=outputname,title=outputname)\n",
    "    sarge.run(cmd)\n",
    "    \n",
    "def blastp(query,outputFile,database,thread,mapnum=1):\n",
    "    \"\"\"\n",
    "    This function run blastp\n",
    "    * query: fasta file which you want to map\n",
    "    * database: database path/name\n",
    "    * outputFile: tabular blast result\n",
    "    \"\"\"\n",
    "    cmd = ('blastp -query {inf} -db {database} -out {outputFile} '\n",
    "           '-outfmt \\'6 qacc sacc pident length mismatch '\n",
    "           'gapopen qstart qend sstart send evalue bitsocre qlen slen\\' '\n",
    "           '-num_threads {thread} -num_alignments {mapnum}').format(inf=query,\n",
    "                database=database,outputFile=outputFile,thread=str(thread),mapnum=str(mapnum))\n",
    "    print(cmd)\n",
    "    sarge.run(cmd)\n",
    "    \n",
    "def blastn(query,outputFile,database,thread,mapnum=1):\n",
    "    ''''''\n",
    "    cmd = ('blastn -query {inf} -db {database} -out {out} -evalue 1e-4 '\n",
    "           '-outfmt \\'6 qacc sacc pident length mismatch '\n",
    "           'gapopen qstart qend sstart send evalue bitscore qlen slen\\' '\n",
    "          '-num_threads {thread} -num_alignments {mapnum}').format(inf=query,\n",
    "                database=database,out=outputFile,thread=str(thread),mapnum=str(mapnum))\n",
    "    print cmd\n",
    "    sarge.run(cmd)\n",
    "\n",
    "def tblastn(query,output,database,thread,mapnum=1):\n",
    "    cmd = ('tblastn -query {q} -db {db} -out {out} -outfmt \\'6 qacc sacc pident length mismatch '\n",
    "                   'gapopen qstart qend sstart send evalue bitscore qlen slen\\' -num_threads {t} '\n",
    "          '-num_alignments {num}').format(\n",
    "            q=query,db=database,out=output,t=str(thread),num=1000)\n",
    "    sarge.run(cmd)\n",
    "#     print cmd\n",
    "\n",
    "def add_strand_pst2blast(df):\n",
    "    '''add percentage of query that is mapped and strand info to df'''\n",
    "    df['qstart'] -= 1\n",
    "    df['qlen_per'] = (df['qend']-df['qstart'])/df['qlen']\n",
    "    df['start'] = df.apply(lambda x: min(int(x['sstart']),int(x['send']))-1,axis=1)\n",
    "    df['end'] = df.apply(lambda x: max(int(x['sstart']),int(x['send'])),axis=1)\n",
    "    df['strand'] = df.apply(lambda x:'+' if int(x['send'])>int(x['sstart']) else '-',axis=1)\n",
    "    return df"
   ]
  },
  {
   "cell_type": "code",
   "execution_count": 5,
   "metadata": {
    "collapsed": true
   },
   "outputs": [],
   "source": [
    "# generate virus accession, genename, virus mapping\n",
    "def get_virus_acc_name(virus_acc_name_map_fn):\n",
    "    if not os.path.exists(virus_acc_name_map_fn):\n",
    "        with open(virus_acc_name_map_fn,'w') as out:\n",
    "            for record in SeqIO.parse(query,'fasta'):\n",
    "                pid = record.id\n",
    "                des = record.description.lower()\n",
    "                handle = Entrez.efetch(db='protein',id=pid,rettype='gb',retmode='text')\n",
    "                res = handle.read()\n",
    "                if 'gag-pro-pol' in des:\n",
    "                    name = 'gag-pro-pol'\n",
    "                elif 'gag' in des:\n",
    "                    name = 'gag'\n",
    "                elif 'envelope' in des or 'env' in des:\n",
    "                    name = 'env'\n",
    "                elif 'pol ' in des:\n",
    "                    name = 'pol'\n",
    "                elif 'hypothetical protein' in des:\n",
    "                    name = 'gag'\n",
    "                else:\n",
    "                    name = ' '.join(des.split()[1:-1])\n",
    "                try:\n",
    "                    name1 = re.search('(?<=gene=\\\").+?(?=\\\")',res).group(0)\n",
    "                except:\n",
    "                    name1 = name\n",
    "                virus = re.search('(?<=\\[).+?(?=\\])',des).group(0)\n",
    "                out.write('\\t'.join([virus,pid,name1])+'\\n')\n",
    "    # build {virus:genename} dictionary\n",
    "    df = pd.read_csv(virus_acc_name_map_fn,sep='\\t',header=None,names=['virus','pid','name'])\n",
    "    virus_name_dic = df.set_index('pid')['name'].to_dict()\n",
    "    return virus_name_dic\n",
    "from Bio import Entrez\n",
    "Entrez.email = 'shl198@eng.ucsd.edu'\n",
    "virus_acc_name_map_fn = path + '/02_virus_acc_name_map.txt'\n",
    "if not os.path.exists(virus_acc_name_map_fn):\n",
    "    virus_name_dic = get_virus_acc_name(virus_acc_name_map_fn)\n",
    "else:\n",
    "    df = pd.read_csv(virus_acc_name_map_fn,sep='\\t',header=None,names=['virus','pid','name'])\n",
    "    virus_name_dic = df.set_index('pid')['name'].to_dict()"
   ]
  },
  {
   "cell_type": "code",
   "execution_count": 6,
   "metadata": {
    "collapsed": true
   },
   "outputs": [],
   "source": [
    "# map virus protein to picr genome using tblastn\n",
    "query = path + '/02_retro_virus_pr.fa'\n",
    "virus_nr2picr_fn = path + '/03_virus_pr2picr_nt.txt'\n",
    "if not os.path.exists(virus_nr2picr_fn):\n",
    "    tblastn(query,virus_nr2picr_fn,ham_blastdb,thread,mapnum=1000)"
   ]
  },
  {
   "cell_type": "markdown",
   "metadata": {},
   "source": [
    "### Detect LTR in picr genome using LTRharvest. LTR is the element that regulate retrovirus gene expression. So the virus mapping to regions between LTR have higher probability to be the retrovirus that produce proteins."
   ]
  },
  {
   "cell_type": "code",
   "execution_count": 7,
   "metadata": {
    "collapsed": true
   },
   "outputs": [],
   "source": [
    "def generate_ltr_index(fa,name):\n",
    "    '''generate index'''\n",
    "    cmd = ('gt suffixerator -db {fa} -indexname {name} -tis -suf -lcp -des -ssp -sds -dna -lossless -v').format(\n",
    "                fa=fa,name=name)\n",
    "    print cmd\n",
    "    sarge.run(cmd)\n",
    "    \n",
    "def run_ltr_harvest(index,gff,out_fa,out,thread):\n",
    "    cmd = ('gt -j {t} ltrharvest -index {idx} -mintsd 5 -maxtsd 20 -motif tgca '\n",
    "          '-out {out_fa} -v -gff3 {gff} > {out}').format(t=str(thread),idx=index,\n",
    "                out_fa=out_fa,gff=gff,out=out)\n",
    "    print(cmd)\n",
    "    sarge.run(cmd)\n",
    "\n",
    "ltr_fn = path + '/04_LTR_res.txt'\n",
    "ltr_fa = path + '/04_LTR.fa'\n",
    "ltr_gff =path + '/04_LTR.gff3'\n",
    "if not os.path.exists(ltr_fn):\n",
    "    # 1. build index\n",
    "    index_name = path + '/ltr_index/ltr_index'\n",
    "    if not os.path.exists(index_name):\n",
    "        generate_ltr_index(ham_fa,index_name)\n",
    "    # 2. run ltrharvest\n",
    "    run_ltr_harvest(index_name,ltr_gff,ltr_fa,ltr_fn,thread)"
   ]
  },
  {
   "cell_type": "markdown",
   "metadata": {},
   "source": [
    "### Get translated retrovirus genes in the reference annotation file\n",
    "In the annotation we generated, there are already some retrovirus genes. So first, we need to check if there are any spectrum mapping to the known proteins."
   ]
  },
  {
   "cell_type": "code",
   "execution_count": 8,
   "metadata": {},
   "outputs": [
    {
     "name": "stdout",
     "output_type": "stream",
     "text": [
      "there are 41 virus genes in the annotated genome\n"
     ]
    }
   ],
   "source": [
    "def get_uniprot_nm_acc_dic(dic,fn):\n",
    "    '''{genename: uniprot accession}\n",
    "    dic: here we put it here so that it can merge multiple dictionary together\n",
    "    '''\n",
    "    with open(fn) as f:\n",
    "        for line in f:\n",
    "            item = line.strip().split('\\t')\n",
    "            dic[item[1]] = item[-1]\n",
    "    return dic\n",
    "\n",
    "def get_virus_gene_in_annotation(ham_gff,uni_nm_acc_fn1,uni_nm_acc_fn2,uniprot_fa_fn):\n",
    "    # 1. extract all gene names from hamster annotation\n",
    "    df = pd.read_csv(ham_gff,sep='\\t',header=None,comment='#')\n",
    "    df = df[df[2].values=='gene']\n",
    "    gnms = df[8].map(lambda x: re.search('(?<=Name=).+?(?=$|;)',x).group(0)).unique().tolist()\n",
    "    # 2. {gene name: uniprot gene accession}\n",
    "    uniprot_nm_acc_dic = {}\n",
    "    uniprot_nm_acc_dic = get_uniprot_nm_acc_dic(uniprot_nm_acc_dic,uni_nm_acc_fn1)\n",
    "    uniprot_nm_acc_dic = get_uniprot_nm_acc_dic(uniprot_nm_acc_dic,uni_nm_acc_fn2)\n",
    "    # 3. get full gene name and extract virus genes\n",
    "    uni_index = SeqIO.index(uniprot_fa_fn,'fasta')\n",
    "    virus_genes = {}\n",
    "    n = 0\n",
    "    for g in gnms:\n",
    "        try:\n",
    "            name = uni_index[uniprot_nm_acc_dic[g]].description\n",
    "            n += 1\n",
    "        except:\n",
    "            name = ''\n",
    "        if 'virus' in name:\n",
    "            virus_genes[g] = name\n",
    "    print 'there are',len(virus_genes),'virus genes in the annotated genome'\n",
    "    return virus_genes, uniprot_nm_acc_dic\n",
    "    \n",
    "uni_nm_acc_fn1 = pasa_path + '/transdecoder/map2uniname_acc.txt'\n",
    "uni_nm_acc_fn2 = pasa_path + '/10_update_gnm.txt'\n",
    "virus_genes_in_hamster = path + '/05_virus_genes_in_hamster.txt'\n",
    "virus_genes, uni_nm_acc_dic = get_virus_gene_in_annotation(ham_gff,uni_nm_acc_fn1,uni_nm_acc_fn2,uniprot_fa_fn)\n",
    "if not os.path.exists(virus_genes_in_hamster):\n",
    "    with open(virus_genes_in_hamster,'w') as out:\n",
    "        for k,v in virus_genes.iteritems():\n",
    "            out.write(k+'\\t'+v+'\\n')"
   ]
  },
  {
   "cell_type": "code",
   "execution_count": 9,
   "metadata": {},
   "outputs": [
    {
     "data": {
      "text/plain": [
       "{'BA71V-079': 'sp|Q65169|VF602_ASFB7 Protein B602L OS=African swine fever virus (strain Badajoz 1971 Vero-adapted) GN=Ba71V-079 PE=3 SV=1',\n",
       " 'BNIP2': 'sp|O54940|BNIP2_MOUSE BCL2/adenovirus E1B 19 kDa protein-interacting protein 2 OS=Mus musculus GN=Bnip2 PE=1 SV=2',\n",
       " 'BNIP3': 'sp|O55003|BNIP3_MOUSE BCL2/adenovirus E1B 19 kDa protein-interacting protein 3 OS=Mus musculus GN=Bnip3 PE=1 SV=1',\n",
       " 'BNIP3L': 'sp|O60238|BNI3L_HUMAN BCL2/adenovirus E1B 19 kDa protein-interacting protein 3-like OS=Homo sapiens GN=BNIP3L PE=1 SV=1',\n",
       " 'BNIPL': 'sp|Q7Z465|BNIPL_HUMAN Bcl-2/adenovirus E1B 19 kDa-interacting protein 2-like protein OS=Homo sapiens GN=BNIPL PE=1 SV=1',\n",
       " 'CXADR': 'sp|Q5R764|CXAR_PONAB Coxsackievirus and adenovirus receptor homolog OS=Pongo abelii GN=CXADR PE=2 SV=1',\n",
       " 'ENV': 'sp|P03387|ENV_MSVFB Envelope glycoprotein (Fragment) OS=FBJ murine osteosarcoma virus GN=env PE=3 SV=1',\n",
       " 'ERVFC1': 'sp|P60507|EFC1_HUMAN Endogenous retrovirus group FC1 Env polyprotein OS=Homo sapiens GN=ERVFC1 PE=1 SV=1',\n",
       " 'ERVK-10': 'sp|P10266|POK10_HUMAN Endogenous retrovirus group K member 10 Pol protein OS=Homo sapiens GN=ERVK-10 PE=3 SV=2',\n",
       " 'ERVK-11': 'sp|Q9UQG0|POK11_HUMAN Endogenous retrovirus group K member 11 Pol protein OS=Homo sapiens GN=ERVK-11 PE=2 SV=2',\n",
       " 'ERVK-24': 'sp|P63145|GAK24_HUMAN Endogenous retrovirus group K member 24 Gag polyprotein OS=Homo sapiens GN=ERVK-24 PE=1 SV=2',\n",
       " 'ERVK-25': 'sp|P63136|POK25_HUMAN Endogenous retrovirus group K member 25 Pol protein OS=Homo sapiens GN=ERVK-25 PE=3 SV=1',\n",
       " 'ERVK-5': 'sp|Q9HDB9|GAK5_HUMAN Endogenous retrovirus group K member 5 Gag polyprotein OS=Homo sapiens GN=ERVK-5 PE=1 SV=3',\n",
       " 'ERVK-6': 'sp|Q9BXR3|POK6_HUMAN Endogenous retrovirus group K member 6 Pol protein OS=Homo sapiens GN=ERVK-6 PE=2 SV=2',\n",
       " 'ERVK-8': 'sp|P63133|POK8_HUMAN Endogenous retrovirus group K member 8 Pol protein OS=Homo sapiens GN=ERVK-8 PE=3 SV=1',\n",
       " 'ERVK-9': 'sp|P63128|POK9_HUMAN Endogenous retrovirus group K member 9 Pol protein OS=Homo sapiens GN=ERVK-9 PE=3 SV=3',\n",
       " 'FLVCR1': 'sp|Q9Y5Y0|FLVC1_HUMAN Feline leukemia virus subgroup C receptor-related protein 1 OS=Homo sapiens GN=FLVCR1 PE=1 SV=1',\n",
       " 'FLVCR2': 'sp|Q91X85|FLVC2_MOUSE Feline leukemia virus subgroup C receptor-related protein 2 OS=Mus musculus GN=Flvcr2 PE=1 SV=2',\n",
       " 'FV1': 'sp|P70213|FV1_MOUSE Friend virus susceptibility protein 1 OS=Mus musculus GN=Fv1 PE=4 SV=1',\n",
       " 'GAG': 'sp|P04023|GAG_IPHA Retrovirus-related Gag polyprotein OS=Hamster intracisternal a-particle H18 GN=gag PE=4 SV=1',\n",
       " 'GAG-POL': 'sp|P03355|POL_MLVMS Gag-Pol polyprotein OS=Moloney murine leukemia virus (isolate Shinnick) GN=gag-pol PE=1 SV=4',\n",
       " 'GAG-PRO': 'sp|Q9IZT2|PRO_MMTVC Gag-Pro polyprotein OS=Mouse mammary tumor virus (strain C3H) GN=gag-pro PE=1 SV=1',\n",
       " 'GAG-PRO-POL': 'sp|P11283|POL_MMTVC Gag-Pro-Pol polyprotein OS=Mouse mammary tumor virus (strain C3H) GN=gag-pro-pol PE=1 SV=2',\n",
       " 'GGAG_MLVAV': 'sp|P0DOG8|GGAG_MLVAV Glyco-Gag protein OS=AKV murine leukemia virus PE=1 SV=1',\n",
       " 'H-RAS': 'sp|P01115|RASH_MSVHA Transforming protein p29 OS=Harvey murine sarcoma virus GN=H-RAS PE=1 SV=1',\n",
       " 'HAVCR1': 'sp|Q5QNS5|HAVR1_MOUSE Hepatitis A virus cellular receptor 1 homolog OS=Mus musculus GN=Havcr1 PE=1 SV=2',\n",
       " 'HAVCR2': 'sp|P0C0K5|HAVR2_RAT Hepatitis A virus cellular receptor 2 homolog OS=Rattus norvegicus GN=Havcr2 PE=2 SV=2',\n",
       " 'HERVK_113': 'sp|P63132|PO113_HUMAN Endogenous retrovirus group K member 113 Pol protein OS=Homo sapiens GN=HERVK_113 PE=3 SV=1',\n",
       " 'HIVEP2': 'sp|Q00900|ZEP2_RAT Human immunodeficiency virus type I enhancer-binding protein 2 homolog OS=Rattus norvegicus GN=Hivep2 PE=1 SV=2',\n",
       " 'IVNS1ABP': 'sp|Q920Q8|NS1BP_MOUSE Influenza virus NS1A-binding protein homolog OS=Mus musculus GN=Ivns1abp PE=1 SV=2',\n",
       " 'K-RAS': 'sp|P01117|RASK_MSVKI GTPase KRas OS=Kirsten murine sarcoma virus GN=K-RAS PE=1 SV=1',\n",
       " 'MRI': 'sp|Q09HN1|MRI_CRIGR Modulator of retrovirus infection OS=Cricetulus griseus GN=MRI PE=2 SV=1',\n",
       " 'POL': 'sp|P03365|POL_MMTVB Pol polyprotein OS=Mouse mammary tumor virus (strain BR6) GN=pol PE=1 SV=2',\n",
       " 'PR73_MMTVG': 'sp|P03320|PR73_MMTVG Protein PR73 OS=Mouse mammary tumor virus (strain GR) PE=3 SV=1',\n",
       " 'PR7L_MMTVG': \"sp|P03321|PR7L_MMTVG Protein PR73 5'-endogenous OS=Mouse mammary tumor virus (strain GR) PE=3 SV=1\",\n",
       " 'PRO': 'sp|P21407|VPRT_SMRVH Protease OS=Squirrel monkey retrovirus GN=pro PE=4 SV=1',\n",
       " 'PRO-POL': 'sp|Q9TTC1|POL_KORV Pro-Pol polyprotein OS=Koala retrovirus GN=pro-pol PE=3 SV=1',\n",
       " 'PVR': 'sp|P15151|PVR_HUMAN Poliovirus receptor OS=Homo sapiens GN=PVR PE=1 SV=2',\n",
       " 'V-MOS': 'sp|P07331|MOS_MSVMH Serine/threonine-protein kinase-transforming protein mos OS=Moloney murine sarcoma virus (strain HT-1) GN=V-MOS PE=2 SV=1',\n",
       " 'V-TCR': 'sp|P11364|TCB_FLV Viral T-cell receptor beta chain-like T17T-22 OS=Feline leukemia virus GN=V-TCR PE=4 SV=1',\n",
       " 'XPR1': 'sp|Q9QZ70|XPR1_CRIGR Xenotropic and polytropic retrovirus receptor 1 homolog OS=Cricetulus griseus GN=XPR1 PE=2 SV=1'}"
      ]
     },
     "execution_count": 9,
     "metadata": {},
     "output_type": "execute_result"
    }
   ],
   "source": [
    "# the above genes dictionaries are just used to get which gene name belong to retro virus, \n",
    "# the full name cannot be used, because sometimes a gene name map to many gene ids.\n",
    "virus_genes"
   ]
  },
  {
   "cell_type": "markdown",
   "metadata": {},
   "source": [
    "#### After manually check the virus genes, gene: ENV,ERVFC1,ERVK-10,ERVK-11,ERVK-24,ERVK-25,ERVK-5,ERVK-6,ERVK-8,ERVK-9,FLVCR1,FLVCR2,GAG,GAG-POL,GGAG_MLVAV,H-RAS,HERVK_113,K-RAS,MRI,POL,PR73_MMTVG,PRO,PRO-POL,V-MOS,V-TCR,XPR1, Here we mainly care about gag and env proteins."
   ]
  },
  {
   "cell_type": "code",
   "execution_count": 10,
   "metadata": {
    "collapsed": true
   },
   "outputs": [
    {
     "name": "stdout",
     "output_type": "stream",
     "text": [
      "number of retrovirus gene names: 22 in annotation\n"
     ]
    }
   ],
   "source": [
    "retro_genes = ['ENV','ERVFC1','ERVK-10','ERVK-11','ERVK-24','ERVK-25','ERVK-5','ERVK-6',\n",
    "               'ERVK-8','ERVK-9','GAG','GAG-POL','GAG-PRO','GAG-PRO-POL','GGAG_MLVAV',\n",
    "               'HERVK_113','POL','PR73_MMTVG','PR7L_MMTVG','PRO','PRO-POL','LOC107977879']\n",
    "               # 'FLVCR1','FLVCR2','H-RAS','K-RAS','MRI','V-TCR','XPR1'\n",
    "virus_genes['LOC107977879'] = 'endogenous retrovirus group K member 18 Pol protein-like' \n",
    "print 'number of retrovirus gene names:',len(retro_genes),'in annotation'"
   ]
  },
  {
   "cell_type": "code",
   "execution_count": 11,
   "metadata": {
    "collapsed": true
   },
   "outputs": [],
   "source": [
    "# get CDS start and end position for each transcripts, the position reference is the genome\n",
    "def protein_start_end_pos(ham_gff):\n",
    "    '''this function gets coding start and end position in referene \n",
    "    and build a dictionary {rnaid:[pr_start,pr_end]} relative to reference genome'''\n",
    "    rna_cds_pos = {}\n",
    "    with open(ham_gff) as f:\n",
    "        for line in f:\n",
    "            if line.startswith('#'):\n",
    "                continue\n",
    "            item = line.strip().split('\\t')\n",
    "            if item[2] == 'CDS':\n",
    "                rnaid = re.search('(?<=Parent=).+?(?=;)',item[8]).group(0)\n",
    "                s = int(item[3])-1; e = int(item[4])\n",
    "                if rnaid not in rna_cds_pos:\n",
    "                    rna_cds_pos[rnaid] = [s,e]\n",
    "                else:\n",
    "                    rna_cds_pos[rnaid] = [min(s,rna_cds_pos[rnaid][0]),max(e,rna_cds_pos[rnaid][1])]\n",
    "    return rna_cds_pos\n",
    "rna_cds_pos = protein_start_end_pos(ham_gff)"
   ]
  },
  {
   "cell_type": "code",
   "execution_count": 12,
   "metadata": {
    "collapsed": true
   },
   "outputs": [],
   "source": [
    "# get {draft pr_id : uniprot full name} for virus in draft annotation\n",
    "def get_dft_uni_acc_dic(uniprot_fa_fn, retro_genes, *args):\n",
    "    dic = {}\n",
    "    uniprot_index = SeqIO.index(uniprot_fa_fn, 'fasta')\n",
    "    for fn in args:\n",
    "        with open(fn) as f:\n",
    "            for line in f:\n",
    "                item = line.strip().split('\\t')\n",
    "                dft = item[0].split('.')[0]\n",
    "                if item[1] in retro_genes:\n",
    "                    dic[dft] = uniprot_index[item[2]].description\n",
    "    return dic\n",
    "\n",
    "uni_nm_acc_fn1 = pasa_path + '/transdecoder/map2uniname_acc.txt'\n",
    "uni_nm_acc_fn2 = pasa_path + '/10_update_gnm.txt'\n",
    "dft_uni_nm_dic = get_dft_uni_acc_dic(uniprot_fa_fn, retro_genes, uni_nm_acc_fn1, uni_nm_acc_fn2)\n",
    "dft_uni_nm_dic['asmbl_75750'] = 'endogenous retrovirus group K member 18 Pol protein-like' \n",
    "dft_uni_nm_dic['asmbl_55966'] = 'endogenous retrovirus group K member 18 Pol protein-like' "
   ]
  },
  {
   "cell_type": "code",
   "execution_count": 13,
   "metadata": {
    "collapsed": true
   },
   "outputs": [
    {
     "name": "stdout",
     "output_type": "stream",
     "text": [
      "there are 723 retro viral rnas\n",
      "there are 307 retroviral rnas in annotation that are verified by peptides\n",
      "cofidence score for them are: {'2': 112, '4': 195}\n"
     ]
    }
   ],
   "source": [
    "def get_anno_retrovirus_df(known_pep_fn, ham_gff, dft_uni_nm_dic, retro_genes,anno_virus_rna_proteomics_fn):\n",
    "    '''this function gets annotated retrovirus rnas that are verified by peptides\n",
    "    * retro_genes: retro gene names\n",
    "    '''\n",
    "    # get transcripts that are verified by proteomics\n",
    "    df = pd.read_csv(known_pep_fn,sep='\\t',header=None,low_memory=False)\n",
    "    known_rnas = df[0].unique().tolist()\n",
    "    # get mRNA lines in reference gff file\n",
    "    rna_gff_df = pd.read_csv(ham_gff,sep='\\t',header=None,comment='#',\n",
    "                            names=['chr','source','feature','s','e','5','strand','7','anno'])\n",
    "    rna_gff_df['s'] -= 1\n",
    "    rna_gff_df = rna_gff_df[rna_gff_df['feature'].values=='mRNA']\n",
    "    rna_gff_df['rnaid'] = rna_gff_df['anno'].map(lambda x:re.search('(?<=ID=).+?(?=;|$)',x).group(0))\n",
    "    rna_gff_df['gename'] = rna_gff_df['anno'].map(lambda x:re.search('(?<=Name=).+?(?=;|$)',x).group(0))\n",
    "    rna_gff_df['rna_cs'] = rna_gff_df['anno'].map(lambda x:re.search('(?<=cs=).+?(?=;|$)',x).group(0))\n",
    "    rna_gff_df['geneid'] = rna_gff_df['anno'].map(lambda x:re.search('(?<=Parent=).+?(?=;|$)',x).group(0))\n",
    "    # get retrovirus rnas\n",
    "    noviral_rna_gff_df = rna_gff_df[~rna_gff_df['gename'].isin(retro_genes)]\n",
    "    retro_rna_gff_df = rna_gff_df[rna_gff_df['gename'].isin(retro_genes)]\n",
    "    retro_rna_gff_df = retro_rna_gff_df.reset_index(drop=True)\n",
    "    retro_rna_gff_df['full_name'] = retro_rna_gff_df['rnaid'].map(lambda x: dft_uni_nm_dic[x])\n",
    "    anno_viral_rnas = retro_rna_gff_df['rnaid'].tolist()\n",
    "    print 'there are',len(anno_viral_rnas),'retro viral rnas'\n",
    "    # get proteomics verified retrovirus rnas\n",
    "    retro_rna_pep_gff_df = retro_rna_gff_df[retro_rna_gff_df['rnaid'].isin(known_rnas)]\n",
    "    retro_anno_rnas = retro_rna_pep_gff_df['rnaid'].unique().tolist()\n",
    "    # add full gene name\n",
    "    retro_rna_pep_gff_df = retro_rna_pep_gff_df.reset_index(drop=True)\n",
    "#     retro_rna_pep_gff_df['full_name'] = retro_rna_pep_gff_df['gename'].map(lambda x:virus_genes[x])\n",
    "    # output translated virus genes to file\n",
    "    retro_rna_pep_gff_df = retro_rna_pep_gff_df[['chr','s','e','strand','rnaid','geneid','gename','rna_cs','full_name']]\n",
    "    retro_rna_pep_gff_df.sort_values('rna_cs').to_csv(anno_virus_rna_proteomics_fn,sep='\\t',index=False)\n",
    "    return rna_gff_df,retro_rna_pep_gff_df,noviral_rna_gff_df,anno_viral_rnas,retro_anno_rnas, retro_rna_gff_df\n",
    "known_pep_pos_fn = event_path + '/known_pos.txt'\n",
    "anno_virus_rna_proteomics_fn = path + '/06_proteomics_verified_virus_genes.txt'\n",
    "rna_gff_df,retro_rna_pep_gff_df,noviral_rna_gff_df,anno_viral_rnas,anno_viral_rnas_with_pep, retro_rna_gff_df = \\\n",
    "        get_anno_retrovirus_df(known_pep_pos_fn, ham_gff, dft_uni_nm_dic, retro_genes, anno_virus_rna_proteomics_fn)\n",
    "print 'there are',len(anno_viral_rnas_with_pep),'retroviral rnas in annotation that are verified by peptides'\n",
    "print 'cofidence score for them are:',retro_rna_pep_gff_df['rna_cs'].value_counts().to_dict()"
   ]
  },
  {
   "cell_type": "code",
   "execution_count": 14,
   "metadata": {},
   "outputs": [],
   "source": [
    "viruses = retro_rna_gff_df['full_name'].unique().tolist()\n",
    "# for anno in retro_rna_gff_df['full_name'].unique().tolist():\n",
    "#     try:\n",
    "#         viruses.append(re.search('(?<=OS=).+?(?= GN)',anno).group(0))\n",
    "#     except:\n",
    "#         try:\n",
    "#             viruses.append(re.search('(?<=OS=).+?(?= PE)',anno).group(0))\n",
    "#         except:\n",
    "#             viruses.append(anno)\n",
    "# viruses = list(set(viruses))\n",
    "virus_type = {}\n",
    "for v in viruses:\n",
    "    if 'sarcoma' in v or 'leukemia' in v or 'MuLV' in v or 'spleen' in v or 'Feline' in v or 'Baboon' in v or 'Koala' in v:\n",
    "        virus_type[v] = 'C'\n",
    "    elif 'a-particle' in v:\n",
    "        virus_type[v] = 'A'\n",
    "    elif 'tumor virus' in v or 'Homo sapiens' in v or 'Sheep' in v or 'group K' in v:\n",
    "        virus_type[v] = 'B'\n",
    "    elif 'Simian' in v or 'Squirrel' in v or 'Mason' in v:\n",
    "        virus_type[v] = 'D'\n",
    "    else:\n",
    "        virus_type[v] = 'E'"
   ]
  },
  {
   "cell_type": "code",
   "execution_count": 15,
   "metadata": {},
   "outputs": [
    {
     "data": {
      "text/html": [
       "<div>\n",
       "<style>\n",
       "    .dataframe thead tr:only-child th {\n",
       "        text-align: right;\n",
       "    }\n",
       "\n",
       "    .dataframe thead th {\n",
       "        text-align: left;\n",
       "    }\n",
       "\n",
       "    .dataframe tbody tr th {\n",
       "        vertical-align: top;\n",
       "    }\n",
       "</style>\n",
       "<table border=\"1\" class=\"dataframe\">\n",
       "  <thead>\n",
       "    <tr style=\"text-align: right;\">\n",
       "      <th></th>\n",
       "      <th>rnaid</th>\n",
       "    </tr>\n",
       "    <tr>\n",
       "      <th>gename</th>\n",
       "      <th></th>\n",
       "    </tr>\n",
       "  </thead>\n",
       "  <tbody>\n",
       "    <tr>\n",
       "      <th>ENV</th>\n",
       "      <td>85</td>\n",
       "    </tr>\n",
       "    <tr>\n",
       "      <th>ERVK-11</th>\n",
       "      <td>8</td>\n",
       "    </tr>\n",
       "    <tr>\n",
       "      <th>ERVK-24</th>\n",
       "      <td>1</td>\n",
       "    </tr>\n",
       "    <tr>\n",
       "      <th>ERVK-5</th>\n",
       "      <td>1</td>\n",
       "    </tr>\n",
       "    <tr>\n",
       "      <th>ERVK-8</th>\n",
       "      <td>1</td>\n",
       "    </tr>\n",
       "    <tr>\n",
       "      <th>GAG</th>\n",
       "      <td>114</td>\n",
       "    </tr>\n",
       "    <tr>\n",
       "      <th>GAG-POL</th>\n",
       "      <td>9</td>\n",
       "    </tr>\n",
       "    <tr>\n",
       "      <th>GAG-PRO-POL</th>\n",
       "      <td>1</td>\n",
       "    </tr>\n",
       "    <tr>\n",
       "      <th>GGAG_MLVAV</th>\n",
       "      <td>2</td>\n",
       "    </tr>\n",
       "    <tr>\n",
       "      <th>LOC107977879</th>\n",
       "      <td>1</td>\n",
       "    </tr>\n",
       "    <tr>\n",
       "      <th>POL</th>\n",
       "      <td>82</td>\n",
       "    </tr>\n",
       "    <tr>\n",
       "      <th>PR73_MMTVG</th>\n",
       "      <td>2</td>\n",
       "    </tr>\n",
       "  </tbody>\n",
       "</table>\n",
       "</div>"
      ],
      "text/plain": [
       "              rnaid\n",
       "gename             \n",
       "ENV              85\n",
       "ERVK-11           8\n",
       "ERVK-24           1\n",
       "ERVK-5            1\n",
       "ERVK-8            1\n",
       "GAG             114\n",
       "GAG-POL           9\n",
       "GAG-PRO-POL       1\n",
       "GGAG_MLVAV        2\n",
       "LOC107977879      1\n",
       "POL              82\n",
       "PR73_MMTVG        2"
      ]
     },
     "execution_count": 15,
     "metadata": {},
     "output_type": "execute_result"
    }
   ],
   "source": [
    "retro_rna_gff_df['virus_type'] = retro_rna_gff_df['full_name'].map(lambda x: virus_type[x])\n",
    "retro_rna_pep_gff_df['virus_type'] = retro_rna_pep_gff_df['full_name'].map(lambda x: virus_type[x])\n",
    "retro_rna_pep_gff_df[['gename','rnaid']].groupby('gename').count()"
   ]
  },
  {
   "cell_type": "markdown",
   "metadata": {},
   "source": [
    "#### check if annotated virus locate between LTR"
   ]
  },
  {
   "cell_type": "code",
   "execution_count": 16,
   "metadata": {},
   "outputs": [
    {
     "name": "stdout",
     "output_type": "stream",
     "text": [
      "there are 76 annotated retroviral rnas locates between LTRs\n"
     ]
    },
    {
     "data": {
      "image/png": "[encoded data removed]",
      "text/plain": [
       "<matplotlib.figure.Figure at 0x7fa1b0300250>"
      ]
     },
     "metadata": {},
     "output_type": "display_data"
    }
   ],
   "source": [
    "def get_retroviral_genes_in_LTR(ltr_fn,rna_gff_df,rna_cds_pos):\n",
    "    '''\n",
    "    * rna_gff_df: annotated retroviral rnas that are verified by peptides\n",
    "    '''\n",
    "    # get ltr bed object\n",
    "    ltr_df = pd.read_csv(ltr_fn,header=None,comment='#',delim_whitespace=True,\n",
    "                         names=['s_ret','e_ret','l_ret',\n",
    "                    's_lLTR','e_lLTR','l_lLTR','s_rLTR','e_rLTR','l_rLTR','sim','seq_nr'])\n",
    "    ltr_df['seq_nr'] = ltr_df['seq_nr'].map(lambda x: 'picr_'+str(x))\n",
    "    ltr_bed = BedTool.from_dataframe(ltr_df[['seq_nr','e_lLTR','s_rLTR']])\n",
    "    # transfer cds position to rna position\n",
    "    rna_gff_df['cds_s']=rna_gff_df['rnaid'].map(lambda x:rna_cds_pos[x][0])\n",
    "    rna_gff_df['cds_e']=rna_gff_df['rnaid'].map(lambda x:rna_cds_pos[x][1])\n",
    "    rna_gff_bed = BedTool.from_dataframe(rna_gff_df[['chr','cds_s','cds_e','rnaid','geneid',\n",
    "                                        'strand','gename','rna_cs','full_name']])\n",
    "\n",
    "    rna_ltr_inter_df = rna_gff_bed.intersect(ltr_bed,wo=True).to_dataframe(\n",
    "        names=['chr','s','e','rnaid','geneid','str','gename','rna_cs','full_name',\n",
    "              'ltr_chr','ltr_s','ltr_e','rna_ltr_len'])\n",
    "\n",
    "    rna_ltr_inter_df['qper'] = rna_ltr_inter_df['rna_ltr_len']/ \\\n",
    "                        (rna_ltr_inter_df['e']-rna_ltr_inter_df['s'])\n",
    "    return rna_gff_df,rna_ltr_inter_df\n",
    "\n",
    "ltr_fn = path + '/04_LTR_res.txt'\n",
    "retro_rna_pep_gff_df,retro_rna_pep_gff_ltr_inter_df = get_retroviral_genes_in_LTR(ltr_fn,retro_rna_pep_gff_df,rna_cds_pos)\n",
    "ax = retro_rna_pep_gff_ltr_inter_df['qper'].plot(kind='hist',title='portion of annotated retrovirus overlap with LTR',bins=50,align='right')\n",
    "_ = ax.set_xlabel('portion')\n",
    "retro_rna_pep_gff_ltr_inter_df = retro_rna_pep_gff_ltr_inter_df.query('qper==1')\n",
    "anno_retro_rnas_in_ltr = retro_rna_pep_gff_ltr_inter_df['rnaid'].unique().tolist()\n",
    "print 'there are',len(anno_retro_rnas_in_ltr),'annotated retroviral rnas locates between LTRs'"
   ]
  },
  {
   "cell_type": "markdown",
   "metadata": {},
   "source": [
    "For sanity check, we overlap LTR with all the annotaions, see if there are other rnas location between LTR."
   ]
  },
  {
   "cell_type": "code",
   "execution_count": 17,
   "metadata": {},
   "outputs": [],
   "source": [
    "def get_non_retroviral_genes_in_LTR(ltr_fn,rna_gff_df,rna_cds_pos):\n",
    "    # get ltr bed object\n",
    "    ltr_df = pd.read_csv(ltr_fn,header=None,comment='#',delim_whitespace=True,\n",
    "                         names=['s_ret','e_ret','l_ret',\n",
    "                    's_lLTR','e_lLTR','l_lLTR','s_rLTR','e_rLTR','l_rLTR','sim','seq_nr'])\n",
    "    ltr_df['seq_nr'] = ltr_df['seq_nr'].map(lambda x: 'picr_'+str(x))\n",
    "    ltr_bed = BedTool.from_dataframe(ltr_df[['seq_nr','e_lLTR','s_rLTR']])\n",
    "    # transfer cds position to rna position\n",
    "    rna_gff_df['cds_s']=rna_gff_df['rnaid'].map(lambda x:rna_cds_pos[x][0])\n",
    "    rna_gff_df['cds_e']=rna_gff_df['rnaid'].map(lambda x:rna_cds_pos[x][1])\n",
    "    rna_gff_bed = BedTool.from_dataframe(rna_gff_df[['chr','cds_s','cds_e','rnaid','geneid',\n",
    "                                        'strand','gename','rna_cs']])\n",
    "    rna_ltr_inter_df = rna_gff_bed.intersect(ltr_bed,wo=True).to_dataframe(\n",
    "        names=['chr','s','e','rnaid','geneid','str','gename','rna_cs',\n",
    "              'ltr_chr','ltr_s','ltr_e','rna_ltr_len'])\n",
    "\n",
    "    rna_ltr_inter_df['qper'] = rna_ltr_inter_df['rna_ltr_len']/ \\\n",
    "                        (rna_ltr_inter_df['e']-rna_ltr_inter_df['s'])\n",
    "    rna_ltr_inter_df = rna_ltr_inter_df.query('qper==1')\n",
    "    return rna_gff_df,rna_ltr_inter_df\n",
    "\n",
    "noviral_rna_gff_df = noviral_rna_gff_df[noviral_rna_gff_df['rnaid'].isin(rna_cds_pos)]\n",
    "noviral_rna_gff_df = noviral_rna_gff_df.reset_index(drop=True)\n",
    "noviral_rna_gff_df,noviral_rna_ltr_inter_df = get_non_retroviral_genes_in_LTR(ltr_fn,noviral_rna_gff_df,rna_cds_pos)"
   ]
  },
  {
   "cell_type": "code",
   "execution_count": 18,
   "metadata": {},
   "outputs": [
    {
     "name": "stdout",
     "output_type": "stream",
     "text": [
      "there are 63 non retrovirus rnas overlap with LTR, they are:\n",
      "['SPIN2', 'VN1R4', 'FUT3', 'IFNA12', 'LOC103160763', 'RPL32', 'LOC103160763', 'LOC103160763', 'LOC103160763', 'OR6C4', 'VN1R4', 'ALPPL2', 'IAP', 'LOC103160763', 'ELOA2', 'H2-L', 'H2-L', 'LOC103160763', 'POL_IPMAI', 'SERBP1', 'SERBP1', 'TMEM217', 'TMEM217', 'LOC103160763', 'CTSL', 'LOC103160763', 'POL_IPMAI', 'ENTPD2', 'IGHV3-6', 'OR2B2', 'MRTO4', 'SMOK2A', 'PCDHB18', 'OR51I2', 'NCR3LG1', 'UGT1A8', 'LOC103160763', 'LOC103163212', 'ZNF2', 'ZNF2', 'ZNF2', 'ZNF2', 'ZNF2', 'ZNF2', 'ZNF2', 'ZNF2', 'ZNF2', 'ZNF2', 'PRR18', 'PRR18', 'PRR18', 'PRR18', 'POL_IPMAI', 'LILRB3', 'LILRB3', 'LOC103160763', 'RPS19', 'H2B1_PONAB', 'KCNN4', 'HBA', 'OR51Q1', 'LOC103160763', 'PCDHGA4']\n"
     ]
    },
    {
     "data": {
      "image/png": "[encoded data removed]",
      "text/plain": [
       "<matplotlib.figure.Figure at 0x7fa184e44210>"
      ]
     },
     "metadata": {},
     "output_type": "display_data"
    }
   ],
   "source": [
    "print 'there are',noviral_rna_ltr_inter_df.shape[0],'non retrovirus rnas overlap with LTR, they are:'\n",
    "print noviral_rna_ltr_inter_df['gename'].tolist()\n",
    "ax = noviral_rna_ltr_inter_df['qper'].plot(kind='hist',title='portion of annotated non retrovirus overlap with LTR')\n",
    "_ = ax.set_xlabel('portion')"
   ]
  },
  {
   "cell_type": "markdown",
   "metadata": {},
   "source": [
    "### Get all novel peptides\n",
    "1. First we extract all novel peptides identified in proteogenomics pipeline, to achieve this, we merged all event_location.txt file from all results using cmd: ** awk 'FNR>1 || NR==1' \\*/\\*/event_location.txt > all_event_location.txt **\n",
    "2. Then we convert all_event_location.txt to fa file. In this step, we need to remove duplications.\n",
    "When virus integrate into the genome, it usually doesn't splice the fragment and insert them into different positions, this means the potential virus peptides should not be spliced. So we remove all the novel peptides that have splice sites."
   ]
  },
  {
   "cell_type": "code",
   "execution_count": 19,
   "metadata": {
    "collapsed": true
   },
   "outputs": [],
   "source": [
    "def get_unique_event_location(event_fn,event_uniq_fn):\n",
    "    '''this function get unique event location'''\n",
    "    pep_dic = {}\n",
    "    with open(event_fn) as inf:\n",
    "        for line in inf:\n",
    "            if line.startswith('#'): continue\n",
    "            item = line.strip().split('\\t')\n",
    "            chrom,pos,pep,spec_num,loc_num,fdr,sprob,strand = item\n",
    "            key = '\\t'.join([chrom,pos,pep])\n",
    "            if strand == '1':\n",
    "                strand = '+'\n",
    "            else:\n",
    "                strand = '-'\n",
    "            if key not in pep_dic:\n",
    "                pep_dic[key] = [int(spec_num),float(fdr),float(sprob),strand]\n",
    "            else:\n",
    "                value = pep_dic[key]\n",
    "                value[0] += int(spec_num)\n",
    "                value[1] = min(value[1],float(fdr))\n",
    "                value[2] = min(value[2],float(sprob))\n",
    "                if value[3] != strand:\n",
    "                    assert False,'strand is not consistent'\n",
    "                pep_dic[key] = value\n",
    "    with open(event_uniq_fn,'w') as out:\n",
    "        out.write('\\t'.join(['Chrom','Pos','Pep','Spec_count','FDR','Sprob','Strand'])+'\\n')\n",
    "        for key,value in pep_dic.iteritems():\n",
    "            value = [str(v) for v in value]\n",
    "            out.write(key+'\\t'+'\\t'.join(value)+'\\n')\n",
    "    # add location count column\n",
    "    df = pd.read_csv(event_uniq_fn,sep='\\t',header=0)\n",
    "    loc_dic = df['Pep'].value_counts().to_dict()\n",
    "    df['Loc_num'] = df['Pep'].map(lambda x: loc_dic[x])\n",
    "    # remove spliced peptides\n",
    "    df.to_csv(event_uniq_fn,sep='\\t',index=False)\n",
    "\n",
    "def remove_splice_pep(event_uniq_fn):\n",
    "    '''remove peptide events that have splice sites in proteogenomics results'''\n",
    "    df = pd.read_csv(event_uniq_fn,sep='\\t',header=0)\n",
    "    def filter_pep(pos):\n",
    "        if '-' in pos: # mutation\n",
    "            res = True\n",
    "            frags = [f for f in pos.split(';')[:-1] if '-' not in f]\n",
    "            pre = frags[0].split('/')[-1]\n",
    "            for f in frags[1:]:\n",
    "                pst = f.split('/')[0]\n",
    "                if (int(pst)-int(pre)) != 1:\n",
    "                    res = False\n",
    "                    break\n",
    "                pre = f.split('/')[-1]\n",
    "        else:\n",
    "            cds = pos.split(';')\n",
    "            if len(cds) > 2:\n",
    "                res = False\n",
    "            else:\n",
    "                res = True\n",
    "        return res\n",
    "    cri = df['Pos'].map(lambda x: filter_pep(x))\n",
    "    df = df[cri]\n",
    "    df.to_csv(event_uniq_fn,sep='\\t',index=False)"
   ]
  },
  {
   "cell_type": "code",
   "execution_count": 20,
   "metadata": {
    "collapsed": true,
    "scrolled": true
   },
   "outputs": [
    {
     "name": "stdout",
     "output_type": "stream",
     "text": [
      "there are 5104 novel peptides,after remove the splice peptides\n"
     ]
    }
   ],
   "source": [
    "# remove duplicate peptide event in proteogenomics results\n",
    "event_fn = path + '/all_event_locations.txt'\n",
    "event_uniq_fn = path + '/07_all_event_locations_uniq.txt'\n",
    "if not os.path.exists(event_uniq_fn):\n",
    "    get_unique_event_location(event_fn,event_uniq_fn)\n",
    "    remove_splice_pep(event_uniq_fn)\n",
    "    \n",
    "# export unique novel peptides to a fa file. spliced peptides are removed\n",
    "event_df = pd.read_csv(event_uniq_fn,sep='\\t',header=0)\n",
    "\n",
    "peps = event_df['Pep'].unique().tolist()\n",
    "peps = list(set(peps).intersection(cho_novel_peps))\n",
    "event_uniq_pep_fn = path + '/07_all_event_location_uniq_pep.fa'\n",
    "with open(event_uniq_pep_fn,'w') as out:\n",
    "    n = 1\n",
    "    for pep in peps:\n",
    "        out.write('>'+str(n)+'\\n'+pep+'\\n')\n",
    "        n += 1\n",
    "print 'there are', n-1, 'novel peptides,after remove the splice peptides'"
   ]
  },
  {
   "cell_type": "code",
   "execution_count": 21,
   "metadata": {},
   "outputs": [],
   "source": [
    "event_df = event_df.query('Pep in @cho_novel_peps')\n",
    "event_df = event_df.reset_index(drop=True)\n",
    "event_df.to_csv(event_uniq_fn, sep='\\t', index=False)"
   ]
  },
  {
   "cell_type": "markdown",
   "metadata": {},
   "source": [
    "### Blast novel peptide to virus"
   ]
  },
  {
   "cell_type": "code",
   "execution_count": 22,
   "metadata": {
    "collapsed": true,
    "scrolled": true
   },
   "outputs": [],
   "source": [
    "# build virus database\n",
    "virus_bst_prDb = path + '/virus_bst_prDb'\n",
    "faFile = path + '/02_retro_virus_pr.fa'\n",
    "if not os.path.exists(virus_bst_prDb):\n",
    "    makeblastdb(faFile,'prot',virus_bst_prDb,'virus')\n",
    "# blast to virus\n",
    "pep2virus_pr_fn = path + '/08_pep2virus_pr.txt'\n",
    "if not os.path.exists(pep2virus_pr_fn):\n",
    "    blastp(event_uniq_pep_fn,pep2virus_pr_fn,virus_bst_prDb+'/virus',thread,mapnum=100)\n",
    "    pep_index = SeqIO.index(event_uniq_pep_fn,'fasta')\n",
    "    df = pd.read_csv(pep2virus_pr_fn,sep='\\t',header=None)\n",
    "    df[0] = df[0].map(lambda x: str(pep_index[str(x)].seq))\n",
    "    df.to_csv(pep2virus_pr_fn,sep='\\t',header=None,index=False)"
   ]
  },
  {
   "cell_type": "markdown",
   "metadata": {},
   "source": [
    "### Analyze all results\n",
    "We have 4 different mappings. 1. virus proteins mapping to picr. 2. event peptides mapping to picr. 3. LTR prediction in picr. 4. event peptide mapping to virus proteins."
   ]
  },
  {
   "cell_type": "code",
   "execution_count": 23,
   "metadata": {
    "collapsed": true,
    "scrolled": true
   },
   "outputs": [],
   "source": [
    "# decide the threshold to filter virus protein mapping to picr\n",
    "virus_nr2picr_fn = path + '/03_virus_pr2picr_nt.txt'\n",
    "virus2picr_df = pd.read_csv(virus_nr2picr_fn,sep='\\t',header=None,names=['qacc',\n",
    "        'sacc','pident','length','mismatch','gapopen','qstart','qend','sstart','send',\n",
    "        'evalue','bitscore','qlen','slen'])\n",
    "virus2picr_df = add_strand_pst2blast(virus2picr_df)"
   ]
  },
  {
   "cell_type": "code",
   "execution_count": 24,
   "metadata": {
    "scrolled": true
   },
   "outputs": [
    {
     "data": {
      "image/png": "[encoded data removed]",
      "text/plain": [
       "<matplotlib.figure.Figure at 0x7fa184a1ef10>"
      ]
     },
     "metadata": {},
     "output_type": "display_data"
    },
    {
     "data": {
      "image/png": "[encoded data removed]",
      "text/plain": [
       "<matplotlib.figure.Figure at 0x7fa17fa0c6d0>"
      ]
     },
     "metadata": {},
     "output_type": "display_data"
    }
   ],
   "source": [
    "ax = virus2picr_df['pident'].plot(kind='hist',bins=100)\n",
    "_ = ax.set_xlabel('pident')\n",
    "_ = ax.set_title('virus2picr pidentity histogram')\n",
    "plt.figure()      \n",
    "ax = (virus2picr_df['qlen_per']*100).plot(kind='hist',bins=100)\n",
    "_ = ax.set_xlabel('length percent')\n",
    "_ = ax.set_title('virus2picr percentage of length mapped histogram')"
   ]
  },
  {
   "cell_type": "code",
   "execution_count": 25,
   "metadata": {},
   "outputs": [
    {
     "data": {
      "image/png": "[encoded data removed]",
      "text/plain": [
       "<matplotlib.figure.Figure at 0x7fa182653c50>"
      ]
     },
     "metadata": {},
     "output_type": "display_data"
    },
    {
     "data": {
      "image/png": "[encoded data removed]",
      "text/plain": [
       "<matplotlib.figure.Figure at 0x7fa17f77a890>"
      ]
     },
     "metadata": {},
     "output_type": "display_data"
    }
   ],
   "source": [
    "import numpy as np\n",
    "ax = np.log10(virus2picr_df['pident']+0.01).plot(kind='hist',bins=100)\n",
    "_ = ax.set_xlabel('percentage of identify (log10)')\n",
    "_ = ax.set_title('virus2picr pidentity histogram')\n",
    "plt.figure()\n",
    "ax = np.log10(virus2picr_df['qlen_per']*100+0.01).plot(kind='hist',bins=100)\n",
    "_ = ax.set_xlabel('percentage of length (log10)')\n",
    "_ = ax.set_title('virus2picr percentage of length mapped histogram')"
   ]
  },
  {
   "cell_type": "code",
   "execution_count": 26,
   "metadata": {},
   "outputs": [
    {
     "data": {
      "image/png": "[encoded data removed]",
      "text/plain": [
       "<matplotlib.figure.Figure at 0x7fa17e6dc810>"
      ]
     },
     "metadata": {},
     "output_type": "display_data"
    }
   ],
   "source": [
    "import seaborn as sns\n",
    "ax = sns.jointplot('pident','qlen_per',virus2picr_df,kind='scatter')\n",
    "_ = ax.fig.suptitle('virus protein mapping to picr')"
   ]
  },
  {
   "cell_type": "markdown",
   "metadata": {},
   "source": [
    "filter virus mapping to picr and prepare dataframe for all of the 4 mapping results "
   ]
  },
  {
   "cell_type": "code",
   "execution_count": 27,
   "metadata": {
    "collapsed": true,
    "scrolled": true
   },
   "outputs": [],
   "source": [
    "def event_end(pos):\n",
    "    ''''''\n",
    "    loc = []\n",
    "    for p in pos.split(';')[:-1]:\n",
    "        loc.extend([int(i) for i in p.split('/')])\n",
    "    loc = [p for p in loc if p >0]\n",
    "    return pd.Series([min(loc),max(loc)])\n",
    "\n",
    "def prepare_data_from_mapping_results(virus2picr_df,event_uniq_fn,ltr_fn,pep2virus_pr_fn):\n",
    "    #---------------------1. prepare virus pr to picr nt df ---------\n",
    "    # filter virus pr map 2 picr genome. \n",
    "    high_virus2picr_df = virus2picr_df.query('(evalue<1e-10) & (pident>=60) & (qlen_per)>=0.60')\n",
    "    high_virus2picr_df = high_virus2picr_df.reset_index(drop=True)\n",
    "    virus_loc_dic = high_virus2picr_df['qacc'].value_counts().to_dict()\n",
    "    #---------------------- 2. prepare proteomics event df ------------\n",
    "#     event_uniq_fn = path + '/06_all_event_locations_uniq.txt'\n",
    "    event_df = pd.read_csv(event_uniq_fn,sep='\\t',header=0)\n",
    "    event_df[['start','end']]=event_df.apply(lambda x:event_end(x['Pos']),axis=1)\n",
    "    pep_loc_dic = event_df['Pep'].value_counts().to_dict()\n",
    "    #---------------------- 3. prepare LTR df --------------------------\n",
    "#     ltr_fn = path + '/04_LTR_res.txt'\n",
    "    ltr_df = pd.read_csv(ltr_fn,header=None,comment='#',delim_whitespace=True,\n",
    "                         names=['s_ret','e_ret','l_ret',\n",
    "                    's_lLTR','e_lLTR','l_lLTR','s_rLTR','e_rLTR','l_rLTR','sim','seq_nr'])\n",
    "    ltr_df['seq_nr'] = ltr_df['seq_nr'].map(lambda x: 'picr_'+str(x))\n",
    "    #---------------------- 4. prepare peptide mapping to virus ----------\n",
    "#     pep2virus_pr_fn = path + '/07_pep2virus_pr.txt'\n",
    "    pep2virus_df = pd.read_csv(pep2virus_pr_fn,sep='\\t',header=None,names=['qacc',\n",
    "            'sacc','pident','length','mismatch','gapopen','qstart','qend','sstart','send',\n",
    "            'evalue','qlen','slen'])\n",
    "    pep2virus_df = add_strand_pst2blast(pep2virus_df)\n",
    "    pep2virus_df = pep2virus_df.query('pident>=40 and qlen_per>=0.5')\n",
    "    pep2virus_df = pep2virus_df.reset_index(drop=True)\n",
    "    \n",
    "    pep2virus_num = pep2virus_df['qacc'].value_counts().to_dict()\n",
    "    pep2virus_df['loc_num'] = pep2virus_df['qacc'].map(lambda x: pep2virus_num[x])\n",
    "    pep2virus_df = pep2virus_df.sort_values('loc_num')\n",
    "    pep2virus_loc_dic = pep2virus_df.set_index('qacc')['loc_num'].to_dict()\n",
    "    #---------------------- 5. prepare bedtool object --------------------\n",
    "    high_virus2picr_bed = BedTool.from_dataframe(high_virus2picr_df[['sacc','start',\n",
    "                                                'end','qacc','evalue','strand','pident','qlen_per']])\n",
    "    event_bed = BedTool.from_dataframe(event_df[['Chrom','start','end','Pep',\n",
    "                                                 'Spec_count','Strand','Loc_num','Sprob']])\n",
    "    ltr_bed = BedTool.from_dataframe(ltr_df[['seq_nr','e_lLTR','s_rLTR']])\n",
    "    return high_virus2picr_df,virus_loc_dic,event_df,pep_loc_dic,ltr_df,pep2virus_df,pep2virus_loc_dic,\\\n",
    "                high_virus2picr_bed, event_bed,ltr_bed\n",
    "    \n",
    "event_uniq_fn = path + '/07_all_event_locations_uniq.txt'\n",
    "ltr_fn = path + '/04_LTR_res.txt'\n",
    "pep2virus_pr_fn = path + '/08_pep2virus_pr.txt'\n",
    "high_virus2picr_df,virus_loc_dic,event_df,pep_loc_dic,ltr_df,pep2virus_df,pep2virus_loc_dic,\\\n",
    "high_virus2picr_bed, event_bed,ltr_bed = prepare_data_from_mapping_results(virus2picr_df,event_uniq_fn,ltr_fn,pep2virus_pr_fn)"
   ]
  },
  {
   "cell_type": "markdown",
   "metadata": {},
   "source": [
    "#### Get overlap between virus2picr and annotation\n",
    "The strategy to decide a threshold to filter out the high quality virus2picr mapping is mainly using pident and qlen_per parameters:\n",
    "1. start with low pident and qlen_per, in my case I started with 30% for each\n",
    "2. overlap filterd virus2picr with annotation, and get overlapped gene names.\n",
    "3. check non retrovirus gene names pident and parameters and get the lowest pident and qlen_per.\n",
    "4. increase pident and qlen_per to the ones identified in 3. \n",
    "5. repeat step 2-4, and pay attention to the number of virus2picr mapping sites overlapped with annotated virus. Since annotation already has annotated virus, we expect the virus proteins overlape with many annotated virus, when the number of non-retrovirus genes don't decrease but the overlap with anno virus genes keeps decreasing, we stop and get the final pident and qlen_per threshold. In my test the threshold is pident>=60, qlen_per>=0.55"
   ]
  },
  {
   "cell_type": "code",
   "execution_count": 28,
   "metadata": {},
   "outputs": [],
   "source": [
    "gff_df = pd.read_csv(ham_gff,sep='\\t',header=None,comment='#',\n",
    "                            names=['chr','source','feature','s','e','5','strand','7','anno'])\n",
    "gff_df['s'] -= 1\n",
    "exon_df = gff_df.query('feature == \"CDS\"')  # should first use exon to determine the thresholds and then use CDS here\n",
    "exon_df = exon_df.reset_index(drop=True)\n",
    "exon_df['rnaid'] = exon_df['anno'].map(lambda x:re.search('(?<=Parent=).+?(?=;|$)',x).group(0))\n",
    "exon_df['gename'] = exon_df['anno'].map(lambda x:re.search('(?<=Name=).+?(?=;|$)',x).group(0))\n",
    "exon_df['geneid'] = exon_df['anno'].map(lambda x:re.search('(?<=gene_id=).+?(?=;|$)',x).group(0))"
   ]
  },
  {
   "cell_type": "code",
   "execution_count": 29,
   "metadata": {},
   "outputs": [
    {
     "name": "stdout",
     "output_type": "stream",
     "text": [
      "there are 526 virus sites overlap with annoated rnas\n"
     ]
    }
   ],
   "source": [
    "exon_bed = BedTool.from_dataframe(exon_df[['chr','s','e','rnaid','gename','strand','geneid']])\n",
    "virus_gff_inter_df = high_virus2picr_bed.intersect(exon_bed,wo=True,s=True).to_dataframe(\n",
    "    names=['chr_virus','s_virus','e_virus','virus','evalue','str_virus','pident_virus','qlen_per',\n",
    "          'anno_chr','anno_s','anno_e','rnaid','gename','strand','geneid','len'])\n",
    "virus_gff_inter_df['virus_per']=virus_gff_inter_df['len']/\\\n",
    "                                (virus_gff_inter_df['e_virus']-virus_gff_inter_df['s_virus'])\n",
    "print 'there are',virus_gff_inter_df[['chr_virus','s_virus','e_virus']].drop_duplicates().shape[0],'virus sites overlap with annoated rnas'"
   ]
  },
  {
   "cell_type": "code",
   "execution_count": 30,
   "metadata": {},
   "outputs": [
    {
     "name": "stdout",
     "output_type": "stream",
     "text": [
      "high virus mapping overlap with anno rna: 127\n",
      "['ENV', 'FAU', 'GAG', 'GAG-POL', 'GGAG_MLVAV', 'POL', 'V-MOS']\n"
     ]
    }
   ],
   "source": [
    "print 'high virus mapping overlap with anno rna:',len(set(virus_gff_inter_df['rnaid'].unique().tolist()).intersection(anno_viral_rnas))\n",
    "print sorted(virus_gff_inter_df['gename'].unique().tolist())"
   ]
  },
  {
   "cell_type": "markdown",
   "metadata": {},
   "source": [
    "Since we care about the new virus sites, after getting the high quality virus2picr mapping, we need to filter out the sites that overlap with virus and non virus genes. Here we need to decide another parameter, how much overlapping with annotated genes should we filter out. The strategy is:\n",
    "1. check overlap percentage with all non retrovirus genes, and get the lowest genes.\n",
    "2. get the lowest percentage of virus per and use that as threshold."
   ]
  },
  {
   "cell_type": "code",
   "execution_count": 31,
   "metadata": {},
   "outputs": [
    {
     "name": "stdout",
     "output_type": "stream",
     "text": [
      "there are 526 virus2picr sites need to be filtered\n"
     ]
    }
   ],
   "source": [
    "# genames = ['EFNB2', 'ENV', 'FAU', 'GAG', 'GAG-POL', 'GAG-PRO-POL', 'GGAG_MLVAV', 'IIGP1', 'MRPS2', 'POL', 'PRO-POL', 'PTBP1', 'RABGAP1', 'RUNDC1', 'SMAD1', 'V-MOS']\n",
    "genames = ['ENV', 'FAU', 'GAG', 'GAG-POL', 'GGAG_MLVAV', 'POL', 'V-MOS']\n",
    "fil_virus_gff_inter_df = virus_gff_inter_df[(virus_gff_inter_df['gename'].isin(genames)) \\\n",
    "                        & (virus_gff_inter_df['virus_per'].values >= 0)].sort_values('gename')\n",
    "fil_virus_gff_inter_df = fil_virus_gff_inter_df.reset_index(drop=True)\n",
    "fil_virus_gff_inter_df['head'] = fil_virus_gff_inter_df.apply(lambda x:''.join(\n",
    "                        [x['chr_virus'],str(x['s_virus']),str(x['e_virus'])]),axis=1)\n",
    "fil_virus_gff_inter_genes = fil_virus_gff_inter_df['head'].unique().tolist()\n",
    "print 'there are',len(fil_virus_gff_inter_genes),'virus2picr sites need to be filtered'"
   ]
  },
  {
   "cell_type": "code",
   "execution_count": 32,
   "metadata": {},
   "outputs": [],
   "source": [
    "# filter virus sites that overlap with annotation\n",
    "high_virus2picr_df['head'] = high_virus2picr_df.apply(lambda x:':'.join(\n",
    "                        [x['sacc'],str(x['start']),str(x['end'])]),axis=1)\n",
    "high_virus2picr_df = high_virus2picr_df.query('head not in @fil_virus_gff_inter_genes')"
   ]
  },
  {
   "cell_type": "markdown",
   "metadata": {},
   "source": [
    "### Further filter the high_virus2picr_df\n",
    "1. quantify the rna level at those regions. \n",
    "2. get sites with more than 0.1 tpm"
   ]
  },
  {
   "cell_type": "markdown",
   "metadata": {},
   "source": [
    "Get the nt sequence of those regions in picr that have viruses mapping to them.\n"
   ]
  },
  {
   "cell_type": "code",
   "execution_count": 33,
   "metadata": {},
   "outputs": [],
   "source": [
    "def get_all_retro_vrial_rna_sequence(high_virus2picr_df,new_retro_viral_rna_seq_fn,ref_index):\n",
    "    ''' get nt sequence of virus sites that don't have stop codons\n",
    "    * high-virus2picr_df: quality filtered virus sites\n",
    "    '''\n",
    "    high_virus2picr_df['head']=high_virus2picr_df.apply(lambda x:':'.join([x['sacc'],str(x['start']),str(x['end']),x['strand']]),axis=1)\n",
    "    new_retro_rna_sites = high_virus2picr_df['head'].unique().tolist()\n",
    "    with open(new_retro_viral_rna_seq_fn,'w') as f:\n",
    "        for site in new_retro_rna_sites:\n",
    "            item = site.split(':')\n",
    "            sqs = ref_index[item[0]].seq[int(item[1]):int(item[2])]\n",
    "            if item[3] == '-':\n",
    "                sqs = sqs.reverse_complement()\n",
    "            if '*' not in sqs.translate():\n",
    "                sqs = str(sqs)\n",
    "                f.write('>'+site+'\\n')\n",
    "                f.write(sqs+'\\n')\n",
    "# get nt sequence of virus sites\n",
    "new_retro_viral_rna_seq_fn = path + '/10_new_retro_viral_rna_seq.fa'\n",
    "if not os.path.exists(new_retro_viral_rna_seq_fn):\n",
    "    ref_index = SeqIO.index(ham_fa,'fasta')\n",
    "    get_all_retro_vrial_rna_sequence(high_virus2picr_df,new_retro_viral_rna_seq_fn,ref_index)\n",
    "\n",
    "# filter sites with stop codons\n",
    "new_retro_viral_rna_seq_fn = path + '/10_new_retro_viral_rna_seq.fa'\n",
    "new_virus_sites = [record.id[:-2] for record in SeqIO.parse(new_retro_viral_rna_seq_fn, 'fasta')]\n",
    "high_virus2picr_df = high_virus2picr_df.query('head in @new_virus_sites')\n",
    "high_virus2picr_df = high_virus2picr_df.sort_values(['sacc','sstart'])\n",
    "high_virus2picr_df = high_virus2picr_df.reset_index(drop=True)"
   ]
  },
  {
   "cell_type": "markdown",
   "metadata": {},
   "source": [
    "get type of raw retrovirus in annotation and novel retrovirus"
   ]
  },
  {
   "cell_type": "code",
   "execution_count": 34,
   "metadata": {},
   "outputs": [
    {
     "name": "stdout",
     "output_type": "stream",
     "text": [
      "** novel predicted retrovirus by blast\n",
      "typeC number: 1267 , typeB number: 26\n",
      "** annotated retrovirus\n",
      "A    140\n",
      "C    135\n",
      "E     97\n",
      "B     75\n",
      "D     15\n",
      "Name: virus_type, dtype: int64\n"
     ]
    }
   ],
   "source": [
    "def get_overlap_interval(df):\n",
    "    '''this function overlay overlapped region and get unique unoverlapped regions'''\n",
    "    intervals = {}\n",
    "    for idx,row in df.iterrows():\n",
    "        chrom = row['sacc']\n",
    "        start = row['start']\n",
    "        end   = row['send']\n",
    "        virus = row['qacc'].split(',')\n",
    "        if chrom not in intervals:\n",
    "            intervals[chrom] = [[[start,end],virus]]\n",
    "        else:\n",
    "            pre = intervals[chrom][-1][0]\n",
    "            if range(start,pre[-1]) == []:\n",
    "                intervals[chrom].append([[start,end],virus])\n",
    "            else:\n",
    "                intervals[chrom][-1][0] = [min(pre[0],start),max(pre[1],end)]\n",
    "                intervals[chrom][-1][1] = list(set(intervals[chrom][-1][1] + virus))\n",
    "    return intervals\n",
    "\n",
    "def add_virus_type2interval(high_virus2picr_intervals, query_index):\n",
    "    # add full protein name to dictionary\n",
    "    for k,v in high_virus2picr_intervals.iteritems():\n",
    "        for i in range(len(v)):\n",
    "            prs = [query_index[p].description for p in v[i][1]]\n",
    "            v[i].append(prs)\n",
    "            for pr in prs:\n",
    "                if 'sarcoma' in pr or 'leukemia' in pr or 'Baboon' in pr or 'Spleen' in pr or 'Mason' in pr:\n",
    "                    v[i].append('C')\n",
    "                    break\n",
    "                elif 'tumor' in pr:\n",
    "                    v[i].append('B')\n",
    "                    break\n",
    "                else:\n",
    "                    v[i].append('D')\n",
    "        high_virus2picr_intervals[k] = v\n",
    "    return high_virus2picr_intervals\n",
    "\n",
    "query_index = SeqIO.index(query,'fasta')\n",
    "high_virus2picr_intervals = get_overlap_interval(high_virus2picr_df)\n",
    "high_virus2picr_intervals = add_virus_type2interval(high_virus2picr_intervals, query_index)\n",
    "\n",
    "# virus type\n",
    "typeC_num = 0\n",
    "typeB_num = 0\n",
    "for k,v in high_virus2picr_intervals.iteritems():\n",
    "    for i in range(len(v)):\n",
    "        if v[i][-1] == 'C':\n",
    "            typeC_num += 1\n",
    "        elif v[i][-1] == 'B':\n",
    "            typeB_num +=1\n",
    "retro_rna_gff_df['new_geneid'] = retro_rna_gff_df['geneid'].map(lambda x: '_'.join(x.split('_')[:2]))\n",
    "print '** novel predicted retrovirus by blast\\ntypeC number:',typeC_num, ', typeB number:', typeB_num\n",
    "print '** annotated retrovirus\\n',retro_rna_gff_df[['new_geneid','virus_type']].drop_duplicates()['virus_type'].value_counts()"
   ]
  },
  {
   "cell_type": "code",
   "execution_count": 35,
   "metadata": {},
   "outputs": [],
   "source": [
    "def add_high_virus_type(pr):\n",
    "    if 'sarcoma' in pr or 'leukemia' in pr or 'Baboon' in pr or 'Spleen' in pr or 'Mason' in pr:\n",
    "        return 'C'\n",
    "    elif 'tumor' in pr:\n",
    "        return 'B'\n",
    "    else:\n",
    "        return 'D'\n",
    "# add virus full name and virus type\n",
    "high_virus2picr_df['full_name'] = high_virus2picr_df['qacc'].map(lambda x: query_index[x].description)\n",
    "high_virus2picr_df['virus_type'] = high_virus2picr_df['full_name'].map(lambda x: add_high_virus_type(x))"
   ]
  },
  {
   "cell_type": "code",
   "execution_count": 36,
   "metadata": {},
   "outputs": [
    {
     "data": {
      "image/png": "[encoded data removed]",
      "text/plain": [
       "<matplotlib.figure.Figure at 0x7fa17c420fd0>"
      ]
     },
     "metadata": {},
     "output_type": "display_data"
    }
   ],
   "source": [
    "def make_autopct(values):\n",
    "    def my_autopct(pct):\n",
    "        total = sum(values)\n",
    "        val = int(round(pct*total/100.0))\n",
    "        return '{p:.1f}%  ({v:d})'.format(p=pct,v=val)\n",
    "    return my_autopct\n",
    "labels = 'typeA', 'typeB', 'typeC'\n",
    "sizes = np.array([140, 101, 1400])\n",
    "_ = plt.pie(sizes, labels=labels, autopct=make_autopct(sizes))\n",
    "_ = plt.axis('equal')\n",
    "_ = plt.title('Annotated and novel retrovirus')\n",
    "plt.savefig('/data/shangzhong/anno_retro_type.svg')"
   ]
  },
  {
   "cell_type": "markdown",
   "metadata": {},
   "source": [
    "Get tpm for all the annotated and novel virus sites"
   ]
  },
  {
   "cell_type": "code",
   "execution_count": 37,
   "metadata": {},
   "outputs": [],
   "source": [
    "def get_expressed_retro_virus(quant_folder):\n",
    "    '''\n",
    "    * quant_folder has all folders of salmon results\n",
    "    '''\n",
    "    # merge\n",
    "    folders = natsorted(glob.glob(salmon_path+'/*'))\n",
    "    dfs = []\n",
    "    for f in folders:\n",
    "        fn = f + '/quant.sf'\n",
    "        df = pd.read_csv(fn,sep='\\t',header=0,usecols=[0,3],index_col=0,\n",
    "                         names=['name',f.split('/')[-1]])\n",
    "        dfs.append(df)\n",
    "    quant_df = pd.concat(dfs,axis=1)\n",
    "    return quant_df\n",
    "# merge all tpm of all samples\n",
    "salmon_path = path + '/quant'\n",
    "quant_df = get_expressed_retro_virus(salmon_path)\n",
    "\n",
    "cho_quant_df = quant_df.iloc[:,:45]\n",
    "cho_quant_df.index = cho_quant_df.index.map(lambda x: ':'.join(x.split(':')[:-1]) if x.startswith('picr') else x)\n",
    "raw_retro_viral_ids = retro_rna_gff_df['rnaid'].unique().tolist() + high_virus2picr_df['head'].unique().tolist()\n",
    "cho_retro_quant_df = cho_quant_df.loc[raw_retro_viral_ids,:]\n",
    "cho_retro_quant_df.to_csv(path + '/20_virus_cov_tpm.txt', sep='\\t')\n",
    "# get mean and median\n",
    "cho_retro_quant_df['mean'] = cho_retro_quant_df.iloc[:,:45].mean(axis=1)\n",
    "cho_retro_quant_df['median'] = cho_retro_quant_df.iloc[:,:45].median(axis=1)\n",
    "# filter by tpm median > 0\n",
    "cho_retro_quant_df = cho_retro_quant_df.query('mean > 0')\n",
    "exprs_cho_retro_sites = cho_retro_quant_df.index.tolist()"
   ]
  },
  {
   "cell_type": "code",
   "execution_count": 38,
   "metadata": {},
   "outputs": [],
   "source": [
    "# filter high_virus2picr_df with median tpm > 0\n",
    "high_virus2picr_df = high_virus2picr_df.query('head in @exprs_cho_retro_sites')\n",
    "high_virus2picr_df = high_virus2picr_df.reset_index(drop=True)\n",
    "high_virus2picr_bed = BedTool.from_dataframe(high_virus2picr_df[['sacc','start',\n",
    "                                                'end','qacc','evalue','strand','pident','qlen_per','virus_type']])"
   ]
  },
  {
   "cell_type": "code",
   "execution_count": 39,
   "metadata": {},
   "outputs": [
    {
     "name": "stdout",
     "output_type": "stream",
     "text": [
      "** novel virus sites by blast that are expressed in RNAseq level\n",
      " typeC number: 799 , typeB number: 15\n",
      "** expressed annotated retrovirus:\n",
      "A    140\n",
      "C    133\n",
      "E     97\n",
      "B     75\n",
      "D     15\n",
      "Name: virus_type, dtype: int64\n"
     ]
    }
   ],
   "source": [
    "# build high quality virus intervals for each scaffold in the format \n",
    "# # {chr: [[[start,end],[pr1,pr2],[pr1 name, pr2 name], type], ...]}\n",
    "high_virus2picr_intervals = get_overlap_interval(high_virus2picr_df)  \n",
    "high_virus2picr_intervals = add_virus_type2interval(high_virus2picr_intervals, query_index)\n",
    "# virus type\n",
    "typeC_num = 0\n",
    "typeB_num = 0\n",
    "for k,v in high_virus2picr_intervals.iteritems():\n",
    "    for i in range(len(v)):\n",
    "        if v[i][-1] == 'C':\n",
    "            typeC_num += 1\n",
    "        elif v[i][-1] == 'B':\n",
    "            typeB_num +=1\n",
    "print '** novel virus sites by blast that are expressed in RNAseq level\\n typeC number:',typeC_num, ', typeB number:', typeB_num\n",
    "retro_rna_gff_df = retro_rna_gff_df.query('rnaid in @exprs_cho_retro_sites')\n",
    "retro_rna_gff_df = retro_rna_gff_df.reset_index(drop=True)\n",
    "print '** expressed annotated retrovirus:\\n', retro_rna_gff_df.query('rnaid in @exprs_cho_retro_sites')\\\n",
    "            [['new_geneid','virus_type']].drop_duplicates()['virus_type'].value_counts()"
   ]
  },
  {
   "cell_type": "code",
   "execution_count": 40,
   "metadata": {},
   "outputs": [
    {
     "data": {
      "image/png": "[encoded data removed]",
      "text/plain": [
       "<matplotlib.figure.Figure at 0x7fa1398c4510>"
      ]
     },
     "metadata": {},
     "output_type": "display_data"
    }
   ],
   "source": [
    "def make_autopct(values):\n",
    "    def my_autopct(pct):\n",
    "        total = sum(values)\n",
    "        val = int(round(pct*total/100.0))\n",
    "        return '{p:.1f}%  ({v:d})'.format(p=pct,v=val)\n",
    "    return my_autopct\n",
    "labels = 'typeA', 'typeB', 'typeC'\n",
    "sizes = np.array([140, 90, 932])\n",
    "_ = plt.pie(sizes, labels=labels, autopct=make_autopct(sizes))\n",
    "_ = plt.axis('equal')\n",
    "_ = plt.title('Expressed annotated and novel retrovirus')\n",
    "plt.savefig('/data/shangzhong/expr_retro.svg')"
   ]
  },
  {
   "cell_type": "markdown",
   "metadata": {},
   "source": [
    "#### Get overlap between virus2picr and peptide event"
   ]
  },
  {
   "cell_type": "code",
   "execution_count": 41,
   "metadata": {
    "collapsed": true
   },
   "outputs": [
    {
     "name": "stdout",
     "output_type": "stream",
     "text": [
      "the peptides which overlap with virus less than 100 percent\n"
     ]
    },
    {
     "data": {
      "text/html": [
       "<div>\n",
       "<style>\n",
       "    .dataframe thead tr:only-child th {\n",
       "        text-align: right;\n",
       "    }\n",
       "\n",
       "    .dataframe thead th {\n",
       "        text-align: left;\n",
       "    }\n",
       "\n",
       "    .dataframe tbody tr th {\n",
       "        vertical-align: top;\n",
       "    }\n",
       "</style>\n",
       "<table border=\"1\" class=\"dataframe\">\n",
       "  <thead>\n",
       "    <tr style=\"text-align: right;\">\n",
       "      <th></th>\n",
       "      <th>pep</th>\n",
       "      <th>overlap_portion</th>\n",
       "    </tr>\n",
       "  </thead>\n",
       "  <tbody>\n",
       "    <tr>\n",
       "      <th>4</th>\n",
       "      <td>RTLEGPDSSGISQAFPLR</td>\n",
       "      <td>0.166667</td>\n",
       "    </tr>\n",
       "    <tr>\n",
       "      <th>22</th>\n",
       "      <td>RDPPPWVRPFLPPR</td>\n",
       "      <td>0.142857</td>\n",
       "    </tr>\n",
       "    <tr>\n",
       "      <th>27</th>\n",
       "      <td>RDPPPWVRPFLPPR</td>\n",
       "      <td>0.571429</td>\n",
       "    </tr>\n",
       "    <tr>\n",
       "      <th>29</th>\n",
       "      <td>RDPPPWVRPFLPPR</td>\n",
       "      <td>0.785714</td>\n",
       "    </tr>\n",
       "    <tr>\n",
       "      <th>49</th>\n",
       "      <td>KNVPGPDGRPTQLPNEIDEVFPLIRPTDWDINTAAGR</td>\n",
       "      <td>0.891892</td>\n",
       "    </tr>\n",
       "    <tr>\n",
       "      <th>50</th>\n",
       "      <td>RLSGPCPTPLPLPAPLIPTPSAPPSTSSLLPLTEPR</td>\n",
       "      <td>0.083333</td>\n",
       "    </tr>\n",
       "    <tr>\n",
       "      <th>100</th>\n",
       "      <td>RRKPTPILPLEK</td>\n",
       "      <td>0.333333</td>\n",
       "    </tr>\n",
       "  </tbody>\n",
       "</table>\n",
       "</div>"
      ],
      "text/plain": [
       "                                       pep  overlap_portion\n",
       "4                       RTLEGPDSSGISQAFPLR         0.166667\n",
       "22                          RDPPPWVRPFLPPR         0.142857\n",
       "27                          RDPPPWVRPFLPPR         0.571429\n",
       "29                          RDPPPWVRPFLPPR         0.785714\n",
       "49   KNVPGPDGRPTQLPNEIDEVFPLIRPTDWDINTAAGR         0.891892\n",
       "50    RLSGPCPTPLPLPAPLIPTPSAPPSTSSLLPLTEPR         0.083333\n",
       "100                           RRKPTPILPLEK         0.333333"
      ]
     },
     "metadata": {},
     "output_type": "display_data"
    }
   ],
   "source": [
    "event_virus_inter_df = high_virus2picr_bed.intersect(event_bed,wo=True,s=True).to_dataframe(\n",
    "    names=['chr_virus','s_virus','e_virus','virus','evalue','str_virus','pident_virus','qlen_per','virus_type',\n",
    "    'chr_pep','s_pep','e_pep','pep','spec_count','str_pep','loc_num','sprob','virus_pep_len'])\n",
    "event_virus_inter_df['overlap_portion'] = event_virus_inter_df['virus_pep_len']/\\\n",
    "                                        (event_virus_inter_df['e_pep']-event_virus_inter_df['s_pep'])\n",
    "\n",
    "print 'the peptides which overlap with virus less than 100 percent'\n",
    "display(event_virus_inter_df[['pep','overlap_portion']].drop_duplicates().query('overlap_portion<1'))\n",
    "del event_virus_inter_df['overlap_portion']"
   ]
  },
  {
   "cell_type": "code",
   "execution_count": 42,
   "metadata": {
    "collapsed": true,
    "scrolled": true
   },
   "outputs": [],
   "source": [
    "# add virus name, description and peptide start position in virus\n",
    "query_index = SeqIO.index(query,'fasta')\n",
    "event_virus_inter_df['description'] = event_virus_inter_df['virus'].map(\n",
    "                                    lambda x:query_index[x].description)\n",
    "event_virus_inter_df['virus_loc']=event_virus_inter_df['virus'].map(lambda x: \n",
    "                                    virus_loc_dic[x])\n",
    "event_virus_inter_df['pep2vir_loc'] = event_virus_inter_df['pep'].map(\n",
    "    lambda x:pep2virus_loc_dic[x] if x in pep2virus_loc_dic else 0)\n",
    "event_virus_inter_df['gename'] = event_virus_inter_df['virus'].map(lambda x: virus_name_dic[x])\n",
    "event_virus_inter_df.to_csv(path+'/08_event_virus_inter.txt',sep='\\t',index=False)"
   ]
  },
  {
   "cell_type": "code",
   "execution_count": 43,
   "metadata": {
    "scrolled": true
   },
   "outputs": [
    {
     "name": "stdout",
     "output_type": "stream",
     "text": [
      "LTRharvest identifies 3324 pairs of LTR in picr\n",
      "there are 63 retrovirus proteins map to 2028 sites in the picr\n",
      "After getting intersection between virus and event, there are 151 mapping results with 54 sites, 11 peptides mapping to 16 viruses proteins\n"
     ]
    }
   ],
   "source": [
    "viruses = high_virus2picr_df['qacc'].unique().tolist()\n",
    "print 'LTRharvest identifies',ltr_df.shape[0],'pairs of LTR in picr'\n",
    "print 'there are',high_virus2picr_df['qacc'].unique().shape[0],'retrovirus proteins map to',\\\n",
    "        high_virus2picr_df[['sacc','sstart','send']].drop_duplicates().shape[0],'sites in the picr'\n",
    "# print 'there are',pep2virus_df['qacc'].unique().shape[0],'novel peptides map to',\\\n",
    "#         pep2virus_df['sacc'].unique().shape[0],'retrovirus proteins'\n",
    "print 'After getting intersection between virus and event, there are', \\\n",
    "        event_virus_inter_df.shape[0],'mapping results with',\\\n",
    "        event_virus_inter_df[['chr_virus','s_virus','e_virus']].drop_duplicates().shape[0],'sites,',\\\n",
    "        event_virus_inter_df['pep'].unique().shape[0],'peptides mapping to',\\\n",
    "        event_virus_inter_df['virus'].unique().shape[0],'viruses proteins'"
   ]
  },
  {
   "cell_type": "markdown",
   "metadata": {},
   "source": [
    "#### Get ovralap between virus2picr and ltr"
   ]
  },
  {
   "cell_type": "code",
   "execution_count": 44,
   "metadata": {
    "collapsed": true
   },
   "outputs": [],
   "source": [
    "event_virus_inter_bed = BedTool.from_dataframe(event_virus_inter_df)\n",
    "# get virus in ltr region that are supported by proteins\n",
    "event_virus_ltr_inter_df = event_virus_inter_bed.intersect(ltr_bed,wo=True).to_dataframe(\n",
    "    names=['chr_virus','s_virus','e_virus','virus','evalue','str_virus','pident_virus','qlen_per_virus','virus_type',\n",
    "    'chr_pep','s_pep','e_pep','pep','spec_count','str_pep','loc_num','sprob','virus_pep_len',\n",
    "    'description','virus_loc','pep2vir_loc','gename','ltr_chr','ltr_s','ltr_e','virus_ltr_len'])\n",
    "event_virus_ltr_inter_df['virus_cov_portion'] = event_virus_ltr_inter_df['virus_ltr_len']/\\\n",
    "      (event_virus_ltr_inter_df['e_virus']-event_virus_ltr_inter_df['s_virus'])\n",
    "# sort by ltr_chr\n",
    "event_virus_ltr_inter_df.ltr_chr = event_virus_ltr_inter_df.ltr_chr.astype('category')\n",
    "event_virus_ltr_inter_df.ltr_chr.cat.reorder_categories(\n",
    "                natsorted(set(event_virus_ltr_inter_df.ltr_chr)),inplace=True,ordered=True)\n",
    "event_virus_ltr_inter_df = event_virus_ltr_inter_df.sort_values('ltr_chr')\n",
    "event_virus_ltr_inter_fn = path + '/09_event_virus_ltr_inter.txt'\n",
    "event_virus_ltr_inter_df.to_csv(event_virus_ltr_inter_fn,sep='\\t',index=False)\n",
    "# get the virus position that are capped by LTR \n",
    "ltr_virus_df = event_virus_ltr_inter_df[['chr_virus','s_virus','e_virus','str_virus']]\n",
    "ltr_virus_pos = ltr_virus_df.astype('str').apply(lambda x:':'.join(x),axis=1).tolist()"
   ]
  },
  {
   "cell_type": "code",
   "execution_count": 45,
   "metadata": {},
   "outputs": [
    {
     "name": "stdout",
     "output_type": "stream",
     "text": [
      "there are 19 virus sites in ltr region\n",
      "there are 1 ltrs have peptide supported virus\n",
      "there are 8 virus proteins in ltrs\n",
      "there are 6 virus sites inside LTR that have peptides supporting them\n"
     ]
    },
    {
     "data": {
      "text/html": [
       "<div>\n",
       "<style>\n",
       "    .dataframe thead tr:only-child th {\n",
       "        text-align: right;\n",
       "    }\n",
       "\n",
       "    .dataframe thead th {\n",
       "        text-align: left;\n",
       "    }\n",
       "\n",
       "    .dataframe tbody tr th {\n",
       "        vertical-align: top;\n",
       "    }\n",
       "</style>\n",
       "<table border=\"1\" class=\"dataframe\">\n",
       "  <thead>\n",
       "    <tr style=\"text-align: right;\">\n",
       "      <th></th>\n",
       "      <th>ltr_chr</th>\n",
       "      <th>ltr_s</th>\n",
       "      <th>ltr_e</th>\n",
       "      <th>number of unique peptides</th>\n",
       "    </tr>\n",
       "  </thead>\n",
       "  <tbody>\n",
       "    <tr>\n",
       "      <th>0</th>\n",
       "      <td>picr_180</td>\n",
       "      <td>488031</td>\n",
       "      <td>495889</td>\n",
       "      <td>5</td>\n",
       "    </tr>\n",
       "  </tbody>\n",
       "</table>\n",
       "</div>"
      ],
      "text/plain": [
       "    ltr_chr   ltr_s   ltr_e  number of unique peptides\n",
       "0  picr_180  488031  495889                          5"
      ]
     },
     "metadata": {},
     "output_type": "display_data"
    }
   ],
   "source": [
    "# get number of peptides in each ltr\n",
    "pep_num_in_ltr = event_virus_ltr_inter_df[['ltr_chr','ltr_s','ltr_e','pep']]\\\n",
    "        .drop_duplicates().groupby(['ltr_chr','ltr_s','ltr_e']).size().reset_index(name='number of unique peptides')\n",
    "ltr_num_with_virus_pep = event_virus_ltr_inter_df[['ltr_chr','ltr_s','ltr_e']].drop_duplicates().shape[0]\n",
    "print 'there are',len(ltr_virus_pos),'virus sites in ltr region'\n",
    "print 'there are',ltr_num_with_virus_pep,'ltrs have peptide supported virus'\n",
    "print 'there are',event_virus_ltr_inter_df['virus'].unique().shape[0],'virus proteins in ltrs'\n",
    "print 'there are',event_virus_ltr_inter_df[['chr_virus','s_virus','e_virus']].drop_duplicates().shape[0],\\\n",
    "        'virus sites inside LTR that have peptides supporting them'\n",
    "display(pep_num_in_ltr)"
   ]
  },
  {
   "cell_type": "code",
   "execution_count": 46,
   "metadata": {
    "scrolled": true
   },
   "outputs": [
    {
     "name": "stdout",
     "output_type": "stream",
     "text": [
      "After intersection among event,peptides and LTR, there are 19 mapping results and 1 unique LTRs\n"
     ]
    }
   ],
   "source": [
    "print 'After intersection among event,peptides and LTR, there are',\\\n",
    "    event_virus_ltr_inter_df.shape[0],'mapping results and',\\\n",
    "    event_virus_ltr_inter_df[['ltr_chr','ltr_s','ltr_e']].drop_duplicates().shape[0],\\\n",
    "    'unique LTRs'"
   ]
  },
  {
   "cell_type": "code",
   "execution_count": 47,
   "metadata": {
    "collapsed": true
   },
   "outputs": [],
   "source": [
    "virus_prs_map2picr = high_virus2picr_df['qacc'].unique().tolist()\n",
    "peptide_supported_virus_prs=event_virus_inter_df['virus'].unique().tolist()\n",
    "ltr_wrapped_virus_prs=event_virus_ltr_inter_df['virus'].unique().tolist()"
   ]
  },
  {
   "cell_type": "code",
   "execution_count": 48,
   "metadata": {},
   "outputs": [
    {
     "name": "stdout",
     "output_type": "stream",
     "text": [
      "there are 63 virus proteins map to picr are:  NP_056790.1,YP_009109692.1,NP_040333.1,NP_955579.1,NP_955592.1,NP_955580.1,NP_043519.1,YP_004680224.1,YP_009243644.1,NP_955582.1,NP_955589.1,NP_598370.1,NP_598373.1,NP_955578.1,NP_955588.2,YP_001165469.3,NP_056789.1,NP_955527.1,NP_955585.1,NP_955597.1,NP_955572.1,NP_955526.1,NP_955583.1,NP_955593.1,NP_955596.1,YP_001165470.1,NP_955590.1,YP_009109693.1,NP_955574.1,YP_009109698.1,YP_009109696.1,NP_955576.1,NP_040332.1,NP_043518.1,NP_057934.1,NP_057858.1,NP_955591.1,YP_009109694.1,NP_955577.1,NP_954561.1,NP_047256.1,NP_057933.2,YP_001497148.1,YP_009109689.1,NP_955586.1,YP_004680223.1,YP_009109695.1,NP_955563.1,NP_041217.1,YP_001165472.1,NP_955569.1,NP_579906.1,NP_057859.1,NP_955529.1,YP_008169843.1,NP_040334.1,NP_057935.1,NP_598374.1,YP_009243643.1,NP_047255.1,NP_955565.1,NP_954557.1,NP_598371.2\n",
      "there are 16 peptide supported virus proteins are: YP_009109696.1,NP_955527.1,NP_955574.1,NP_955585.1,YP_009109698.1,NP_955576.1,NP_955526.1,NP_955583.1,NP_955593.1,NP_955572.1,NP_955597.1,NP_955596.1,YP_009243644.1,NP_043519.1,YP_004680224.1,NP_598374.1\n",
      "there are 8 ltr surrounded virus proteins are: NP_955527.1,NP_955583.1,NP_955526.1,NP_955574.1,NP_955593.1,YP_009109698.1,NP_955597.1,NP_955585.1\n"
     ]
    }
   ],
   "source": [
    "print 'there are',len(virus_prs_map2picr),'virus proteins map to picr are: ',','.join(virus_prs_map2picr)\n",
    "print 'there are',len(peptide_supported_virus_prs),'peptide supported virus proteins are:',','.join(peptide_supported_virus_prs)\n",
    "print 'there are',len(ltr_wrapped_virus_prs),'ltr surrounded virus proteins are:',','.join(ltr_wrapped_virus_prs)"
   ]
  },
  {
   "cell_type": "code",
   "execution_count": 49,
   "metadata": {},
   "outputs": [],
   "source": [
    "# expressed high quality virus sites overlap with ltr\n",
    "new_retro_rna_ltr_df = high_virus2picr_bed.intersect(ltr_bed,wo=True).to_dataframe(\n",
    "    names=['chr_virus','s_virus','e_virus','virus','evalue','str_virus','pident_virus','qlen_per_virus','virus_type',\n",
    "           'ltr_chr','ltr_s','ltr_e','virus_ltr_len'])\n",
    "new_retro_rna_ltr_df['perc_len'] = new_retro_rna_ltr_df['virus_ltr_len']/(new_retro_rna_ltr_df['e_virus']-new_retro_rna_ltr_df['s_virus'])\n",
    "new_retro_rna_ltr_df['head'] = new_retro_rna_ltr_df.apply(lambda x:':'.join([x['chr_virus'],str(x['s_virus']),str(x['e_virus']),x['str_virus']]),axis=1)\n",
    "\n",
    "new_retro_rna_ltr_sites = new_retro_rna_ltr_df['head'].unique().tolist()"
   ]
  },
  {
   "cell_type": "code",
   "execution_count": 50,
   "metadata": {},
   "outputs": [],
   "source": [
    "new_retro_rna_sites = []\n",
    "for record in SeqIO.parse(new_retro_viral_rna_seq_fn,'fasta'):\n",
    "    new_retro_rna_sites.append(record.id)\n",
    "new_retro_rna_pep_sites = event_virus_inter_df.apply(lambda x:':'.join([x['chr_virus'],\n",
    "                str(x['s_virus']),str(x['e_virus']),x['str_virus']]),axis=1).unique().tolist()\n",
    "# sequence header of viruses that map to LTR with peptides supporting the mapping\n",
    "new_retro_rna_ltr_pep_sites = event_virus_ltr_inter_df.apply(lambda x:':'.join([x['chr_virus'],\n",
    "                str(x['s_virus']),str(x['e_virus']),x['str_virus']]),axis=1).unique().tolist()"
   ]
  },
  {
   "cell_type": "markdown",
   "metadata": {},
   "source": [
    "#### After getting all the results, we store the confident results into a gff file.\n",
    "1. The annotated retrovirus supported by peptides can be directly extracted from reference gff file\n",
    "2. Generate LTR surrounded peptide supported virus gff by parsing the overlapping results\n",
    "3. Generate non-LTR surrounded peptide supprted virus gff by parsing 08_event_virus_inter.txt"
   ]
  },
  {
   "cell_type": "code",
   "execution_count": 51,
   "metadata": {
    "collapsed": true
   },
   "outputs": [],
   "source": [
    "# # 1. get annotated retrovirus gff3 file\n",
    "# def get_retro_anno_gff(ham_gff,virus_gff,retro_anno_rnas):\n",
    "#     ''' This function extracts rnas that are annotated as retrovirus\n",
    "#     * retro_anno_rnas: retro virus in annotation file\n",
    "#     '''\n",
    "#     with open(ham_gff) as f, open(virus_gff,'w') as out:\n",
    "#         pre_gene = ''\n",
    "#         rnaid = ''\n",
    "#         for line in f:\n",
    "#             if line.startswith('#'):continue\n",
    "#             item = line.strip().split('\\t')\n",
    "#             if item[2] == 'gene':\n",
    "#                 gene = line\n",
    "#             elif item[2] == 'mRNA':\n",
    "#                 rnaid = re.search('(?<=ID=).+?(?=;)',item[8]).group(0)\n",
    "#             elif item[2] in ['exon','CDS']:\n",
    "#                 rnaid = re.search('(?<=Parent=).+?(?=;)',item[8]).group(0)\n",
    "#             if rnaid in retro_anno_rnas:\n",
    "#                 if gene != pre_gene:\n",
    "#                     out.write(gene)\n",
    "#                     pre_gene = gene\n",
    "#                 out.write(line)\n",
    "                \n",
    "# anno_retro_virus_gff = path + '/11_anno_retro_virus.gff3'\n",
    "# if not os.path.exists(anno_retro_virus_gff):\n",
    "#     get_retro_anno_gff(ham_gff,anno_retro_virus_gff,anno_viral_rnas_with_pep)\n",
    "\n",
    "# # 2. get build {LTR:[[s,e,str],{pr:[s,e,str]}]}\n",
    "# def build_ltr_gff(event_virus_ltr_inter_fn,ltr_virus_gff):\n",
    "#     '''this functions transfers ltr supported virus to gff format'''\n",
    "#     ltr_virus_gff_dic = {}\n",
    "#     ltr_index = 0\n",
    "#     pre_ltr = ''\n",
    "#     with open(event_virus_ltr_inter_fn) as f:\n",
    "#         n = 0\n",
    "#         for line in f:\n",
    "#             n += 1\n",
    "#             if n == 1:\n",
    "#                 continue\n",
    "#             item = line.strip().split('\\t')\n",
    "#             ltr_chr,ltr_s,ltr_e = item[20:23]\n",
    "#             ltr = ':'.join(item[20:23])\n",
    "#             virus =  item[:4]+[item[5],item[19]]\n",
    "#             if ltr != pre_ltr:\n",
    "#                 ltr_index += 1\n",
    "#                 ltr_id = 'LTR_'+ str(ltr_index)\n",
    "#                 pre_ltr = ltr\n",
    "#             if ltr_id not in ltr_virus_gff_dic:\n",
    "#                 ltr_virus_gff_dic[ltr_id] = [item[20:23],virus]\n",
    "#             else:\n",
    "#                 if virus not in ltr_virus_gff_dic[ltr_id]:\n",
    "#                     ltr_virus_gff_dic[ltr_id].append(virus)\n",
    "#     # output files\n",
    "#     with open(ltr_virus_gff,'w') as out:\n",
    "#         for key in natsorted(ltr_virus_gff_dic.keys()):\n",
    "#             value = ltr_virus_gff_dic[key]\n",
    "#             v = value[0]\n",
    "#             out.write('\\t'.join([v[0],'ltr','gene',v[1],v[2],'.','.','.','ID='+key])+'\\n')\n",
    "#             for v in value[1:]:\n",
    "#                 anno = 'ID={rna};Parent={ltrid};Name={gename}'.format(rna=v[3],ltrid=key,\n",
    "#                                                                      gename=v[5])\n",
    "#                 out.write('\\t'.join([v[0],'ltr','mRNA',v[1],v[2],'.',v[4],'.',anno])+'\\n')\n",
    "#                 out.write('\\t'.join([v[0],'ltr','CDS',v[1],v[2],'.',v[4],'.',anno])+'\\n')\n",
    "#     return ltr_virus_gff_dic\n",
    "# ltr_virus_gff = path + '/11_ltr_virus.gff3'\n",
    "# ltr_virus_gff_dic = build_ltr_gff(event_virus_ltr_inter_fn,ltr_virus_gff)\n",
    "# for k,v in ltr_virus_gff_dic.iteritems():\n",
    "#     ltr_virus_gff_dic[k] = [v[0],list(set([n[5] for n in v[1:]]))]\n",
    "# ltr_virus_gff_dic\n",
    "\n",
    "# # 3. get non ltr virus gff file\n",
    "# # filter out ltr supported viruses\n",
    "# def get_non_ltr_virus_gff(event_virus_ltr_inter_fn,event_virus_inter_gff_fn):\n",
    "#     event_virus_ltr_inter_df = pd.read_csv(event_virus_ltr_inter_fn,header=0,sep='\\t')\n",
    "#     ltr_viruses = event_virus_ltr_inter_df[['chr_virus','s_virus','e_virus','str_virus']].apply(\n",
    "#                                     lambda x: ':'.join([str(p) for p in x]),axis=1).tolist()\n",
    "#     event_virus_inter_fn = path+'/08_event_virus_inter.txt'\n",
    "#     event_virus_inter_df = pd.read_csv(event_virus_inter_fn,sep='\\t',header=0)\n",
    "#     event_virus_inter_df['id'] = event_virus_inter_df[\n",
    "#                                     ['chr_virus','s_virus','e_virus','str_virus']].apply(\n",
    "#                                     lambda x: ':'.join([str(p) for p in x]),axis=1).tolist()\n",
    "#     event_virus_inter_df = event_virus_inter_df[~event_virus_inter_df['id'].isin(ltr_viruses)]\n",
    "#     # output results\n",
    "    \n",
    "#     inter_df=event_virus_inter_df[['chr_virus','s_virus','e_virus','str_virus','virus','gename']]\n",
    "#     inter_df = inter_df.drop_duplicates()\n",
    "#     inter_df = inter_df.reset_index(drop=True)\n",
    "#     inter_df.chr_virus = inter_df.chr_virus.astype('category')\n",
    "#     inter_df.chr_virus.cat.reorder_categories(natsorted(set(inter_df.chr_virus)),inplace=True,ordered=True)\n",
    "#     inter_df.to_csv(event_virus_inter_gff_fn,sep='\\t',index=False)\n",
    "# event_virus_ltr_inter_fn = path + '/09_event_virus_ltr_inter.txt'\n",
    "# event_virus_inter_gff_fn = path + '/11_event_virus_inter.gff'\n",
    "# if not os.path.exists(event_virus_inter_gff_fn):\n",
    "#     get_non_ltr_virus_gff(event_virus_ltr_inter_fn,event_virus_inter_gff_fn)"
   ]
  },
  {
   "cell_type": "markdown",
   "metadata": {},
   "source": [
    "### Use CHOS pacbio to detect retrovirus\n",
    "Strategies would be: \n",
    "1. tblastn virus proteins to CHOS pacbio reads.\n",
    "2. tblastn new event peptides to CHOS pacbio reads.\n",
    "3. get overlap between 1-2.\n",
    "4. extract the mapped virus sequence in pacbio reads.\n",
    "5. repeat step 1-3 for hamster pacbio reads\n",
    "6. blast 4 to hamster pacbio reads that don't map to picr\n",
    "7. In 5 results remove those that exist in 7\n",
    "8. blast 4 to picr.\n",
    "9. Map pacbio reads to picr genome to decide the location that are surrounded by LTR."
   ]
  },
  {
   "cell_type": "markdown",
   "metadata": {},
   "source": [
    "##### 1. tblastn virus peptides to CHOS pacbio reads\n",
    "##### 2. tblastn peptide to CHOS pacbio reads"
   ]
  },
  {
   "cell_type": "code",
   "execution_count": 52,
   "metadata": {},
   "outputs": [],
   "source": [
    "pep_query = path + '/07_all_event_location_uniq_pep.fa'\n",
    "virus_query = path + '/02_retro_virus_pr.fa'\n",
    "pep2chos_pacbio = path + '/12_novelpep2chospacbio.txt'\n",
    "virus2chos_pacbio = path + '/12_virus2chospacbio.txt'\n",
    "database = '/data/shangzhong/Pacbio/correct_chos_pacbio_blast_db/pacbio'\n",
    "chos_pacbio = '/data/shangzhong/Pacbio/correct.fa.gz'\n",
    "if not os.path.exists(os.path.dirname(database)):\n",
    "    os.mkdir(os.path.dirname(database))\n",
    "    makeblastdb(chos_pacbio,'nucl',os.path.dirname(database),os.path.basename(database))\n",
    "if not os.path.exists(pep2chos_pacbio):\n",
    "    tblastn(pep_query,pep2chos_pacbio,database,thread)\n",
    "if not os.path.exists(virus2chos_pacbio):\n",
    "    query = path + '/02_retro_virus_pr.fa'\n",
    "    tblastn(virus_query,virus2chos_pacbio,database,thread)"
   ]
  },
  {
   "cell_type": "markdown",
   "metadata": {},
   "source": [
    "##### 3. Get overlap between virus mapping and peptide mapping"
   ]
  },
  {
   "cell_type": "code",
   "execution_count": 53,
   "metadata": {
    "collapsed": true,
    "scrolled": true
   },
   "outputs": [],
   "source": [
    "# read virus map 2 pacbio\n",
    "virus2pacbio_fn = path + '/12_virus2chospacbio.txt'\n",
    "virus2pacbio_df = pd.read_csv(virus2pacbio_fn,sep='\\t',header=None,names=['qacc',\n",
    "        'sacc','pident','length','mismatch','gapopen','qstart','qend','sstart','send',\n",
    "        'evalue','qlen','slen'])\n",
    "virus2pacbio_df = add_strand_pst2blast(virus2pacbio_df)\n",
    "virus2pacbio_df = virus2pacbio_df.query('pident>=60 and qlen_per>=0.55')\n",
    "virus2pacbio_df = virus2pacbio_df.reset_index(drop=True)\n",
    "virus2pacbio_bed = BedTool.from_dataframe(virus2pacbio_df[['sacc','start',\n",
    "                                            'end','qacc','evalue','strand','pident','slen']])\n",
    "virus2pacbio_loc_dic = virus2pacbio_df['qacc'].value_counts().to_dict()"
   ]
  },
  {
   "cell_type": "code",
   "execution_count": 54,
   "metadata": {
    "collapsed": true
   },
   "outputs": [
    {
     "data": {
      "image/png": "[encoded data removed]",
      "text/plain": [
       "<matplotlib.figure.Figure at 0x7fa1398b9bd0>"
      ]
     },
     "metadata": {},
     "output_type": "display_data"
    },
    {
     "data": {
      "image/png": "[encoded data removed]",
      "text/plain": [
       "<matplotlib.figure.Figure at 0x7fa17e6dc450>"
      ]
     },
     "metadata": {},
     "output_type": "display_data"
    }
   ],
   "source": [
    "# read peptide map 2 pacbio\n",
    "pep2pacbio_fn = path + '/12_novelpep2chospacbio.txt'\n",
    "pep2pacbio_df = pd.read_csv(pep2pacbio_fn,sep='\\t',header=None,names=['qacc',\n",
    "        'sacc','pident','length','mismatch','gapopen','qstart','qend','sstart','send',\n",
    "        'evalue', 'bitscore', 'qlen','slen'])\n",
    "pep2pacbio_df = add_strand_pst2blast(pep2pacbio_df)\n",
    "ax = pep2pacbio_df['pident'].plot(kind='hist',bins=100)\n",
    "_ = ax.set_title('pident of pep2chos pacbio')\n",
    "plt.figure()\n",
    "ax = pep2pacbio_df['qlen_per'].plot(kind='hist',bins=100)\n",
    "_ = ax.set_title('lenght portion of pep2chos pacbio')"
   ]
  },
  {
   "cell_type": "code",
   "execution_count": 55,
   "metadata": {
    "collapsed": true
   },
   "outputs": [],
   "source": [
    "# should conisder perfect mapping peptides\n",
    "pep2pacbio_df = pep2pacbio_df.query('pident==100 and qlen_per==1')\n",
    "pep2pacbio_df = pep2pacbio_df.reset_index(drop=True)\n",
    "pep2pacbio_bed = BedTool.from_dataframe(pep2pacbio_df[['sacc','start',\n",
    "                                            'end','qacc','evalue','strand','pident']])\n",
    "pep2pacbio_loc_dic = pep2pacbio_df['qacc'].value_counts().to_dict()\n",
    "# get overlap\n",
    "pac_virus_pep_inter_df = virus2pacbio_bed.intersect(pep2pacbio_bed,wo=True,s=True).to_dataframe(\n",
    "                names=['chr','v_s','v_e','virus','virus_evalue','v_str','v_pident','v_slen','pac_chr',\n",
    "                'p_s','p_e','p_id','p_value','p_str','p_ident','length'])\n",
    "pac_virus_pep_inter_df['head'] = pac_virus_pep_inter_df.apply(lambda x:':'.join([x['chr'],str(x['v_s']),str(x['v_e'])]),axis=1)"
   ]
  },
  {
   "cell_type": "code",
   "execution_count": 56,
   "metadata": {},
   "outputs": [
    {
     "name": "stdout",
     "output_type": "stream",
     "text": [
      "there are 76 virus proteins map to CHOS pacbio\n",
      "there are 14 virus map to CHOS pacbio with peptide support\n",
      "there are 5 peptides support virus map to CHOS pacbio\n"
     ]
    }
   ],
   "source": [
    "print 'there are',virus2pacbio_df['qacc'].unique().shape[0],'virus proteins map to CHOS pacbio'\n",
    "print 'there are',pac_virus_pep_inter_df['virus'].unique().shape[0],'virus map to CHOS pacbio with peptide support'\n",
    "print 'there are',pac_virus_pep_inter_df['p_id'].unique().shape[0],'peptides support virus map to CHOS pacbio'"
   ]
  },
  {
   "cell_type": "markdown",
   "metadata": {},
   "source": [
    "##### 4. extract CHOS virus mapped sequence that have peptides support"
   ]
  },
  {
   "cell_type": "code",
   "execution_count": 57,
   "metadata": {},
   "outputs": [],
   "source": [
    "import gzip\n",
    "def extract_fa_reads(gzfa,ids,out_fn):\n",
    "    '''this function extracts reads from the zipped fasta file'''\n",
    "    with gzip.open(gzfa,'rt') as f, open(out_fn,'w') as out:\n",
    "        for record in SeqIO.parse(f,'fasta'):\n",
    "            if record.id in ids:\n",
    "                SeqIO.write(record,out,'fasta')\n",
    "# get full CHOS pacbio reads that have peptide and virus mapping to them\n",
    "# this reads the whole pacbio fa file, therefore it takes a long time.\n",
    "chos_pb_reads_with_virus_pep_fn = path + '/14_chos_pacbio_read_with_virus_pep.fa'\n",
    "chos_pb_reads_with_virus_pep_ids = pac_virus_pep_inter_df['chr'].unique().tolist()\n",
    "if not os.path.exists(chos_pb_reads_with_virus_pep_fn):\n",
    "    extract_fa_reads(chos_pacbio,chos_pb_reads_with_virus_pep_ids,chos_pb_reads_with_virus_pep_fn)"
   ]
  },
  {
   "cell_type": "code",
   "execution_count": 58,
   "metadata": {},
   "outputs": [],
   "source": [
    "# get virus sites in CHOS pacbio reads that have peptides support\n",
    "chos_pb_virus_sites_fn = path + '/15_chos_pacbio_virus_sites.fa'\n",
    "if not os.path.exists(chos_pb_virus_sites_fn):\n",
    "    chos_pb_index = SeqIO.index(chos_pb_reads_with_virus_pep_fn,'fasta')\n",
    "    with open(chos_pb_virus_sites_fn,'w') as out:\n",
    "        for index, row in pac_virus_pep_inter_df[['chr','v_s','v_e']].drop_duplicates().iterrows():\n",
    "            start = row['v_s']\n",
    "            end = row['v_e']\n",
    "            chrom = row['chr']\n",
    "            head = ':'.join([chrom,str(start),str(end)])\n",
    "            seq = chos_pb_index[row['chr']].seq[start:end]\n",
    "            out.write('>'+head+'\\n'+str(seq)+'\\n')\n",
    "# blast CHOS pacbio virus sites that have peptides support to picr\n",
    "chos_pb_virus_sites2picr_fn = path + '/16_chos_pb_virus_sites2picr.txt'\n",
    "if not os.path.exists(chos_pb_virus_sites2picr_fn):\n",
    "    blastn(chos_pb_virus_sites_fn, chos_pb_virus_sites2picr_fn, ham_blastdb, thread, 1000)"
   ]
  },
  {
   "cell_type": "markdown",
   "metadata": {},
   "source": [
    "##### 5. repeat step 1-4 for hamster pacbio reads"
   ]
  },
  {
   "cell_type": "code",
   "execution_count": 59,
   "metadata": {},
   "outputs": [],
   "source": [
    "hamster_pacbio = '/data/shangzhong/Pacbio/hamster_pacbio/hamster_pacbio_correct.fa.gz'\n",
    "database = '/data/shangzhong/Pacbio/correct_hamster_pacbio_blast_db/pacbio'\n",
    "pep2hamster_pacbio = path + '/13_novelpep2hamsterpacbio.txt'\n",
    "virus2hamster_pacbio = path + '/13_virus2hamsterpacbio.txt'\n",
    "if not os.path.exists(os.path.dirname(database)):\n",
    "    os.mkdir(os.path.dirname(database))\n",
    "    makeblastdb(hamster_pacbio,'nucl',os.path.dirname(database),os.path.basename(database))\n",
    "if not os.path.exists(pep2hamster_pacbio):\n",
    "    tblastn(pep_query,pep2hamster_pacbio,database,thread)\n",
    "if not os.path.exists(virus2hamster_pacbio):\n",
    "    tblastn(virus_query,virus2hamster_pacbio,database,thread)"
   ]
  },
  {
   "cell_type": "code",
   "execution_count": 60,
   "metadata": {},
   "outputs": [],
   "source": [
    "# read in virus mapping to hamster pacbio sites\n",
    "virus2ham_pb_df = pd.read_csv(virus2hamster_pacbio,sep='\\t',header=None,names=['qacc',\n",
    "        'sacc','pident','length','mismatch','gapopen','qstart','qend','sstart','send',\n",
    "        'evalue','qlen','slen'])\n",
    "virus2ham_pb_df = add_strand_pst2blast(virus2ham_pb_df)\n",
    "virus2ham_pb_df = virus2ham_pb_df.query('pident>=60 and qlen_per>=0.8')\n",
    "virus2ham_pb_df = virus2ham_pb_df.reset_index(drop=True)\n",
    "# read in peptide mapping\n",
    "pep2ham_pb_df = pd.read_csv(pep2hamster_pacbio,sep='\\t',header=None,names=['qacc',\n",
    "        'sacc','pident','length','mismatch','gapopen','qstart','qend','sstart','send',\n",
    "        'evalue','bitscore','qlen','slen'])\n",
    "pep2ham_pb_df = add_strand_pst2blast(pep2ham_pb_df)\n",
    "pep2ham_pb_df = pep2ham_pb_df.query('pident==100 and qlen_per==1')\n",
    "pep2ham_pb_df = pep2ham_pb_df.reset_index(drop=True)\n",
    "# prepare bed frame\n",
    "virus2ham_pb_bed = BedTool.from_dataframe(virus2ham_pb_df[['sacc','start','end',\n",
    "                                                'qacc','evalue','strand','pident','slen']])\n",
    "pep2ham_pb_bed = BedTool.from_dataframe(pep2ham_pb_df[['sacc','start','end',\n",
    "                                                'qacc','evalue','strand','pident']])\n",
    "# get overlap between virus and peptide mapping to hamster pacbio\n",
    "ham_pac_virus_pep_inter_df = virus2ham_pb_bed.intersect(pep2ham_pb_bed,wo=True,s=True).to_dataframe(\n",
    "                names=['chr','v_s','v_e','virus','virus_evalue','v_str','v_pident','v_slen','pac_chr',\n",
    "                'p_s','p_e','p_id','p_value','p_str','p_ident','length'])"
   ]
  },
  {
   "cell_type": "code",
   "execution_count": 61,
   "metadata": {},
   "outputs": [
    {
     "name": "stdout",
     "output_type": "stream",
     "text": [
      "results on mapping to hamster pacbio reads:\n",
      "there are 45 virus proteins map to hamster pacbio\n",
      "there are 8 virus map to hamster pacbio with peptide support\n",
      "there are 5 peptides support virus map to hamster pacbio\n"
     ]
    }
   ],
   "source": [
    "print 'results on mapping to hamster pacbio reads:'\n",
    "print 'there are',virus2ham_pb_df['qacc'].unique().shape[0],'virus proteins map to hamster pacbio'\n",
    "print 'there are',ham_pac_virus_pep_inter_df['virus'].unique().shape[0],'virus map to hamster pacbio with peptide support'\n",
    "print 'there are',ham_pac_virus_pep_inter_df['p_id'].unique().shape[0],'peptides support virus map to hamster pacbio'"
   ]
  },
  {
   "cell_type": "markdown",
   "metadata": {},
   "source": [
    "##### 6. blast CHOS virus sites to hamster pacbio reads"
   ]
  },
  {
   "cell_type": "code",
   "execution_count": 62,
   "metadata": {},
   "outputs": [],
   "source": [
    "# blast CHOS virus sites to hamster pacbio reads\n",
    "chos_virus2ham_pb_fn = path + '/17_chos_pacbio_virus_sites_with_pep2hamster_pacbio.txt'\n",
    "if not os.path.exists(chos_virus2ham_pb_fn):\n",
    "    blastn(chos_pb_virus_sites_fn,chos_virus2ham_pb_fn,database,thread,250)"
   ]
  },
  {
   "cell_type": "markdown",
   "metadata": {},
   "source": [
    "##### 7. In CHOS pacbio virus results remove those that exist in hamster pacbio virus results"
   ]
  },
  {
   "cell_type": "code",
   "execution_count": 63,
   "metadata": {},
   "outputs": [],
   "source": [
    "# build {chos pacbio virus sites: [[virus protein,peptide id]]}\n",
    "chos_pb_viruspr_dic = {}\n",
    "for idx,row in pac_virus_pep_inter_df.iterrows():\n",
    "    key = ':'.join([row['chr'],str(row['v_s']),str(row['v_e'])])\n",
    "    if key in chos_pb_viruspr_dic:\n",
    "        chos_pb_viruspr_dic[key].append([row['virus'],row['p_id']])\n",
    "    else:\n",
    "        chos_pb_viruspr_dic[key] = [[row['virus'],row['p_id']]]\n",
    "# build {hamster pacbio virus sites: [[virus protein,peptide]]}\n",
    "ham_pb_viruspr_dic = {}\n",
    "for idx,row in ham_pac_virus_pep_inter_df.iterrows():\n",
    "    key = row['chr']\n",
    "    if key in ham_pb_viruspr_dic:\n",
    "        ham_pb_viruspr_dic[key].append([row['virus'],row['p_id']])\n",
    "    else:\n",
    "        ham_pb_viruspr_dic[key] = [[row['virus'],row['p_id']]]"
   ]
  },
  {
   "cell_type": "code",
   "execution_count": 64,
   "metadata": {},
   "outputs": [],
   "source": [
    "# reads in chos pb virus sites\n",
    "chos_pb_reads_with_virus_pep_sites_dic = SeqIO.index(chos_pb_virus_sites_fn,'fasta')\n",
    "chos_pb_reads_with_virus_pep_sites = list(chos_pb_reads_with_virus_pep_sites_dic.keys())"
   ]
  },
  {
   "cell_type": "code",
   "execution_count": 65,
   "metadata": {},
   "outputs": [],
   "source": [
    "# read chos virus sites mapping to hamster pacbio reads\n",
    "chos_virus2ham_pb_df = pd.read_csv(chos_virus2ham_pb_fn,sep='\\t',header=None,names=['qacc',\n",
    "        'sacc','pident','length','mismatch','gapopen','qstart','qend','sstart','send',\n",
    "        'evalue','bitscore','qlen','slen'])\n",
    "chos_virus2ham_pb_df = add_strand_pst2blast(chos_virus2ham_pb_df)"
   ]
  },
  {
   "cell_type": "code",
   "execution_count": 66,
   "metadata": {},
   "outputs": [
    {
     "data": {
      "image/png": "[encoded data removed]",
      "text/plain": [
       "<matplotlib.figure.Figure at 0x7fa17c380a10>"
      ]
     },
     "metadata": {},
     "output_type": "display_data"
    },
    {
     "data": {
      "image/png": "[encoded data removed]",
      "text/plain": [
       "<matplotlib.figure.Figure at 0x7fa12fe582d0>"
      ]
     },
     "metadata": {},
     "output_type": "display_data"
    }
   ],
   "source": [
    "ax = chos_virus2ham_pb_df['pident'].plot(kind='hist')\n",
    "plt.figure()\n",
    "ax = chos_virus2ham_pb_df['qlen_per'].plot(kind='hist')"
   ]
  },
  {
   "cell_type": "code",
   "execution_count": 67,
   "metadata": {},
   "outputs": [],
   "source": [
    "chos_virus2ham_pb_df = chos_virus2ham_pb_df.query('qlen_per >= 0.8')\n",
    "chos_virus2ham_pb_df = chos_virus2ham_pb_df.reset_index(drop=True)"
   ]
  },
  {
   "cell_type": "code",
   "execution_count": 68,
   "metadata": {},
   "outputs": [],
   "source": [
    "# build {chos virus sites:hamster pacbio reads}\n",
    "chos_virus2ham_pb_dic = {k:list(v) for k,v in chos_virus2ham_pb_df.groupby('qacc')['sacc']}"
   ]
  },
  {
   "cell_type": "code",
   "execution_count": 69,
   "metadata": {},
   "outputs": [
    {
     "name": "stdout",
     "output_type": "stream",
     "text": [
      "there are 182 chos virus sites in total\n",
      "among them, 151 are filtered by hamster pacbio reads\n"
     ]
    }
   ],
   "source": [
    "# find CHOS virus sites that should be removed because they also exist in hamster\n",
    "rm_chos_virus_sites = []\n",
    "for k,v in chos_virus2ham_pb_dic.iteritems():\n",
    "    chos_v_p = chos_pb_viruspr_dic[k]\n",
    "    ham_v_p = []\n",
    "    for hamv in v:\n",
    "        if hamv in ham_pb_viruspr_dic:\n",
    "            ham_v_p.extend(ham_pb_viruspr_dic[hamv])\n",
    "    keep = [s in ham_v_p for s in chos_v_p]\n",
    "    if True in keep:\n",
    "        rm_chos_virus_sites.append(k)\n",
    "print 'there are',pac_virus_pep_inter_df['head'].unique().shape[0],'chos virus sites in total'\n",
    "print 'among them,',len(rm_chos_virus_sites),'are filtered by hamster pacbio reads'"
   ]
  },
  {
   "cell_type": "code",
   "execution_count": 70,
   "metadata": {},
   "outputs": [
    {
     "name": "stdout",
     "output_type": "stream",
     "text": [
      "there are 31 sites needs to be further studied\n"
     ]
    }
   ],
   "source": [
    "keep_pac_virus_pep_inter_df = pac_virus_pep_inter_df.query('head not in @rm_chos_virus_sites')\n",
    "keep_pac_virus_pep_inter_df = keep_pac_virus_pep_inter_df.reset_index(drop=True)\n",
    "keep_chos_virus_sites = keep_pac_virus_pep_inter_df['head'].unique().tolist()\n",
    "print 'there are',len(keep_chos_virus_sites),'sites needs to be further studied'"
   ]
  },
  {
   "cell_type": "markdown",
   "metadata": {},
   "source": [
    "##### 8. after filtering CHOS virus sites, then we map them to picr to see if they map to new sites\n",
    "for chos pacbio virus sites with peptides, remove those map to hamster pacbio reads, then remove those map to picr. the reason we filter both, is that the hamster pacbio read may have some additional sequence that are not included in the picr genome."
   ]
  },
  {
   "cell_type": "code",
   "execution_count": 71,
   "metadata": {},
   "outputs": [
    {
     "name": "stdout",
     "output_type": "stream",
     "text": [
      "After blasting CHOS pacbio virus sites which have peptide supports to picr, 709 virus sites are detected,but keep in mind they overlap with each other\n",
      "there are 0 chos virus sites that do not map to picr\n"
     ]
    }
   ],
   "source": [
    "# get overlap between CHOS pacbio virus sites in picr and hamster virus sites with peptides support\n",
    "chos_pb_virus_sites2picr_df = pd.read_csv(chos_pb_virus_sites2picr_fn,sep='\\t',header=None,names=['qacc',\n",
    "        'sacc','pident','length','mismatch','gapopen','qstart','qend','sstart','send',\n",
    "        'evalue', 'bitscore', 'qlen','slen'])\n",
    "chos_pb_virus_sites2picr_df = chos_pb_virus_sites2picr_df.query('qacc in @keep_chos_virus_sites')\n",
    "chos_pb_virus_sites2picr_df = add_strand_pst2blast(chos_pb_virus_sites2picr_df)\n",
    "chos_pb_virus_sites2picr_df = chos_pb_virus_sites2picr_df.query('qlen_per>0.8')\n",
    "chos_pb_virus_sites2picr_df = chos_pb_virus_sites2picr_df.reset_index(drop=True)\n",
    "chos_pb_virus_sites2picr_df['head'] = chos_pb_virus_sites2picr_df.apply(lambda \n",
    "                        x:':'.join([x['sacc'],str(x['start']),str(x['end'])]),axis=1)\n",
    "chos_pb_virus_sites2picr_bed = BedTool.from_dataframe(chos_pb_virus_sites2picr_df[['sacc',\n",
    "                                        'start','end']].drop_duplicates())\n",
    "ham_virus_sites_bed = BedTool.from_dataframe(high_virus2picr_df[['sacc','start','end']].drop_duplicates())\n",
    "# ham_virus_sites_bed = BedTool.from_dataframe(event_virus_inter_df[['chr_virus','s_virus','e_virus']].drop_duplicates())\n",
    "chos_pb_virus_ham_df = chos_pb_virus_sites2picr_bed.intersect(ham_virus_sites_bed,wao=True).to_dataframe(names=[\n",
    "    'pb_chr','p_s','p_e','chr','start','end','len'])\n",
    "chos_pb_virus_ham_df['p_per'] = chos_pb_virus_ham_df['len']/(chos_pb_virus_ham_df['p_e']-chos_pb_virus_ham_df['p_s'])\n",
    "chos_pb_virus_ham_df['per'] = chos_pb_virus_ham_df['len']/(chos_pb_virus_ham_df['end']-chos_pb_virus_ham_df['start'])\n",
    "chos_pb_virus_ham_df['head']=chos_pb_virus_ham_df.apply(lambda x:':'.join([x['pb_chr'],str(x['p_s']),str(x['p_e'])]),axis=1)\n",
    "chos_only_virus_sites = set(keep_chos_virus_sites)-set(chos_pb_virus_sites2picr_df['qacc'].unique().tolist())\n",
    "print 'After blasting CHOS pacbio virus sites which have peptide supports to picr,',\\\n",
    "    chos_pb_virus_sites2picr_df[['sacc','start','end']].drop_duplicates().shape[0],\\\n",
    "    'virus sites are detected,but keep in mind they overlap with each other'\n",
    "print 'there are',len(keep_chos_virus_sites)-chos_pb_virus_sites2picr_df['qacc'].unique().shape[0],\\\n",
    "    'chos virus sites that do not map to picr'"
   ]
  },
  {
   "cell_type": "code",
   "execution_count": 72,
   "metadata": {},
   "outputs": [
    {
     "data": {
      "text/html": [
       "<div>\n",
       "<style>\n",
       "    .dataframe thead tr:only-child th {\n",
       "        text-align: right;\n",
       "    }\n",
       "\n",
       "    .dataframe thead th {\n",
       "        text-align: left;\n",
       "    }\n",
       "\n",
       "    .dataframe tbody tr th {\n",
       "        vertical-align: top;\n",
       "    }\n",
       "</style>\n",
       "<table border=\"1\" class=\"dataframe\">\n",
       "  <thead>\n",
       "    <tr style=\"text-align: right;\">\n",
       "      <th></th>\n",
       "      <th>qacc</th>\n",
       "      <th>sacc</th>\n",
       "      <th>pident</th>\n",
       "      <th>length</th>\n",
       "      <th>mismatch</th>\n",
       "      <th>gapopen</th>\n",
       "      <th>qstart</th>\n",
       "      <th>qend</th>\n",
       "      <th>sstart</th>\n",
       "      <th>send</th>\n",
       "      <th>evalue</th>\n",
       "      <th>bitscore</th>\n",
       "      <th>qlen</th>\n",
       "      <th>slen</th>\n",
       "      <th>qlen_per</th>\n",
       "      <th>start</th>\n",
       "      <th>end</th>\n",
       "      <th>strand</th>\n",
       "      <th>head</th>\n",
       "    </tr>\n",
       "  </thead>\n",
       "  <tbody>\n",
       "    <tr>\n",
       "      <th>0</th>\n",
       "      <td>m151219_095815_42149_c100932032550000001823209...</td>\n",
       "      <td>picr_63</td>\n",
       "      <td>98.428</td>\n",
       "      <td>318</td>\n",
       "      <td>5</td>\n",
       "      <td>0</td>\n",
       "      <td>0</td>\n",
       "      <td>318</td>\n",
       "      <td>3341254</td>\n",
       "      <td>3341571</td>\n",
       "      <td>1.150000e-157</td>\n",
       "      <td>560.0</td>\n",
       "      <td>318</td>\n",
       "      <td>12151076</td>\n",
       "      <td>1.0</td>\n",
       "      <td>3341253</td>\n",
       "      <td>3341571</td>\n",
       "      <td>+</td>\n",
       "      <td>picr_63:3341253:3341571</td>\n",
       "    </tr>\n",
       "    <tr>\n",
       "      <th>1</th>\n",
       "      <td>m151219_095815_42149_c100932032550000001823209...</td>\n",
       "      <td>picr_126</td>\n",
       "      <td>98.113</td>\n",
       "      <td>318</td>\n",
       "      <td>6</td>\n",
       "      <td>0</td>\n",
       "      <td>0</td>\n",
       "      <td>318</td>\n",
       "      <td>1521722</td>\n",
       "      <td>1522039</td>\n",
       "      <td>5.360000e-156</td>\n",
       "      <td>555.0</td>\n",
       "      <td>318</td>\n",
       "      <td>3919131</td>\n",
       "      <td>1.0</td>\n",
       "      <td>1521721</td>\n",
       "      <td>1522039</td>\n",
       "      <td>+</td>\n",
       "      <td>picr_126:1521721:1522039</td>\n",
       "    </tr>\n",
       "    <tr>\n",
       "      <th>2</th>\n",
       "      <td>m151219_095815_42149_c100932032550000001823209...</td>\n",
       "      <td>picr_71</td>\n",
       "      <td>98.113</td>\n",
       "      <td>318</td>\n",
       "      <td>6</td>\n",
       "      <td>0</td>\n",
       "      <td>0</td>\n",
       "      <td>318</td>\n",
       "      <td>10705365</td>\n",
       "      <td>10705048</td>\n",
       "      <td>5.360000e-156</td>\n",
       "      <td>555.0</td>\n",
       "      <td>318</td>\n",
       "      <td>11002660</td>\n",
       "      <td>1.0</td>\n",
       "      <td>10705047</td>\n",
       "      <td>10705365</td>\n",
       "      <td>-</td>\n",
       "      <td>picr_71:10705047:10705365</td>\n",
       "    </tr>\n",
       "    <tr>\n",
       "      <th>3</th>\n",
       "      <td>m151219_095815_42149_c100932032550000001823209...</td>\n",
       "      <td>picr_51</td>\n",
       "      <td>98.113</td>\n",
       "      <td>318</td>\n",
       "      <td>6</td>\n",
       "      <td>0</td>\n",
       "      <td>0</td>\n",
       "      <td>318</td>\n",
       "      <td>11474926</td>\n",
       "      <td>11474609</td>\n",
       "      <td>5.360000e-156</td>\n",
       "      <td>555.0</td>\n",
       "      <td>318</td>\n",
       "      <td>14304651</td>\n",
       "      <td>1.0</td>\n",
       "      <td>11474608</td>\n",
       "      <td>11474926</td>\n",
       "      <td>-</td>\n",
       "      <td>picr_51:11474608:11474926</td>\n",
       "    </tr>\n",
       "    <tr>\n",
       "      <th>4</th>\n",
       "      <td>m151219_095815_42149_c100932032550000001823209...</td>\n",
       "      <td>picr_38</td>\n",
       "      <td>98.113</td>\n",
       "      <td>318</td>\n",
       "      <td>6</td>\n",
       "      <td>0</td>\n",
       "      <td>0</td>\n",
       "      <td>318</td>\n",
       "      <td>6921141</td>\n",
       "      <td>6921458</td>\n",
       "      <td>5.360000e-156</td>\n",
       "      <td>555.0</td>\n",
       "      <td>318</td>\n",
       "      <td>18231711</td>\n",
       "      <td>1.0</td>\n",
       "      <td>6921140</td>\n",
       "      <td>6921458</td>\n",
       "      <td>+</td>\n",
       "      <td>picr_38:6921140:6921458</td>\n",
       "    </tr>\n",
       "  </tbody>\n",
       "</table>\n",
       "</div>"
      ],
      "text/plain": [
       "                                                qacc      sacc  pident  \\\n",
       "0  m151219_095815_42149_c100932032550000001823209...   picr_63  98.428   \n",
       "1  m151219_095815_42149_c100932032550000001823209...  picr_126  98.113   \n",
       "2  m151219_095815_42149_c100932032550000001823209...   picr_71  98.113   \n",
       "3  m151219_095815_42149_c100932032550000001823209...   picr_51  98.113   \n",
       "4  m151219_095815_42149_c100932032550000001823209...   picr_38  98.113   \n",
       "\n",
       "   length  mismatch  gapopen  qstart  qend    sstart      send         evalue  \\\n",
       "0     318         5        0       0   318   3341254   3341571  1.150000e-157   \n",
       "1     318         6        0       0   318   1521722   1522039  5.360000e-156   \n",
       "2     318         6        0       0   318  10705365  10705048  5.360000e-156   \n",
       "3     318         6        0       0   318  11474926  11474609  5.360000e-156   \n",
       "4     318         6        0       0   318   6921141   6921458  5.360000e-156   \n",
       "\n",
       "   bitscore  qlen      slen  qlen_per     start       end strand  \\\n",
       "0     560.0   318  12151076       1.0   3341253   3341571      +   \n",
       "1     555.0   318   3919131       1.0   1521721   1522039      +   \n",
       "2     555.0   318  11002660       1.0  10705047  10705365      -   \n",
       "3     555.0   318  14304651       1.0  11474608  11474926      -   \n",
       "4     555.0   318  18231711       1.0   6921140   6921458      +   \n",
       "\n",
       "                        head  \n",
       "0    picr_63:3341253:3341571  \n",
       "1   picr_126:1521721:1522039  \n",
       "2  picr_71:10705047:10705365  \n",
       "3  picr_51:11474608:11474926  \n",
       "4    picr_38:6921140:6921458  "
      ]
     },
     "execution_count": 72,
     "metadata": {},
     "output_type": "execute_result"
    }
   ],
   "source": [
    "chos_pb_virus_sites2picr_df.head()"
   ]
  },
  {
   "cell_type": "code",
   "execution_count": 73,
   "metadata": {},
   "outputs": [
    {
     "data": {
      "text/html": [
       "<div>\n",
       "<style>\n",
       "    .dataframe thead tr:only-child th {\n",
       "        text-align: right;\n",
       "    }\n",
       "\n",
       "    .dataframe thead th {\n",
       "        text-align: left;\n",
       "    }\n",
       "\n",
       "    .dataframe tbody tr th {\n",
       "        vertical-align: top;\n",
       "    }\n",
       "</style>\n",
       "<table border=\"1\" class=\"dataframe\">\n",
       "  <thead>\n",
       "    <tr style=\"text-align: right;\">\n",
       "      <th></th>\n",
       "      <th>chr</th>\n",
       "      <th>v_s</th>\n",
       "      <th>v_e</th>\n",
       "      <th>virus</th>\n",
       "      <th>virus_evalue</th>\n",
       "      <th>v_str</th>\n",
       "      <th>v_pident</th>\n",
       "      <th>v_slen</th>\n",
       "      <th>pac_chr</th>\n",
       "      <th>p_s</th>\n",
       "      <th>p_e</th>\n",
       "      <th>p_id</th>\n",
       "      <th>p_value</th>\n",
       "      <th>p_str</th>\n",
       "      <th>p_ident</th>\n",
       "      <th>length</th>\n",
       "      <th>head</th>\n",
       "    </tr>\n",
       "  </thead>\n",
       "  <tbody>\n",
       "  </tbody>\n",
       "</table>\n",
       "</div>"
      ],
      "text/plain": [
       "Empty DataFrame\n",
       "Columns: [chr, v_s, v_e, virus, virus_evalue, v_str, v_pident, v_slen, pac_chr, p_s, p_e, p_id, p_value, p_str, p_ident, length, head]\n",
       "Index: []"
      ]
     },
     "execution_count": 73,
     "metadata": {},
     "output_type": "execute_result"
    }
   ],
   "source": [
    "pac_virus_pep_inter_df.query('head in @chos_only_virus_sites')"
   ]
  },
  {
   "cell_type": "code",
   "execution_count": 74,
   "metadata": {},
   "outputs": [],
   "source": [
    "# build {virus sites in picr: virus sites in CHOS pacbio}\n",
    "picr_chos_pb_virus_sites_dic = {k:list(v) for k,v in chos_pb_virus_sites2picr_df[['head','qacc']]\\\n",
    "                                .drop_duplicates().groupby('head')['qacc']}"
   ]
  },
  {
   "cell_type": "markdown",
   "metadata": {},
   "source": [
    "The reason why virus sites supported by CHOS pacbio reads is more than the hamster virus sites is because the CHOS pacbio reads overlap with each other and map to regions that are overlapped."
   ]
  },
  {
   "cell_type": "code",
   "execution_count": 75,
   "metadata": {},
   "outputs": [
    {
     "name": "stdout",
     "output_type": "stream",
     "text": [
      "there are 330 picr sites with CHOS pacbio mappped but do not have overlapping virus sites\n",
      "there are 379 picr sites with CHOS pacbio mapped and have overlapping virus sites,among them, we need to check 89 sites with low overlap\n"
     ]
    }
   ],
   "source": [
    "# split CHOS pacbio reads mapping results to picr to two categories, 1. overlap wiht virus sites in viruspr2picr\n",
    "# 2. don't overlap with virus sites\n",
    "# chos_pb_virus_ham_df is chos_pb_virus2picr overlap with high quality virus sites 2 picr.\n",
    "new_chos_pb_virus_df = chos_pb_virus_ham_df.query('per != per') # map to novel sites \n",
    "picr_chos_pb_virus_df = chos_pb_virus_ham_df.query('per == per')\n",
    "picr_chos_pb_virus_df = picr_chos_pb_virus_df.reset_index(drop=True) # chos pacbio virus sites overlap with hamster virus sites\n",
    "known_picr_chos_pb_virus_sites = picr_chos_pb_virus_df.query('p_per > 0.4')['head'].tolist()\n",
    "new_picr_chos_pb_virus_sites = picr_chos_pb_virus_df.query('p_per < 0.4')['head'].tolist()\n",
    "new_picr_chos_pb_virus_sites = list(set(new_picr_chos_pb_virus_sites)-set(known_picr_chos_pb_virus_sites))\n",
    "new_picr_chos_pb_virus_df = picr_chos_pb_virus_df.query('head in @new_picr_chos_pb_virus_sites')\n",
    "new_picr_chos_pb_virus_df = new_picr_chos_pb_virus_df.reset_index(drop=True)\n",
    "print 'there are',new_chos_pb_virus_df[['pb_chr','p_s','p_e']].drop_duplicates().shape[0],\\\n",
    "        'picr sites with CHOS pacbio mappped but do not have overlapping virus sites'\n",
    "print 'there are',picr_chos_pb_virus_df[['pb_chr','p_s','p_e']].drop_duplicates().shape[0],\\\n",
    "        'picr sites with CHOS pacbio mapped and have overlapping virus sites,among them, we need to',\\\n",
    "        'check',len(new_picr_chos_pb_virus_sites),'sites with low overlap'"
   ]
  },
  {
   "cell_type": "code",
   "execution_count": 76,
   "metadata": {},
   "outputs": [],
   "source": [
    "def get_virus_pep(chos_pb_read,chos_pb_viruspr_dic):\n",
    "    ''''''\n",
    "    reads = chos_pb_read.split(';')\n",
    "    virus = []\n",
    "    pep = []\n",
    "    for read in reads:\n",
    "        virus_pep = chos_pb_viruspr_dic[read]\n",
    "        virus.extend([v[0] for v in virus_pep])\n",
    "        pep.extend([str(v[1]) for v in virus_pep])\n",
    "    return [','.join(list(set(virus))),','.join(list(set(pep)))]"
   ]
  },
  {
   "cell_type": "code",
   "execution_count": 77,
   "metadata": {},
   "outputs": [],
   "source": [
    "# merge the two categories of new virus sites in 2 cells above\n",
    "merge_new_sites_df = new_chos_pb_virus_df[['pb_chr','p_s','p_e','head']].append(\n",
    "        new_picr_chos_pb_virus_df[['pb_chr','p_s','p_e','head']])\n",
    "merge_new_sites_df = merge_new_sites_df.sort_values(['pb_chr','p_s'])\n",
    "merge_new_sites_df['chos_pb_read'] = merge_new_sites_df['head'].map(lambda x: ';'.join(picr_chos_pb_virus_sites_dic[x]))\n",
    "merge_new_sites_df[['virus','peptide']] = merge_new_sites_df.apply(lambda x:pd.Series(get_virus_pep(x['chos_pb_read'],chos_pb_viruspr_dic)),axis=1)"
   ]
  },
  {
   "cell_type": "markdown",
   "metadata": {},
   "source": [
    "##### 9. After getting novel virus sites in picr, we check if there is any new virus protein or peptides mapping to picr"
   ]
  },
  {
   "cell_type": "code",
   "execution_count": 78,
   "metadata": {},
   "outputs": [],
   "source": [
    "def overlap_interval(df):\n",
    "    '''this function overlay overlapped region and get unique unoverlapped regions'''\n",
    "    intervals = {}\n",
    "    for idx,row in df.iterrows():\n",
    "        chrom = row['pb_chr']\n",
    "        start = row['p_s']\n",
    "        end   = row['p_e']\n",
    "        virus = row['virus'].split(',')\n",
    "        pep   = row['peptide'].split(',')\n",
    "        if chrom not in intervals:\n",
    "            intervals[chrom] = [[[start,end],virus,pep]]\n",
    "        else:\n",
    "            pre = intervals[chrom][-1][0]\n",
    "            if range(start,pre[-1]) == []:\n",
    "                intervals[chrom].append([[start,end],virus,pep])\n",
    "            else:\n",
    "                intervals[chrom][-1][0] = [min(pre[0],start),max(pre[1],end)]\n",
    "                intervals[chrom][-1][1] = list(set(intervals[chrom][-1][1] + virus))\n",
    "                intervals[chrom][-1][2] = list(set(intervals[chrom][-1][2] + pep))\n",
    "    return intervals\n",
    "\n",
    "intervals = overlap_interval(merge_new_sites_df) # inerval of new virus sites in picr"
   ]
  },
  {
   "cell_type": "code",
   "execution_count": 79,
   "metadata": {},
   "outputs": [],
   "source": [
    "# output final new sites (merged sites) to file, which means filter the sites that identified in previous steps\n",
    "event_uniq_pep_idx = SeqIO.index(event_uniq_pep_fn,'fasta')\n",
    "final_new_sites_fn = path + '/18_final_new_virus_sites_from_CHOS_pacbio_map.txt'\n",
    "with open(final_new_sites_fn,'w') as out:\n",
    "    for k,v in intervals.iteritems():\n",
    "        for inter in v:\n",
    "            region = '\\t'.join([str(i) for i in inter[0]])\n",
    "            virus = ','.join(inter[1])\n",
    "            pep = [str(event_uniq_pep_idx[p].seq) for p in inter[2]]\n",
    "            pep = ','.join(pep)\n",
    "            out.write('\\t'.join([k,region,virus,pep])+'\\n')\n",
    "final_new_sites_df = pd.read_csv(final_new_sites_fn,sep='\\t',header=None,names=['chr','start','end','virus','peptides'])\n",
    "final_new_sites_df['head'] = final_new_sites_df.apply(lambda x:':'.join([x['chr'],\n",
    "                                                str(x['start']),str(x['end'])]),axis=1)\n",
    "# overlap with ltr\n",
    "final_new_sites_bed = BedTool.from_dataframe(final_new_sites_df)\n",
    "final_new_sites_ltr_df = final_new_sites_bed.intersect(ltr_bed,wo=True).to_dataframe(\n",
    "               names=['chr','start','end','virus','peptides','head','ltr_chr','ltr_s','ltr_e','len'])\n",
    "final_new_sites_ltr_df['head'] = final_new_sites_ltr_df.apply(lambda x:':'.join([x['chr'],\n",
    "                                                str(x['start']),str(x['end'])]),axis=1)"
   ]
  },
  {
   "cell_type": "code",
   "execution_count": 80,
   "metadata": {},
   "outputs": [],
   "source": [
    "# get virus and peptides in final_new_sites_bed\n",
    "def get_final_new_virus_peptides(final_new_sites_df):\n",
    "    virus = []\n",
    "    pep = []\n",
    "    for l in final_new_sites_df['virus'].tolist():\n",
    "        virus.extend(l.split(','))\n",
    "    for l in final_new_sites_df['peptides'].tolist():\n",
    "        pep.extend(l.split(','))\n",
    "    new_sites_virus = list(set(virus))\n",
    "    new_sites_pep = list(set(pep))\n",
    "    return new_sites_virus,new_sites_pep\n",
    "new_sites_virus,new_sites_pep = get_final_new_virus_peptides(final_new_sites_df)"
   ]
  },
  {
   "cell_type": "code",
   "execution_count": 81,
   "metadata": {},
   "outputs": [
    {
     "name": "stdout",
     "output_type": "stream",
     "text": [
      "results for new virus sites\n",
      "there are 55 new sites have peptides support\n",
      "among them 8 new sites locate between ltr\n"
     ]
    }
   ],
   "source": [
    "print 'results for new virus sites'\n",
    "print 'there are',final_new_sites_df[['chr','start','end']].drop_duplicates().shape[0],'new sites have peptides support'\n",
    "print 'among them',final_new_sites_ltr_df[['chr','start','end']].drop_duplicates().shape[0],'new sites locate between ltr'"
   ]
  },
  {
   "cell_type": "markdown",
   "metadata": {},
   "source": [
    "##### 10. compare new CHOS virus peptides with picr mapped ones, see if there is new virus or peptides"
   ]
  },
  {
   "cell_type": "code",
   "execution_count": 82,
   "metadata": {},
   "outputs": [
    {
     "name": "stdout",
     "output_type": "stream",
     "text": [
      "overlap proteins between CHOS pacbio and picr are: ['NP_955526.1', 'NP_955576.1', 'NP_955583.1', 'NP_955572.1', 'NP_955593.1']\n",
      "CHOS pacbio unique virus proteins are: ['NP_041217.1', 'YP_009109690.1']\n",
      "CHOS pacbio unique peptides are []\n"
     ]
    }
   ],
   "source": [
    "event_virus_inter_virus = event_virus_inter_df['virus'].unique().tolist()\n",
    "event_virus_inter_pep = event_virus_inter_df['pep'].unique().tolist()\n",
    "print 'overlap proteins between CHOS pacbio and picr are:',list(set(new_sites_virus).intersection(event_virus_inter_virus))\n",
    "\n",
    "# new peptides identified using CHOS pacbio reads\n",
    "print 'CHOS pacbio unique virus proteins are:',list(set(new_sites_virus)-set(event_virus_inter_virus))\n",
    "print 'CHOS pacbio unique peptides are',list(set(new_sites_pep)-set(event_virus_inter_pep))"
   ]
  },
  {
   "cell_type": "markdown",
   "metadata": {},
   "source": [
    "Get nt sequence of CHOS new virus sites"
   ]
  },
  {
   "cell_type": "code",
   "execution_count": 83,
   "metadata": {},
   "outputs": [],
   "source": [
    "def get_chos_new_virus_nt(final_new_sites_df,ref_index,out_fn):\n",
    "    with open(out_fn,'w') as out:\n",
    "        for idx,row in final_new_sites_df.iterrows():\n",
    "            chrom = row['chr']\n",
    "            start = row['start']\n",
    "            end   = row['end']\n",
    "            head = ':'.join([chrom,str(start),str(end)])\n",
    "            out.write('>'+head+'\\n')\n",
    "            out.write(str(ref_index[chrom].seq[start:end])+'\\n')\n",
    "\n",
    "chos_new_virus_sites_fn = path + '/19_chos_new_virus_sites_in_picr.fa'\n",
    "if not os.path.exists(chos_new_virus_sites_fn):\n",
    "    ref_index = SeqIO.index(ham_fa,'fasta')\n",
    "    get_chos_new_virus_nt(final_new_sites_df,ref_index,chos_new_virus_sites_fn)\n",
    "\n",
    "# chos_new_virus_sites = final_new_sites_df['head'].unique().tolist()\n",
    "# chos_new_virus_ltr_sites = final_new_sites_ltr_df['head'].unique().tolist()"
   ]
  },
  {
   "cell_type": "markdown",
   "metadata": {},
   "source": [
    "### check the retroviral coverage by peptides\n",
    "1. plot the # of peptides vs. % coding region coverage, we can rank-order the genes by how likely they're translated\n",
    "2. remove the peptides that support the top viral gene. \n",
    "3. Check to see how many viral genes still are supported by 2 or more peptides\n",
    "4. repeat until you've gone through the list of all possible viral genes\n",
    "5. Plot the number of genes removed vs. the number of viral peptides remaining."
   ]
  },
  {
   "cell_type": "code",
   "execution_count": 84,
   "metadata": {},
   "outputs": [],
   "source": [
    "def modify_geneid(geneid):\n",
    "    '''this function modifies geneid, change genes back to cluster\n",
    "    eg: if gene id is gene_1_1, then change back to gene_1, the second _1\n",
    "    is added in draft genome annotation step which split the genes overlapped and have different gene names\n",
    "    '''\n",
    "    ids = geneid.split('_')\n",
    "    return '_'.join(ids[:2])"
   ]
  },
  {
   "cell_type": "code",
   "execution_count": 85,
   "metadata": {},
   "outputs": [],
   "source": [
    "# prepare dictionaries to add geneid, gename, confidence score\n",
    "rna_gff_df['new_geneid'] = rna_gff_df['geneid'].map(lambda x: modify_geneid(x))\n",
    "rna_geneid_dic = rna_gff_df.set_index('rnaid')['geneid'].to_dict()\n",
    "rna_gename_dic = rna_gff_df.set_index('rnaid')['gename'].to_dict()\n",
    "rna_cs_dic = rna_gff_df.set_index('rnaid')['rna_cs'].to_dict()"
   ]
  },
  {
   "cell_type": "code",
   "execution_count": 86,
   "metadata": {},
   "outputs": [],
   "source": [
    "# get anno retrovirus that have peptides support\n",
    "known_pep_df = pd.read_csv(cho_known_pep_pos_fn,sep='\\t',header=0)\n",
    "known_pep_df['geneid'] = known_pep_df['rna'].map(lambda x: rna_geneid_dic[x])\n",
    "known_pep_df['gename'] = known_pep_df['rna'].map(lambda x: rna_gename_dic[x])\n",
    "known_pep_df['rna_cs'] = known_pep_df['rna'].map(lambda x: rna_cs_dic[x])\n",
    "known_pep_df['new_geneid'] = known_pep_df['geneid'].map(lambda x: modify_geneid(x))\n",
    "# add peptide locis\n",
    "known_pep_loci_dic = known_pep_df[['pep','new_geneid']].drop_duplicates().groupby('pep').count().to_dict()['new_geneid']\n",
    "known_pep_df['pep_locis'] = known_pep_df['pep'].map(lambda x: known_pep_loci_dic[x])"
   ]
  },
  {
   "cell_type": "code",
   "execution_count": 87,
   "metadata": {},
   "outputs": [],
   "source": [
    "# count peptide for each rna\n",
    "known_rna_pep_dic = {k:list(v) for k,v in known_pep_df.groupby('rna')['pep']}\n",
    "known_retro_viral_df = known_pep_df.query('rna in @anno_viral_rnas_with_pep')\n",
    "known_retro_viral_df = known_retro_viral_df.reset_index(drop=True)"
   ]
  },
  {
   "cell_type": "code",
   "execution_count": 88,
   "metadata": {},
   "outputs": [],
   "source": [
    "# # add more columns to known peptides for annotated retrovirus\n",
    "# known_retro_viral_df['geneid'] = known_retro_viral_df['rna'].map(lambda x: rna_geneid_dic[x])\n",
    "# known_retro_viral_df['gename'] = known_retro_viral_df['rna'].map(lambda x: rna_gename_dic[x])\n",
    "# known_retro_viral_df['rna_cs'] = known_retro_viral_df['rna'].map(lambda x: rna_cs_dic[x])\n",
    "# known_retro_viral_df['new_geneid'] = known_retro_viral_df['geneid'].map(lambda x: modify_geneid(x))"
   ]
  },
  {
   "cell_type": "code",
   "execution_count": 89,
   "metadata": {},
   "outputs": [],
   "source": [
    "def get_rna_pr_len_dic(rna_fa):\n",
    "    # build {rnaid : pr length}\n",
    "    cds_len_dic = {}\n",
    "    for record in SeqIO.parse(rna_fa,'fasta'):\n",
    "        head = record.description\n",
    "        if 'CDS=' in head:\n",
    "            idx = head.index('CDS=')\n",
    "            pos = head[idx+4:].split('-')\n",
    "            pos = [int(p) for p in pos]\n",
    "            cds_len_dic[record.id] = (pos[1] - pos[0])/3\n",
    "    return cds_len_dic\n",
    "\n",
    "rna_fa = pasa_path + '/03_pasa_stringtie_rna.fa'\n",
    "cds_len_dic = get_rna_pr_len_dic(rna_fa)"
   ]
  },
  {
   "cell_type": "code",
   "execution_count": 90,
   "metadata": {},
   "outputs": [],
   "source": [
    "def get_rna_cov_pep(known_retro_viral_df):\n",
    "    '''this function gets length of aa that are covered \n",
    "    by peptide from proteomics\n",
    "    * known_retro_virl_df: columns with ['rna', 'pep', 'loci', 'spec_num', 'gename', 'geneid']\n",
    "    return a dictionary {rnaid : number of peptide identified by peptides}\n",
    "    '''\n",
    "    # get {rna : [[s1,e1],[s2,e2]]}\n",
    "    rna_pep_len_dic = {}\n",
    "    for idx,row in known_retro_viral_df.iterrows():\n",
    "        key = row['rna']\n",
    "        p_len = len(row['pep'])\n",
    "        end = row['pos'] + p_len\n",
    "        if key not in rna_pep_len_dic:\n",
    "            rna_pep_len_dic[key] = [[row['pos'],end]]\n",
    "        else:\n",
    "            rna_pep_len_dic[key].append([row['pos'],end])\n",
    "\n",
    "    # merge the intervals\n",
    "    for k,v in rna_pep_len_dic.iteritems():\n",
    "        v = sorted(v, key = lambda x: x[0])\n",
    "        new = [v[0]]\n",
    "        for i in range(1,len(v)):\n",
    "            pst = v[i]\n",
    "            pre = v[i-1]\n",
    "            if pre[1] > pst[0]:\n",
    "                new[-1] = [min(pre[0],pst[0]),max(pre[1],pst[1])]\n",
    "            else:\n",
    "                new.append(pst)\n",
    "        length = sum([l[1]-l[0] for l in new])\n",
    "        rna_pep_len_dic[k] = length\n",
    "    return rna_pep_len_dic\n",
    "\n",
    "# for each annotated retrovirus, get number of peptides\n",
    "rna_pep_len_dic = get_rna_cov_pep(known_retro_viral_df)"
   ]
  },
  {
   "cell_type": "code",
   "execution_count": 91,
   "metadata": {},
   "outputs": [],
   "source": [
    "def get_pr_cov(known_retro_viral_df):\n",
    "    '''this function gets the percentage of coverage and add it in another column\n",
    "    return df with columns:['rna', 'pep_num', 'idx', 'pr_len', 'geneid', \n",
    "                                'gename', 'cov', 'cov_per', 'new_geneid']\n",
    "    '''\n",
    "    # get {rna:[pep]} and {pep: locis}\n",
    "    rna_pep_dic = {k:list(set(v)) for k,v in known_retro_viral_df.groupby('rna')['pep']}\n",
    "    pep_loc_dic = known_retro_viral_df.set_index('pep')['pep_locis'].to_dict()\n",
    "    # 1. analyze retrovirus in draft annotation \n",
    "    retro_rna_pep_count_df = known_retro_viral_df['rna'].value_counts().reset_index()\n",
    "    retro_rna_pep_count_df.columns = ['rna','pep_num']\n",
    "    retro_rna_pep_count_df['idx'] = retro_rna_pep_count_df.index\n",
    "    retro_rna_pep_count_df['pr_len'] = retro_rna_pep_count_df['rna'].map(lambda x: cds_len_dic[x])\n",
    "    retro_rna_pep_count_df['geneid'] = retro_rna_pep_count_df['rna'].map(lambda x: rna_geneid_dic[x])\n",
    "    retro_rna_pep_count_df['gename'] = retro_rna_pep_count_df['rna'].map(lambda x: rna_gename_dic[x])\n",
    "    retro_rna_pep_count_df['cov'] = retro_rna_pep_count_df['rna'].map(lambda x: rna_pep_len_dic[x])\n",
    "    retro_rna_pep_count_df['cov_per'] = retro_rna_pep_count_df['cov']/retro_rna_pep_count_df['pr_len']\n",
    "    retro_rna_pep_count_df['peps'] = retro_rna_pep_count_df['rna'].map(lambda x: ','.join(rna_pep_dic[x]))\n",
    "    retro_rna_pep_count_df['locis'] = retro_rna_pep_count_df['rna'].map(lambda x: ','.join([str(pep_loc_dic[p]) for p in rna_pep_dic[x]]))\n",
    "    return retro_rna_pep_count_df\n",
    "\n",
    "retro_rna_pep_count_df = get_pr_cov(known_retro_viral_df)\n",
    "retro_rna_pep_count_df['new_geneid'] = retro_rna_pep_count_df['geneid'].map(lambda x: modify_geneid(x))\n",
    "retro_rna_pep_count_df['rna_cs'] = retro_rna_pep_count_df['rna'].map(lambda x: rna_cs_dic[x])"
   ]
  },
  {
   "cell_type": "code",
   "execution_count": 92,
   "metadata": {},
   "outputs": [],
   "source": [
    "# get protein coverage at the gene level\n",
    "def f(df):\n",
    "    dic = {}\n",
    "    len_max = df['pr_len'].max()\n",
    "    inter_df = df.query('pr_len == @len_max')\n",
    "    cov = inter_df['cov_per'].iloc[0]\n",
    "    pr_len = inter_df['pr_len'].iloc[0]\n",
    "    dic['pr_len'] = len_max\n",
    "    dic['pep_num'] = df['pep_num'].max()\n",
    "    dic['idx'] = df['idx'].min()\n",
    "    dic['cov_per'] = cov # df['cov_per'].max()\n",
    "    dic['gename'] = df['gename'].tolist()[0]\n",
    "    dic['pr_len'] = pr_len # df['pr_len'].max()\n",
    "    dic['rna_cs'] = inter_df['rna_cs'].iloc[0]\n",
    "    dic['rna'] = inter_df['rna'].iloc[0]\n",
    "    dic['peps'] = inter_df['peps'].iloc[0]\n",
    "    dic['locis'] = inter_df['locis'].iloc[0]\n",
    "    return pd.Series(dic)\n",
    "\n",
    "retro_rna_pep_df = retro_rna_pep_count_df.groupby('new_geneid').apply(f)\n",
    "retro_rna_pep_df.reset_index(inplace=True)\n",
    "retro_rna_pep_df = retro_rna_pep_df.sort_values('idx')\n",
    "retro_rna_pep_df = retro_rna_pep_df.reset_index(drop=True)\n",
    "retro_rna_pep_df['x'] = retro_rna_pep_df.index\n",
    "del retro_rna_pep_df['idx']\n",
    "retro_rna_pep_df['type'] = pd.Series(['anno']*retro_rna_pep_df.shape[0])"
   ]
  },
  {
   "cell_type": "code",
   "execution_count": 93,
   "metadata": {},
   "outputs": [],
   "source": [
    "def get_event_virus_pep_cov(event_virus_inter_df):\n",
    "    '''this function gets the coverage of new virus sites by peptides\n",
    "    output dataframe has 4 columns: ['new_geneid','cov_per','gename','pep_num']\n",
    "    '''\n",
    "    event_virus_inter_df['virus_sites'] = event_virus_inter_df.apply(lambda x: ':'.join(\n",
    "                    [x['chr_virus'],str(x['s_virus']),str(x['e_virus'])]),axis=1)\n",
    "    # {picr_38:100:1000 : [[s1, s2],[s1, s2]]}\n",
    "    event_virus_pep_loc_dic = {}\n",
    "    for idx, row in event_virus_inter_df.iterrows():\n",
    "        key = row['virus_sites']\n",
    "        if key not in event_virus_pep_loc_dic:\n",
    "            event_virus_pep_loc_dic[key] =[[row['s_pep'], row['e_pep']]]\n",
    "        else:\n",
    "            event_virus_pep_loc_dic[key].append([row['s_pep'], row['e_pep']])\n",
    "    # sort values and merge the intervals\n",
    "    event_virus_pep_len_dic = {}\n",
    "    for k,v in event_virus_pep_loc_dic.iteritems():\n",
    "        v = sorted(v, key = lambda x: x[0])\n",
    "        new = [v[0]]\n",
    "        for i in range(1,len(v)):\n",
    "            pst = v[i]\n",
    "            pre = v[i-1]\n",
    "            if pre[1] > pst[0]:\n",
    "                new[-1] = [min(pre[0],pst[0]),max(pre[1],pst[1])]\n",
    "            else:\n",
    "                new.append(pst)\n",
    "        length = sum([l[1]-l[0] for l in new])\n",
    "        keys = k.split(':')\n",
    "        retro_len = int(keys[2]) - int(keys[1])\n",
    "        event_virus_pep_loc_dic[k] = length/float(retro_len)\n",
    "        event_virus_pep_len_dic[k] = retro_len/3.0\n",
    "    cov_df = pd.DataFrame(event_virus_pep_loc_dic.items(),columns=['virus_sites','cov'])\n",
    "    len_df = pd.DataFrame(event_virus_pep_len_dic.items(),columns=['virus_sites','pr_len'])\n",
    "    # get num of pep for eac sites\n",
    "    site_pep_num_dic = event_virus_inter_df[['virus_sites','pep']].groupby('virus_sites').count().to_dict()['pep']\n",
    "    site_name_dic    = event_virus_inter_df[['virus_sites','gename']].set_index('virus_sites')['gename'].to_dict()\n",
    "    cov_df['gename'] = cov_df['virus_sites'].map(lambda x: site_name_dic[x])\n",
    "    cov_df['pep_num'] = cov_df['virus_sites'].map(lambda x: site_pep_num_dic[x])\n",
    "    cov_df = pd.merge(cov_df,len_df,on='virus_sites')\n",
    "    cov_df.columns = ['new_geneid','cov_per','gename','pep_num','pr_len']\n",
    "    # add virus\n",
    "    virus_id_name_dic = {k:list(v) for k,v in event_virus_inter_df.groupby('virus_sites')['description']}\n",
    "    cov_df['full_name'] = cov_df['new_geneid'].map(lambda x: ','.join(list(set(virus_id_name_dic[x]))))\n",
    "    virus_str_dic = event_virus_inter_df.set_index('virus_sites')['str_virus'].to_dict()\n",
    "    cov_df['strand'] = cov_df['new_geneid'].map(lambda x: virus_str_dic[x])\n",
    "    # add peps and pep locis\n",
    "    site_pep_dic = {k:list(set(v)) for k,v in event_virus_inter_df.groupby('virus_sites')['pep']}\n",
    "    pep_loci_dic = event_virus_inter_df.set_index('pep')['loc_num'].to_dict()\n",
    "    cov_df['peps'] = cov_df['new_geneid'].map(lambda x: ','.join(site_pep_dic[x]))\n",
    "    cov_df['locis'] = cov_df['new_geneid'].map(lambda x: ','.join([str(pep_loci_dic[p]) for p in site_pep_dic[x]]))\n",
    "    return cov_df.sort_values('pep_num', ascending=False)\n",
    "\n",
    "# build new data frame with columns [geneid, cov_per, gename, pep_num, pr_len, full_name, strand, anno or new, rna_cs, rna]\n",
    "# each line represents one retroviral protein\n",
    "event_virus_inter_df = pd.read_csv(path+'/08_event_virus_inter.txt',sep='\\t',header=0)\n",
    "event_virus_pep_cov_df = get_event_virus_pep_cov(event_virus_inter_df)\n",
    "event_virus_pep_cov_df['type'] = pd.Series(['new']*event_virus_pep_cov_df.shape[0])\n",
    "event_virus_pep_cov_df['pr_len'] = event_virus_pep_cov_df['pr_len'].astype('int')\n",
    "event_virus_pep_cov_df['rna_cs'] = pd.Series([5]*event_virus_pep_cov_df.shape[0])\n",
    "event_virus_pep_cov_df['rna'] = pd.Series(['-']*event_virus_pep_cov_df.shape[0])\n",
    "event_virus_pep_locis_dic = event_virus_inter_df.set_index('pep')['loc_num'].to_dict()"
   ]
  },
  {
   "cell_type": "code",
   "execution_count": 94,
   "metadata": {},
   "outputs": [
    {
     "data": {
      "image/png": "[encoded data removed]",
      "text/plain": [
       "<matplotlib.figure.Figure at 0x7fa12b0673d0>"
      ]
     },
     "metadata": {},
     "output_type": "display_data"
    }
   ],
   "source": [
    "import seaborn as sns\n",
    "pr_pep_cov_df = retro_rna_pep_df[['new_geneid','cov_per','gename','pep_num','pr_len','type','rna_cs','rna','peps','locis']].append(\n",
    "                event_virus_pep_cov_df[['new_geneid','cov_per','gename','pep_num','pr_len','type','rna_cs','rna','peps','locis']])\n",
    "pr_pep_cov_df = pr_pep_cov_df.sort_values('pep_num',ascending=False)\n",
    "pr_pep_cov_df = pr_pep_cov_df.reset_index(drop=True)\n",
    "pr_pep_cov_df['x'] = pd.Series(range(pr_pep_cov_df.shape[0]))\n",
    "pr_pep_cov_df.to_csv(path + '/24_all_vrius_sites_with_peps.txt',sep='\\t',index=False)\n",
    "\n",
    "# rc={'axes.labelsize': 14, 'font.size': 15, 'legend.fontsize': 12, 'axes.titlesize': 18}\n",
    "# sns.set(rc=rc)\n",
    "ax = sns.pairplot(x_vars=['x'],y_vars=['cov_per'],data=pr_pep_cov_df, hue='type',size=6)\n",
    "ax.fig.set_size_inches(6,4)\n",
    "_ = ax.set(xlabel='index', ylabel='coverage portion',title='retroviral protein coverage vs protein num rank')\n",
    "plt.subplots_adjust(top=0.9,bottom=0.15)\n",
    "plt.savefig(path + '/retroviral_pr_cov_portion.png',dpi=200,figsize=(8,6))"
   ]
  },
  {
   "cell_type": "code",
   "execution_count": 95,
   "metadata": {},
   "outputs": [],
   "source": [
    "# plot histogram of peptide number for each virus sites, this includes peptides from all isoforms \n",
    "anno_gene_pep_num_df = known_retro_viral_df[['pep','new_geneid']].drop_duplicates().groupby('new_geneid').count().sort_values('pep',ascending=False)\n",
    "anno_gene_pep_num_df.reset_index(inplace=True)\n",
    "anno_gene_pep_num_df['type'] = pd.Series(['anno'] * anno_gene_pep_num_df.shape[0])\n",
    "new_gene_pep_num_df = event_virus_inter_df[['virus_sites','pep']].drop_duplicates().groupby('virus_sites').count().sort_values('pep',ascending=False)\n",
    "new_gene_pep_num_df.reset_index(inplace=True)\n",
    "new_gene_pep_num_df['type'] = pd.Series(['new'] * new_gene_pep_num_df.shape[0])\n",
    "new_gene_pep_num_df.columns = ['new_geneid','pep','type']\n",
    "gene_pep_num_df = anno_gene_pep_num_df.append(new_gene_pep_num_df)"
   ]
  },
  {
   "cell_type": "code",
   "execution_count": 96,
   "metadata": {},
   "outputs": [
    {
     "data": {
      "image/png": "[encoded data removed]",
      "text/plain": [
       "<matplotlib.figure.Figure at 0x7fa12b087110>"
      ]
     },
     "metadata": {},
     "output_type": "display_data"
    }
   ],
   "source": [
    "plt.rcParams[\"figure.figsize\"] = (6,4)\n",
    "axes = gene_pep_num_df.groupby('type')['pep'].hist(alpha=0.4,bins=50)\n",
    "_ = axes[0].set_title('distribution of peptides num in retrovirus genes')\n",
    "_ = axes[0].set_xlabel('pep number')\n",
    "_ = axes[0].set_ylabel('frequency')"
   ]
  },
  {
   "cell_type": "markdown",
   "metadata": {},
   "source": [
    "Get peptide supported retrovirus"
   ]
  },
  {
   "cell_type": "code",
   "execution_count": 97,
   "metadata": {},
   "outputs": [],
   "source": [
    "retro_rna_pep_gff_df['new_geneid'] = retro_rna_pep_gff_df['geneid'].map(lambda x: '_'.join(x.split('_')[:2]))"
   ]
  },
  {
   "cell_type": "code",
   "execution_count": 98,
   "metadata": {},
   "outputs": [
    {
     "name": "stdout",
     "output_type": "stream",
     "text": [
      "C    79\n",
      "A    67\n",
      "E    20\n",
      "B    17\n",
      "D     4\n",
      "Name: virus_type, dtype: int64\n",
      "C    52\n",
      "D     2\n",
      "Name: virus_type, dtype: int64\n"
     ]
    }
   ],
   "source": [
    "print retro_rna_pep_gff_df[['new_geneid','virus_type']].drop_duplicates()['virus_type'].value_counts()\n",
    "print event_virus_inter_df[['chr_virus','s_virus','e_virus','virus_type']].drop_duplicates()['virus_type'].value_counts()"
   ]
  },
  {
   "cell_type": "code",
   "execution_count": 99,
   "metadata": {},
   "outputs": [
    {
     "data": {
      "image/png": "[encoded data removed]",
      "text/plain": [
       "<matplotlib.figure.Figure at 0x7fa1399aa6d0>"
      ]
     },
     "metadata": {},
     "output_type": "display_data"
    }
   ],
   "source": [
    "def make_autopct(values):\n",
    "    def my_autopct(pct):\n",
    "        total = sum(values)\n",
    "        val = int(round(pct*total/100.0))\n",
    "        return '{p:.1f}%  ({v:d})'.format(p=pct,v=val)\n",
    "    return my_autopct\n",
    "labels = 'typeA', 'typeB', 'typeC'\n",
    "sizes = np.array([67, 17, 131])\n",
    "_ = plt.pie(sizes, labels=labels, autopct=make_autopct(sizes))\n",
    "_ = plt.axis('equal')\n",
    "_ = plt.title('Translated annotated and novel retrovirus')\n",
    "plt.savefig('/data/shangzhong/trans_retro.svg')"
   ]
  },
  {
   "cell_type": "code",
   "execution_count": 100,
   "metadata": {},
   "outputs": [
    {
     "data": {
      "image/png": "[encoded data removed]",
      "text/plain": [
       "<matplotlib.figure.Figure at 0x7fa120301050>"
      ]
     },
     "metadata": {},
     "output_type": "display_data"
    }
   ],
   "source": [
    "def make_autopct(values):\n",
    "    def my_autopct(pct):\n",
    "        total = sum(values)\n",
    "        val = int(round(pct*total/100.0))\n",
    "        return '{p:.2f}%  ({v:d})'.format(p=pct,v=val)\n",
    "    return my_autopct\n",
    "labels = 'unique ORF', 'multiple ORFs'\n",
    "sizes = np.array([24709, 3991])\n",
    "_ = plt.pie(sizes, labels=labels, autopct=make_autopct(sizes))\n",
    "_ = plt.axis('equal')\n",
    "_ = plt.title('')"
   ]
  },
  {
   "cell_type": "markdown",
   "metadata": {},
   "source": [
    "### In paper, they detected typeC retrovirus data\n",
    "Here we try to identify the complete provirus that have all virus proteins expressed in the genome.The strategy is: \n",
    "1. for annotation gets the proteins that belong to type C virus.\n",
    "2. for new identified virus, get the ones that belong to type C virus.\n",
    "3. merge 1 and 2.\n",
    "4. map all the LTR seqeunces of the retroviruses to picr. mapped viruses are \n"
   ]
  },
  {
   "cell_type": "code",
   "execution_count": 101,
   "metadata": {},
   "outputs": [],
   "source": [
    "# {geneid : [peptides]}\n",
    "known_gid_pep_dic = {k:list(set(v)) for k,v in known_retro_viral_df.groupby('new_geneid')['pep']}\n",
    "# merge known and novel peptide loci numbers\n",
    "pep_num_dic = {}\n",
    "pep_num_dic.update(known_pep_loci_dic)\n",
    "pep_num_dic.update(event_virus_pep_locis_dic)\n",
    "# all retrovirus peptide coverage\n",
    "retro_cov_per_dic = pr_pep_cov_df.set_index('new_geneid')['cov_per'].to_dict()"
   ]
  },
  {
   "cell_type": "code",
   "execution_count": 102,
   "metadata": {},
   "outputs": [],
   "source": [
    "# 1. get anno typeC virus\n",
    "# retro_rna_pep_gff_df['virus_type'] = retro_rna_pep_gff_df['full_name'].map(lambda x: virus_type[x])\n",
    "# retro_rna_pep_gff_df['id'] = retro_rna_pep_gff_df['full_name'].map(lambda x: x.split('|')[1] if '|' in x else '-')\n",
    "# typeC_ids = ['P03387', 'P03355', 'P0DOG8']\n",
    "retro_pep_support_rnas = retro_rna_pep_df['rna'].tolist()\n",
    "typeC_anno_retro_pep_df = retro_rna_pep_gff_df.query('virus_type == \"C\" and rnaid in @retro_pep_support_rnas')\n",
    "typeC_anno_retro_pep_df = typeC_anno_retro_pep_df[['chr','cds_s','cds_e','geneid','gename','full_name','virus_type']].reset_index(drop=True)\n",
    "typeC_anno_retro_pep_df['type'] = pd.Series(['anno'] * typeC_anno_retro_pep_df.shape[0])\n",
    "typeC_anno_retro_pep_df = typeC_anno_retro_pep_df.rename(columns={'cds_s':'s', 'cds_e':'e'})\n",
    "typeC_anno_retro_pep_df['geneid'] = typeC_anno_retro_pep_df['geneid'].map(lambda x: modify_geneid(x))\n",
    "typeC_anno_retro_pep_df['pep'] = typeC_anno_retro_pep_df['geneid'].map(lambda x: ','.join(known_gid_pep_dic[x]))\n",
    "typeC_anno_retro_pep_df['pep_num'] = typeC_anno_retro_pep_df['pep'].map(lambda x: len(set(x.split(','))))\n",
    "typeC_anno_retro_pep_df['locis'] = typeC_anno_retro_pep_df['geneid'].map(lambda x: ','.join([str(pep_num_dic[p]) for p in known_gid_pep_dic[x]]))\n",
    "typeC_anno_retro_pep_df['cov_per'] = typeC_anno_retro_pep_df['geneid'].map(lambda x: retro_cov_per_dic[x])\n",
    "\n",
    "# get peptides\n",
    "typeC_anno_genes = typeC_anno_retro_pep_df['geneid'].unique().tolist()\n",
    "typeC_anno_peps = known_retro_viral_df.query('new_geneid in @typeC_anno_genes')['pep'].unique().tolist()"
   ]
  },
  {
   "cell_type": "code",
   "execution_count": 110,
   "metadata": {},
   "outputs": [],
   "source": [
    "# 2. get new typeC virus, all of them are typc proteins, so no need to filter them out\n",
    "novel_gid_pep_dic = {k:list(set(v)) for k,v in event_virus_inter_df.groupby('virus_sites')['pep']}\n",
    "event_virus_pep_cov_df['virus_pr'] = event_virus_pep_cov_df['full_name'].map(lambda x: x.split()[0])\n",
    "\n",
    "event_virus_pep_cov_df['chr'] = event_virus_pep_cov_df['new_geneid'].map(lambda x: x.split(':')[0])\n",
    "event_virus_pep_cov_df['s'] = event_virus_pep_cov_df['new_geneid'].map(lambda x: int(x.split(':')[1]))\n",
    "event_virus_pep_cov_df['e'] = event_virus_pep_cov_df['new_geneid'].map(lambda x: int(x.split(':')[2]))\n",
    "typeC_new_retro_pep_df = event_virus_pep_cov_df # .query('new_geneid in @fil_new_retro_sites_ids')\n",
    "typeC_new_retro_pep_df = typeC_new_retro_pep_df.reset_index()\n",
    "typeC_new_retro_pep_df['virus_type'] = typeC_new_retro_pep_df['full_name'].map(lambda x: add_high_virus_type(x))\n",
    "typeC_new_retro_pep_df = typeC_new_retro_pep_df.query('virus_type == \"C\"')\n",
    "typeC_new_retro_pep_df['geneid'] = typeC_new_retro_pep_df.apply(lambda x:':'.join([x['chr'],str(x['s']),str(x['e'])]) ,axis=1)\n",
    "typeC_new_retro_pep_df = typeC_new_retro_pep_df[['chr','s','e','geneid','gename','full_name','virus_type','type']]\n",
    "typeC_new_retro_pep_df['pep'] = typeC_new_retro_pep_df['geneid'].map(lambda x: ','.join(novel_gid_pep_dic[x]))\n",
    "typeC_new_retro_pep_df['pep_num'] = typeC_new_retro_pep_df['pep'].map(lambda x: len(set(x.split(','))))\n",
    "typeC_new_retro_pep_df['locis'] = typeC_new_retro_pep_df['geneid'].map(lambda x: ','.join([str(pep_num_dic[p]) for p in novel_gid_pep_dic[x]]))\n",
    "typeC_new_retro_pep_df['cov_per'] = typeC_new_retro_pep_df['geneid'].map(lambda x: retro_cov_per_dic[x])\n",
    "# get peptides\n",
    "typeC_new_peps = list(set([p for pep in typeC_new_retro_pep_df['pep'] for p in pep.split(',')]))"
   ]
  },
  {
   "cell_type": "code",
   "execution_count": 116,
   "metadata": {},
   "outputs": [],
   "source": [
    "def sort_df_by_chrom(df):\n",
    "    df['chr_idx'] = df['chr'].map(lambda x: int(x.split('_')[1]))\n",
    "    df = df.sort_values('chr_idx')\n",
    "    del df['chr_idx']\n",
    "    return df"
   ]
  },
  {
   "cell_type": "code",
   "execution_count": 118,
   "metadata": {},
   "outputs": [],
   "source": [
    "# 3. merge\n",
    "all_typeC_df = typeC_anno_retro_pep_df.append(typeC_new_retro_pep_df)\n",
    "all_typeC_df = all_typeC_df.sort_values(['chr','s']).drop_duplicates()\n",
    "all_typeC_df['gename'] = all_typeC_df['gename'].str.lower()\n",
    "all_typeC_df = sort_df_by_chrom(all_typeC_df)\n",
    "all_typeC_df.to_csv(path + '/21_retro_typeC.txt',sep='\\t',index=False)\n",
    "# add rna\n",
    "anno_retro_gid_rna_dic = retro_rna_pep_df.set_index('new_geneid')['rna'].to_dict()\n",
    "all_typeC_df['rna'] = all_typeC_df['geneid'].map(lambda x: anno_retro_gid_rna_dic[x] if x in anno_retro_gid_rna_dic else x)\n",
    "all_typeC_gid_gnm_dic = all_typeC_df.set_index('geneid')['gename'].to_dict()"
   ]
  },
  {
   "cell_type": "code",
   "execution_count": 119,
   "metadata": {},
   "outputs": [],
   "source": [
    "# 4. correct cds region for virus\n",
    "all_typeC_rnas = all_typeC_df['rna'].tolist()\n",
    "ham_gff_df = pd.read_csv(ham_gff, sep='\\t',header=None)\n",
    "cds_gff_df = ham_gff_df[ham_gff_df[2].values=='CDS']\n",
    "cds_gff_df = cds_gff_df.reset_index(drop=True)\n",
    "cds_gff_df['rna'] = cds_gff_df[8].map(lambda x: re.search('(?<=Parent=).+?(?=;)',x).group(0))\n",
    "cds_gff_df = cds_gff_df.query('rna in @all_typeC_rnas')\n",
    "cds_gff_df = cds_gff_df.reset_index(drop=True)"
   ]
  },
  {
   "cell_type": "code",
   "execution_count": 120,
   "metadata": {},
   "outputs": [],
   "source": [
    "rna_cds_pos_dic = {}\n",
    "for idx, row in cds_gff_df.iterrows():\n",
    "    if row['rna'] not in rna_cds_pos_dic:\n",
    "        rna_cds_pos_dic[row['rna']] = [[[row[3], row[4]]], row[6]]\n",
    "    else:\n",
    "        rna_cds_pos_dic[row['rna']][0].append([row[3], row[4]])\n",
    "# sort regions\n",
    "for k,v in rna_cds_pos_dic.iteritems():\n",
    "    if v[-1] == '-':\n",
    "        v[0] = sorted(v[0], key=lambda x: x[0], reverse=True)\n",
    "    else:\n",
    "        v[0] = sorted(v[0], key=lambda x: x[0])"
   ]
  },
  {
   "cell_type": "code",
   "execution_count": 121,
   "metadata": {},
   "outputs": [
    {
     "data": {
      "text/plain": [
       "env                                                    34\n",
       "gag                                                    24\n",
       "pol                                                    17\n",
       "p30 protein [baboon endogenous virus strain             9\n",
       "ma [abelson murine leukemia                             8\n",
       "gag-pol                                                 8\n",
       "ca [moloney murine sarcoma                              7\n",
       "p30 ca [moloney murine leukemia                         7\n",
       "p12 protein [baboon endogenous virus strain             4\n",
       "ca [murine osteosarcoma                                 3\n",
       "virion core structural peptide p27 [feline leukemia     2\n",
       "ggag_mlvav                                              2\n",
       "virion core structural peptide p15 [feline leukemia     2\n",
       "ma [murine osteosarcoma                                 2\n",
       "ubiquitin-like protein [murine osteosarcoma             1\n",
       "Name: gename, dtype: int64"
      ]
     },
     "execution_count": 121,
     "metadata": {},
     "output_type": "execute_result"
    }
   ],
   "source": [
    "all_typeC_df[['geneid','virus_type','gename']].drop_duplicates()['gename'].value_counts()"
   ]
  },
  {
   "cell_type": "code",
   "execution_count": 122,
   "metadata": {},
   "outputs": [
    {
     "data": {
      "image/png": "[encoded data removed]",
      "text/plain": [
       "<matplotlib.figure.Figure at 0x7fa138379a90>"
      ]
     },
     "metadata": {},
     "output_type": "display_data"
    }
   ],
   "source": [
    "def make_autopct(values):\n",
    "    def my_autopct(pct):\n",
    "        total = sum(values)\n",
    "        val = int(round(pct*total/100.0))\n",
    "        return '{p:.1f}%  ({v:d})'.format(p=pct,v=val)\n",
    "    return my_autopct\n",
    "colors = ['#ff9999','#66b3ff','#99ff99','#ffcc99', '#ff4d4d']\n",
    "labels = 'gag', 'pol', 'env', 'gag-pol', 'other'\n",
    "sizes = np.array([53, 17, 34, 8, 19])\n",
    "_ = plt.pie(sizes, labels=labels, autopct=make_autopct(sizes), colors=colors)\n",
    "_ = plt.axis('equal')\n",
    "_ = plt.title('Translated typeC proteins')\n",
    "plt.savefig('/data/shangzhong/trans_typeC.svg')"
   ]
  },
  {
   "cell_type": "code",
   "execution_count": 123,
   "metadata": {},
   "outputs": [
    {
     "data": {
      "image/png": "[encoded data removed]",
      "text/plain": [
       "<matplotlib.figure.Figure at 0x7fa138379b90>"
      ]
     },
     "metadata": {},
     "output_type": "display_data"
    }
   ],
   "source": [
    "import seaborn as sns\n",
    "flatui = [\"#9b59b6\", \"#3498db\", \"#e74c3c\", \"#34495e\"]\n",
    "genes = ['env','pol','gag','gag-pol']\n",
    "plt_df = all_typeC_df.query('gename in @genes')\n",
    "ax = sns.pairplot(x_vars=['pep_num'], y_vars=['cov_per'], data=plt_df, hue='gename',size=5,palette=sns.color_palette(flatui))\n",
    "plt.savefig('/data/shangzhong/retro_typeC.svg')"
   ]
  },
  {
   "cell_type": "code",
   "execution_count": 124,
   "metadata": {},
   "outputs": [
    {
     "data": {
      "text/html": [
       "<div>\n",
       "<style>\n",
       "    .dataframe thead tr:only-child th {\n",
       "        text-align: right;\n",
       "    }\n",
       "\n",
       "    .dataframe thead th {\n",
       "        text-align: left;\n",
       "    }\n",
       "\n",
       "    .dataframe tbody tr th {\n",
       "        vertical-align: top;\n",
       "    }\n",
       "</style>\n",
       "<table border=\"1\" class=\"dataframe\">\n",
       "  <thead>\n",
       "    <tr style=\"text-align: right;\">\n",
       "      <th></th>\n",
       "      <th>chr</th>\n",
       "      <th>s</th>\n",
       "      <th>e</th>\n",
       "      <th>geneid</th>\n",
       "      <th>gename</th>\n",
       "      <th>full_name</th>\n",
       "      <th>virus_type</th>\n",
       "      <th>type</th>\n",
       "      <th>pep</th>\n",
       "      <th>pep_num</th>\n",
       "      <th>locis</th>\n",
       "      <th>cov_per</th>\n",
       "      <th>rna</th>\n",
       "    </tr>\n",
       "  </thead>\n",
       "  <tbody>\n",
       "    <tr>\n",
       "      <th>71</th>\n",
       "      <td>picr_8</td>\n",
       "      <td>43913321</td>\n",
       "      <td>43914872</td>\n",
       "      <td>gene_28044</td>\n",
       "      <td>env</td>\n",
       "      <td>sp|P03391|ENV_FSVGA Envelope glycoprotein OS=F...</td>\n",
       "      <td>C</td>\n",
       "      <td>anno</td>\n",
       "      <td>KCNPLILR,KAITPTPGAVTFSPTPDALNIEITR,KDPVTLFSLYR...</td>\n",
       "      <td>26</td>\n",
       "      <td>8,4,9,8,9,6,9,4,6,5,12,14,13,6,3,4,11,8,11,2,5...</td>\n",
       "      <td>0.428295</td>\n",
       "      <td>asmbl_79241</td>\n",
       "    </tr>\n",
       "    <tr>\n",
       "      <th>36</th>\n",
       "      <td>picr_12</td>\n",
       "      <td>34947710</td>\n",
       "      <td>34949711</td>\n",
       "      <td>gene_4642</td>\n",
       "      <td>env</td>\n",
       "      <td>sp|P03391|ENV_FSVGA Envelope glycoprotein OS=F...</td>\n",
       "      <td>C</td>\n",
       "      <td>anno</td>\n",
       "      <td>DSAGGGGFQGATPGGK,RFSHYIR,RTTWDSPK,KCNPLILR,KEE...</td>\n",
       "      <td>21</td>\n",
       "      <td>8,2,9,8,13,6,12,11,7,8,8,8,14,9,8,8,9,11,6,2,14</td>\n",
       "      <td>0.226727</td>\n",
       "      <td>asmbl_13621</td>\n",
       "    </tr>\n",
       "    <tr>\n",
       "      <th>56</th>\n",
       "      <td>picr_16</td>\n",
       "      <td>28044783</td>\n",
       "      <td>28046784</td>\n",
       "      <td>gene_8519</td>\n",
       "      <td>env</td>\n",
       "      <td>sp|P03391|ENV_FSVGA Envelope glycoprotein OS=F...</td>\n",
       "      <td>C</td>\n",
       "      <td>anno</td>\n",
       "      <td>DSAGGGGFQGATPGGK,RFSHYIR,RTTWDSPK,KCNPLILR,KEE...</td>\n",
       "      <td>21</td>\n",
       "      <td>8,2,9,8,13,6,12,11,7,8,8,8,14,9,8,8,9,11,6,2,14</td>\n",
       "      <td>0.226727</td>\n",
       "      <td>asmbl_25133</td>\n",
       "    </tr>\n",
       "    <tr>\n",
       "      <th>3</th>\n",
       "      <td>picr_36</td>\n",
       "      <td>17478635</td>\n",
       "      <td>17492643</td>\n",
       "      <td>gene_17239</td>\n",
       "      <td>gag-pol</td>\n",
       "      <td>sp|P03355|POL_MLVMS Gag-Pol polyprotein OS=Mol...</td>\n",
       "      <td>C</td>\n",
       "      <td>anno</td>\n",
       "      <td>KCNPLILR,KQVTYLGYK,RWGCETTGEAYWKPSSSWDFITLK,KD...</td>\n",
       "      <td>44</td>\n",
       "      <td>8,7,3,9,7,8,9,13,6,5,9,4,6,1,5,12,8,8,14,3,3,1...</td>\n",
       "      <td>0.190418</td>\n",
       "      <td>asmbl_48822</td>\n",
       "    </tr>\n",
       "    <tr>\n",
       "      <th>51</th>\n",
       "      <td>picr_44</td>\n",
       "      <td>12504339</td>\n",
       "      <td>12505368</td>\n",
       "      <td>gene_19658</td>\n",
       "      <td>gag</td>\n",
       "      <td>sp|P03332|GAG_MLVMS Gag polyprotein OS=Moloney...</td>\n",
       "      <td>C</td>\n",
       "      <td>anno</td>\n",
       "      <td>RPEWDFTTEAGR,RRGPHLDR,RLRQEAEEKEVAR,GAEESPAAFL...</td>\n",
       "      <td>24</td>\n",
       "      <td>5,8,4,6,6,3,4,6,9,3,11,7,8,2,2,5,5,5,3,9,1,5,3,5</td>\n",
       "      <td>0.652047</td>\n",
       "      <td>asmbl_55255</td>\n",
       "    </tr>\n",
       "    <tr>\n",
       "      <th>42</th>\n",
       "      <td>picr_85</td>\n",
       "      <td>742328</td>\n",
       "      <td>743687</td>\n",
       "      <td>gene_28626</td>\n",
       "      <td>env</td>\n",
       "      <td>sp|P03391|ENV_FSVGA Envelope glycoprotein OS=F...</td>\n",
       "      <td>C</td>\n",
       "      <td>anno</td>\n",
       "      <td>KCNPLILR,RSKDFYVCPGHKPTHGCGGPQEGYCAR,KAITPTPGA...</td>\n",
       "      <td>24</td>\n",
       "      <td>8,3,4,3,9,9,6,9,4,5,8,8,3,6,3,3,11,8,3,11,5,8,4,6</td>\n",
       "      <td>0.398230</td>\n",
       "      <td>asmbl_80906</td>\n",
       "    </tr>\n",
       "    <tr>\n",
       "      <th>19</th>\n",
       "      <td>picr_114</td>\n",
       "      <td>1696556</td>\n",
       "      <td>1698074</td>\n",
       "      <td>gene_3864</td>\n",
       "      <td>gag</td>\n",
       "      <td>sp|Q8UN02|GAG80_MLVMN Glycosylated Gag polypro...</td>\n",
       "      <td>C</td>\n",
       "      <td>anno</td>\n",
       "      <td>RPEWDFTTEAGR,RRGPHLDR,RLRQEAEEK,GAEESPAAFLER,R...</td>\n",
       "      <td>29</td>\n",
       "      <td>5,8,7,6,6,3,4,6,9,2,3,11,4,7,8,2,2,5,5,5,3,2,9...</td>\n",
       "      <td>0.566337</td>\n",
       "      <td>asmbl_11243</td>\n",
       "    </tr>\n",
       "    <tr>\n",
       "      <th>53</th>\n",
       "      <td>picr_341</td>\n",
       "      <td>37272</td>\n",
       "      <td>95609</td>\n",
       "      <td>gene_16534</td>\n",
       "      <td>env</td>\n",
       "      <td>sp|P03391|ENV_FSVGA Envelope glycoprotein OS=F...</td>\n",
       "      <td>C</td>\n",
       "      <td>anno</td>\n",
       "      <td>KCNPLILR,KQVTYLGYK,KAITPTPGAVTFSPTPDALNIEITR,R...</td>\n",
       "      <td>42</td>\n",
       "      <td>8,7,4,3,9,8,9,13,6,5,9,4,6,5,12,8,8,14,3,3,13,...</td>\n",
       "      <td>0.324468</td>\n",
       "      <td>asmbl_46627</td>\n",
       "    </tr>\n",
       "  </tbody>\n",
       "</table>\n",
       "</div>"
      ],
      "text/plain": [
       "         chr         s         e      geneid   gename  \\\n",
       "71    picr_8  43913321  43914872  gene_28044      env   \n",
       "36   picr_12  34947710  34949711   gene_4642      env   \n",
       "56   picr_16  28044783  28046784   gene_8519      env   \n",
       "3    picr_36  17478635  17492643  gene_17239  gag-pol   \n",
       "51   picr_44  12504339  12505368  gene_19658      gag   \n",
       "42   picr_85    742328    743687  gene_28626      env   \n",
       "19  picr_114   1696556   1698074   gene_3864      gag   \n",
       "53  picr_341     37272     95609  gene_16534      env   \n",
       "\n",
       "                                            full_name virus_type  type  \\\n",
       "71  sp|P03391|ENV_FSVGA Envelope glycoprotein OS=F...          C  anno   \n",
       "36  sp|P03391|ENV_FSVGA Envelope glycoprotein OS=F...          C  anno   \n",
       "56  sp|P03391|ENV_FSVGA Envelope glycoprotein OS=F...          C  anno   \n",
       "3   sp|P03355|POL_MLVMS Gag-Pol polyprotein OS=Mol...          C  anno   \n",
       "51  sp|P03332|GAG_MLVMS Gag polyprotein OS=Moloney...          C  anno   \n",
       "42  sp|P03391|ENV_FSVGA Envelope glycoprotein OS=F...          C  anno   \n",
       "19  sp|Q8UN02|GAG80_MLVMN Glycosylated Gag polypro...          C  anno   \n",
       "53  sp|P03391|ENV_FSVGA Envelope glycoprotein OS=F...          C  anno   \n",
       "\n",
       "                                                  pep  pep_num  \\\n",
       "71  KCNPLILR,KAITPTPGAVTFSPTPDALNIEITR,KDPVTLFSLYR...       26   \n",
       "36  DSAGGGGFQGATPGGK,RFSHYIR,RTTWDSPK,KCNPLILR,KEE...       21   \n",
       "56  DSAGGGGFQGATPGGK,RFSHYIR,RTTWDSPK,KCNPLILR,KEE...       21   \n",
       "3   KCNPLILR,KQVTYLGYK,RWGCETTGEAYWKPSSSWDFITLK,KD...       44   \n",
       "51  RPEWDFTTEAGR,RRGPHLDR,RLRQEAEEKEVAR,GAEESPAAFL...       24   \n",
       "42  KCNPLILR,RSKDFYVCPGHKPTHGCGGPQEGYCAR,KAITPTPGA...       24   \n",
       "19  RPEWDFTTEAGR,RRGPHLDR,RLRQEAEEK,GAEESPAAFLER,R...       29   \n",
       "53  KCNPLILR,KQVTYLGYK,KAITPTPGAVTFSPTPDALNIEITR,R...       42   \n",
       "\n",
       "                                                locis   cov_per          rna  \n",
       "71  8,4,9,8,9,6,9,4,6,5,12,14,13,6,3,4,11,8,11,2,5...  0.428295  asmbl_79241  \n",
       "36    8,2,9,8,13,6,12,11,7,8,8,8,14,9,8,8,9,11,6,2,14  0.226727  asmbl_13621  \n",
       "56    8,2,9,8,13,6,12,11,7,8,8,8,14,9,8,8,9,11,6,2,14  0.226727  asmbl_25133  \n",
       "3   8,7,3,9,7,8,9,13,6,5,9,4,6,1,5,12,8,8,14,3,3,1...  0.190418  asmbl_48822  \n",
       "51   5,8,4,6,6,3,4,6,9,3,11,7,8,2,2,5,5,5,3,9,1,5,3,5  0.652047  asmbl_55255  \n",
       "42  8,3,4,3,9,9,6,9,4,5,8,8,3,6,3,3,11,8,3,11,5,8,4,6  0.398230  asmbl_80906  \n",
       "19  5,8,7,6,6,3,4,6,9,2,3,11,4,7,8,2,2,5,5,5,3,2,9...  0.566337  asmbl_11243  \n",
       "53  8,7,4,3,9,8,9,13,6,5,9,4,6,5,12,8,8,14,3,3,13,...  0.324468  asmbl_46627  "
      ]
     },
     "execution_count": 124,
     "metadata": {},
     "output_type": "execute_result"
    }
   ],
   "source": [
    "high_cf_retro_C_genes_df = all_typeC_df.query('cov_per > 0.1 and pep_num > 20')\n",
    "high_cf_retro_C_genes_df"
   ]
  },
  {
   "cell_type": "code",
   "execution_count": 125,
   "metadata": {},
   "outputs": [],
   "source": [
    "# output high confidence retro type C genes\n",
    "rnas = high_cf_retro_C_genes_df['rna'].tolist()"
   ]
  },
  {
   "cell_type": "code",
   "execution_count": null,
   "metadata": {},
   "outputs": [],
   "source": []
  },
  {
   "cell_type": "markdown",
   "metadata": {},
   "source": [
    "### Get RNAseq coverage at the virus sites with peptides\n",
    "many reads mapping to viral sites are actually multi mapping reads, so here for each viral sites, we split the reads into uniquely mapping and multi mapping ones, and then stack them along the viral sites.\n",
    "1. build a dataframe with columns:  geneid, pos, # of unique reads, # of multi reads"
   ]
  },
  {
   "cell_type": "code",
   "execution_count": 126,
   "metadata": {},
   "outputs": [],
   "source": [
    "# def keep_secondary_read(aln):\n",
    "#     if aln.is_secondary:\n",
    "#         return True\n",
    "#     else:\n",
    "#         return False\n",
    "\n",
    "# def keep_unique_read(aln):\n",
    "#     if aln.is_secondary:\n",
    "#         return False\n",
    "#     else:\n",
    "#         return True\n",
    "\n",
    "# def get_coverage(bam_obj, regions):\n",
    "#     '''get coverage at each base for unique and secondary reads'''\n",
    "#     uni_cov = bam_obj.count_coverage(regions[0], regions[1], regions[2], read_callback=keep_unique_read)\n",
    "#     uni_cov = np.sum(np.vstack(uni_cov), axis=0)\n",
    "#     sec_cov = bam_obj.count_coverage(regions[0], regions[1], regions[2], read_callback=keep_secondary_read)\n",
    "#     sec_cov = np.sum(np.vstack(sec_cov), axis=0)\n",
    "#     return uni_cov, sec_cov\n",
    "\n",
    "# def old_get_count_dic(all_typeC_df, bam_obj, rna_cds_pos_dic):\n",
    "#     '''output format {geneid: [unique read cov at each position, secondary read cov at each position]}'''\n",
    "#     count_dic = {}\n",
    "#     for idx, row in all_typeC_df.iterrows():\n",
    "#         gene = row['geneid']\n",
    "#         rna = row['rna']\n",
    "#         chrom = row['chr']\n",
    "        \n",
    "#         if rna.startswith('asmbl'):\n",
    "#             strand = rna_cds_pos_dic[rna][-1]\n",
    "#             regions = rna_cds_pos_dic[rna][0]\n",
    "#         else:\n",
    "#             strand = '+'\n",
    "#             regions = [[row['s'], row['e']]]\n",
    "        \n",
    "#         res_uni_cov = np.array([])\n",
    "#         res_sec_cov = np.array([])\n",
    "#         for region in regions:\n",
    "#             uni_cov, sec_cov = get_coverage(bam_obj,[chrom, region[0], region[1]])\n",
    "#             if strand == '-':\n",
    "#                 uni_cov = np.flip(uni_cov, 0)\n",
    "#                 sec_cov = np.flip(sec_cov, 0)\n",
    "#             res_uni_cov = np.concatenate([res_uni_cov, uni_cov])\n",
    "#             res_sec_cov = np.concatenate([res_sec_cov, sec_cov])\n",
    "#         count_dic[gene] = [res_uni_cov, res_sec_cov]\n",
    "#     return count_dic"
   ]
  },
  {
   "cell_type": "code",
   "execution_count": 127,
   "metadata": {},
   "outputs": [],
   "source": [
    "def get_region_cov(bam_obj, chrom, start, end):\n",
    "    '''get coverage at each position of a region'''\n",
    "    uni_cov = {}; sec_cov = {}\n",
    "    for pile in bam_obj.pileup(chrom, start, end):\n",
    "        pos = pile.pos\n",
    "        if start < pos <= end:\n",
    "            uni = 0; sec = 0\n",
    "            for read in pile.pileups:\n",
    "                if read.is_del or read.is_refskip:\n",
    "                    continue\n",
    "                nh = read.alignment.get_tags()[0][1]\n",
    "                if nh == 1:\n",
    "                    uni += 1\n",
    "                else:\n",
    "                    sec += 1\n",
    "            uni_cov[pos] = uni\n",
    "            sec_cov[pos] = sec\n",
    "    uni_cov_lst = []; sec_cov_lst = []\n",
    "    for p in range(start+1, end+1):\n",
    "        if p in uni_cov:\n",
    "            uni_cov_lst.append(uni_cov[p])\n",
    "        else:\n",
    "            uni_cov_lst.append(0)\n",
    "        if p in sec_cov:\n",
    "            sec_cov_lst.append(sec_cov[p])\n",
    "        else:\n",
    "            sec_cov_lst.append(0)\n",
    "    return uni_cov_lst, sec_cov_lst"
   ]
  },
  {
   "cell_type": "code",
   "execution_count": 128,
   "metadata": {},
   "outputs": [],
   "source": [
    "def get_count_dic(all_typeC_df, bam_obj, rna_cds_pos_dic):\n",
    "    '''output format {geneid: [unique read cov at each position, secondary read cov at each position]}'''\n",
    "    count_dic = {}\n",
    "    for idx, row in all_typeC_df.iterrows():\n",
    "        gene = row['geneid']\n",
    "        rna = row['rna']\n",
    "        chrom = row['chr']\n",
    "        if rna.startswith('asmbl'):\n",
    "            strand = rna_cds_pos_dic[rna][-1]\n",
    "            regions = rna_cds_pos_dic[rna][0]\n",
    "        else:\n",
    "            strand = '+'\n",
    "            regions = [[row['s'], row['e']]]\n",
    "        res_uni_cov = []; res_sec_cov = [];\n",
    "        for region in regions:\n",
    "            uni_cov, sec_cov = get_region_cov(bam_obj,chrom, region[0], region[1])\n",
    "            if strand == '-':\n",
    "                uni_cov = uni_cov[::-1]\n",
    "                sec_cov = sec_cov[::-1]\n",
    "            res_uni_cov.extend(uni_cov)\n",
    "            res_sec_cov.extend(sec_cov)\n",
    "        count_dic[gene] = [res_uni_cov, res_sec_cov]\n",
    "    return count_dic"
   ]
  },
  {
   "cell_type": "code",
   "execution_count": 129,
   "metadata": {},
   "outputs": [
    {
     "name": "stdout",
     "output_type": "stream",
     "text": [
      "CPU times: user 0 ns, sys: 0 ns, total: 0 ns\n",
      "Wall time: 181 µs\n"
     ]
    }
   ],
   "source": [
    "%%time\n",
    "# get retroviral rnaseq coverage for all bam files\n",
    "bam_files = natsorted(glob.glob('/data/shangzhong/Proteogenomics/proteogenomics_bam/*.bam'))\n",
    "count_lst = []\n",
    "for bam in bam_files:\n",
    "    bam_obj = pysam.AlignmentFile(bam)\n",
    "    count_dic = get_count_dic(high_cf_retro_C_genes_df, bam_obj, rna_cds_pos_dic)\n",
    "    count_lst.append(count_dic)"
   ]
  },
  {
   "cell_type": "code",
   "execution_count": 130,
   "metadata": {},
   "outputs": [
    {
     "data": {
      "text/html": [
       "<div>\n",
       "<style>\n",
       "    .dataframe thead tr:only-child th {\n",
       "        text-align: right;\n",
       "    }\n",
       "\n",
       "    .dataframe thead th {\n",
       "        text-align: left;\n",
       "    }\n",
       "\n",
       "    .dataframe tbody tr th {\n",
       "        vertical-align: top;\n",
       "    }\n",
       "</style>\n",
       "<table border=\"1\" class=\"dataframe\">\n",
       "  <thead>\n",
       "    <tr style=\"text-align: right;\">\n",
       "      <th></th>\n",
       "      <th>chr</th>\n",
       "      <th>s</th>\n",
       "      <th>e</th>\n",
       "      <th>geneid</th>\n",
       "      <th>gename</th>\n",
       "      <th>full_name</th>\n",
       "      <th>virus_type</th>\n",
       "      <th>type</th>\n",
       "      <th>pep</th>\n",
       "      <th>pep_num</th>\n",
       "      <th>locis</th>\n",
       "      <th>cov_per</th>\n",
       "      <th>rna</th>\n",
       "    </tr>\n",
       "  </thead>\n",
       "  <tbody>\n",
       "    <tr>\n",
       "      <th>71</th>\n",
       "      <td>picr_8</td>\n",
       "      <td>43913321</td>\n",
       "      <td>43914872</td>\n",
       "      <td>gene_28044</td>\n",
       "      <td>env</td>\n",
       "      <td>sp|P03391|ENV_FSVGA Envelope glycoprotein OS=F...</td>\n",
       "      <td>C</td>\n",
       "      <td>anno</td>\n",
       "      <td>KCNPLILR,KAITPTPGAVTFSPTPDALNIEITR,KDPVTLFSLYR...</td>\n",
       "      <td>26</td>\n",
       "      <td>8,4,9,8,9,6,9,4,6,5,12,14,13,6,3,4,11,8,11,2,5...</td>\n",
       "      <td>0.428295</td>\n",
       "      <td>asmbl_79241</td>\n",
       "    </tr>\n",
       "    <tr>\n",
       "      <th>36</th>\n",
       "      <td>picr_12</td>\n",
       "      <td>34947710</td>\n",
       "      <td>34949711</td>\n",
       "      <td>gene_4642</td>\n",
       "      <td>env</td>\n",
       "      <td>sp|P03391|ENV_FSVGA Envelope glycoprotein OS=F...</td>\n",
       "      <td>C</td>\n",
       "      <td>anno</td>\n",
       "      <td>DSAGGGGFQGATPGGK,RFSHYIR,RTTWDSPK,KCNPLILR,KEE...</td>\n",
       "      <td>21</td>\n",
       "      <td>8,2,9,8,13,6,12,11,7,8,8,8,14,9,8,8,9,11,6,2,14</td>\n",
       "      <td>0.226727</td>\n",
       "      <td>asmbl_13621</td>\n",
       "    </tr>\n",
       "    <tr>\n",
       "      <th>56</th>\n",
       "      <td>picr_16</td>\n",
       "      <td>28044783</td>\n",
       "      <td>28046784</td>\n",
       "      <td>gene_8519</td>\n",
       "      <td>env</td>\n",
       "      <td>sp|P03391|ENV_FSVGA Envelope glycoprotein OS=F...</td>\n",
       "      <td>C</td>\n",
       "      <td>anno</td>\n",
       "      <td>DSAGGGGFQGATPGGK,RFSHYIR,RTTWDSPK,KCNPLILR,KEE...</td>\n",
       "      <td>21</td>\n",
       "      <td>8,2,9,8,13,6,12,11,7,8,8,8,14,9,8,8,9,11,6,2,14</td>\n",
       "      <td>0.226727</td>\n",
       "      <td>asmbl_25133</td>\n",
       "    </tr>\n",
       "    <tr>\n",
       "      <th>3</th>\n",
       "      <td>picr_36</td>\n",
       "      <td>17478635</td>\n",
       "      <td>17492643</td>\n",
       "      <td>gene_17239</td>\n",
       "      <td>gag-pol</td>\n",
       "      <td>sp|P03355|POL_MLVMS Gag-Pol polyprotein OS=Mol...</td>\n",
       "      <td>C</td>\n",
       "      <td>anno</td>\n",
       "      <td>KCNPLILR,KQVTYLGYK,RWGCETTGEAYWKPSSSWDFITLK,KD...</td>\n",
       "      <td>44</td>\n",
       "      <td>8,7,3,9,7,8,9,13,6,5,9,4,6,1,5,12,8,8,14,3,3,1...</td>\n",
       "      <td>0.190418</td>\n",
       "      <td>asmbl_48822</td>\n",
       "    </tr>\n",
       "    <tr>\n",
       "      <th>51</th>\n",
       "      <td>picr_44</td>\n",
       "      <td>12504339</td>\n",
       "      <td>12505368</td>\n",
       "      <td>gene_19658</td>\n",
       "      <td>gag</td>\n",
       "      <td>sp|P03332|GAG_MLVMS Gag polyprotein OS=Moloney...</td>\n",
       "      <td>C</td>\n",
       "      <td>anno</td>\n",
       "      <td>RPEWDFTTEAGR,RRGPHLDR,RLRQEAEEKEVAR,GAEESPAAFL...</td>\n",
       "      <td>24</td>\n",
       "      <td>5,8,4,6,6,3,4,6,9,3,11,7,8,2,2,5,5,5,3,9,1,5,3,5</td>\n",
       "      <td>0.652047</td>\n",
       "      <td>asmbl_55255</td>\n",
       "    </tr>\n",
       "  </tbody>\n",
       "</table>\n",
       "</div>"
      ],
      "text/plain": [
       "        chr         s         e      geneid   gename  \\\n",
       "71   picr_8  43913321  43914872  gene_28044      env   \n",
       "36  picr_12  34947710  34949711   gene_4642      env   \n",
       "56  picr_16  28044783  28046784   gene_8519      env   \n",
       "3   picr_36  17478635  17492643  gene_17239  gag-pol   \n",
       "51  picr_44  12504339  12505368  gene_19658      gag   \n",
       "\n",
       "                                            full_name virus_type  type  \\\n",
       "71  sp|P03391|ENV_FSVGA Envelope glycoprotein OS=F...          C  anno   \n",
       "36  sp|P03391|ENV_FSVGA Envelope glycoprotein OS=F...          C  anno   \n",
       "56  sp|P03391|ENV_FSVGA Envelope glycoprotein OS=F...          C  anno   \n",
       "3   sp|P03355|POL_MLVMS Gag-Pol polyprotein OS=Mol...          C  anno   \n",
       "51  sp|P03332|GAG_MLVMS Gag polyprotein OS=Moloney...          C  anno   \n",
       "\n",
       "                                                  pep  pep_num  \\\n",
       "71  KCNPLILR,KAITPTPGAVTFSPTPDALNIEITR,KDPVTLFSLYR...       26   \n",
       "36  DSAGGGGFQGATPGGK,RFSHYIR,RTTWDSPK,KCNPLILR,KEE...       21   \n",
       "56  DSAGGGGFQGATPGGK,RFSHYIR,RTTWDSPK,KCNPLILR,KEE...       21   \n",
       "3   KCNPLILR,KQVTYLGYK,RWGCETTGEAYWKPSSSWDFITLK,KD...       44   \n",
       "51  RPEWDFTTEAGR,RRGPHLDR,RLRQEAEEKEVAR,GAEESPAAFL...       24   \n",
       "\n",
       "                                                locis   cov_per          rna  \n",
       "71  8,4,9,8,9,6,9,4,6,5,12,14,13,6,3,4,11,8,11,2,5...  0.428295  asmbl_79241  \n",
       "36    8,2,9,8,13,6,12,11,7,8,8,8,14,9,8,8,9,11,6,2,14  0.226727  asmbl_13621  \n",
       "56    8,2,9,8,13,6,12,11,7,8,8,8,14,9,8,8,9,11,6,2,14  0.226727  asmbl_25133  \n",
       "3   8,7,3,9,7,8,9,13,6,5,9,4,6,1,5,12,8,8,14,3,3,1...  0.190418  asmbl_48822  \n",
       "51   5,8,4,6,6,3,4,6,9,3,11,7,8,2,2,5,5,5,3,9,1,5,3,5  0.652047  asmbl_55255  "
      ]
     },
     "execution_count": 130,
     "metadata": {},
     "output_type": "execute_result"
    }
   ],
   "source": [
    "high_cf_retro_C_genes_df.head()"
   ]
  },
  {
   "cell_type": "code",
   "execution_count": 131,
   "metadata": {},
   "outputs": [
    {
     "name": "stdout",
     "output_type": "stream",
     "text": [
      "CellLine7_C\n"
     ]
    },
    {
     "ename": "IndexError",
     "evalue": "list index out of range",
     "output_type": "error",
     "traceback": [
      "\u001b[0;31m------------------------------------------------------------------------\u001b[0m",
      "\u001b[0;31mIndexError\u001b[0m                             Traceback (most recent call last)",
      "\u001b[0;32m<ipython-input-131-debf5e17bcbf>\u001b[0m in \u001b[0;36m<module>\u001b[0;34m()\u001b[0m\n\u001b[1;32m      9\u001b[0m     \u001b[0mrna_tpm_max\u001b[0m \u001b[0;34m=\u001b[0m \u001b[0mmax\u001b[0m\u001b[0;34m(\u001b[0m\u001b[0mrna_tpm\u001b[0m\u001b[0;34m)\u001b[0m\u001b[0;34m\u001b[0m\u001b[0m\n\u001b[1;32m     10\u001b[0m     \u001b[0mmax_idx\u001b[0m \u001b[0;34m=\u001b[0m \u001b[0mrna_tpm\u001b[0m\u001b[0;34m.\u001b[0m\u001b[0mindex\u001b[0m\u001b[0;34m(\u001b[0m\u001b[0mrna_tpm_max\u001b[0m\u001b[0;34m)\u001b[0m\u001b[0;34m\u001b[0m\u001b[0m\n\u001b[0;32m---> 11\u001b[0;31m     \u001b[0mcov\u001b[0m \u001b[0;34m=\u001b[0m \u001b[0mcount_lst\u001b[0m\u001b[0;34m[\u001b[0m\u001b[0mmax_idx\u001b[0m\u001b[0;34m]\u001b[0m\u001b[0;34m[\u001b[0m\u001b[0mgene\u001b[0m\u001b[0;34m]\u001b[0m\u001b[0;34m\u001b[0m\u001b[0m\n\u001b[0m\u001b[1;32m     12\u001b[0m     \u001b[0mmerge\u001b[0m \u001b[0;34m=\u001b[0m \u001b[0mpd\u001b[0m\u001b[0;34m.\u001b[0m\u001b[0mDataFrame\u001b[0m\u001b[0;34m(\u001b[0m\u001b[0;34m{\u001b[0m\u001b[0;34m'uni'\u001b[0m\u001b[0;34m:\u001b[0m\u001b[0mcov\u001b[0m\u001b[0;34m[\u001b[0m\u001b[0;36m0\u001b[0m\u001b[0;34m]\u001b[0m\u001b[0;34m,\u001b[0m \u001b[0;34m'sec'\u001b[0m\u001b[0;34m:\u001b[0m\u001b[0mcov\u001b[0m\u001b[0;34m[\u001b[0m\u001b[0;36m1\u001b[0m\u001b[0;34m]\u001b[0m\u001b[0;34m}\u001b[0m\u001b[0;34m)\u001b[0m\u001b[0;34m\u001b[0m\u001b[0m\n\u001b[1;32m     13\u001b[0m     \u001b[0mgnm\u001b[0m \u001b[0;34m=\u001b[0m \u001b[0mall_typeC_gid_gnm_dic\u001b[0m\u001b[0;34m[\u001b[0m\u001b[0mgene\u001b[0m\u001b[0;34m]\u001b[0m\u001b[0;34m\u001b[0m\u001b[0m\n",
      "\u001b[0;31mIndexError\u001b[0m: list index out of range"
     ]
    }
   ],
   "source": [
    "plt.rcParams[\"figure.figsize\"] = (16,6)\n",
    "for idx, row in high_cf_retro_C_genes_df.loc[[56,53],:].iterrows():\n",
    "    gene = row['geneid']\n",
    "    rna = anno_retro_gid_rna_dic[gene]\n",
    "    rna_tpm = cho_retro_quant_df.loc[rna,:].tolist()\n",
    "    # get most expressed bam file\n",
    "    fn = cho_retro_quant_df.loc[rna,:].idxmax()\n",
    "    print fn\n",
    "    rna_tpm_max = max(rna_tpm)\n",
    "    max_idx = rna_tpm.index(rna_tpm_max)\n",
    "    cov = count_lst[max_idx][gene]\n",
    "    merge = pd.DataFrame({'uni':cov[0], 'sec':cov[1]})\n",
    "    gnm = all_typeC_gid_gnm_dic[gene]\n",
    "    ax = merge.plot.area()\n",
    "    _ = ax.set_title(gene + ':' + gnm + ':' + rna)\n",
    "    _ = ax.set_xlabel('gene position')\n",
    "    merge_max = merge.sum(axis=1).max()\n",
    "    _ = ax.set_ylim(0,merge_max * 1.1)\n",
    "    # plot peptides\n",
    "    peps = row['pep'].split(',')\n",
    "    locis = [int(p) for p in row['locis'].split(',')]\n",
    "    n = 0\n",
    "    for p, l in zip(peps, locis):\n",
    "        if int(l) == 1:\n",
    "            c = 'r'\n",
    "        else:\n",
    "            c = 'g'\n",
    "        n += 1\n",
    "#         if n % 2 == 0:\n",
    "#             y_val = merge_max * 1\n",
    "#         else:\n",
    "#             y_val = merge_max * 1.05\n",
    "        if n % 2 == 0:\n",
    "            y_val = -75\n",
    "        else:\n",
    "            y_val = -75\n",
    "        try:\n",
    "            start = known_pep_df_reindex.loc[(rna, p),'pos'] * 3\n",
    "            end = start + len(p) * 3\n",
    "            ax.hlines(y = y_val, xmin=start, xmax=end, linewidth=3, color=c)\n",
    "            ax.set_ylim([-110,190])\n",
    "        except:\n",
    "            continue\n",
    "    plt.savefig('/data/shangzhong/cov.svg')"
   ]
  },
  {
   "cell_type": "code",
   "execution_count": null,
   "metadata": {},
   "outputs": [],
   "source": [
    "print anno_retro_gid_rna_dic['gene_4642']\n",
    "print sorted(cho_retro_quant_df.loc['asmbl_13621',:], reverse=True)"
   ]
  },
  {
   "cell_type": "code",
   "execution_count": null,
   "metadata": {},
   "outputs": [],
   "source": [
    "# 4. get virus between ltr regions\n",
    "all_typeC_bed = BedTool.from_dataframe(all_typeC_df)\n",
    "all_typeC_in_ltr_df = ltr_bed.intersect(all_typeC_bed, wo=True).to_dataframe(names=['ltr_chr','ltr_s','ltr_e','chr','s','e','genome','full_name','type','len'])\n",
    "\n",
    "all_typeC_in_ltr_df.to_csv(path + '/22_retro_typeC_in_ltr.txt',sep='\\t',index=False)"
   ]
  },
  {
   "cell_type": "code",
   "execution_count": null,
   "metadata": {},
   "outputs": [],
   "source": [
    "# 5. get original file and spectrum of a peptide\n",
    "def get_original_spectrum_id(res,peps):\n",
    "    df = pd.read_csv(res, sep='\\t', header=0)\n",
    "    df['pep'] = df['Peptide'].map(lambda x: ''.join([p for p in x if p.isalpha()][:-1]))\n",
    "    df = df.query('pep in @typeC_anno_peps')\n",
    "    df = df.reset_index(drop=True)\n",
    "    return df\n",
    "\n",
    "known_typeC_res_df = get_original_spectrum_id(event_path + '/known_res.txt', typeC_anno_peps)"
   ]
  },
  {
   "cell_type": "code",
   "execution_count": null,
   "metadata": {},
   "outputs": [],
   "source": [
    "# 6. get original file and spectrum of \n",
    "novel_typeC_res_df = get_original_spectrum_id(event_path + '/novel_res.txt', typeC_new_peps)"
   ]
  },
  {
   "cell_type": "code",
   "execution_count": null,
   "metadata": {},
   "outputs": [],
   "source": [
    "test = known_pep_df.query('rna == \"asmbl_20943\"')\n",
    "test = test.reset_index(drop=True)\n",
    "test['end'] = 2939270 - test['pos']*3\n",
    "test['start'] = test.apply(lambda x: x['end'] - len(x['pep']*3), axis=1)"
   ]
  },
  {
   "cell_type": "code",
   "execution_count": null,
   "metadata": {},
   "outputs": [],
   "source": [
    "test"
   ]
  },
  {
   "cell_type": "code",
   "execution_count": null,
   "metadata": {},
   "outputs": [],
   "source": [
    "known_typeC_res_df.query('Protein == \"asmbl_20942\"')"
   ]
  },
  {
   "cell_type": "markdown",
   "metadata": {},
   "source": [
    "Plot pr length, tpm,  cov, type"
   ]
  },
  {
   "cell_type": "code",
   "execution_count": null,
   "metadata": {},
   "outputs": [],
   "source": [
    "merge_viral_genes = pr_pep_cov_df['new_geneid'].unique().tolist()\n",
    "new_retro_viral_rna_seq_fn = path + '/10_new_retro_viral_rna_seq.fa'\n",
    "fil_merge_viral_genes = []\n",
    "for record in SeqIO.parse(new_retro_viral_rna_seq_fn,'fasta'):\n",
    "    qid = ':'.join(record.id.split(':')[:3])\n",
    "    if qid in merge_viral_genes:\n",
    "        pr_seq = str(record.seq.translate())\n",
    "        if '*' in pr_seq:\n",
    "            fil_merge_viral_genes.append(qid)\n",
    "merge_viral_genes = [g for g in merge_viral_genes if (not g.startswith('picr')) or g in fil_merge_viral_genes]"
   ]
  },
  {
   "cell_type": "code",
   "execution_count": null,
   "metadata": {},
   "outputs": [],
   "source": [
    "cho_quant_df = quant_df.iloc[:,range(45)]\n",
    "cho_quant_df.loc[:,'rna'] = cho_quant_df.index.tolist()\n",
    "cho_quant_df = cho_quant_df.reset_index(drop=True)\n",
    "cho_quant_df['geneid'] = cho_quant_df['rna'].map(lambda x: rna_geneid_dic[x] if x in rna_geneid_dic else x)\n",
    "cho_quant_df['geneid'] = cho_quant_df['geneid'].map(lambda x: modify_geneid(x))\n",
    "cho_quant_df['geneid'] = cho_quant_df['geneid'].map(lambda x: ':'.join(x.split(':')[:3]) if x.startswith('picr') else x)\n",
    "del cho_quant_df['rna']\n",
    "cho_quant_df = cho_quant_df.groupby('geneid').sum()"
   ]
  },
  {
   "cell_type": "code",
   "execution_count": null,
   "metadata": {},
   "outputs": [],
   "source": [
    "cri = cho_quant_df.index.isin(merge_viral_genes)\n",
    "viral_quant_df = cho_quant_df.iloc[:,range(45)][cri]\n",
    "viral_quant_df['median'] = viral_quant_df.median(axis=1)\n",
    "viral_quant_df['mean'] = viral_quant_df.mean(axis=1)\n",
    "viral_quant_df['new_geneid'] = viral_quant_df.index"
   ]
  },
  {
   "cell_type": "code",
   "execution_count": null,
   "metadata": {},
   "outputs": [],
   "source": [
    "all_feature_df = pd.merge(pr_pep_cov_df,viral_quant_df[['new_geneid','median','mean']],on='new_geneid',how='inner')\n",
    "del all_feature_df['x']"
   ]
  },
  {
   "cell_type": "code",
   "execution_count": null,
   "metadata": {},
   "outputs": [],
   "source": [
    "from mpl_toolkits.mplot3d import Axes3D\n",
    "plt.rcParams[\"figure.figsize\"] = (10,8)\n",
    "ax = plt.figure().gca(projection='3d')\n",
    "anno_df = all_feature_df.query('type==\"anno\"')\n",
    "new_df = all_feature_df.query('type==\"new\"')\n",
    "ax.scatter(anno_df['cov_per'],anno_df['pr_len'],anno_df['median'],c='red',label='anno')\n",
    "ax.scatter(new_df['cov_per'],new_df['pr_len'],new_df['median'],c='blue',label='new')\n",
    "ax.set_xlabel('coverage')\n",
    "ax.set_ylabel('protein length')\n",
    "ax.set_zlabel('tpm')\n",
    "ax.set_title('evidence for retroviral expression')\n",
    "_ = ax.set_zlim([0,600])\n",
    "plt.legend(loc='best')"
   ]
  },
  {
   "cell_type": "code",
   "execution_count": null,
   "metadata": {},
   "outputs": [],
   "source": [
    "plt.rcParams[\"figure.figsize\"] = (10,8)\n",
    "ax = plt.figure().gca(projection='3d')\n",
    "env_df = all_feature_df.query('gename==\"ENV\"')\n",
    "gag_df = all_feature_df.query('gename==\"GAG\"')\n",
    "pol_df = all_feature_df.query('gename==\"POL\"')\n",
    "ax.scatter(env_df['cov_per'],env_df['pr_len'],env_df['median'],c='red',label='ENV')\n",
    "ax.scatter(gag_df['cov_per'],gag_df['pr_len'],gag_df['median'],c='blue',label='GAG')\n",
    "ax.scatter(pol_df['cov_per'],pol_df['pr_len'],pol_df['median'],c='yellow',label='POL')\n",
    "ax.set_xlabel('coverage')\n",
    "ax.set_ylabel('protein length')\n",
    "ax.set_zlabel('tpm')\n",
    "ax.set_title('evidence for each retroviral gene type')\n",
    "plt.legend()\n",
    "plt.rcParams[\"figure.figsize\"] = (6,4)"
   ]
  },
  {
   "cell_type": "code",
   "execution_count": null,
   "metadata": {},
   "outputs": [],
   "source": [
    "all_feature_df.to_csv(path+'/20_virus_cov_tpm.txt',sep='\\t',index=False)"
   ]
  },
  {
   "cell_type": "markdown",
   "metadata": {},
   "source": [
    "##### Next, we remove peptides from most abundant to least abundant and check how many are still supported by two or more peptides"
   ]
  },
  {
   "cell_type": "code",
   "execution_count": null,
   "metadata": {},
   "outputs": [],
   "source": [
    "def get_gene_pep_num_dic(known_retro_viral_df):\n",
    "    # {gene : [[num, pep]]}\n",
    "    gene_pep_num_dic = {}\n",
    "    pep_gene_num_dic = known_retro_viral_df[['pep','new_geneid']]\\\n",
    "                .drop_duplicates().groupby('pep').count().to_dict()['new_geneid']\n",
    "    for idx,row in known_retro_viral_df.iterrows():\n",
    "        key = row['new_geneid']\n",
    "        pep = row['pep']\n",
    "        num = pep_gene_num_dic[pep]\n",
    "        if key not in gene_pep_num_dic:\n",
    "            gene_pep_num_dic[key] = [[num,pep]]\n",
    "        else:\n",
    "            gene_pep_num_dic[key].append([num,pep])\n",
    "    return gene_pep_num_dic\n",
    "\n",
    "gene_pep_num_dic = get_gene_pep_num_dic(known_retro_viral_df)"
   ]
  },
  {
   "cell_type": "code",
   "execution_count": null,
   "metadata": {},
   "outputs": [],
   "source": [
    "def get_gene_vs_ko_pep(known_retro_viral_df,retro_rna_pep_df):\n",
    "    '''this function plots number of genes with more than 1 peptides vs number of peptides removed.\n",
    "    '''\n",
    "    known_retro_viral_df['new_geneid'] = known_retro_viral_df['geneid'].map(lambda x: modify_geneid(x))\n",
    "    # get {peptide : # of genes the peptide map to}\n",
    "    pep_gene_dic = {k:list(v) for k,v in known_retro_viral_df[['pep','new_geneid']].drop_duplicates().groupby('pep')['new_geneid']}\n",
    "    pep_gene_num_dic = {k:len(list(v)) for k,v in pep_gene_dic.iteritems()}\n",
    "\n",
    "    # {gene : [[num, pep]]}\n",
    "    gene_pep_num_dic = get_gene_pep_num_dic(known_retro_viral_df)\n",
    "    # in {gene : [[num, pep]]} sort by num\n",
    "    for k,v in gene_pep_num_dic.iteritems():\n",
    "        v = sorted(v,key=lambda x:x[0],reverse=True)\n",
    "        gene_pep_num_dic[k] = v\n",
    "    # determine order of peptide to remove\n",
    "    pep_rm_order = []\n",
    "    for gene in retro_rna_pep_df['new_geneid']:\n",
    "        for g in gene_pep_num_dic[gene]:\n",
    "            pep = g[1]\n",
    "            if pep not in pep_rm_order:\n",
    "                pep_rm_order.append(pep)\n",
    "\n",
    "    # import copy\n",
    "    new_df = known_retro_viral_df\n",
    "    x = range(len(pep_rm_order) + 1)\n",
    "    y = [] # gene number with more than 2 peptides\n",
    "    for p in ['no'] + pep_rm_order:\n",
    "        new_df = new_df.query('pep != @p')\n",
    "        new_df = new_df.reset_index(drop=True)\n",
    "        y.append(new_df[['new_geneid','pep']].drop_duplicates().groupby('new_geneid')\\\n",
    "                 .count().query('pep > 1').shape[0])\n",
    "    return x,y\n",
    "\n",
    "x,y = get_gene_vs_ko_pep(known_retro_viral_df,retro_rna_pep_df)"
   ]
  },
  {
   "cell_type": "code",
   "execution_count": null,
   "metadata": {},
   "outputs": [],
   "source": [
    "ax = plt.plot(x,y)\n",
    "_ = plt.title('gene num with more than 2 peptides VS remove peptides')\n",
    "_ = plt.xlabel('index of peptides')\n",
    "_ = plt.ylabel('gene number')"
   ]
  },
  {
   "cell_type": "code",
   "execution_count": null,
   "metadata": {},
   "outputs": [],
   "source": [
    "def get_ko_gene_vs_ko_top_pep(retro_rna_pep_df, gene_pep_num_dic, pep_gene_dic):\n",
    "    '''\n",
    "    1. for each gene I got it's top peptide, here top means the peptide maps to the most genes.\n",
    "    2. start with the most abundant gene,  remove the top peptide, then remove the genes that share the peptide.\n",
    "    3. for the remaining genes, start with the most abundant and remove the top peptide.\n",
    "    4. repeat 2-3 until all the genes are knock out.\n",
    "    '''\n",
    "    genes = retro_rna_pep_df['new_geneid'].tolist()\n",
    "    gene_top_peps = [gene_pep_num_dic[g][0][1] for g in genes]\n",
    "    x = [0]\n",
    "    y = [len(genes)]\n",
    "    n = 1\n",
    "    while genes !=[]:\n",
    "        gene = genes[0]\n",
    "        top_pep = gene_top_peps[0]\n",
    "        rm_genes = pep_gene_dic[top_pep]\n",
    "        idxes = sorted([genes.index(g) for g in rm_genes if g in genes],reverse=True)\n",
    "        for i in idxes:\n",
    "            del genes[i]\n",
    "            del gene_top_peps[i]\n",
    "        x.append(n)\n",
    "        y.append(len(genes))\n",
    "        n += 1\n",
    "    return x,y    \n",
    "\n",
    "pep_gene_dic = {k:list(v) for k,v in known_retro_viral_df[['pep','new_geneid']].drop_duplicates().groupby('pep')['new_geneid']}\n",
    "x,y = get_ko_gene_vs_ko_top_pep(retro_rna_pep_df, gene_pep_num_dic, pep_gene_dic)\n",
    "ax = plt.plot(x,y)\n",
    "_ = plt.title('knocked out genes VS peptide removal')\n",
    "_ = plt.xlabel('index of peptides')\n",
    "_ = plt.ylabel('knocked out genes')"
   ]
  },
  {
   "cell_type": "code",
   "execution_count": null,
   "metadata": {},
   "outputs": [],
   "source": [
    "def get_ko_genes_vs_left_peptides(known_retro_viral_df,gene_pep_num_dic):\n",
    "    '''this function \n",
    "    1. start from most abundant genes, remove all the peptides in the gene.\n",
    "    2. get number of peptides remained.\n",
    "    '''\n",
    "    peptides = known_retro_viral_df['pep'].unique().tolist()\n",
    "    genes = retro_rna_pep_df['new_geneid'].tolist()\n",
    "    x = range(len(genes) + 1)\n",
    "    y = [len(peptides)]\n",
    "\n",
    "    for gene in genes:\n",
    "        for p in gene_pep_num_dic[gene]:\n",
    "            try:\n",
    "                peptides = [pep for pep in peptides if pep != p[1]]\n",
    "            except:\n",
    "                pass\n",
    "        y.append(len(peptides))\n",
    "\n",
    "    return x,y\n",
    "\n",
    "x,y = get_ko_genes_vs_left_peptides(known_retro_viral_df,gene_pep_num_dic)\n",
    "ax = plt.plot(x,y)\n",
    "_ = plt.title('knocked out genes VS peptide remained')\n",
    "_ = plt.xlabel('index of genes')\n",
    "_ = plt.ylabel('number of unique peptides')"
   ]
  },
  {
   "cell_type": "markdown",
   "metadata": {},
   "source": [
    "all annotated retrovirus -> anno_viral_rnas<br>\n",
    "all annotated retrovirus with peptides support -> anno_viral_rnas_with_pep<br>\n",
    "all annotated retrovirus in ltr -> anno_retro_rnas_in_ltr<br>\n",
    "novel retrovirus sites -> new_retro_rna_sites<br>\n",
    "novel retrovirus sites that have pepetides support -> new_retro_rna_pep_sites<br>\n",
    "novel retrovirus sites that have peptides and ltr support -> new_retro_rna_ltr_pep_sites<br>\n",
    "use flags similar to sam file flag to indicate rnas:<br>\n",
    "\n",
    "| anno (0)   | new (1) |\n",
    "|------------|---------|\n",
    "| no_pep (0) | pep (2) |\n",
    "| no_ltr (0) | ltr (4) |"
   ]
  },
  {
   "cell_type": "code",
   "execution_count": null,
   "metadata": {},
   "outputs": [],
   "source": [
    "def assign_gene_flag(gene,anno_viral_rnas_with_pep,anno_retro_rnas_in_ltr,\\\n",
    "                     new_retro_rna_sites,new_retro_rna_pep_sites,new_retro_rna_ltr_sites):\n",
    "    '''this function assigns flags which determines the category of each gene'''\n",
    "    flag = 0\n",
    "    if gene in new_retro_rna_sites:\n",
    "        flag += 1\n",
    "    pep = new_retro_rna_pep_sites + anno_viral_rnas_with_pep\n",
    "    if gene in pep:\n",
    "        flag += 2\n",
    "    ltr = anno_retro_rnas_in_ltr + new_retro_rna_ltr_sites\n",
    "    if gene in ltr:\n",
    "        flag += 4\n",
    "    return flag"
   ]
  },
  {
   "cell_type": "code",
   "execution_count": null,
   "metadata": {},
   "outputs": [],
   "source": [
    "all_retro_rnas = anno_viral_rnas + new_retro_rna_sites\n",
    "retro_quant_df = quant_df.loc[all_retro_rnas,]\n",
    "retro_quant_df = retro_quant_df.fillna(0)\n",
    "# retro_quant_df['flag'] = retro_quant_df.index.map(lambda x:assign_gene_flag(x,anno_viral_rnas_with_pep,anno_retro_rnas_in_ltr,\\\n",
    "#                       new_retro_rna_sites,new_retro_rna_pep_sites,new_retro_rna_ltr_sites))"
   ]
  },
  {
   "cell_type": "code",
   "execution_count": null,
   "metadata": {},
   "outputs": [],
   "source": [
    "import numpy as np\n",
    "log_quant_df = (retro_quant_df+0.01).apply(np.log10)\n",
    "log_quant_df['flag'] = log_quant_df.index.map(lambda x:assign_gene_flag(x,anno_viral_rnas_with_pep,anno_retro_rnas_in_ltr,\\\n",
    "                      new_retro_rna_sites,new_retro_rna_pep_sites,new_retro_rna_ltr_sites))"
   ]
  },
  {
   "cell_type": "code",
   "execution_count": null,
   "metadata": {},
   "outputs": [],
   "source": [
    "log_quant_df['flag'].value_counts()"
   ]
  },
  {
   "cell_type": "code",
   "execution_count": null,
   "metadata": {},
   "outputs": [],
   "source": [
    "def tpm_boxplot(df,title):\n",
    "    ax = df.boxplot(figsize=(19,6))\n",
    "    _ = plt.xticks(rotation=90)\n",
    "    _ = ax.set_title(title)\n",
    "    _ = ax.set_ylabel('log10 tpm')\n",
    "    \n",
    "def tpm_lineplot(df,title):\n",
    "    ax = df.T.plot(figsize=(19,6))\n",
    "    _ = plt.xticks(rotation=90)\n",
    "    _ = ax.set_title(title)\n",
    "#     _ = ax.set_ylim([0,1000])\n",
    "    _ = ax.set_ylabel('log10 tpm')"
   ]
  },
  {
   "cell_type": "code",
   "execution_count": null,
   "metadata": {},
   "outputs": [],
   "source": [
    "for f in range(8):\n",
    "    f = str(f)\n",
    "    plt.figure(figsize=(19,6))\n",
    "    ax = tpm_boxplot(log_quant_df.query('[{f}] in flag'.format(f=f)).iloc[:,range(68)],f)"
   ]
  },
  {
   "cell_type": "code",
   "execution_count": null,
   "metadata": {},
   "outputs": [],
   "source": [
    "for f in range(7,8):\n",
    "    f = str(f)\n",
    "    plt.figure(figsize=(19,6))\n",
    "    ax = tpm_lineplot(log_quant_df.query('[{f}] in flag'.format(f=f)).iloc[:,range(68)],f)"
   ]
  },
  {
   "cell_type": "code",
   "execution_count": null,
   "metadata": {},
   "outputs": [],
   "source": [
    "# rna_index = SeqIO.index('/data/shangzhong/Picr_assembly/Annotation/PASA/pasa_stringtie/03_pasa_stringtie_rna.fa','fasta')\n",
    "\n",
    "# with open('/data/shangzhong/anno_virus.fa', 'w') as out:\n",
    "#     for rna in anno_viral_rnas:\n",
    "#         record = rna_index[rna]\n",
    "#         des =  record.description\n",
    "#         try:\n",
    "#             cds = re.search('(?<=CDS=).+?(?=$)',des).group(0).split('-')\n",
    "#             record.seq = record.seq[int(cds[0])-1:int(cds[1])]\n",
    "#             SeqIO.write(record, out, 'fasta')\n",
    "#         except:\n",
    "#             pass\n",
    "\n",
    "# ref_index = SeqIO.index('/data/shangzhong/Proteogenomics/virus/10_new_retro_viral_rna_seq.fa','fasta')\n",
    "# with open('/data/shangzhong/new_virus.fa','w') as out:\n",
    "#     for head in (high_virus2picr_df['head'] + ':' + high_virus2picr_df['strand']).unique():\n",
    "#         SeqIO.write(ref_index[head], out, 'fasta')\n",
    "\n",
    "# witn open('/data/shangzhong/new_virus.fa','w') as out:\n",
    "#     for head in high_virus2picr_df['head']:\n",
    "#         item = head.split(':')\n",
    "#         seq = ref_index[item[0]].seq[int(item[1]):]\n",
    "    \n",
    "# high_virus2picr_df.head()"
   ]
  }
 ],
 "metadata": {
  "kernelspec": {
   "display_name": "Python 2",
   "language": "python",
   "name": "python2"
  },
  "language_info": {
   "codemirror_mode": {
    "name": "ipython",
    "version": 2
   },
   "file_extension": ".py",
   "mimetype": "text/x-python",
   "name": "python",
   "nbconvert_exporter": "python",
   "pygments_lexer": "ipython2",
   "version": "2.7.11"
  }
 },
 "nbformat": 4,
 "nbformat_minor": 2
}
