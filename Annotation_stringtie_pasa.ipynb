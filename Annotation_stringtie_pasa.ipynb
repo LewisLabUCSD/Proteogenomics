{
 "cells": [
  {
   "cell_type": "code",
   "execution_count": 1,
   "metadata": {
    "collapsed": true,
    "hideCode": false,
    "hidePrompt": false
   },
   "outputs": [],
   "source": [
    "from Bio import Entrez\n",
    "Entrez.email = 'shl198@eng.ucsd.edu'\n",
    "import re,os,sarge\n",
    "import pandas as pd\n",
    "from natsort import natsorted\n",
    "from Bio import SeqIO\n",
    "from IPython.display import Markdown\n",
    "import matplotlib\n",
    "import matplotlib.pyplot as plt\n",
    "%matplotlib inline\n",
    "plt.style.use('ggplot')\n",
    "# import seaborn"
   ]
  },
  {
   "cell_type": "code",
   "execution_count": 2,
   "metadata": {
    "collapsed": true,
    "hideCode": false,
    "hidePrompt": false
   },
   "outputs": [],
   "source": [
    "thread = 9\n",
    "#----------------- PASA related parameter ----------------\n",
    "pasa = '/home/shangzhong/Installation/PASApipeline-2.0.2'\n",
    "ppl_fn = pasa + '/scripts/Launch_PASA_pipeline.pl'\n",
    "config = pasa + '/pasa_conf/pasa.alignAssembly.Template.txt'\n",
    "db = 'picr_db_stringtie'\n",
    "#----------------- transdecoder related parameter --------\n",
    "transde_code_path = '/home/shangzhong/Installation/TransDecoder-v5.0.2'\n",
    "#----------------- Annotation related parameter ----------\n",
    "path = '/data/shangzhong/Picr_assembly/Annotation/PASA/pasa_stringtie'\n",
    "hamster_id = '/data/shangzhong/Database/hamster/hamster_all_id.txt'\n",
    "ref_fa = '/data/genome/hamster/picr_old/picr.fa'\n",
    "rna_fa = path + '/hamster_rna.fa'\n",
    "pr_fa  = path + '/hamster_pr.fa'\n",
    "uniprot_fa = path + '/uniprot_sprot.fasta'\n",
    "stringtie_gtf = path + '/stringtie_merge.gtf'\n",
    "\n",
    "#----------------- Don't need to change the following parameter --------------\n",
    "trans2hamster = path + '/map2hamster.txt'\n",
    "trans2uniprot = path + '/map2uniprot.txt'\n",
    "pasa2hamrna = path + '/map2hamrna.txt'"
   ]
  },
  {
   "cell_type": "markdown",
   "metadata": {},
   "source": [
    "#### 1. Merge stringtie gff and gmap mapping results using PASA\n",
    "Results are saved in folder pasa_assem. There are 3 important files from pasa:\n",
    "1. file.pasa_assemblies.gff3: has rna map positions\n",
    "2. file.pasa_assembies_described.txt: has clusters of rnas.\n",
    "3. file.assemblies.fasta: has sequence of rna"
   ]
  },
  {
   "cell_type": "code",
   "execution_count": 3,
   "metadata": {
    "collapsed": true
   },
   "outputs": [],
   "source": [
    "def align_assemble(ppl_fn,config,ref_fa,rna_fa,thread,stringtie_gtf,otherParameters=['']):\n",
    "    '''This function do alignment assembly\n",
    "    generate 4 type of files: \n",
    "    sample_mydb_pasa.assemblies.fasta :the PASA assemblies in FASTA format.\n",
    "    sample_mydb_pasa.pasa_assemblies.gff3,.gtf,.bed :the PASA assembly structures.\n",
    "    sample_mydb_pasa.pasa_alignment_assembly_building.ascii_illustrations.out :descriptions \n",
    "        of alignment assemblies and how they were constructed from the underlying transcript alignments.\n",
    "    sample_mydb_pasa.pasa_assemblies_described.txt :tab-delimited format describing the contents\n",
    "         of the PASA assemblies, including the identity of those transcripts that were assembled into the corresponding structure.\n",
    "    '''\n",
    "    cmd = ('{ppl} -c {config} -C -r -R -g {ref_fa} --cufflinks_gtf {stringtie}\\\n",
    "             -t {rna_fa} --ALIGNERS gmap --CPU {thread} {other} ').format(ppl=ppl_fn,config=config,\n",
    "            ref_fa=ref_fa,stringtie=stringtie_gtf,rna_fa=rna_fa,thread=str(thread),other=' '.join(otherParameters))\n",
    "    sarge.run(cmd)"
   ]
  },
  {
   "cell_type": "code",
   "execution_count": 4,
   "metadata": {
    "collapsed": true
   },
   "outputs": [],
   "source": [
    "pasa_res_path = path + '/pasa_assem'\n",
    "pasa_gff = pasa_res_path + '/' + db + '.pasa_assemblies.gff3'\n",
    "pasa_desp = pasa_res_path + '/' + db + '.pasa_assemblies_described.txt'\n",
    "pasa_assm = pasa_res_path + '/' + db + '.assemblies.fasta'\n",
    "os.chdir(pasa_res_path)\n",
    "if not os.path.exists(pasa_gff):\n",
    "    align_assemble(ppl_fn,config,ref_fa,rna_fa,thread,stringtie_gtf,otherParameters=[''])"
   ]
  },
  {
   "cell_type": "markdown",
   "metadata": {},
   "source": [
    "#### Predict proteins in PASA assemblies using transdecoder\n",
    "Files that are important: \n",
    "1. file.assemblies.fasta.transdecoder.pep: has predicted peptides\n",
    "2. file.transdecoder.genome.gff3: predicted protein annotation"
   ]
  },
  {
   "cell_type": "code",
   "execution_count": 5,
   "metadata": {
    "collapsed": true,
    "scrolled": true
   },
   "outputs": [],
   "source": [
    "transde_path = path + '/transdecoder'\n",
    "if not os.path.exists(transde_path): os.mkdir(transde_path)\n",
    "os.chdir(transde_path)\n",
    "# transde_gff = transde_path + '/' + db + '.assemblies.fasta.transdecoder.gff3'\n",
    "transde_pep = transde_path + '/' + db + '.assemblies.fasta.transdecoder.pep'\n",
    "trans_gene_gff = transde_path + '/' + db + '.transdecoder.genome.gff3'\n",
    "# get ORF longer than 100 AA\n",
    "if not os.path.exists(trans_gene_gff):\n",
    "    cmd = ('{trans} -t {rna_fa}').format(trans=transde_code_path+'/TransDecoder.LongOrfs',rna_fa=pasa_assm)\n",
    "    sarge.run(cmd)\n",
    "    cmd = ('{trans} -t {rna_fa}').format(trans=transde_code_path+'/TransDecoder.Predict',rna_fa=pasa_assm)\n",
    "    sarge.run(cmd)\n",
    "    cmd = ('{orf2orf} {tran_gff} {pasa_gff} {pasa_assm} > {out_gff}').format(\n",
    "        orf2orf=transde_code_path+'/util/cdna_alignment_orf_to_genome_orf.pl',tran_gff=transde_gff,\n",
    "        pasa_gff=pasa_gff,pasa_assm=pasa_assm,out_gff=trans_gene_gff)\n",
    "    sarge.run(cmd)"
   ]
  },
  {
   "cell_type": "markdown",
   "metadata": {},
   "source": [
    "#### BLAST predicted proteins to hamster refseq proteins and uniprot proteins"
   ]
  },
  {
   "cell_type": "code",
   "execution_count": 6,
   "metadata": {
    "collapsed": true
   },
   "outputs": [],
   "source": [
    "def makeblastdb(fastaFile,datatype,out_path,outputname):\n",
    "    \"\"\"\n",
    "    this function build database given a fasta file\n",
    "    * fastaFile: can be gzipped or not\n",
    "    \"\"\"\n",
    "    if not os.path.exists(out_path):os.mkdir(out_path)\n",
    "    os.chdir(out_path)\n",
    "    cmd = ('makeblastdb -in {input} -dbtype {type} -title {title} -out {outputname}').format(\n",
    "        input=fastaFile,type=datatype,outputname=outputname,title=outputname)\n",
    "    sarge.run(cmd)\n",
    "    \n",
    "def blastp(query,outputFile,database,thread,mapnum=1):\n",
    "    \"\"\"\n",
    "    This function run blastp\n",
    "    * query: fasta file which you want to map\n",
    "    * database: database path/name\n",
    "    * outputFile: tabular blast result\n",
    "    \"\"\"\n",
    "    cmd = ('blastp -query {inf} -db {database} -out {outputFile} '\n",
    "           '-evalue 1e-4 -outfmt \\'6 qacc sacc pident length mismatch '\n",
    "           'gapopen qstart qend sstart send evalue bitscore qlen slen\\' '\n",
    "           '-num_threads {thread} -num_alignments {mapnum}').format(inf=query,\n",
    "                database=database,outputFile=outputFile,thread=str(thread),mapnum=str(mapnum))\n",
    "    sarge.run(cmd)\n",
    "\n",
    "def blastn(query,outputFile,database,thread,mapnum=1):\n",
    "    ''''''\n",
    "    cmd = ('blastn -query {inf} -db {database} -out {out} -evalue 1e-4 '\n",
    "           '-outfmt \\'6 qacc sacc pident length mismatch '\n",
    "           'gapopen qstart qend sstart send evalue bitscore qlen slen\\' '\n",
    "          '-num_threads {thread} -num_alignments {mapnum}').format(inf=query,\n",
    "                database=database,out=outputFile,thread=str(thread),mapnum=str(mapnum))\n",
    "    sarge.run(cmd)"
   ]
  },
  {
   "cell_type": "code",
   "execution_count": 8,
   "metadata": {
    "collapsed": true
   },
   "outputs": [],
   "source": [
    "# build protein database\n",
    "ham_db = path + '/hamster_blastDb'\n",
    "uni_db = path + '/uniprot_blastDb'\n",
    "ham_rna_db = path + '/hamster_rna_blastDb'\n",
    "if not os.path.exists(ham_db):\n",
    "    makeblastdb(pr_fa,'prot',ham_db,'hamster')\n",
    "if not os.path.exists(uni_db):\n",
    "    makeblastdb(uniprot_fa,'prot',uni_db,'uniprot')\n",
    "if not os.path.exists(ham_rna_db):\n",
    "    makeblastdb(rna_fa,'nucl',ham_rna_db,'hamster')\n",
    "# blastp\n",
    "os.chdir(transde_path)\n",
    "map2ham = transde_path + '/map2hamster.txt'\n",
    "map2uni = transde_path + '/map2uniprot.txt'\n",
    "map2ham_rna = transde_path + '/map2ham_rna.txt'\n",
    "if not os.path.exists(map2ham):\n",
    "    blastp(transde_pep,map2ham,ham_db+'/hamster',thread)\n",
    "if not os.path.exists(map2uni):\n",
    "    blastp(transde_pep,map2uni,uni_db+'/uniprot',thread=19)\n",
    "if not os.path.exists(map2ham_rna):\n",
    "    blastn(pasa_assm,map2ham_rna,ham_rna_db+'/hamster',thread=19)"
   ]
  },
  {
   "cell_type": "markdown",
   "metadata": {},
   "source": [
    "Change uniprot id to gene name\n",
    "The accession of uniprot protein doesn't have protein name, so we need to retrieve gene names from it's website"
   ]
  },
  {
   "cell_type": "code",
   "execution_count": 8,
   "metadata": {
    "collapsed": true
   },
   "outputs": [],
   "source": [
    "import urllib,urllib2\n",
    "def get_uniprot(query):\n",
    "    '''space separted accession'''\n",
    "    url = 'http://www.uniprot.org/uploadlists/'\n",
    "\n",
    "    params = {\n",
    "    'from':'ACC',\n",
    "    'to':'GENENAME',\n",
    "    'format':'tab',\n",
    "    'query':query\n",
    "    }\n",
    "\n",
    "    data = urllib.urlencode(params)\n",
    "    request = urllib2.Request(url, data)\n",
    "    contact = \"shl198@eng.ucsd.edu\" # Please set your email address here to help us debug in case of problems.\n",
    "    request.add_header('User-Agent', 'Python %s' % contact)\n",
    "    response = urllib2.urlopen(request)\n",
    "    page = response.read(200000)\n",
    "    return page\n",
    "def uniprot_ac2name(uni_fa,out):\n",
    "    ids = []\n",
    "    for record in SeqIO.parse(fn,'fasta'):\n",
    "        title = record.id\n",
    "        ids.append(title.split('|')[1])\n",
    "\n",
    "    query = ' '.join(ids)\n",
    "\n",
    "    n = 6000\n",
    "    batches = [ids[i:i+n] for i in range(0,len(ids),n)]\n",
    "    with open(out,'a') as out:\n",
    "        for b in batches:\n",
    "            res = get_uniprot(' '.join(b))[8:]\n",
    "            out.write(res)"
   ]
  },
  {
   "cell_type": "code",
   "execution_count": 9,
   "metadata": {
    "collapsed": true
   },
   "outputs": [],
   "source": [
    "uni_id_map_fn = path + '/uniprot_idmap.txt'\n",
    "if not os.path.exists(uni_id_map_fn):\n",
    "    uniprot_ac2name(map2uni,uni_id_map_fn)\n",
    "df = pd.read_csv(uni_id_map_fn,sep='\\t',header=None,names=['acc','name'])\n",
    "df['name'] = df['name'].map(lambda x: str(x).upper())\n",
    "acc_name_dic = df.set_index('acc')['name'].to_dict()\n",
    "# add name column\n",
    "pre_df = pd.read_csv(map2uni,sep='\\t',header=None)\n",
    "pre_df['acc'] = pre_df[1]\n",
    "pre_df[1] = pre_df[1].map(lambda x: acc_name_dic[x.split('|')[1]] if x.split('|')[1] in acc_name_dic else x.split('|')[2])\n",
    "# output to file\n",
    "map2uni_name = transde_path + '/map2uniname.txt'\n",
    "pre_df[range(13)].to_csv(map2uni_name,sep='\\t',header=None,index=False)\n",
    "map2uni_name_acc = transde_path + '/map2uniname_acc.txt'\n",
    "pre_df[[0,1,'acc']].to_csv(map2uni_name_acc,sep='\\t',header=None,index=False)"
   ]
  },
  {
   "cell_type": "markdown",
   "metadata": {},
   "source": [
    "#### 2. Get gene, assembly, transcripts mapping from pasa descriptions.\n",
    "Genes can have multiple assebmlies, each assembly maps to many transcripts. \n",
    "Here we build an assembly as {gene:{assemble#:[MSTR,XM_**]}}"
   ]
  },
  {
   "cell_type": "code",
   "execution_count": 10,
   "metadata": {
    "collapsed": true
   },
   "outputs": [],
   "source": [
    "def prepare_dic_from_pasa_desp(pasa_desp):\n",
    "    '''this function extract information from pasa description file'''\n",
    "    gene_assm_tr_dic = {} # {gene:{assemble:[MSTG,XM_****]}}\n",
    "    assm_geneclust_dic = {} # {assmbl:gene}\n",
    "    geneclust_chrom_dic = {} # {geneclustid:chr}\n",
    "    with open(pasa_desp) as f:\n",
    "        for line in f:\n",
    "            if line.strip() == '' or line.startswith('#'):\n",
    "                continue\n",
    "            item = line.strip().split('\\t')\n",
    "            chrom = item[0]\n",
    "            gene  = item[1]\n",
    "            rna  = item[2]\n",
    "            geneclust_chrom_dic[gene] = chrom\n",
    "            assm_geneclust_dic[rna] = gene\n",
    "            trs   = [tr if tr.startswith('MSTRG') else tr.split('.')[0] for tr in item[3].split(',')]\n",
    "            if gene not in gene_assm_tr_dic:\n",
    "                gene_assm_tr_dic[gene] = {rna:trs}\n",
    "            else:\n",
    "                if rna not in gene_assm_tr_dic[gene]:\n",
    "                    gene_assm_tr_dic[gene][rna] = trs\n",
    "                else:\n",
    "                    gene_assm_tr_dic[gene][rna].extend(trs)\n",
    "    return gene_assm_tr_dic,assm_geneclust_dic,geneclust_chrom_dic"
   ]
  },
  {
   "cell_type": "code",
   "execution_count": 11,
   "metadata": {
    "collapsed": true
   },
   "outputs": [],
   "source": [
    "gene_assm_tr_dic,assm_geneclust_dic,geneclust_chrom_dic = prepare_dic_from_pasa_desp(pasa_desp)"
   ]
  },
  {
   "cell_type": "markdown",
   "metadata": {},
   "source": [
    "#### PASA assembly splice positions\n",
    "The assembly is gff file that has all positions of transcripts from PASA.\n",
    "{assembly:[chr+strand,[s1,e1],[s2,e2]}"
   ]
  },
  {
   "cell_type": "code",
   "execution_count": 12,
   "metadata": {
    "collapsed": true
   },
   "outputs": [],
   "source": [
    "def get_pasa_pos_dic(pasa_gff):\n",
    "    '''this function builds dictionary from pasa rna gff file'''\n",
    "    pasa_pos_dic = {}\n",
    "    with open(pasa_gff) as f:\n",
    "        for line in f:\n",
    "            if line.strip() == '' or line.startswith('#'):\n",
    "                continue\n",
    "            item = line.strip().split('\\t')\n",
    "            chrom = item[0]\n",
    "            start = int(item[3])\n",
    "            end = int(item[4])\n",
    "            strand = item[6]\n",
    "            anno = item[8]\n",
    "            tr = re.search('(?<=Target=).+?(?=\\ )',anno).group(0)\n",
    "            if tr not in pasa_pos_dic:\n",
    "                pasa_pos_dic[tr] = [chrom+strand,[start,end]]\n",
    "            else:\n",
    "                pasa_pos_dic[tr].append([start,end])\n",
    "    return pasa_pos_dic"
   ]
  },
  {
   "cell_type": "code",
   "execution_count": 13,
   "metadata": {
    "collapsed": true
   },
   "outputs": [],
   "source": [
    "pasa_pos_dic = get_pasa_pos_dic(pasa_gff)"
   ]
  },
  {
   "cell_type": "markdown",
   "metadata": {},
   "source": [
    "#### Build gene, tr_access, pr_access mapping"
   ]
  },
  {
   "cell_type": "code",
   "execution_count": 14,
   "metadata": {
    "collapsed": true
   },
   "outputs": [],
   "source": [
    "# build gene, traccess, pr access mapping\n",
    "def gene_rna_pr_id_map(hamster_id,access,out_fn):\n",
    "    '''this fnction get all gene rna pr id, including both refseq and gff information.\n",
    "    * hamster_id: a file that has all ids in hamster.gff file\n",
    "    * access\n",
    "    * out_fn:  \n",
    "    '''\n",
    "    # rna accession in gff file\n",
    "    ham_id_df = pd.read_csv(hamster_id,sep='\\t',header=0)\n",
    "    ham_id_df = ham_id_df.astype('str')\n",
    "    ham_id_df['TrAccess'] = ham_id_df['TrAccess'].map(lambda x: x.split('.')[0])\n",
    "    ham_id_df['PrAccess'] = ham_id_df['PrAccess'].map(lambda x: x.split('.')[0])\n",
    "    rna_gene_dic = ham_id_df.set_index('TrAccess')['GeneID'].to_dict()\n",
    "    rna_pr_dic = ham_id_df.set_index('TrAccess')['PrAccess'].to_dict()\n",
    "    rna_gname_dic = ham_id_df.set_index('TrAccess')['GeneSymbol'].to_dict()\n",
    "    # new rna in refseq compared to gff\n",
    "    new_ref_rna = list(set(access) - set(rna_gene_dic.keys()))\n",
    "    # get geneid for new ref_rna gene id\n",
    "    for r in new_ref_rna:\n",
    "        if r.startswith('MSTRG'):\n",
    "            rna_gene_dic[r] = '.'.join(r.split('.')[:2])\n",
    "            rna_pr_dic[r] = '-'\n",
    "            rna_gname_dic[r] = '.'.join(r.split('.')[:2])\n",
    "        else:\n",
    "            handle = Entrez.efetch(db='nucleotide',id=r,rettype='gb',retmode='text').read()\n",
    "            \n",
    "            geneid = re.search('(?<=GeneID:).+?(?=\\\")',handle).group(0)\n",
    "            gename = re.search('(?<=gene=\\\").+?(?=\\\")',handle).group(0)\n",
    "            try:\n",
    "                p = re.search('(?<=protein_id=\\\").+?(?=\\.)',handle).group(0)\n",
    "            except:\n",
    "                p = '-'\n",
    "            rna_gene_dic[r] = geneid\n",
    "            rna_pr_dic[r] = p\n",
    "            rna_gname_dic[r] = gename\n",
    "    # transfer dic to dataframe\n",
    "    r_g_df = pd.DataFrame.from_dict(rna_gene_dic,'index')\n",
    "    r_g_df.columns = ['geneid']\n",
    "    r_p_df = pd.DataFrame.from_dict(rna_pr_dic,'index')\n",
    "    r_p_df.columns = ['pr_ac']\n",
    "    r_n_df = pd.DataFrame.from_dict(rna_gname_dic,'index')\n",
    "    r_n_df.columns = ['gename']\n",
    "    g_r_p_df = pd.concat([r_g_df,r_n_df,r_p_df],axis=1)\n",
    "    g_r_p_df['rna_ac'] = g_r_p_df.index\n",
    "    g_r_p_df[['geneid','gename','rna_ac','pr_ac']].to_csv(out_fn,sep='\\t',index=False)"
   ]
  },
  {
   "cell_type": "code",
   "execution_count": 15,
   "metadata": {
    "collapsed": true
   },
   "outputs": [],
   "source": [
    "id_fn = path + '/01_gene_tr_pr.txt'\n",
    "if not os.path.exists(id_fn):\n",
    "    rna_access = []\n",
    "    for record in SeqIO.parse(rna_fa,'fasta'):\n",
    "        rna_access.append(record.id.split('.')[0])\n",
    "    gene_rna_pr_id_map(hamster_id,rna_access,id_fn)"
   ]
  },
  {
   "cell_type": "markdown",
   "metadata": {},
   "source": [
    "#### Build transdecoder and pr position\n",
    "{cds_pr_id:[chrom+strand,[s,e],...]}"
   ]
  },
  {
   "cell_type": "code",
   "execution_count": 16,
   "metadata": {
    "collapsed": true
   },
   "outputs": [],
   "source": [
    "def get_trans_pr_pos_dic(trans_gene_gff):\n",
    "    trans_pr_pos_dic = {}\n",
    "    with open(trans_gene_gff) as f:\n",
    "        for line in f:\n",
    "            if line.strip() == '' or line.startswith('#'): continue\n",
    "            item = line.split('\\t')\n",
    "            chrom = item[0]\n",
    "            start = int(item[3])\n",
    "            end = int(item[4])\n",
    "            strand = item[6]\n",
    "            anno = item[8]\n",
    "            if item[2] =='CDS':\n",
    "                fid = re.search('(?<=ID=).+?(?=;)',anno).group(0)[4:]\n",
    "                if fid not in trans_pr_pos_dic:\n",
    "                    trans_pr_pos_dic[fid] = [chrom+strand,[start,end]]\n",
    "                else:\n",
    "                    trans_pr_pos_dic[fid].append([start,end])\n",
    "    return trans_pr_pos_dic"
   ]
  },
  {
   "cell_type": "code",
   "execution_count": 17,
   "metadata": {
    "collapsed": true
   },
   "outputs": [],
   "source": [
    "trans_pr_pos_dic = get_trans_pr_pos_dic(trans_gene_gff)"
   ]
  },
  {
   "cell_type": "markdown",
   "metadata": {},
   "source": [
    "#### Categorize mapping of predicted proteins to hamster ref and uniprot"
   ]
  },
  {
   "cell_type": "code",
   "execution_count": 18,
   "metadata": {
    "collapsed": true
   },
   "outputs": [],
   "source": [
    "id_df = pd.read_csv(id_fn,sep='\\t',header=0)\n",
    "id_df = id_df.query('(pr_ac != \\'-\\')')\n",
    "id_df = id_df.reset_index(drop=True)\n",
    "\n",
    "ham_pr2gnm_dic = id_df.set_index('pr_ac')['gename'].to_dict()"
   ]
  },
  {
   "cell_type": "code",
   "execution_count": 19,
   "metadata": {
    "collapsed": true,
    "hideCode": false,
    "hidePrompt": false,
    "scrolled": true
   },
   "outputs": [],
   "source": [
    "trans2hamster_df = pd.read_csv(map2ham,sep='\\t',header=None,names=['qacc',\n",
    "        'sacc','pident','length','mismatch','gapopen','qstart','qend','sstart','send',\n",
    "        'evalue','qlen','slen'])\n",
    "trans2hamster_df['sacc'] = trans2hamster_df['sacc'].map(lambda x: x.split('.')[0])\n",
    "trans2hamster_df['gnm'] = trans2hamster_df['sacc'].map(lambda x: ham_pr2gnm_dic[x].upper() \n",
    "                        if x in ham_pr2gnm_dic else x)\n",
    "trans2hamster_df = trans2hamster_df.query('evalue<1e-4')\n",
    "\n",
    "trans2uniprot_df = pd.read_csv(map2uni_name,sep='\\t',header=None,names=['qacc',\n",
    "        'sacc','pident','length','mismatch','gapopen','qstart','qend','sstart','send',\n",
    "        'evalue','qlen','slen'])\n",
    "\n",
    "trans2uniprot_df['gnm']=trans2uniprot_df['sacc']#.map(lambda x: x.split('|')[-1].split('_')[0])\n",
    "trans2uniprot_df = trans2uniprot_df.query('evalue<1e-4')"
   ]
  },
  {
   "cell_type": "code",
   "execution_count": 20,
   "metadata": {
    "collapsed": true
   },
   "outputs": [],
   "source": [
    "m = trans2hamster_df['qacc'].unique().shape[0]\n",
    "n = trans2uniprot_df['qacc'].unique().shape[0]\n",
    "\n",
    "i = trans2hamster_df.query('(pident==100) and (length==slen==qlen-1)').shape[0]\n",
    "j = trans2uniprot_df.query('(pident==100) and (length==slen==qlen-1)').shape[0]\n",
    "\n",
    "o = trans2hamster_df['sacc'].unique().shape[0]\n",
    "p = trans2uniprot_df['sacc'].unique().shape[0]"
   ]
  },
  {
   "cell_type": "code",
   "execution_count": 21,
   "metadata": {
    "scrolled": true
   },
   "outputs": [
    {
     "name": "stdout",
     "output_type": "stream",
     "text": [
      "there are 86790 transcripts in pasa assemblies\n",
      "there are 32836 proteins in hamster refseq proteins,28784 unique proteins\n",
      "transdecoder generates 64598 proteins in total\n",
      "65546 of them map to 25302 hamster refseq proteins\n",
      "65643 of them map to 17138 uniprot swissprot proteins\n",
      "\n",
      "\n",
      "23103 proteins map perfectly to hamster refseq\n",
      "1050 proteins map perfectly to uniprot proteins\n"
     ]
    }
   ],
   "source": [
    "print 'there are',len(pasa_pos_dic),'transcripts in pasa assemblies'\n",
    "print 'there are 32836 proteins in hamster refseq proteins,28784 unique proteins'\n",
    "print 'transdecoder generates 64598 proteins in total'\n",
    "print m,'of them map to',o,'hamster refseq proteins'\n",
    "print n,'of them map to',p,'uniprot swissprot proteins'\n",
    "print '\\n'\n",
    "print i,'proteins map perfectly to hamster refseq'\n",
    "print j,'proteins map perfectly to uniprot proteins'"
   ]
  },
  {
   "cell_type": "markdown",
   "metadata": {},
   "source": [
    "For unfiltered data,\n",
    "64113 of them map to 25589 hamster refseq proteins\n",
    "63950 of them map to 22512 uniprot swissprot proteins\n",
    "21503 proteins map perfectly to hamster refseq\n",
    "915 proteins map perfectly to uniprot proteins"
   ]
  },
  {
   "cell_type": "markdown",
   "metadata": {},
   "source": [
    "score=length * pident, if the two proteins map in multiple fragments format, the blast results reports in multiple lines, here we want to get statistics on the transcripts that have same/different gene names when mapping to the hamster refseq and uniprot proteins, os we get the highest score for each pair of mappings and then plot the distribution."
   ]
  },
  {
   "cell_type": "code",
   "execution_count": 22,
   "metadata": {
    "collapsed": true
   },
   "outputs": [],
   "source": [
    "# score (effective length) =length*pident\n",
    "sub1 = trans2hamster_df[['qacc','sacc','gnm','pident','length','qlen','slen']]\n",
    "sub1 = sub1.reset_index(drop=True)\n",
    "sub2 = trans2uniprot_df[['qacc','gnm','pident','length','qlen','slen']]\n",
    "sub2 = sub2.reset_index(drop=True)"
   ]
  },
  {
   "cell_type": "code",
   "execution_count": 23,
   "metadata": {
    "collapsed": true
   },
   "outputs": [],
   "source": [
    "sub1.loc[:,'score'] = sub1['pident']*sub1['length']/100\n",
    "sub2.loc[:,'score'] = sub2['pident']*sub2['length']/100\n",
    "sub1.loc[:,'qper'] = sub1['length']/sub1['qlen']\n",
    "sub1.loc[:,'sper'] = sub1['length']/sub1['slen']\n",
    "sub2.loc[:,'qper'] = sub2['length']/sub2['qlen']\n",
    "sub2.loc[:,'sper'] = sub2['length']/sub2['slen']\n",
    "# get the item with maximum score\n",
    "idx = sub1.groupby('qacc')['score'].transform(max)==sub1['score']\n",
    "sub1 = sub1[idx]\n",
    "sub1 = sub1.reset_index(drop=True)\n",
    "sub1 = sub1.groupby('qacc').first()\n",
    "idx = sub2.groupby('qacc')['score'].transform(max)==sub2['score']\n",
    "sub2 = sub2[idx]\n",
    "sub2 = sub2.reset_index(drop=True)\n",
    "sub2 = sub2.groupby('qacc').first()\n",
    "# merge the two by index, which is qacc\n",
    "ham_uni_id = pd.merge(sub1,sub2,how='outer',left_index=True,right_index=True)\n",
    "ham_uni_id.columns = ['sacc', 'gnm_x', 'map2hamster', 'length_x','qlen_x',\n",
    "                      'slen_x','score_x','qper_x','sper_x',\n",
    "                      'gnm_y', 'map2uniprot', 'length_y','qlen_y','slen_y',\n",
    "                      'score_y','qper_y','sper_y']\n",
    "pr_assms = [a.split('.')[0] for a in ham_uni_id.index.unique()]"
   ]
  },
  {
   "cell_type": "code",
   "execution_count": 24,
   "metadata": {
    "scrolled": false
   },
   "outputs": [
    {
     "name": "stdout",
     "output_type": "stream",
     "text": [
      "there are 51691 transcripts have the same mapping gene names to hamster refseq and uniprot\n",
      "there are 14389 transcripts have different mapping gene names to hamster refseq and uniprot\n"
     ]
    }
   ],
   "source": [
    "same_name_df = ham_uni_id.query('(gnm_y==gnm_x)')\n",
    "diff_name_df = ham_uni_id.query('gnm_y!=gnm_x')\n",
    "print 'there are',same_name_df.shape[0],'transcripts have the same mapping gene names to hamster refseq and uniprot'\n",
    "print 'there are',diff_name_df.shape[0],'transcripts have different mapping gene names to hamster refseq and uniprot'"
   ]
  },
  {
   "cell_type": "code",
   "execution_count": 25,
   "metadata": {},
   "outputs": [
    {
     "data": {
      "image/png": "[encoded data removed]",
      "text/plain": [
       "<matplotlib.figure.Figure at 0x7f3e30b63e10>"
      ]
     },
     "metadata": {},
     "output_type": "display_data"
    },
    {
     "data": {
      "image/png": "[encoded data removed]",
      "text/plain": [
       "<matplotlib.figure.Figure at 0x7f3dcf7ba6d0>"
      ]
     },
     "metadata": {},
     "output_type": "display_data"
    },
    {
     "data": {
      "image/png": "[encoded data removed]",
      "text/plain": [
       "<matplotlib.figure.Figure at 0x7f3dc797df50>"
      ]
     },
     "metadata": {},
     "output_type": "display_data"
    },
    {
     "data": {
      "image/png": "[encoded data removed]",
      "text/plain": [
       "<matplotlib.figure.Figure at 0x7f3dc73f7d50>"
      ]
     },
     "metadata": {},
     "output_type": "display_data"
    }
   ],
   "source": [
    "ax = same_name_df['qper_x'].plot(kind='hist')\n",
    "plt.figure()\n",
    "ax = same_name_df['qper_y'].plot(kind='hist')\n",
    "plt.figure()\n",
    "ax = diff_name_df['qper_x'].plot(kind='hist')\n",
    "plt.figure()\n",
    "ax = diff_name_df['qper_y'].plot(kind='hist')"
   ]
  },
  {
   "cell_type": "code",
   "execution_count": 26,
   "metadata": {
    "scrolled": true
   },
   "outputs": [
    {
     "data": {
      "image/png": "[encoded data removed]",
      "text/plain": [
       "<matplotlib.figure.Figure at 0x7f3dfe665ad0>"
      ]
     },
     "metadata": {},
     "output_type": "display_data"
    },
    {
     "data": {
      "image/png": "[encoded data removed]",
      "text/plain": [
       "<matplotlib.figure.Figure at 0x7f3dc704c490>"
      ]
     },
     "metadata": {},
     "output_type": "display_data"
    }
   ],
   "source": [
    "ax = same_name_df[['map2hamster','map2uniprot']].plot(kind='hist',bins=50,alpha=0.5,figsize=(6,4))\n",
    "_ = ax.set_title('same gene name mapping '\n",
    "                'to hamster refseq and uniprot')\n",
    "_ = ax.set_yscale('log')\n",
    "_ = ax.set_xlabel('percentage')\n",
    "_ = ax.set_ylim([1,100000])\n",
    "ttl = ax.title\n",
    "ttl.set_position([.5, 1.05])\n",
    "plt.savefig('/data/shangzhong/fig1.jpg',dpi=600)\n",
    "ax = diff_name_df[['map2hamster','map2uniprot']].plot(kind='hist',bins=50,alpha=0.5,figsize=(6,4))\n",
    "_ = ax.set_title('diff gene name '\n",
    "                 'mapping to hamster refseq and uniprot')\n",
    "_ = ax.set_yscale('log')\n",
    "_ = ax.set_xlabel('percentage')\n",
    "_ = ax.set_ylim([1,100000])\n",
    "ttl = ax.title\n",
    "ttl.set_position([.5, 1.05])\n",
    "plt.savefig('/data/shangzhong/fig2.jpg',dpi=600)"
   ]
  },
  {
   "cell_type": "markdown",
   "metadata": {},
   "source": [
    "From the figure above, we can see that for transcripts that have the same gene name when mapping to hamster refseq and uniprot, the cut off for hamster refseq is 60%, for uniprot is 50%. So I will use these thresholds to categorize the confidence level of the transcripts."
   ]
  },
  {
   "cell_type": "code",
   "execution_count": 27,
   "metadata": {
    "scrolled": true
   },
   "outputs": [
    {
     "name": "stdout",
     "output_type": "stream",
     "text": [
      "there are 49084 transcripts have same name above 6050 percent\n",
      "there are 2607 transcripts have same name below 6050 percent\n",
      "there are 10260 transcripts have diff name above 6050 percent\n",
      "there are 4129 transcripts have diff name below 6050 percent\n"
     ]
    }
   ],
   "source": [
    "same_name_abv_6050 = same_name_df.query('(map2hamster>=60 and map2uniprot>=50) and '\n",
    "                        '(qper_x>=0.8 or sper_x>=0.8)').index.unique().tolist()\n",
    "same_name_blw_6050 = list(set(same_name_df.index.unique())-set(same_name_abv_6050))\n",
    "diff_name_abv_6050 = diff_name_df.query('(map2hamster>=60 and map2uniprot>=50) and '\n",
    "                                       '(qper_x>=0.8 or sper_x>=0.8)').index.unique()\n",
    "diff_name_blw_6050 = list(set(diff_name_df.index.unique())-set(diff_name_abv_6050))\n",
    "print 'there are',len(same_name_abv_6050),'transcripts have same name above 6050 percent'\n",
    "print 'there are',len(same_name_blw_6050),'transcripts have same name below 6050 percent'\n",
    "print 'there are',len(diff_name_abv_6050),'transcripts have diff name above 6050 percent'\n",
    "print 'there are',len(diff_name_blw_6050),'transcripts have diff name below 6050 percent'"
   ]
  },
  {
   "cell_type": "markdown",
   "metadata": {},
   "source": [
    "there are 51532 transcripts have same name above 6050 percent\n",
    "there are 159 transcripts have same name below 6050 percent\n",
    "there are 11057 transcripts have diff name above 6050 percent\n",
    "there are 3332 transcripts have diff name below 6050 percent"
   ]
  },
  {
   "cell_type": "markdown",
   "metadata": {},
   "source": [
    "#### 5. Get long noncoding RNAs"
   ]
  },
  {
   "cell_type": "code",
   "execution_count": 28,
   "metadata": {
    "collapsed": true,
    "scrolled": true
   },
   "outputs": [],
   "source": [
    "map2hamrna_df = pd.read_csv(map2ham_rna,sep='\\t',header=None,names=['qacc',\n",
    "        'sacc','pident','length','mismatch','gapopen','qstart','qend','sstart','send',\n",
    "        'evalue','qlen','slen'])\n",
    "map2hamrna_df['qstart'] -= 1\n",
    "map2hamrna_df['score'] = map2hamrna_df['length']*map2hamrna_df['pident']\n",
    "map2hamrna_df['qlen_per'] = (map2hamrna_df['qend']-map2hamrna_df['qstart'])/map2hamrna_df['qlen']\n",
    "map2hamrna_df = map2hamrna_df[map2hamrna_df['sacc'].str.startswith('XR_')]"
   ]
  },
  {
   "cell_type": "code",
   "execution_count": 29,
   "metadata": {},
   "outputs": [
    {
     "data": {
      "image/png": "[encoded data removed]",
      "text/plain": [
       "<matplotlib.figure.Figure at 0x7f3dc74a9290>"
      ]
     },
     "metadata": {},
     "output_type": "display_data"
    },
    {
     "data": {
      "image/png": "[encoded data removed]",
      "text/plain": [
       "<matplotlib.figure.Figure at 0x7f3dc7321050>"
      ]
     },
     "metadata": {},
     "output_type": "display_data"
    }
   ],
   "source": [
    "ax = map2hamrna_df['pident'].plot(kind='hist')\n",
    "_ = ax.set_title('mapping identity to hamster rna')\n",
    "_ = ax.set_xlabel('pident')\n",
    "plt.figure()\n",
    "ax = map2hamrna_df['qlen_per'].plot(kind='hist')\n",
    "_ = ax.set_title('mapping length portion to hamster rna')\n",
    "_ = ax.set_xlabel('portion')"
   ]
  },
  {
   "cell_type": "code",
   "execution_count": 30,
   "metadata": {},
   "outputs": [
    {
     "name": "stdout",
     "output_type": "stream",
     "text": [
      "there are 4640 assmblies map to 4661 long non coding rnas\n"
     ]
    }
   ],
   "source": [
    "idx = map2hamrna_df.groupby('qacc')['score'].transform(max)==map2hamrna_df['score']\n",
    "map2hamrna_df=map2hamrna_df[idx]\n",
    "map2hamrna_df = map2hamrna_df.query('pident>=0.6 & qlen_per>=0.7')\n",
    "lncRNA = map2hamrna_df['qacc'].unique().tolist()\n",
    "lncRNA = list(set(lncRNA)-set(pr_assms))\n",
    "print 'there are',len(lncRNA),'assmblies map to',map2hamrna_df['sacc'].unique().size,'long non coding rnas'"
   ]
  },
  {
   "cell_type": "code",
   "execution_count": 31,
   "metadata": {
    "collapsed": true
   },
   "outputs": [],
   "source": [
    "# build dictionary {asmb_id:gename}\n",
    "ham_only_assm_nm_dic = ham_uni_id[ham_uni_id['gnm_y'].isnull()]['gnm_x'].to_dict()\n",
    "# uni_only_assm_nm_dic = ham_uni_id[ham_uni_id['gnm_x'].isnull()]['gnm_y'].to_dict()\n",
    "# change the key name to assmblies id\n",
    "assm_gnm_dic = ham_uni_id['gnm_y'].to_dict()\n",
    "for key in assm_gnm_dic.keys():\n",
    "    assm_gnm_dic[key.split('.')[0]] = assm_gnm_dic.pop(key)\n",
    "for key,v in ham_only_assm_nm_dic.iteritems():\n",
    "    assm_gnm_dic[key.split('.')[0]] = v"
   ]
  },
  {
   "cell_type": "code",
   "execution_count": 32,
   "metadata": {
    "collapsed": true
   },
   "outputs": [],
   "source": [
    "rest_assms = set(pasa_pos_dic.keys())-set(lncRNA)- set(pr_assms)"
   ]
  },
  {
   "cell_type": "markdown",
   "metadata": {},
   "source": [
    "#### 6. Generate gff file\n",
    "store all the exon and cds into one dictionary"
   ]
  },
  {
   "cell_type": "code",
   "execution_count": 32,
   "metadata": {
    "collapsed": true
   },
   "outputs": [],
   "source": [
    "def prepare_gff(assms,all_rna_dic,pasa_pos_dic,trans_pr_pos_dic,cs,feature='mRNA'):\n",
    "    '''\n",
    "    feature: lncRNA or mRNA\n",
    "    cs: confidence score\n",
    "    '''\n",
    "    for assm in assms:\n",
    "        rnaid = assm.split('.')[0]\n",
    "        gid = 'gene_'+assm_geneclust_dic[rnaid]\n",
    "        try:\n",
    "            gnm = assm_gnm_dic[rnaid]\n",
    "        except:\n",
    "            gnm = gid\n",
    "        #-------------- get transcript positions\n",
    "        rna_pos = pasa_pos_dic[rnaid]\n",
    "        rna_chr = rna_pos[0][:-1]\n",
    "        rna_str = rna_pos[0][-1]\n",
    "        if rna_str == '+':\n",
    "            tr_pos = sorted(rna_pos[1:],key=lambda x:x[0])\n",
    "        else:\n",
    "            tr_pos = sorted(rna_pos[1:],key=lambda x:x[0],reverse=True)\n",
    "        # add mRNA and exon lines\n",
    "        rna_s = min(tr_pos,key=lambda x:x[0])[0]\n",
    "        rna_e = max(tr_pos,key=lambda x:x[1])[1]\n",
    "        anno = 'ID={r};Parent={gid};gene_id={gid};Name={gnm};transcript_id={r};cs={c}'.format(\n",
    "                        r=rnaid,gid=gid,gnm=gnm,c=str(cs))\n",
    "        item = [rna_chr,'merge',feature,str(rna_s),str(rna_e),'.',rna_str,'.',anno]\n",
    "        all_rna_dic[rnaid]=[item]\n",
    "        n = 0\n",
    "        for r in tr_pos:\n",
    "            n +=1\n",
    "            anno='ID={r}.exon{n};Parent={r};gene_id={gid};Name={gnm};transcript_id={r}'.format(\n",
    "                        r=rnaid,n=str(n),gid=gid,gnm=gnm)\n",
    "            item = [rna_chr,'merge','exon',str(r[0]),str(r[1]),'.',rna_str,'.',anno]\n",
    "            all_rna_dic[rnaid].append(item)\n",
    "        #---------------- get protein position\n",
    "        try:\n",
    "            pro_pos = trans_pr_pos_dic[assm]\n",
    "            pro_chr = pro_pos[0][:-1]\n",
    "            pro_str = pro_pos[0][-1]\n",
    "            if pro_str == '+':\n",
    "                pr_pos = sorted(pro_pos[1:],key=lambda x:x[0])\n",
    "            else:\n",
    "                pr_pos = sorted(pro_pos[1:],key=lambda x:x[0],reverse=True)\n",
    "            if pro_pos[0] != rna_pos[0]:\n",
    "                assert False,rnaid+' rna and protein sequence is not consistent on chr or str'\n",
    "            n = 0\n",
    "            for p in pr_pos:\n",
    "                n +=1\n",
    "                anno='ID={r}.cds{n};Parent={r};gene_id={gid};Name={gnm};protein_id={r}'.format(\n",
    "                r=rnaid,n=str(n),gid=gid,gnm=gnm)\n",
    "                item = [rna_chr,'merge','CDS',str(p[0]),str(p[1]),'.',rna_str,'.',anno]\n",
    "                all_rna_dic[rnaid].append(item)\n",
    "        except:\n",
    "            print assm,'predicted protein not in transdecoder genome gff3 file'\n",
    "            pass\n",
    "    return all_rna_dic"
   ]
  },
  {
   "cell_type": "markdown",
   "metadata": {},
   "source": [
    "In transdecoder genome gff file it has proteins for 66930 transcripts, but in pep file it has 71831.\n",
    "There are 22493 transcripts don't have protein sequence in transdecoder genome gff file. Possible reason is that the predicted protein doesn't start with M, and some of them are lncRNA."
   ]
  },
  {
   "cell_type": "code",
   "execution_count": null,
   "metadata": {
    "collapsed": true
   },
   "outputs": [],
   "source": [
    "rna_all_dic = {}\n",
    "rna_all_dic = prepare_gff(same_name_abv_6050,rna_all_dic,pasa_pos_dic,trans_pr_pos_dic,1)\n",
    "rna_all_dic = prepare_gff(same_name_blw_6050,rna_all_dic,pasa_pos_dic,trans_pr_pos_dic,3)\n",
    "rna_all_dic = prepare_gff(diff_name_abv_6050,rna_all_dic,pasa_pos_dic,trans_pr_pos_dic,2)\n",
    "rna_all_dic = prepare_gff(diff_name_blw_6050,rna_all_dic,pasa_pos_dic,trans_pr_pos_dic,4)\n",
    "rna_all_dic = prepare_gff(lncRNA,rna_all_dic,pasa_pos_dic,trans_pr_pos_dic,1,'lncRNA')\n",
    "rna_all_dic = prepare_gff(rest_assms,rna_all_dic,pasa_pos_dic,trans_pr_pos_dic,5)"
   ]
  },
  {
   "cell_type": "code",
   "execution_count": 37,
   "metadata": {
    "collapsed": true
   },
   "outputs": [],
   "source": [
    "# output all transcripts in gff format\n",
    "assem_gff_fn = path+'/01_merge.gff3'\n",
    "if not os.path.exists(assem_gff_fn):\n",
    "    with open(assem_gff_fn,'w') as out:\n",
    "        for k in natsorted(rna_all_dic.keys()):\n",
    "            for i in rna_all_dic[k]:\n",
    "                out.write('\\t'.join(i)+'\\n')"
   ]
  },
  {
   "cell_type": "code",
   "execution_count": 38,
   "metadata": {
    "collapsed": true
   },
   "outputs": [],
   "source": [
    "def get_gene_rna_dic(assem_gff_fn):\n",
    "    gene_rna_dic = {}  # {geneid:[all rnas]}\n",
    "    with open(assem_gff_fn,) as in_f:\n",
    "        for line in in_f:\n",
    "            item = line.strip().split('\\t')\n",
    "            if item[2] in ['mRNA','lncRNA']:\n",
    "                rnaid = re.search('(?<=ID=).+?(?=;)',item[8]).group(0)\n",
    "                chrom = item[0]\n",
    "                strand = item[6]\n",
    "                geneid = re.search('(?<=gene_id=).+?(?=;)',item[8]).group(0)\n",
    "                gename = re.search('(?<=Name=).+?(?=;|$)',item[8]).group(0)\n",
    "                if geneid in gene_rna_dic:\n",
    "                    gene_rna_dic[geneid].append([chrom,rnaid,strand,gename,[int(item[3]),int(item[4])]])\n",
    "                else:\n",
    "                    gene_rna_dic[geneid] = [[chrom,rnaid,strand,gename,[int(item[3]),int(item[4])]]]\n",
    "    return gene_rna_dic\n",
    "gene_rna_dic = get_gene_rna_dic(assem_gff_fn)        "
   ]
  },
  {
   "cell_type": "code",
   "execution_count": 39,
   "metadata": {},
   "outputs": [
    {
     "name": "stdout",
     "output_type": "stream",
     "text": [
      "among the 30679 gene clusters, there are 3407 clusters are splited into        multiple groups\n"
     ]
    }
   ],
   "source": [
    "n = 0\n",
    "for k,v in gene_rna_dic.iteritems():\n",
    "    v = sorted(v,key=lambda x: (x[0],x[4][0]))\n",
    "    strands = [s[3] for s in v]\n",
    "    if len(set(strands)) > 1:\n",
    "        n += 1\n",
    "print 'among the',len(gene_rna_dic),'gene clusters, there are',n,'clusters are splited into \\\n",
    "       multiple groups'"
   ]
  },
  {
   "cell_type": "code",
   "execution_count": 40,
   "metadata": {
    "collapsed": true
   },
   "outputs": [],
   "source": [
    "# add gene line in gff\n",
    "def add_gene_line(merge_gene_fn):\n",
    "    with open(merge_gene_fn,'w') as out_f:\n",
    "        for gene,rnas in gene_rna_dic.iteritems():\n",
    "            rnas = sorted(rnas,key=lambda x: (x[0],x[4][0]))\n",
    "            # get the list of number having the same length with rnas, indicating \n",
    "            # whether to write the gene batch line. stores in gene_batch\n",
    "            n = 0\n",
    "            gene_batch = []\n",
    "            gene_pos = {}  # {batch#:[start,end]}\n",
    "            pre_chrom = ''\n",
    "            pre_name = ''\n",
    "            pre_start = pre_end = 0\n",
    "            for rna in rnas: # [chrom,asmbl_id,[start,end]]\n",
    "                rna_s = rna[4][0]\n",
    "                rna_e = rna[4][1]\n",
    "                if rna[0] != pre_chrom or rna[3] != pre_name:\n",
    "                    n += 1\n",
    "                    gene_batch.append(n)\n",
    "                    gene_pos[n] = [rna_s,rna_e]\n",
    "                else:\n",
    "                    if rna_s > pre_end:\n",
    "                        n += 1\n",
    "                        gene_batch.append(n)\n",
    "                        gene_pos[n] = [rna_s,rna_e]\n",
    "                    else:\n",
    "                        gene_batch.append(n)\n",
    "                        gene_pos[n] = [min(rna_s,gene_pos[n][0]),max(rna_e,gene_pos[n][1])]\n",
    "                pre_start = rna_s\n",
    "                pre_end = rna_e\n",
    "                pre_chrom = rna[0]\n",
    "                pre_name = rna[3]\n",
    "            pre_b = 0\n",
    "            if len(set(gene_batch)) > 1:\n",
    "                for b,rna in zip(gene_batch,rnas):\n",
    "                    if b != pre_b:\n",
    "                        anno='ID={g}_{b};gene_id={g}_{b};Name={name}'.format(g=gene,b=str(b),name=rna[3])\n",
    "                        out_f.write('\\t'.join([rna[0],'merge','gene',str(gene_pos[b][0]),\n",
    "                                            str(gene_pos[b][1]),'.',rna[2],'.',anno])+'\\n')\n",
    "                        rna_all_info = rna_all_dic[rna[1]]\n",
    "                        for rna_item in rna_all_info:\n",
    "                            if rna_item[2] in ['mRNA','lncRNA']:\n",
    "                                rna_item[8]=re.sub('(?<=Parent=).+?(?=;)',gene+'_'+str(b),rna_item[8])\n",
    "                            rna_item[8]=re.sub('(?<=gene_id=).+?(?=;)',gene+'_'+str(b),rna_item[8])\n",
    "                            out_f.write('\\t'.join(rna_item)+'\\n')\n",
    "                        pre_b = b\n",
    "                    else:\n",
    "                        rna_all_info = rna_all_dic[rna[1]]\n",
    "                        for rna_item in rna_all_info:\n",
    "                            if rna_item[2] in ['mRNA','lncRNA']:\n",
    "                                rna_item[8]=re.sub('(?<=Parent=).+?(?=;)',gene+'_'+str(b),rna_item[8])\n",
    "                            rna_item[8]=re.sub('(?<=gene_id=).+?(?=;)',gene+'_'+str(b),rna_item[8])\n",
    "                            out_f.write('\\t'.join(rna_item)+'\\n')\n",
    "            else:\n",
    "                anno='ID={g};gene_id={g};Name={name}'.format(g=gene,name=rna[3])\n",
    "                out_f.write('\\t'.join([rnas[0][0],'merge','gene',str(gene_pos[1][0]),\n",
    "                                    str(gene_pos[1][1]),'.',rna[2],'.',anno])+'\\n')\n",
    "                for rna in rnas:\n",
    "                    rna_all_info = rna_all_dic[rna[1]]\n",
    "                    for rna_item in rna_all_info:\n",
    "    #                     if rna_item[2] in ['mRNA','lncRNA']:\n",
    "    #                         rna_item[8]=re.sub('(?<=Parent=).+?(?=;)',gene,rna_item[8])\n",
    "                        out_f.write('\\t'.join(rna_item)+'\\n')\n",
    "merge_gene_fn = path + '/02_merge_gene.gff3'\n",
    "if not os.path.exists(merge_gene_fn):\n",
    "    add_gene_line(merge_gene_fn)"
   ]
  },
  {
   "cell_type": "code",
   "execution_count": 41,
   "metadata": {
    "collapsed": true
   },
   "outputs": [],
   "source": [
    "# add frame information for CDS\n",
    "def add_frame(merge_gene_fn,draft_gff_fn):\n",
    "    with open(draft_gff_fn,'w') as out, open(merge_gene_fn) as inf:\n",
    "        pre_pr = ''\n",
    "        for line in inf:\n",
    "            if line.startswith('#'):\n",
    "                out.write(line)\n",
    "            else:\n",
    "                item = line.split('\\t')\n",
    "                if item[2] == 'CDS':\n",
    "                    pr = re.search('(?<=protein_id=).+?(?=$|;)',item[8]).group(0)\n",
    "                    if pr != pre_pr:\n",
    "                        pre_pr = pr\n",
    "                        item[7] = '0'\n",
    "                        n = abs(int(item[3])-int(item[4]))+1\n",
    "                    else:\n",
    "                        item[7] = str(n % 3)\n",
    "                        n += abs(int(item[3])-int(item[4]))+1\n",
    "                    out.write('\\t'.join(item))\n",
    "                else:\n",
    "                    out.write(line)\n",
    "draft_gff_fn = path+'/03_pasa_stringtie.gff3'\n",
    "add_frame(merge_gene_fn,draft_gff_fn)"
   ]
  },
  {
   "cell_type": "code",
   "execution_count": null,
   "metadata": {
    "collapsed": true,
    "scrolled": true
   },
   "outputs": [
    {
     "name": "stdout",
     "output_type": "stream",
     "text": [
      "gffread /data/shangzhong/Picr_assembly/Annotation/PASA/pasa_stringtie/03_pasa_stringtie.gff3 -g /data/genome/hamster/picr_old/picr.fa -y /data/shangzhong/Picr_assembly/Annotation/PASA/pasa_stringtie/gff_pr.fa\n"
     ]
    }
   ],
   "source": [
    "# generate pr fa file\n",
    "pr_fa = path + '/gff_pr.fa'\n",
    "if not os.path.exists(pr_fa):\n",
    "    cmd = ('gffread {gff} -g {ref_fa} -y {pr_fa}').format(\n",
    "        gff=draft_gff_fn,ref_fa=ref_fa,pr_fa=pr_fa)\n",
    "    sarge.run(cmd)\n",
    "\n",
    "# remove stop codon\n",
    "with open(path+'/03_pasa_stringtie_pr.fa','w') as out:\n",
    "    for record in SeqIO.parse(pr_fa,'fasta'):\n",
    "        if record.seq[-1]=='.':\n",
    "            record.seq = record.seq[:-1]\n",
    "        SeqIO.write(record,out,'fasta')\n",
    "os.remove(pr_fa)"
   ]
  }
 ],
 "metadata": {
  "celltoolbar": "Hide code",
  "hide_code_all_hidden": true,
  "kernelspec": {
   "display_name": "Python 2",
   "language": "python",
   "name": "python2"
  },
  "language_info": {
   "codemirror_mode": {
    "name": "ipython",
    "version": 2
   },
   "file_extension": ".py",
   "mimetype": "text/x-python",
   "name": "python",
   "nbconvert_exporter": "python",
   "pygments_lexer": "ipython2",
   "version": "2.7.11"
  }
 },
 "nbformat": 4,
 "nbformat_minor": 2
}
