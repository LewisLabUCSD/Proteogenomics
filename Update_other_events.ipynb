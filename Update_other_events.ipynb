{
 "cells": [
  {
   "cell_type": "code",
   "execution_count": 1,
   "metadata": {
    "collapsed": true
   },
   "outputs": [],
   "source": [
    "import os,glob,re\n",
    "import pandas as pd\n",
    "import numpy as np\n",
    "from Bio import SeqIO\n",
    "from natsort import natsorted\n",
    "import matplotlib.pyplot as plt\n",
    "%matplotlib inline\n",
    "plt.style.use('ggplot')"
   ]
  },
  {
   "cell_type": "code",
   "execution_count": 2,
   "metadata": {
    "collapsed": true
   },
   "outputs": [],
   "source": [
    "path = '/data/shangzhong/Proteogenomics/event_results'\n",
    "vcf_path = '/data/shangzhong/Proteogenomics/Database/SNP_Database_Generate/anno_vcf'\n",
    "ref_fa = '/data/genome/hamster/picr_old/picr.fa'\n",
    "pasa_path = '/data/shangzhong/Picr_assembly/Annotation/PASA/pasa_stringtie'\n",
    "event = path + '/all_events.txt'\n",
    "gff = pasa_path + '/03_pasa_stringtie.gff3'\n",
    "splice_fn = path + '/splice.txt'\n",
    "snpdb_ins_fn = path + '/insertion.txt'\n",
    "snpdb_del_fn = path + '/deletion.txt'\n",
    "snpdb_snp_fn = path + '/snp.txt'\n",
    "#gff = '/data/genome/hamster/picr_old/updated_final.gff3'"
   ]
  },
  {
   "cell_type": "markdown",
   "metadata": {},
   "source": [
    "First of all, merge all events files from multiple runs. Then get unique events, sum all he spectrum count, location count is the same for all runs. FDR take the maximum, Sprob take the minimum. "
   ]
  },
  {
   "cell_type": "code",
   "execution_count": 3,
   "metadata": {
    "collapsed": true,
    "scrolled": true
   },
   "outputs": [],
   "source": [
    "def f(x):\n",
    "    '''this function groups all the events from different runs'''\n",
    "    d = {}\n",
    "    d['spec_count'] = x['spec_count'].sum()\n",
    "    d['location_count']=x['location_count'].max()\n",
    "    d['FDR'] = x['FDR'].max()\n",
    "    d['Sprob']=x['Sprob'].min()\n",
    "    infos = []\n",
    "    for i in x['GroupInfo'].tolist():\n",
    "        if i != 'nan':\n",
    "            infos.extend(i.split('|'))\n",
    "    infos = list(set(infos))\n",
    "    infos = [f for f in infos if f != '']\n",
    "    d['NumOfGroup'] = len(infos)+1\n",
    "    d['GroupInfo']='|'.join(infos)\n",
    "    return pd.Series(d)\n",
    "event_df = pd.read_csv(event,sep='\\t',header=0)\n",
    "event_df['GroupInfo'] = event_df['GroupInfo'].astype('str')\n",
    "event_df = event_df.groupby(['Event','Peptide','Chromosome','Location','Strand']).apply(f)\n",
    "event_df.reset_index(inplace=True)"
   ]
  },
  {
   "cell_type": "code",
   "execution_count": 4,
   "metadata": {},
   "outputs": [
    {
     "data": {
      "text/plain": [
       "mutation                    1934\n",
       "novel splice                1747\n",
       "transcript gene(non CDS)     114\n",
       "frame shift                  105\n",
       "alternative splice            94\n",
       "insertion                     57\n",
       "IG gene                       46\n",
       "reverse strand                37\n",
       "fusion gene                   25\n",
       "novel gene                    12\n",
       "deletion                       7\n",
       "Name: Event, dtype: int64"
      ]
     },
     "execution_count": 4,
     "metadata": {},
     "output_type": "execute_result"
    }
   ],
   "source": [
    "event_df['Event'].value_counts()"
   ]
  },
  {
   "cell_type": "markdown",
   "metadata": {},
   "source": [
    "### Analyze fusion genes in the file"
   ]
  },
  {
   "cell_type": "code",
   "execution_count": 5,
   "metadata": {
    "collapsed": true
   },
   "outputs": [],
   "source": [
    "def get_splice_dic(splice_fn):\n",
    "    # get dictionary {[chr,s,e,str]:number of reads}\n",
    "    splice_dic = {}\n",
    "    with open(splice_fn) as f:\n",
    "        for line in f:\n",
    "            if line.startswith('#'): continue\n",
    "            item = line.strip().split('\\t')\n",
    "            num = sum([int(n.split(':')[1]) for n in item[3].split(',')])\n",
    "            key = item[:3]+[item[4]]\n",
    "            splice_dic[';'.join(key)] = num\n",
    "    return splice_dic\n",
    "\n",
    "splice_dic = get_splice_dic(splice_fn)"
   ]
  },
  {
   "cell_type": "markdown",
   "metadata": {},
   "source": [
    "Since splicedb builds database on both strands, therefore, for some fusion events, the peptide s overlap with genes on different strands. Another case is that the fused genes on both ends are the same gene, which means the gene has multiple copies in the genome."
   ]
  },
  {
   "cell_type": "code",
   "execution_count": 6,
   "metadata": {
    "collapsed": true,
    "scrolled": true
   },
   "outputs": [],
   "source": [
    "def extract_feature_gff(gff_df,feature,geneid=False):\n",
    "    '''extract feature dataframe'''\n",
    "    df = gff_df[gff_df['feature'].values == feature]\n",
    "    df = df.reset_index(drop=True)\n",
    "    df['s'] -= 1\n",
    "    df['gene'] = df['anno'].map(lambda x: re.search('(?<=Name=).+?(?=;|$)',x).group(0))\n",
    "    if geneid:\n",
    "        df['gene_id'] = df['anno'].map(lambda x: re.search('(?<=gene_id=).+?(?=;|$)',x).group(0))\n",
    "    del df['anno']\n",
    "    return df\n",
    "# get gff df\n",
    "gff_df = pd.read_csv(gff,sep='\\t',header=None,comment='#',names=['chr','source','feature',\n",
    "                            's','e','none','str','frame','anno'])\n",
    "cds_df = extract_feature_gff(gff_df,'exon')\n",
    "rna_df = extract_feature_gff(gff_df,'mRNA')\n",
    "# build gene id name dictonary\n",
    "gene_df = extract_feature_gff(gff_df,'gene',geneid=True)\n",
    "id_name_dic = gene_df.set_index('gene_id')['gene'].to_dict()"
   ]
  },
  {
   "cell_type": "code",
   "execution_count": 7,
   "metadata": {
    "collapsed": true
   },
   "outputs": [],
   "source": [
    "def get_gene(row,cds_df,direction='same'):\n",
    "    '''this function gets the fusion genes using peptide splice information.\n",
    "    genes on sides of splice is split by comma, if one splice map to more than one \n",
    "    gene, the overlapped genes are split by ; '''\n",
    "    chrom = row['Chromosome']\n",
    "    loci = row['Location']\n",
    "    strand = row['Strand']\n",
    "    if direction == 'diff':\n",
    "        if strand == '+':\n",
    "            strand = '-'\n",
    "        else:\n",
    "            strand = '+'\n",
    "    genes = []\n",
    "    locis = loci.split(';')\n",
    "    for loc in locis:\n",
    "        pos = [int(p) for p in loc.split('-')]\n",
    "        fil_gff = cds_df[(cds_df['chr'].values==chrom)&(cds_df['str'].values==strand)]\n",
    "        cri = fil_gff.apply(lambda x:range(max(x['s'],pos[0]),min(x['e'],pos[1]))!=[],axis=1)\n",
    "        fil_gff = fil_gff[cri]                \n",
    "        gene = fil_gff['gene'].unique().tolist()\n",
    "        if len(gene)>1:\n",
    "            print loc,'has two genes',gene\n",
    "        genes.append(';'.join(gene))\n",
    "    return ','.join(genes)\n",
    "\n",
    "def get_read_num(row,splice_dic):\n",
    "    '''this function gets the number of reads supporting the event'''\n",
    "    loci = row['Location'].split(';')\n",
    "    pos = []\n",
    "    for i in range(len(loci)-1):\n",
    "        s = loci[i].split('-')[1]\n",
    "        e = loci[i+1].split('-')[0]\n",
    "        pos.append([s,e])\n",
    "    reads = []\n",
    "    for p in pos:\n",
    "        key = ';'.join([row['Chromosome']]+p+[row['Strand']])\n",
    "        try:\n",
    "            reads.append(splice_dic[key])\n",
    "        except:\n",
    "            print key,'is not in dictionary'\n",
    "            reads.append(0)\n",
    "    return ','.join([str(r) for r in reads])\n",
    "\n",
    "def fusion_filter(genes):\n",
    "    '''this function keeps the events whose both ends have annotated genes\n",
    "    on the same strand\n",
    "    input is genes column of fusion_df\n",
    "    '''\n",
    "    gene = [g for g in genes.strip().split(',') if g !='']\n",
    "    if len(gene)<=1:\n",
    "        return 'no'\n",
    "    else:\n",
    "        if len(set(gene))==1:\n",
    "            return 'same'\n",
    "        else:\n",
    "            return 'yes'"
   ]
  },
  {
   "cell_type": "code",
   "execution_count": 8,
   "metadata": {
    "collapsed": true
   },
   "outputs": [],
   "source": [
    "def process_event_with_splice(df,exon_df,splice_dic):\n",
    "    df['genes'] = df.apply(lambda x:get_gene(x,exon_df),axis=1)\n",
    "    df['read_num'] = df.apply(lambda x:get_read_num(x,splice_dic),axis=1)\n",
    "    df = df.query('read_num != \"0\"')\n",
    "    df = df.reset_index(drop=True)\n",
    "    return df"
   ]
  },
  {
   "cell_type": "code",
   "execution_count": 9,
   "metadata": {
    "scrolled": true
   },
   "outputs": [
    {
     "name": "stdout",
     "output_type": "stream",
     "text": [
      "8769020-8769056 has two genes ['HSH2D', 'RAB8A']\n",
      "8973929-8973938 has two genes ['ZNF709', 'ZNF844']\n",
      "8546964-8547037 has two genes ['HDGF', 'ISG20L2']\n",
      "809141-809174 has two genes ['NCAPD2', 'GAPDH']\n"
     ]
    }
   ],
   "source": [
    "fusion_df = event_df[event_df['Event'].values=='fusion gene']\n",
    "fusion_df = fusion_df.reset_index(drop=True)\n",
    "fusion_df = process_event_with_splice(fusion_df,cds_df,splice_dic)\n",
    "fusion_df['keep'] = fusion_df['genes'].map(lambda x:fusion_filter(x))\n",
    "fusion_df = fusion_df.query('keep != \"no\"')\n",
    "fusion_df = fusion_df.reset_index(drop=True)"
   ]
  },
  {
   "cell_type": "code",
   "execution_count": 10,
   "metadata": {
    "scrolled": true
   },
   "outputs": [
    {
     "data": {
      "text/plain": [
       "yes    17\n",
       "Name: keep, dtype: int64"
      ]
     },
     "execution_count": 10,
     "metadata": {},
     "output_type": "execute_result"
    }
   ],
   "source": [
    "fusion_df['keep'].value_counts()"
   ]
  },
  {
   "cell_type": "code",
   "execution_count": 11,
   "metadata": {
    "collapsed": true
   },
   "outputs": [],
   "source": [
    "fusion_fn = path + '/01_fusion.txt'\n",
    "fusion_df.to_csv(fusion_fn,sep='\\t',index=False)"
   ]
  },
  {
   "cell_type": "markdown",
   "metadata": {},
   "source": [
    "#### Analyze alternative splice"
   ]
  },
  {
   "cell_type": "code",
   "execution_count": 12,
   "metadata": {},
   "outputs": [
    {
     "name": "stdout",
     "output_type": "stream",
     "text": [
      "9150872-9150905 has two genes ['SPAST', 'SLC30A6']\n",
      "9152949-9152952 has two genes ['SPAST', 'SLC30A6']\n",
      "8769020-8769056 has two genes ['HSH2D', 'RAB8A']\n",
      "8775668-8775677 has two genes ['HSH2D', 'RAB8A']\n",
      "19649594-19649641 has two genes ['gene_339', 'HNRNPA1', 'NFE2']\n",
      "12426265-12426268 has two genes ['SET', 'gene_22189']\n",
      "12426631-12426664 has two genes ['SET', 'gene_22189']\n",
      "376346-376363 has two genes ['gene_9603', 'FXYD5']\n",
      "377561-377586 has two genes ['gene_9603', 'FXYD5']\n",
      "19648176-19648180 has two genes ['HNRNPA1', 'NFE2']\n",
      "19649594-19649641 has two genes ['gene_339', 'HNRNPA1', 'NFE2']\n",
      "746341-746342 has two genes ['LOC103159745', 'ESX1']\n",
      "8968605-8968610 has two genes ['SNX14', 'SYNCRIP']\n"
     ]
    }
   ],
   "source": [
    "alter_splice_df = event_df.query('Event == \"alternative splice\"')\n",
    "alter_splice_df = alter_splice_df.reset_index(drop=True)\n",
    "alter_splice_df = process_event_with_splice(alter_splice_df,cds_df,splice_dic)\n",
    "fail_alter_splice_df = alter_splice_df.query('genes==\",\"')\n",
    "alter_splice_df = alter_splice_df.query('genes != \",\"')\n",
    "alter_splice_df['genes'] = alter_splice_df['genes'].map(lambda x: ','.join(list(set(x.split(',')))))"
   ]
  },
  {
   "cell_type": "code",
   "execution_count": 13,
   "metadata": {
    "collapsed": true
   },
   "outputs": [
    {
     "name": "stdout",
     "output_type": "stream",
     "text": [
      "there are 94 alternative splice events\n"
     ]
    }
   ],
   "source": [
    "print 'there are', alter_splice_df.shape[0],'alternative splice events',\n",
    "alter_splice_fn = path + '/02_alter_splice.txt'\n",
    "alter_splice_df.to_csv(alter_splice_fn,sep='\\t',index=False)"
   ]
  },
  {
   "cell_type": "markdown",
   "metadata": {},
   "source": [
    "#### Analyze novel splice"
   ]
  },
  {
   "cell_type": "code",
   "execution_count": 14,
   "metadata": {
    "scrolled": true
   },
   "outputs": [
    {
     "name": "stdout",
     "output_type": "stream",
     "text": [
      "809315-809348 has two genes ['NCAPD2', 'GAPDH']\n",
      "809633-809697 has two genes ['NCAPD2', 'GAPDH']\n",
      "809615-809697 has two genes ['NCAPD2', 'GAPDH']\n",
      "7463667-7463697 has two genes ['MAST3', 'PIK3R2']\n",
      "7464825-7464828 has two genes ['MAST3', 'PIK3R2']\n",
      "8171069-8171105 has two genes ['HNRNPA3', 'NFE2L2', 'gene_3327', 'RO31_XENLA']\n",
      "8171228-8171231 has two genes ['HNRNPA3', 'NFE2L2', 'gene_3327', 'RO31_XENLA']\n",
      "81798-81825 has two genes ['POLDIP3', 'CYB5R3']\n",
      "88157-88160 has two genes ['POLDIP3', 'CYB5R3']\n",
      "1402834-1402870 has two genes ['TBB7_CHICK', 'TUBB']\n",
      "1403014-1403017 has two genes ['TBB7_CHICK', 'TUBB']\n",
      "8801786-8801822 has two genes ['ZSWIM3', 'ZSWIM1']\n",
      "8802040-8802043 has two genes ['ZSWIM3', 'ZSWIM1']\n",
      "8944898-8944949 has two genes ['RNF123', 'APEH']\n",
      "8945109-8945112 has two genes ['RNF123', 'APEH']\n",
      "12056441-12056510 has two genes ['AKAP8L', 'AKAP8']\n",
      "12056623-12056626 has two genes ['AKAP8L', 'AKAP8']\n",
      "5279189-5279231 has two genes ['DIO1', 'gene_22475']\n",
      "5282197-5282200 has two genes ['DIO1', 'gene_22475']\n",
      "1515876-1515897 has two genes ['MP68', 'gene_6510']\n",
      "4481429-4481471 has two genes ['TUFM', 'gene_2706']\n",
      "4481704-4481707 has two genes ['TUFM', 'gene_2706']\n",
      "24101651-24101698 has two genes ['DHODH', 'gene_7623']\n",
      "24102140-24102141 has two genes ['DHODH', 'gene_7623']\n",
      "4786325-4786385 has two genes ['RNF43', 'gene_27255']\n",
      "4786858-4786861 has two genes ['RNF43', 'gene_27255']\n",
      "6155612-6155660 has two genes ['SCO2', 'TYMP']\n",
      "6155890-6155893 has two genes ['SCO2', 'TYMP']\n",
      "808715-808746 has two genes ['NCAPD2', 'GAPDH']\n",
      "808706-808746 has two genes ['NCAPD2', 'GAPDH']\n",
      "8806593-8806623 has two genes ['TPM4', 'TPM1']\n",
      "16558790-16558832 has two genes ['SEMA4G', 'LZTS2']\n",
      "16558787-16558832 has two genes ['SEMA4G', 'LZTS2']\n",
      "59760581-59760584 has two genes ['EIF4G1', 'PSMD2']\n",
      "20977532-20977560 has two genes ['CCDC84', 'gene_8391']\n",
      "14753475-14753515 has two genes ['ZBTB5', 'GRHPR']\n",
      "14754020-14754022 has two genes ['ZBTB5', 'GRHPR']\n",
      "2957872-2957875 has two genes ['gene_18853', 'HBA']\n",
      "7181199-7181243 has two genes ['CES1D', 'CES1E']\n",
      "16560396-16560433 has two genes ['SEMA4G', 'LZTS2']\n",
      "16560666-16560668 has two genes ['SEMA4G', 'LZTS2']\n",
      "16560393-16560433 has two genes ['SEMA4G', 'LZTS2']\n",
      "16560666-16560668 has two genes ['SEMA4G', 'LZTS2']\n",
      "5572742-5572820 has two genes ['CHD8', 'SUPT16H']\n",
      "8804649-8804692 has two genes ['ZSWIM3', 'ZSWIM1']\n",
      "1176645-1176647 has two genes ['NME2', 'NME1']\n",
      "9795485-9795531 has two genes ['gene_19820', 'GPR27', 'EIF4E3']\n",
      "9813668-9813670 has two genes ['GPR27', 'EIF4E3']\n",
      "443337-443365 has two genes ['AHNAK', 'EEF1G', 'TUT1']\n",
      "809333-809348 has two genes ['NCAPD2', 'GAPDH']\n",
      "809437-809476 has two genes ['NCAPD2', 'GAPDH']\n",
      "450727-450811 has two genes ['AHNAK', 'EEF1G', 'TUT1']\n",
      "10548054-10548099 has two genes ['UBAP2L', 'HAX1']\n",
      "10549945-10549948 has two genes ['UBAP2L', 'HAX1']\n",
      "8803909-8803958 has two genes ['ZSWIM3', 'ZSWIM1']\n",
      "8804035-8804037 has two genes ['ZSWIM3', 'ZSWIM1']\n",
      "809476-809519 has two genes ['NCAPD2', 'GAPDH']\n",
      "809607-809609 has two genes ['NCAPD2', 'GAPDH']\n",
      "2671727-2671733 has two genes ['SLC35F3', 'gene_3197']\n",
      "2673178-2673209 has two genes ['SLC35F3', 'gene_3197']\n",
      "20979893-20979940 has two genes ['CCDC84', 'gene_8391']\n",
      "2266750-2266770 has two genes ['GSTA3', 'GSTA6']\n",
      "2280522-2280527 has two genes ['GSTA3', 'GSTA6']\n",
      "16158559-16158580 has two genes ['HINT2', 'SPAG8']\n",
      "16158670-16158700 has two genes ['HINT2', 'SPAG8']\n",
      "10146910-10146923 has two genes ['gene_10292', 'PYGB']\n",
      "10149773-10149802 has two genes ['gene_10292', 'PYGB']\n",
      "8804109-8804127 has two genes ['ZSWIM3', 'ZSWIM1']\n",
      "8804607-8804649 has two genes ['ZSWIM3', 'ZSWIM1']\n",
      "2315295-2315369 has two genes ['KIF23', 'RPLP1']\n",
      "14506215-14506221 has two genes ['DNTTIP2', 'GCLM']\n",
      "4245678-4245705 has two genes ['CORO1A', 'gene_2695', 'BOLA2']\n",
      "4245786-4245807 has two genes ['CORO1A', 'gene_2695', 'BOLA2']\n",
      "850128-850143 has two genes ['PATR-A', 'HLA-B']\n",
      "850613-850643 has two genes ['PATR-A', 'HLA-B']\n",
      "30896848-30896933 has two genes ['TOP3A', 'SMCR8']\n",
      "30898526-30898546 has two genes ['TOP3A', 'SMCR8']\n",
      "17271289-17271308 has two genes ['ELOA', 'LYPLA2']\n",
      "17271660-17271704 has two genes ['ELOA', 'LYPLA2']\n",
      "809228-809261 has two genes ['NCAPD2', 'GAPDH']\n",
      "6645405-6645443 has two genes ['DDX27', 'gene_22697']\n",
      "6645530-6645540 has two genes ['DDX27', 'gene_22697']\n",
      "8169979-8169993 has two genes ['HNRNPA3', 'NFE2L2', 'gene_3327', 'RO31_XENLA']\n",
      "8170107-8170143 has two genes ['HNRNPA3', 'NFE2L2', 'gene_3327', 'RO31_XENLA']\n",
      "8170278-8170291 has two genes ['HNRNPA3', 'NFE2L2', 'gene_3327', 'RO31_XENLA']\n",
      "7461864-7461867 has two genes ['MAST3', 'PIK3R2']\n",
      "7462620-7462707 has two genes ['MAST3', 'PIK3R2']\n",
      "7461855-7461867 has two genes ['MAST3', 'PIK3R2']\n",
      "7462620-7462707 has two genes ['MAST3', 'PIK3R2']\n",
      "14626815-14626819 has two genes ['TMEM173', 'DNAJC18']\n",
      "14626815-14626819 has two genes ['TMEM173', 'DNAJC18']\n",
      "749377-749415 has two genes ['ACSF3', 'gene_28311']\n",
      "7233702-7233750 has two genes ['EST5_RAT', 'CES1F', 'EST4_RAT']\n",
      "3357214-3357256 has two genes ['SRCAP', 'RNF40']\n",
      "3357406-3357412 has two genes ['SRCAP', 'RNF40']\n",
      "8369965-8370008 has two genes ['RPL15', 'gene_9344']\n",
      "3245597-3245643 has two genes ['ALG13', 'gene_29840']\n",
      "3248789-3248794 has two genes ['ALG13', 'gene_29840']\n",
      "1773536-1773566 has two genes ['AGAP3', 'SLC4A2']\n",
      "1773807-1773813 has two genes ['AGAP3', 'SLC4A2']\n",
      "23646799-23646850 has two genes ['MYH6', 'MYH7']\n",
      "8945426-8945438 has two genes ['RNF123', 'APEH']\n",
      "8945537-8945582 has two genes ['RNF123', 'APEH']\n",
      "12425495-12425539 has two genes ['SET', 'gene_22189']\n",
      "10146910-10146923 has two genes ['gene_10292', 'PYGB']\n",
      "10149773-10149805 has two genes ['gene_10292', 'PYGB']\n",
      "8765994-8766003 has two genes ['HSH2D', 'RAB8A']\n",
      "8767204-8767228 has two genes ['HSH2D', 'RAB8A']\n",
      "3157270-3157309 has two genes ['EEPD1', 'gene_8122']\n",
      "3159968-3160010 has two genes ['EEPD1', 'gene_8122']\n",
      "8944382-8944423 has two genes ['RNF123', 'APEH']\n",
      "8944509-8944516 has two genes ['RNF123', 'APEH']\n",
      "8804109-8804127 has two genes ['ZSWIM3', 'ZSWIM1']\n",
      "8804607-8804652 has two genes ['ZSWIM3', 'ZSWIM1']\n",
      "809315-809348 has two genes ['NCAPD2', 'GAPDH']\n",
      "809476-809504 has two genes ['NCAPD2', 'GAPDH']\n",
      "8804109-8804127 has two genes ['ZSWIM3', 'ZSWIM1']\n",
      "8804607-8804631 has two genes ['ZSWIM3', 'ZSWIM1']\n",
      "7461692-7461725 has two genes ['MAST3', 'PIK3R2']\n",
      "7461813-7461858 has two genes ['MAST3', 'PIK3R2']\n",
      "30888894-30888912 has two genes ['TOP3A', 'SMCR8']\n",
      "30890463-30890481 has two genes ['TOP3A', 'SMCR8']\n",
      "40934514-40934552 has two genes ['MAML1', 'CANX']\n",
      "8960789-8960833 has two genes ['SNX14', 'SYNCRIP']\n",
      "32411507-32411540 has two genes ['WDR1', 'gene_2085']\n",
      "79551241-79551249 has two genes ['MYL9', 'MYL12B']\n",
      "8340126-8340155 has two genes ['gene_16802', 'PTMA']\n",
      "3206153-3206165 has two genes ['CCDC85B', 'BLES03']\n",
      "3206677-3206704 has two genes ['CCDC85B', 'BLES03']\n",
      "3206138-3206165 has two genes ['CCDC85B', 'BLES03']\n",
      "3206677-3206704 has two genes ['CCDC85B', 'BLES03']\n",
      "3206123-3206165 has two genes ['CCDC85B', 'BLES03']\n",
      "3206677-3206704 has two genes ['CCDC85B', 'BLES03']\n",
      "12425482-12425538 has two genes ['SET', 'gene_22189']\n",
      "12426143-12426171 has two genes ['SET', 'gene_22189']\n",
      "7367884-7367923 has two genes ['BASP1', 'gene_15545']\n",
      "6274162-6274175 has two genes ['NUP85', 'gene_21653']\n",
      "3779190-3779197 has two genes ['TBC1D10B', 'CD2BP2']\n",
      "12419585-12419592 has two genes ['SET', 'gene_22189']\n",
      "12425480-12425538 has two genes ['SET', 'gene_22189']\n",
      "12426143-12426171 has two genes ['SET', 'gene_22189']\n",
      "16561346-16561366 has two genes ['SEMA4G', 'LZTS2']\n",
      "16562483-16562508 has two genes ['SEMA4G', 'LZTS2']\n",
      "5379390-5379444 has two genes ['ADNP', 'DPM1']\n",
      "15089787-15089814 has two genes ['A1I3', 'MUG1']\n",
      "8806716-8806735 has two genes ['ZSWIM3', 'ZSWIM1']\n",
      "8806847-8806864 has two genes ['ZSWIM3', 'ZSWIM1']\n",
      "8806707-8806735 has two genes ['ZSWIM3', 'ZSWIM1']\n",
      "8806847-8806864 has two genes ['ZSWIM3', 'ZSWIM1']\n",
      "3634544-3634645 has two genes ['gene_2665', 'SEPHS2']\n",
      "2388306-2388351 has two genes ['CCDC78', 'NARFL']\n",
      "2389796-2389805 has two genes ['CCDC78', 'NARFL']\n",
      "9763332-9763352 has two genes ['MTX1', 'gene_24090']\n",
      "9763471-9763502 has two genes ['MTX1', 'gene_24090']\n",
      "25989542-25989545 has two genes ['DNAJC14', 'SARNP']\n",
      "25991269-25991299 has two genes ['DNAJC14', 'SARNP']\n",
      "30898636-30898649 has two genes ['TOP3A', 'SMCR8']\n",
      "30900565-30900603 has two genes ['TOP3A', 'SMCR8']\n",
      "5947002-5947023 has two genes ['RETREG3', 'gene_30111']\n",
      "14506215-14506221 has two genes ['DNTTIP2', 'GCLM']\n",
      "6645405-6645443 has two genes ['DDX27', 'gene_22697']\n",
      "6645530-6645546 has two genes ['DDX27', 'gene_22697']\n",
      "9760045-9760072 has two genes ['EPHX1', 'gene_17602']\n",
      "22880424-22880427 has two genes ['TGM1', 'RABGGTA']\n",
      "22880935-22881001 has two genes ['TGM1', 'RABGGTA']\n",
      "2315295-2315369 has two genes ['KIF23', 'RPLP1']\n",
      "324749-324767 has two genes ['gene_26120', 'USP14']\n",
      "7462707-7462773 has two genes ['MAST3', 'PIK3R2']\n",
      "7463171-7463183 has two genes ['MAST3', 'PIK3R2']\n",
      "5379367-5379393 has two genes ['ADNP', 'DPM1']\n",
      "20977906-20977914 has two genes ['CCDC84', 'gene_8391']\n",
      "81210-81246 has two genes ['SBSN', 'DMKN']\n",
      "30893460-30893476 has two genes ['TOP3A', 'SMCR8']\n",
      "30894412-30894432 has two genes ['TOP3A', 'SMCR8']\n",
      "9760793-9760805 has two genes ['MTX1', 'gene_24090']\n",
      "9760932-9760950 has two genes ['MTX1', 'gene_24090']\n",
      "21691023-21691037 has two genes ['PBRM1', 'GLT8D1']\n",
      "3243701-3243725 has two genes ['RGL3', 'CCDC151']\n",
      "3244358-3244379 has two genes ['RGL3', 'CCDC151']\n",
      "24104127-24104159 has two genes ['DHODH', 'gene_7623']\n",
      "24109990-24110003 has two genes ['DHODH', 'gene_7623']\n",
      "5714638-5714727 has two genes ['FBXW2', 'PSMD5']\n",
      "4121971-4121994 has two genes ['gene_5112', 'MRPS18C']\n",
      "4122076-4122083 has two genes ['gene_5112', 'MRPS18C']\n",
      "4121944-4121994 has two genes ['gene_5112', 'MRPS18C']\n",
      "4122076-4122083 has two genes ['gene_5112', 'MRPS18C']\n",
      "8691630-8691636 has two genes ['NAXE', 'GPATCH4']\n",
      "8692260-8692299 has two genes ['NAXE', 'GPATCH4']\n",
      "30888873-30888912 has two genes ['TOP3A', 'SMCR8']\n",
      "30890463-30890481 has two genes ['TOP3A', 'SMCR8']\n",
      "7712578-7712591 has two genes ['SLC27A1', 'COLGALT1']\n",
      "40940902-40940942 has two genes ['MAML1', 'CANX']\n",
      "40941084-40941089 has two genes ['MAML1', 'CANX']\n",
      "20977787-20977822 has two genes ['CCDC84', 'gene_8391']\n",
      "8806177-8806204 has two genes ['ZSWIM3', 'ZSWIM1']\n",
      "8806623-8806710 has two genes ['ZSWIM3', 'ZSWIM1']\n",
      "9973611-9973612 has two genes ['gene_24099', 'ZBTB7B']\n",
      "12425486-12425539 has two genes ['SET', 'gene_22189']\n",
      "1268051-1268079 has two genes ['PCYT2', 'ALYREF2', 'ALYREF']\n",
      "1268672-1268722 has two genes ['PCYT2', 'ALYREF2', 'ALYREF']\n",
      "1786307-1786312 has two genes ['FERMT3', 'NUDT22', 'DNAJC4', 'VEGFB']\n",
      "7729581-7729616 has two genes ['gene_28561', 'ZFAND3']\n",
      "40927560-40927565 has two genes ['MAML1', 'CANX']\n",
      "40934452-40934498 has two genes ['MAML1', 'CANX']\n",
      "9516618-9516670 has two genes ['EEF2', 'DAPK3']\n",
      "9516843-9516851 has two genes ['EEF2', 'DAPK3']\n",
      "18087132-18087153 has two genes ['NDUFS2', 'gene_17752']\n",
      "18087294-18087309 has two genes ['NDUFS2', 'gene_17752']\n",
      "5946583-5946611 has two genes ['RETREG3', 'gene_30111']\n",
      "5946694-5946714 has two genes ['RETREG3', 'gene_30111']\n",
      "8960875-8960890 has two genes ['SNX14', 'SYNCRIP']\n",
      "8962782-8962842 has two genes ['SNX14', 'SYNCRIP']\n",
      "73331140-73331165 has two genes ['KANK3', 'gene_1794']\n",
      "73331137-73331165 has two genes ['KANK3', 'gene_1794']\n",
      "6154924-6154940 has two genes ['GGA3', 'SLC25A19']\n",
      "6157696-6157722 has two genes ['GGA3', 'SLC25A19', 'MIF4GD']\n",
      "8517137-8517154 has two genes ['NSD1', 'F12']\n",
      "27712060-27712074 has two genes ['gene_18422', 'ATP23']\n",
      "9760045-9760072 has two genes ['EPHX1', 'gene_17602']\n",
      "30892632-30892635 has two genes ['TOP3A', 'SMCR8']\n",
      "30893394-30893463 has two genes ['TOP3A', 'SMCR8']\n",
      "8517151-8517200 has two genes ['NSD1', 'F12']\n",
      "8517314-8517322 has two genes ['NSD1', 'F12']\n",
      "8517151-8517200 has two genes ['NSD1', 'F12']\n",
      "8517314-8517343 has two genes ['NSD1', 'F12']\n",
      "2617102-2617123 has two genes ['SYVN1', 'gene_16642']\n",
      "2617216-2617228 has two genes ['SYVN1', 'gene_16642']\n",
      "808697-808698 has two genes ['NCAPD2', 'GAPDH']\n",
      "809919-809972 has two genes ['NCAPD2', 'GAPDH']\n",
      "1403062-1403066 has two genes ['TBB7_CHICK', 'TUBB']\n",
      "1403117-1403143 has two genes ['TBB7_CHICK', 'TUBB']\n",
      "1619560-1619564 has two genes ['SNRNP70', 'PPFIA3']\n",
      "1623730-1623774 has two genes ['SNRNP70', 'PPFIA3']\n",
      "7613023-7613040 has two genes ['MAMDC4', 'PHPT1']\n",
      "7613417-7613436 has two genes ['MAMDC4', 'PHPT1']\n",
      "9029812-9029859 has two genes ['gene_16814', 'CD151']\n",
      "9031761-9031789 has two genes ['CHID1', 'gene_16814', 'CD151']\n",
      "7543006-7543017 has two genes ['FBXW5', 'C8G']\n",
      "7543103-7543142 has two genes ['FBXW5', 'C8G']\n",
      "7543211-7543218 has two genes ['FBXW5', 'C8G']\n",
      "5155138-5155173 has two genes ['ARAP3', 'gene_2839']\n",
      "7462707-7462773 has two genes ['MAST3', 'PIK3R2']\n",
      "7463171-7463180 has two genes ['MAST3', 'PIK3R2']\n",
      "5261429-5261479 has two genes ['gene_19230', 'CDKN2A']\n",
      "33801938-33801995 has two genes ['SNRPE', 'gene_1451']\n",
      "11172880-11172952 has two genes ['gene_24144', 'S100A6']\n",
      "1014670-1014756 has two genes ['CUL7', 'MRPL2']\n",
      "1014829-1014836 has two genes ['CUL7', 'MRPL2']\n",
      "85954-85983 has two genes ['POLDIP3', 'CYB5R3']\n",
      "86104-86123 has two genes ['POLDIP3', 'CYB5R3']\n",
      "19649422-19649468 has two genes ['gene_339', 'HNRNPA1', 'NFE2']\n",
      "3211386-3211389 has two genes ['CCDC85B', 'BLES03']\n",
      "3213522-3213567 has two genes ['CCDC85B', 'BLES03']\n",
      "451894-451972 has two genes ['AHNAK', 'EEF1G', 'TUT1']\n",
      "5763410-5763423 has two genes ['GLIS2', 'PAM16']\n",
      "5764210-5764236 has two genes ['GLIS2', 'PAM16']\n",
      "1404003-1404084 has two genes ['TBB7_CHICK', 'TUBB']\n",
      "472692-472739 has two genes ['EML3', 'MTA2']\n",
      "7367920-7367952 has two genes ['BASP1', 'gene_15545']\n",
      "8167652-8167696 has two genes ['HNRNPA3', 'NFE2L2', 'gene_3327', 'RO31_XENLA']\n",
      "8169978-8169982 has two genes ['HNRNPA3', 'NFE2L2', 'gene_3327']\n",
      "7589191-7589238 has two genes ['IL15RA', 'gene_6730']\n",
      "8946810-8946852 has two genes ['RNF123', 'APEH']\n",
      "8946927-8946933 has two genes ['RNF123', 'APEH']\n",
      "8122556-8122595 has two genes ['FAM98A', 'gene_26733']\n",
      "1014344-1014367 has two genes ['CUL7', 'MRPL2']\n",
      "1014645-1014655 has two genes ['CUL7', 'MRPL2']\n",
      "5946589-5946611 has two genes ['RETREG3', 'gene_30111']\n",
      "5946694-5946714 has two genes ['RETREG3', 'gene_30111']\n",
      "5763398-5763423 has two genes ['GLIS2', 'PAM16']\n",
      "5764210-5764236 has two genes ['GLIS2', 'PAM16']\n",
      "10149823-10149838 has two genes ['gene_10292', 'PYGB']\n",
      "10152681-10152714 has two genes ['gene_10292', 'PYGB']\n",
      "26830-26838 has two genes ['DHRSX', 'gene_17471']\n",
      "27191-27231 has two genes ['DHRSX', 'gene_17471']\n",
      "24913847-24913881 has two genes ['UCHL5', 'GLRX2']\n",
      "2615649-2615653 has two genes ['SYVN1', 'gene_16642']\n",
      "2616998-2617030 has two genes ['SYVN1', 'gene_16642']\n",
      "10550089-10550133 has two genes ['UBAP2L', 'HAX1']\n",
      "10550468-10550511 has two genes ['UBAP2L', 'HAX1']\n",
      "79551167-79551219 has two genes ['MYL9', 'MYL12B']\n",
      "9733049-9733103 has two genes ['FAM189B', 'SCAMP3']\n",
      "17263810-17263811 has two genes ['ELOA', 'LYPLA2']\n",
      "17264761-17264796 has two genes ['ELOA', 'LYPLA2']\n",
      "4245678-4245705 has two genes ['CORO1A', 'gene_2695', 'BOLA2']\n",
      "4245786-4245810 has two genes ['CORO1A', 'gene_2695', 'BOLA2']\n",
      "9214542-9214599 has two genes ['NOP16', 'CLTB']\n",
      "1017949-1017951 has two genes ['TAZ', 'gene_8742']\n",
      "15585915-15585923 has two genes ['ANKHD1', 'SRA1']\n",
      "10500559-10500594 has two genes ['gene_23012', 'CIRBP']\n",
      "10501710-10501732 has two genes ['gene_23012', 'CIRBP']\n",
      "15433419-15433443 has two genes ['TUBA1B', 'TUBA1A']\n",
      "8690291-8690335 has two genes ['MTHFS', 'BCL2A1']\n",
      "105533-105539 has two genes ['B3GALT4', 'RPS18']\n",
      "107916-107940 has two genes ['B3GALT4', 'RPS18']\n",
      "9734950-9734987 has two genes ['FAM189B', 'SCAMP3']\n",
      "9734944-9734987 has two genes ['FAM189B', 'SCAMP3']\n",
      "15266828-15266849 has two genes ['PSD', 'FBXL15']\n",
      "10142786-10142810 has two genes ['gene_10292', 'PYGB']\n",
      "10145407-10145431 has two genes ['gene_10292', 'PYGB']\n",
      "13007015-13007026 has two genes ['gene_19288', 'TM2D1']\n",
      "13011143-13011171 has two genes ['gene_19288', 'TM2D1']\n",
      "21691492-21691510 has two genes ['PBRM1', 'GLT8D1']\n",
      "21691492-21691510 has two genes ['PBRM1', 'GLT8D1']\n",
      "105591-105618 has two genes ['B3GALT4', 'RPS18']\n",
      "14878148-14878164 has two genes ['gene_196', 'RO31_XENLA']\n",
      "14878326-14878421 has two genes ['RO31_XENLA', 'gene_196', 'HNRNPA1']\n",
      "1668068-1668071 has two genes ['HIST2H2AB', 'HIST2H2AA3']\n",
      "313191-313209 has two genes ['ENV', 'GAG']\n",
      "313231-313252 has two genes ['ENV', 'GAG']\n",
      "33798173-33798182 has two genes ['SNRPE', 'gene_1451']\n",
      "33801938-33801995 has two genes ['SNRPE', 'gene_1451']\n",
      "760508-760523 has two genes ['HMGA1', 'gene_7839']\n",
      "761551-761578 has two genes ['HMGA1', 'gene_7839']\n",
      "9792284-9792332 has two genes ['PPM1J', 'RHOC']\n",
      "2617099-2617123 has two genes ['SYVN1', 'gene_16642']\n",
      "2617216-2617228 has two genes ['SYVN1', 'gene_16642']\n",
      "15665091-15665160 has two genes ['GBE1', 'gene_14906']\n",
      "3024933-3024954 has two genes ['C2ORF16', 'ZNF512']\n",
      "3024933-3024954 has two genes ['C2ORF16', 'ZNF512']\n",
      "221237-221243 has two genes ['STRN4', 'PRKD2']\n",
      "5261429-5261479 has two genes ['gene_19230', 'CDKN2A']\n",
      "7463237-7463264 has two genes ['MAST3', 'PIK3R2']\n",
      "7463358-7463376 has two genes ['MAST3', 'PIK3R2']\n",
      "9256099-9256139 has two genes ['RPL32', 'EFCAB12']\n",
      "9257523-9257549 has two genes ['RPL32', 'EFCAB12']\n",
      "9257574-9257586 has two genes ['RPL32', 'EFCAB12']\n",
      "73341772-73341790 has two genes ['KANK3', 'gene_1794']\n",
      "73342449-73342473 has two genes ['KANK3', 'gene_1794']\n",
      "1014670-1014756 has two genes ['CUL7', 'MRPL2']\n",
      "1014829-1014839 has two genes ['CUL7', 'MRPL2']\n",
      "1014652-1014756 has two genes ['CUL7', 'MRPL2']\n",
      "1014829-1014839 has two genes ['CUL7', 'MRPL2']\n",
      "15588190-15588234 has two genes ['APBB3', 'SRA1']\n",
      "79529231-79529242 has two genes ['MYL12B', 'MYL9']\n",
      "79548734-79548755 has two genes ['MYL12B', 'MYL9']\n",
      "79550428-79550465 has two genes ['MYL9', 'MYL12B']\n",
      "73341772-73341790 has two genes ['KANK3', 'gene_1794']\n",
      "73342449-73342467 has two genes ['KANK3', 'gene_1794']\n",
      "2957842-2957850 has two genes ['gene_18853', 'HBA']\n",
      "3211386-3211389 has two genes ['CCDC85B', 'BLES03']\n",
      "3213522-3213570 has two genes ['CCDC85B', 'BLES03']\n",
      "12915488-12915495 has two genes ['CMBL', 'gene_15577']\n",
      "5763407-5763423 has two genes ['GLIS2', 'PAM16']\n",
      "5764210-5764236 has two genes ['GLIS2', 'PAM16']\n",
      "18434615-18434641 has two genes ['SAMD15', 'TMED8']\n",
      "18452935-18452972 has two genes ['SAMD15', 'gene_14062']\n",
      "9888780-9888789 has two genes ['AMH', 'DOT1L', 'SF3A2']\n",
      "9888901-9888937 has two genes ['AMH', 'DOT1L', 'SF3A2']\n",
      "8941421-8941483 has two genes ['RNF123', 'APEH']\n",
      "8943755-8943768 has two genes ['RNF123', 'APEH']\n",
      "1013632-1013665 has two genes ['CUL7', 'MRPL2']\n",
      "1014293-1014305 has two genes ['CUL7', 'MRPL2']\n",
      "3651103-3651120 has two genes ['gene_18867', 'BOD1']\n",
      "1095058-1095088 has two genes ['DUS1L', 'RFNG']\n",
      "2049164-2049224 has two genes ['PRMT1', 'CPT1C']\n",
      "15266828-15266849 has two genes ['PSD', 'FBXL15']\n",
      "3206761-3206785 has two genes ['CCDC85B', 'BLES03']\n",
      "3211191-3211209 has two genes ['CCDC85B', 'BLES03']\n",
      "520183-520188 has two genes ['SLC29A1', 'HSP90AB1']\n",
      "3769700-3769705 has two genes ['MAF1', 'CYC1']\n",
      "3770430-3770473 has two genes ['MAF1', 'CYC1']\n",
      "2615502-2615574 has two genes ['SYVN1', 'gene_16642']\n",
      "1403380-1403385 has two genes ['TBB7_CHICK', 'TUBB']\n",
      "1403497-1403546 has two genes ['TBB7_CHICK', 'TUBB']\n",
      "2671727-2671733 has two genes ['SLC35F3', 'gene_3197']\n",
      "2673178-2673214 has two genes ['SLC35F3', 'gene_3197']\n",
      "119044-119095 has two genes ['VPS52', 'WDR46']\n",
      "6155379-6155385 has two genes ['SCO2', 'TYMP']\n",
      "6155519-6155582 has two genes ['SCO2', 'TYMP']\n",
      "669571-669586 has two genes ['STX5', 'NXF1']\n",
      "669715-669751 has two genes ['STX5', 'NXF1']\n",
      "8946259-8946273 has two genes ['RNF123', 'APEH']\n",
      "8946719-8946735 has two genes ['RNF123', 'APEH']\n",
      "4781472-4781516 has two genes ['RNF43', 'gene_27255']\n",
      "321173-321178 has two genes ['ENV', 'GAG']\n",
      "324295-324332 has two genes ['ENV', 'GAG']\n",
      "15600559-15600592 has two genes ['SLC35A4', 'gene_19715']\n",
      "59760572-59760584 has two genes ['EIF4G1', 'PSMD2']\n",
      "809291-809348 has two genes ['NCAPD2', 'GAPDH']\n",
      "809476-809501 has two genes ['NCAPD2', 'GAPDH']\n",
      "25880772-25880802 has two genes ['FEN1', 'FADS1']\n",
      "15817687-15817713 has two genes ['MGEA5', 'NPM3']\n",
      "27580950-27580977 has two genes ['CYP27B1', 'METTL1']\n",
      "27581131-27581152 has two genes ['CYP27B1', 'METTL1', 'gene_18421']\n",
      "808690-808722 has two genes ['NCAPD2', 'GAPDH']\n",
      "809134-809174 has two genes ['NCAPD2', 'GAPDH']\n",
      "7353396-7353446 has two genes ['ACADS', 'UNC119B']\n",
      "8803043-8803068 has two genes ['ZSWIM3', 'ZSWIM1']\n",
      "8803657-8803674 has two genes ['ZSWIM3', 'ZSWIM1']\n",
      "8799032-8799063 has two genes ['TPM4', 'TPM1']\n",
      "5192503-5192513 has two genes ['FOXRED2', 'EIF3D']\n",
      "5193118-5193150 has two genes ['FOXRED2', 'EIF3D']\n",
      "30891848-30891900 has two genes ['TOP3A', 'SMCR8']\n",
      "30890607-30890609 has two genes ['TOP3A', 'SMCR8']\n",
      "30891848-30891900 has two genes ['TOP3A', 'SMCR8']\n",
      "1069879-1069899 has two genes ['HA12_RAT', 'H2-K1']\n",
      "73331137-73331165 has two genes ['KANK3', 'gene_1794']\n",
      "8769020-8769056 has two genes ['HSH2D', 'RAB8A']\n",
      "8772707-8772716 has two genes ['HSH2D', 'RAB8A']\n",
      "15817687-15817713 has two genes ['MGEA5', 'NPM3']\n",
      "808681-808722 has two genes ['NCAPD2', 'GAPDH']\n",
      "809134-809171 has two genes ['NCAPD2', 'GAPDH']\n",
      "809476-809519 has two genes ['NCAPD2', 'GAPDH']\n",
      "812633-812641 has two genes ['NCAPD2', 'GAPDH']\n",
      "7613023-7613040 has two genes ['MAMDC4', 'PHPT1']\n",
      "7613417-7613433 has two genes ['MAMDC4', 'PHPT1']\n",
      "809015-809024 has two genes ['NCAPD2', 'GAPDH']\n",
      "809765-809792 has two genes ['NCAPD2', 'GAPDH']\n",
      "picr_29;16865301;16865761;- is not in dictionary\n"
     ]
    }
   ],
   "source": [
    "novel_splice_df = event_df.query('Event == \"novel splice\"')\n",
    "novel_splice_df = novel_splice_df.reset_index(drop=True)\n",
    "novel_splice_df = process_event_with_splice(novel_splice_df,cds_df,splice_dic)"
   ]
  },
  {
   "cell_type": "code",
   "execution_count": 15,
   "metadata": {
    "scrolled": true
   },
   "outputs": [
    {
     "name": "stdout",
     "output_type": "stream",
     "text": [
      "there are 1692 novel splice events\n"
     ]
    }
   ],
   "source": [
    "novel_splice_df = novel_splice_df[novel_splice_df['read_num'].map(lambda x: x!='0' and '0,' \\\n",
    "                                                not in x and ',0' not in x)]\n",
    "fail_novel_splice_df = novel_splice_df.query('genes==\",\"')\n",
    "novel_splice_df = novel_splice_df.query('genes!=\",\"')\n",
    "print 'there are',novel_splice_df.shape[0],'novel splice events'"
   ]
  },
  {
   "cell_type": "code",
   "execution_count": 16,
   "metadata": {
    "collapsed": true
   },
   "outputs": [],
   "source": [
    "novel_splice_df['genes'] = novel_splice_df['genes'].map(lambda x: ','.join(list(set(x.split(',')))))\n",
    "novel_splice_fn = path + '/03_novel_splice.txt'\n",
    "novel_splice_df.to_csv(novel_splice_fn,sep='\\t',index=False)"
   ]
  },
  {
   "cell_type": "markdown",
   "metadata": {},
   "source": [
    "#### Analyze novel gene\n",
    "Novel gene is identified from splicedb or six frame db, so here we cannot use the function process_event_with_splice.\n",
    "There are cases that it seems like the event is novel splice, but it's in different frame compared to the proteins, so the code assigns it to novel gene."
   ]
  },
  {
   "cell_type": "code",
   "execution_count": 17,
   "metadata": {
    "collapsed": true
   },
   "outputs": [],
   "source": [
    "novel_gene_df = event_df.query('Event == \"novel gene\"')\n",
    "novel_gene_df = novel_gene_df.reset_index(drop=True)"
   ]
  },
  {
   "cell_type": "code",
   "execution_count": 18,
   "metadata": {
    "scrolled": true
   },
   "outputs": [
    {
     "name": "stdout",
     "output_type": "stream",
     "text": [
      "8340063-8340066 has two genes ['gene_16802', 'PTMA']\n",
      "8340107-8340155 has two genes ['gene_16802', 'PTMA']\n",
      "8339951-8339957 has two genes ['gene_16802', 'PTMA']\n",
      "8340086-8340155 has two genes ['gene_16802', 'PTMA']\n",
      "there are 12 novel genes\n"
     ]
    }
   ],
   "source": [
    "novel_gene_df['genes']=novel_gene_df.apply(lambda x: get_gene(x,cds_df),axis=1)\n",
    "novel_gene_df['genes']=novel_gene_df['genes'].map(lambda x: x.split(',')[0])\n",
    "novel_gene_df['read_num']=novel_gene_df.apply(lambda x: get_read_num(x,splice_dic),axis=1)\n",
    "print 'there are',novel_gene_df.shape[0],'novel genes'"
   ]
  },
  {
   "cell_type": "code",
   "execution_count": 19,
   "metadata": {
    "collapsed": true,
    "scrolled": true
   },
   "outputs": [],
   "source": [
    "novel_gene_fn = path + '/04_novel_gene.txt'\n",
    "novel_gene_df.to_csv(novel_gene_fn,sep='\\t',index=False)"
   ]
  },
  {
   "cell_type": "markdown",
   "metadata": {},
   "source": [
    "#### Analyze reverse event"
   ]
  },
  {
   "cell_type": "code",
   "execution_count": 20,
   "metadata": {
    "collapsed": true
   },
   "outputs": [],
   "source": [
    "def get_reverse_gene(row,cds_df,direction='same'):\n",
    "    '''this function gets the fusion genes using peptide splice information.\n",
    "    genes on sides of splice is split by comma, if one splice map to more than one \n",
    "    gene, the overlapped genes are split by ; '''\n",
    "    chrom = row['Chromosome']\n",
    "    loci = row['Location']\n",
    "    strand = row['Strand']\n",
    "    if direction == 'diff':\n",
    "        if strand == '+':\n",
    "            strand = '-'\n",
    "        else:\n",
    "            strand = '+'\n",
    "    genes = []\n",
    "    locis = loci.split(';')\n",
    "    poses = []\n",
    "    for loc in locis:\n",
    "        pos = [int(p) for p in loc.split('-')]\n",
    "        poses.extend(pos)\n",
    "    pos = [min(poses),max(poses)]\n",
    "    fil_gff = cds_df[(cds_df['chr'].values==chrom)&(cds_df['str'].values==strand)]\n",
    "    cri = fil_gff.apply(lambda x:range(max(x['s'],pos[0]),min(x['e'],pos[1]))!=[],axis=1)\n",
    "    fil_gff = fil_gff[cri]                \n",
    "    gene = fil_gff['gene'].unique().tolist()\n",
    "    if len(gene)>1:\n",
    "        print loc,'has two genes',gene\n",
    "    genes.append(';'.join(gene))\n",
    "    return ','.join(genes)"
   ]
  },
  {
   "cell_type": "code",
   "execution_count": 21,
   "metadata": {
    "collapsed": true
   },
   "outputs": [],
   "source": [
    "reverse_df = event_df.query('Event == \"reverse strand\"')\n",
    "reverse_df = reverse_df.reset_index(drop=True)"
   ]
  },
  {
   "cell_type": "code",
   "execution_count": 22,
   "metadata": {
    "scrolled": true
   },
   "outputs": [
    {
     "name": "stdout",
     "output_type": "stream",
     "text": [
      "26608242-26608251 has two genes ['gene_6887', 'RPL8']\n",
      "2901428-2901445 has two genes ['NRBF2', 'EIF1']\n",
      "145735-145764 has two genes ['A4GALT', 'gene_4']\n"
     ]
    }
   ],
   "source": [
    "reverse_df['genes'] = reverse_df.apply(lambda x: get_reverse_gene(x,rna_df,'diff'),axis=1)\n",
    "reverse_df['genes'] = reverse_df['genes'].map(lambda x: ','.join(list(set(x.split(',')))))\n",
    "reverse_df['read_num'] = reverse_df.apply(lambda x: get_read_num(x,splice_dic),axis=1)"
   ]
  },
  {
   "cell_type": "code",
   "execution_count": 23,
   "metadata": {},
   "outputs": [
    {
     "name": "stdout",
     "output_type": "stream",
     "text": [
      "there are 37 reverse events\n"
     ]
    }
   ],
   "source": [
    "print 'there are',reverse_df.shape[0],'reverse events'\n",
    "reverse_fn = path + '/05_reverse.txt'\n",
    "reverse_df.to_csv(reverse_fn,sep='\\t',index=False)"
   ]
  },
  {
   "cell_type": "markdown",
   "metadata": {},
   "source": [
    "#### Analyze frame shift"
   ]
  },
  {
   "cell_type": "code",
   "execution_count": 25,
   "metadata": {},
   "outputs": [
    {
     "name": "stdout",
     "output_type": "stream",
     "text": [
      "10049283-10049286 has two genes ['ELMOD3', 'TTGN1']\n",
      "10050518-10050545 has two genes ['ELMOD3', 'TTGN1']\n",
      "6856189-6856204 has two genes ['KTI12', 'TXNDC12']\n",
      "6857891-6857948 has two genes ['KTI12', 'TXNDC12']\n",
      "3234582-3234598 has two genes ['DRAP1', 'BLES03']\n",
      "3234838-3234870 has two genes ['DRAP1', 'BLES03']\n",
      "16546872-16546887 has two genes ['SEMA4G', 'LZTS2']\n",
      "16547374-16547413 has two genes ['SEMA4G', 'LZTS2']\n",
      "14120947-14120997 has two genes ['RPL23A', 'gene_27436']\n",
      "14121511-14121533 has two genes ['RPL23A', 'gene_27436']\n",
      "3421498-3421528 has two genes ['ACAP3', 'INTS11']\n",
      "3421674-3421683 has two genes ['ACAP3', 'INTS11']\n",
      "4946820-4946847 has two genes ['CUL4A', 'gene_4383']\n",
      "4956469-4956493 has two genes ['CUL4A', 'gene_4383']\n",
      "there are 105 frame shift events\n"
     ]
    }
   ],
   "source": [
    "def get_final_frame_shift_df(event_df,cds_df,splice_dic):\n",
    "    frame_df = event_df.query('Event == \"frame shift\"')\n",
    "    frame_df = frame_df.reset_index(drop=True)\n",
    "    frame_df['genes']=frame_df.apply(lambda x: get_gene(x,cds_df),axis=1)\n",
    "    frame_df['genes']=frame_df['genes'].map(lambda x: ','.join(list(set(x.split(',')))))\n",
    "    frame_df['read_num']=frame_df.apply(lambda x: get_read_num(x,splice_dic),axis=1)\n",
    "    return frame_df\n",
    "frame_fn = path + '/06_frame_shift.txt'\n",
    "if not os.path.exists(frame_fn):\n",
    "    frame_df = get_final_frame_shift_df(event_df,cds_df,splice_dic)\n",
    "    print 'there are',frame_df.shape[0],'frame shift events'\n",
    "    frame_df.to_csv(frame_fn,sep='\\t',index=False)\n",
    "frame_df = pd.read_csv(frame_fn,sep='\\t',header=0)"
   ]
  },
  {
   "cell_type": "markdown",
   "metadata": {},
   "source": [
    "### Analyze Mutation and INDEL\n",
    "1. read in the mutation and indel position generated by snpdb.\n",
    "2. extract protein verified snpdb.\n",
    "3. merge all the annovar annotated vcf files and remove the duplicates. Then we analyze mutation, insertion and deletion separatly.\n",
    "4. get overlap between 2 and 3."
   ]
  },
  {
   "cell_type": "markdown",
   "metadata": {},
   "source": [
    "* read in snpdb snp and indel"
   ]
  },
  {
   "cell_type": "code",
   "execution_count": 27,
   "metadata": {},
   "outputs": [],
   "source": [
    "def get_snpdb_read_num(support):\n",
    "    '''this function gets the number of reads supporting each mutation or indel from snpdb'''\n",
    "    n = 0\n",
    "    items = support.split(',')\n",
    "    for item in items:\n",
    "        n += int(item.split(':')[1])\n",
    "    return n\n",
    "\n",
    "# 1. read in snpdb generated mutation and indel\n",
    "snpdb_snp_df = pd.read_csv(snpdb_snp_fn,sep='\\t',comment='#',header=None,names=[\n",
    "    'chr','s','alt','supt','read_num'])\n",
    "snpdb_snp_df['read_num'] = snpdb_snp_df['supt'].map(lambda x: get_snpdb_read_num(x))\n",
    "del snpdb_snp_df['supt']\n",
    "snpdb_ins_df = pd.read_csv(snpdb_ins_fn,sep='\\t',comment='#',header=None,names=[\n",
    "    'chr','s','alt','supt','read_num'])\n",
    "snpdb_ins_df['read_num'] = snpdb_ins_df['supt'].map(lambda x: get_snpdb_read_num(x))\n",
    "del snpdb_ins_df['supt']\n",
    "snpdb_del_df = pd.read_csv(snpdb_del_fn,sep='\\t',comment='#',header=None,names=[\n",
    "    'chr','s','e','supt','read_num'])\n",
    "snpdb_del_df['read_num'] = snpdb_del_df['supt'].map(lambda x: get_snpdb_read_num(x))\n",
    "del snpdb_del_df['supt']\n",
    "snpdb_snp_df['e'] = snpdb_snp_df['s'] + 1\n",
    "snpdb_ins_df['e'] = snpdb_ins_df['s'] + 1"
   ]
  },
  {
   "cell_type": "markdown",
   "metadata": {},
   "source": [
    "* merge vcf files"
   ]
  },
  {
   "cell_type": "code",
   "execution_count": 28,
   "metadata": {},
   "outputs": [],
   "source": [
    "def remove_mut_dup(x):\n",
    "    '''this function removes duplications in merged annovar annotated vcf df'''\n",
    "    d = {}\n",
    "    d['anno'] = x['anno'].iloc[0]\n",
    "    feature = x['feature'].unique()\n",
    "    if len(feature)>1:\n",
    "        d['feature'] = 'het'\n",
    "    else:\n",
    "        d['feature'] = feature[0]\n",
    "    return pd.Series(d)\n",
    "\n",
    "def merge_vcf_df(vcf_fns):\n",
    "    '''merge annovar annotated vcf files'''\n",
    "    vcf_dfs = []\n",
    "    for vcf in vcf_fns:\n",
    "        df = pd.read_csv(vcf,sep='\\t',header=None,usecols=range(1,9))\n",
    "        vcf_dfs.append(df)\n",
    "    vcf_df = pd.concat(vcf_dfs)\n",
    "    vcf_df.columns = ['type','anno','chr','s','e','ref','alt','feature']\n",
    "    vcf_df = vcf_df.groupby(['type','chr','s','e','ref','alt']).apply(remove_mut_dup)\n",
    "    vcf_df.reset_index(inplace=True)\n",
    "    return vcf_df"
   ]
  },
  {
   "cell_type": "code",
   "execution_count": 29,
   "metadata": {},
   "outputs": [],
   "source": [
    "merge_vcf_fn = path + '/merged.vcf'\n",
    "if not os.path.exists(merge_vcf_fn):\n",
    "    vcfs = natsorted(glob.glob(vcf_path+'/*exonic_variant_function'))\n",
    "    vcf_df = merge_vcf_df(vcfs)\n",
    "    vcf_df.to_csv(merge_vcf_fn,sep='\\t',index=False)\n",
    "vcf_df = pd.read_csv(merge_vcf_fn,sep='\\t',header=0)\n",
    "# filter out the synonymouse snv\n",
    "fil_vcf_df = vcf_df[vcf_df['type'].values!='synonymous SNV']\n",
    "fil_vcf_df = fil_vcf_df.reset_index(drop=True)"
   ]
  },
  {
   "cell_type": "code",
   "execution_count": 32,
   "metadata": {
    "collapsed": true
   },
   "outputs": [
    {
     "data": {
      "text/html": [
       "<div>\n",
       "<style>\n",
       "    .dataframe thead tr:only-child th {\n",
       "        text-align: right;\n",
       "    }\n",
       "\n",
       "    .dataframe thead th {\n",
       "        text-align: left;\n",
       "    }\n",
       "\n",
       "    .dataframe tbody tr th {\n",
       "        vertical-align: top;\n",
       "    }\n",
       "</style>\n",
       "<table border=\"1\" class=\"dataframe\">\n",
       "  <thead>\n",
       "    <tr style=\"text-align: right;\">\n",
       "      <th></th>\n",
       "      <th>number</th>\n",
       "    </tr>\n",
       "  </thead>\n",
       "  <tbody>\n",
       "    <tr>\n",
       "      <th>stoploss</th>\n",
       "      <td>348</td>\n",
       "    </tr>\n",
       "    <tr>\n",
       "      <th>nonframeshift insertion</th>\n",
       "      <td>1522</td>\n",
       "    </tr>\n",
       "    <tr>\n",
       "      <th>stopgain</th>\n",
       "      <td>1563</td>\n",
       "    </tr>\n",
       "    <tr>\n",
       "      <th>nonframeshift deletion</th>\n",
       "      <td>1676</td>\n",
       "    </tr>\n",
       "    <tr>\n",
       "      <th>frameshift deletion</th>\n",
       "      <td>6303</td>\n",
       "    </tr>\n",
       "    <tr>\n",
       "      <th>frameshift insertion</th>\n",
       "      <td>7856</td>\n",
       "    </tr>\n",
       "    <tr>\n",
       "      <th>nonsynonymous SNV</th>\n",
       "      <td>218332</td>\n",
       "    </tr>\n",
       "    <tr>\n",
       "      <th>synonymous SNV</th>\n",
       "      <td>769252</td>\n",
       "    </tr>\n",
       "  </tbody>\n",
       "</table>\n",
       "</div>"
      ],
      "text/plain": [
       "                         number\n",
       "stoploss                    348\n",
       "nonframeshift insertion    1522\n",
       "stopgain                   1563\n",
       "nonframeshift deletion     1676\n",
       "frameshift deletion        6303\n",
       "frameshift insertion       7856\n",
       "nonsynonymous SNV        218332\n",
       "synonymous SNV           769252"
      ]
     },
     "execution_count": 32,
     "metadata": {},
     "output_type": "execute_result"
    }
   ],
   "source": [
    "anno_vcf_stats = vcf_df['type'].value_counts().to_dict()\n",
    "anno_vcf_stats_df = pd.DataFrame.from_dict(anno_vcf_stats,orient='index')\n",
    "anno_vcf_stats_df.columns= ['number']\n",
    "anno_vcf_stats_df = anno_vcf_stats_df.sort_values('number')\n",
    "anno_vcf_stats_df"
   ]
  },
  {
   "cell_type": "markdown",
   "metadata": {},
   "source": [
    "#### 1. Analyze snp"
   ]
  },
  {
   "cell_type": "code",
   "execution_count": 37,
   "metadata": {},
   "outputs": [],
   "source": [
    "def get_mut_pos(location,mut='snp'):\n",
    "    '''this function gets the location of the mutation\n",
    "    * mut: snp, ins, del\n",
    "    '''\n",
    "    locis = location.split(';')\n",
    "    poses = []\n",
    "    if mut == 'snp':\n",
    "        symbol = 'M'\n",
    "    elif mut == 'ins':\n",
    "        symbol = 'I'\n",
    "    if mut == 'del':\n",
    "        for i in range(len(locis)-1):\n",
    "            pos = [locis[i].split('-')[1],locis[i+1].split('-')[0]]\n",
    "            poses.append('-'.join(pos))\n",
    "    else:\n",
    "        for i in range(len(locis)):\n",
    "            if locis[i][0] == symbol:\n",
    "                if i == 0: # need to get the next number\n",
    "                    pos = int(locis[i+1].split('-')[0])-1\n",
    "                else:\n",
    "                    pos = int(locis[i-1].split('-')[1])\n",
    "                poses.append('-'.join([str(pos),str(pos+1)]))\n",
    "#         poses = [str(p) for p in poses]\n",
    "    return ','.join(poses)\n",
    "\n",
    "\n",
    "def getSnpPosPrDic(snp_event):\n",
    "    '''build a dictionary {chr:pos:alt_AA : [number of pep,spec_count]} from proteogenomic mutation event'''\n",
    "    mut_pos = {}\n",
    "    for index,row in snp_event.iterrows():\n",
    "        locis = row['Location'].split(';')\n",
    "        chrom = row['Chromosome']\n",
    "        pep = ''.join([l for l in row['Peptide'] if l.isalpha()])\n",
    "        groups = len(row['GroupInfo'].split('|'))\n",
    "        spec_count = int(row['spec_count'])\n",
    "        idx = 0\n",
    "    #     if row['Strand']=='-': locis = locis[::-1]\n",
    "        for i in range(len(locis)):\n",
    "            if 'M1' == locis[i]:\n",
    "                idx_p = int(idx/3)\n",
    "                if idx == 0:\n",
    "                    pos = int(locis[1].split('-')[0])\n",
    "                else:\n",
    "                    pos = int(locis[i-1].split('-')[1]) + 1\n",
    "                if row['Strand'] == '-':\n",
    "                    idx_p = len(pep)-idx_p-1\n",
    "                key = ':'.join([chrom,str(pos-1),pep[idx_p]])\n",
    "                if key in mut_pos:\n",
    "                    value = mut_pos[key]\n",
    "                    value[0] += 1\n",
    "                    value[1] += spec_count\n",
    "                    mut_pos[key]=value\n",
    "                else:\n",
    "                    mut_pos[key] = [groups,spec_count]\n",
    "                idx += 1\n",
    "            else:\n",
    "                pos = [int(p) for p in locis[i].split('-')]\n",
    "                idx += pos[1]-pos[0]\n",
    "    return mut_pos\n",
    "\n",
    "\n",
    "def get_alter_pr_from_snp(row,mut_pos):\n",
    "    '''this funcion \n",
    "    * row: a row of annovar annotated snp_df\n",
    "    * mut_pos: {chr:start_pos:alter:[pep_num,spec_num]}'''\n",
    "    annos = row['anno'].strip().split(',')[:-1]\n",
    "    chrom = row['chr']\n",
    "    start = row['s']\n",
    "    new_annos = []\n",
    "    spectrum = [0,0]\n",
    "    for anno in annos:\n",
    "        key = ':'.join([chrom,str(start),anno[-1]])\n",
    "        if key in mut_pos:\n",
    "            new_annos.append(anno)\n",
    "            spectrum = mut_pos[key]\n",
    "        else:\n",
    "            pass\n",
    "    row['anno'] = ','.join(new_annos)\n",
    "    return pd.Series(spectrum)\n",
    "\n",
    "\n",
    "def get_mut_genes(anno,id_name_dic):\n",
    "    # get gene name from gene id in annotated results\n",
    "    items = anno.split(',')[:-1]\n",
    "    genes = []\n",
    "    try:\n",
    "        for item in items:\n",
    "            genes.append(id_name_dic[item.split(':')[0]])\n",
    "    except:\n",
    "        print anno\n",
    "    return ','.join(list(set(genes)))"
   ]
  },
  {
   "cell_type": "code",
   "execution_count": 34,
   "metadata": {},
   "outputs": [],
   "source": [
    "def get_final_snp_event(event_df,snpdb_snp_df,fil_vcf_df,id_name_dic):\n",
    "    '''this function gets all the snp events'''\n",
    "    # 1. get proteogenomics verified mutation\n",
    "    snp_event = event_df.query('Event==\"mutation\"')\n",
    "    snp_pos_dic = getSnpPosPrDic(snp_event)  # {chr:pos:alt_AA : [pep_num,spec_num]}\n",
    "\n",
    "    # 2. extract nonsynonymouse mutation from annotation \n",
    "    anno_snp_df = fil_vcf_df[fil_vcf_df.apply(lambda x:(x['alt']!='-') & (x['ref']!='-'),axis=1)]\n",
    "    anno_snp_df = anno_snp_df.reset_index(drop=True)\n",
    "    anno_snp_df['s'] -= 1\n",
    "    # 3. overlap with snpdb_snp_df\n",
    "    anno_snpdb_snp_df = pd.merge(anno_snp_df,snpdb_snp_df,on=['chr','s','e','alt'])\n",
    "    anno_snpdb_snp_df[['pep_num','spec_num']] = anno_snpdb_snp_df.apply(lambda row: get_alter_pr_from_snp(row,snp_pos_dic),axis=1)\n",
    "    anno_snpdb_snp_df = anno_snpdb_snp_df[anno_snpdb_snp_df['pep_num'].values>0]\n",
    "    anno_snpdb_snp_df = anno_snpdb_snp_df.reset_index(drop=True)\n",
    "    anno_snpdb_snp_df['gene'] = anno_snpdb_snp_df['anno'].map(lambda x:get_mut_genes(x,id_name_dic))\n",
    "    anno_snpdb_snp_df.to_csv(snp_fn,sep='\\t',index=False)\n",
    "    return anno_snpdb_snp_df"
   ]
  },
  {
   "cell_type": "code",
   "execution_count": 38,
   "metadata": {},
   "outputs": [],
   "source": [
    "snp_fn = path + '/07_snp_event.txt'\n",
    "if not os.path.exists(snp_fn):\n",
    "    final_anno_snp_df = get_final_snp_event(event_df,snpdb_snp_df,fil_vcf_df,id_name_dic)\n",
    "    final_anno_snp_df.to_csv(snp_fn,sep='\\t',index=False)"
   ]
  },
  {
   "cell_type": "code",
   "execution_count": 39,
   "metadata": {},
   "outputs": [
    {
     "data": {
      "image/png": "[encoded data removed]",
      "text/plain": [
       "<matplotlib.figure.Figure at 0x7f1e19b3b7d0>"
      ]
     },
     "metadata": {},
     "output_type": "display_data"
    },
    {
     "data": {
      "image/png": "[encoded data removed]",
      "text/plain": [
       "<matplotlib.figure.Figure at 0x7f1e19b3b610>"
      ]
     },
     "metadata": {},
     "output_type": "display_data"
    }
   ],
   "source": [
    "def plot_snp_df(snp_df,title):\n",
    "    mut_rates = (snp_df['ref']+'->'+snp_df['alt']).value_counts().to_dict()\n",
    "    mut_rates['C->A'] += mut_rates['G->T']\n",
    "    mut_rates['C->G'] += mut_rates['G->C']\n",
    "    mut_rates['C->T'] += mut_rates['G->A']\n",
    "    mut_rates['T->A'] += mut_rates['A->T']\n",
    "    mut_rates['T->C'] += mut_rates['A->G']\n",
    "    mut_rates['T->G'] += mut_rates['A->C']\n",
    "    for k in mut_rates.keys():\n",
    "        if k[0] in ['G','A']:\n",
    "            del mut_rates[k]\n",
    "\n",
    "    mut_rates = pd.DataFrame.from_dict(mut_rates,orient='index')\n",
    "    ax = mut_rates[0].plot.pie(figsize=(6,6),autopct='%.2f%%')\n",
    "    _ = ax.set(ylabel='',title=title,aspect='equal')\n",
    "plot_snp_df(final_anno_snp_df,'proteomic verified SNV')\n",
    "plt.figure()\n",
    "anno_snp_df = fil_vcf_df[fil_vcf_df.apply(lambda x:(x['alt']!='-') & (x['ref']!='-'),axis=1)]\n",
    "plot_snp_df(anno_snp_df,'annotated SNV')"
   ]
  },
  {
   "cell_type": "code",
   "execution_count": 40,
   "metadata": {},
   "outputs": [
    {
     "name": "stdout",
     "output_type": "stream",
     "text": [
      "{'het': 245, 'hom': 764}\n",
      "there are 761 genes have mutations\n",
      "{'nonsynonymous SNV': 1008, 'stoploss': 1}\n"
     ]
    },
    {
     "data": {
      "text/html": [
       "<div>\n",
       "<style>\n",
       "    .dataframe thead tr:only-child th {\n",
       "        text-align: right;\n",
       "    }\n",
       "\n",
       "    .dataframe thead th {\n",
       "        text-align: left;\n",
       "    }\n",
       "\n",
       "    .dataframe tbody tr th {\n",
       "        vertical-align: top;\n",
       "    }\n",
       "</style>\n",
       "<table border=\"1\" class=\"dataframe\">\n",
       "  <thead>\n",
       "    <tr style=\"text-align: right;\">\n",
       "      <th></th>\n",
       "      <th>type</th>\n",
       "      <th>chr</th>\n",
       "      <th>s</th>\n",
       "      <th>e</th>\n",
       "      <th>ref</th>\n",
       "      <th>alt</th>\n",
       "      <th>anno</th>\n",
       "      <th>feature</th>\n",
       "      <th>read_num</th>\n",
       "      <th>pep_num</th>\n",
       "      <th>spec_num</th>\n",
       "      <th>gene</th>\n",
       "    </tr>\n",
       "  </thead>\n",
       "  <tbody>\n",
       "    <tr>\n",
       "      <th>1008</th>\n",
       "      <td>stoploss</td>\n",
       "      <td>picr_132</td>\n",
       "      <td>1098016</td>\n",
       "      <td>1098017</td>\n",
       "      <td>A</td>\n",
       "      <td>G</td>\n",
       "      <td>gene_5982:asmbl_17512:exon1:c.T301C:p.X101R,</td>\n",
       "      <td>het</td>\n",
       "      <td>203</td>\n",
       "      <td>1</td>\n",
       "      <td>1</td>\n",
       "      <td>RPS23</td>\n",
       "    </tr>\n",
       "  </tbody>\n",
       "</table>\n",
       "</div>"
      ],
      "text/plain": [
       "          type       chr        s        e ref alt  \\\n",
       "1008  stoploss  picr_132  1098016  1098017   A   G   \n",
       "\n",
       "                                              anno feature  read_num  pep_num  \\\n",
       "1008  gene_5982:asmbl_17512:exon1:c.T301C:p.X101R,     het       203        1   \n",
       "\n",
       "      spec_num   gene  \n",
       "1008         1  RPS23  "
      ]
     },
     "execution_count": 40,
     "metadata": {},
     "output_type": "execute_result"
    }
   ],
   "source": [
    "snp_genes = list(set([f for g in final_anno_snp_df['gene'] for f in g.split(',')]))\n",
    "\n",
    "print final_anno_snp_df['feature'].value_counts().to_dict()\n",
    "print 'there are',len(snp_genes),'genes have mutations'\n",
    "print final_anno_snp_df['type'].value_counts().to_dict()\n",
    "final_anno_snp_df.query('type==\"stoploss\"')"
   ]
  },
  {
   "cell_type": "code",
   "execution_count": 41,
   "metadata": {},
   "outputs": [
    {
     "name": "stdout",
     "output_type": "stream",
     "text": [
      "overlap of frame shift and mutation genes ['DDX21', 'PDLIM1', 'ECM29', 'UQCRC1', 'HSPG2', 'PGM1', 'CAT', 'MICAL1', 'PTK2B', 'PRKCSH', 'SND1', 'MARS', 'STRAP', 'UQCRC2', 'POLD1', 'LNPK']\n"
     ]
    }
   ],
   "source": [
    "print 'overlap of frame shift and mutation genes',list(set(frame_df['genes'].unique().tolist()).intersection(snp_genes))"
   ]
  },
  {
   "cell_type": "markdown",
   "metadata": {},
   "source": [
    "#### 2. Analyze insertions"
   ]
  },
  {
   "cell_type": "code",
   "execution_count": 42,
   "metadata": {},
   "outputs": [],
   "source": [
    "def get_indel_pos_dic(mut_event):\n",
    "    '''this function returns '''\n",
    "    mut_count_dic = {}  # {}\n",
    "    for index, row in mut_event.iterrows():\n",
    "        chrom = row['Chromosome']\n",
    "        spec  = row['spec_count']\n",
    "        pos   = row['mut_pos'].split(',')\n",
    "        for p in pos:\n",
    "            key = ':'.join([chrom,p])\n",
    "            if key in mut_count_dic:\n",
    "                mut_count_dic[key][0] == 1\n",
    "                mut_count_dic[key][1] += int(spec)\n",
    "            else:\n",
    "                mut_count_dic[key] = [1,int(spec)]\n",
    "    return mut_count_dic"
   ]
  },
  {
   "cell_type": "code",
   "execution_count": 43,
   "metadata": {},
   "outputs": [],
   "source": [
    "def get_final_ins_event(event_df,snpdb_ins_df,fil_vcf_df,id_name_dic):\n",
    "    '''this function gets the final snp event verified  by proteomics\n",
    "    * event_df: all event results\n",
    "    * snpdb_ins_df: all insertion generated from snpdb\n",
    "    * fil_vcf_df: all mutation in annovar annotated mutation\n",
    "    * id_name_dic: {geneid:genename}\n",
    "    '''\n",
    "    # 1. get proteogenomics verified mutation\n",
    "    ins_event = event_df[event_df['Event'].values=='insertion']\n",
    "    ins_event = ins_event.reset_index(drop=True)\n",
    "    ins_event['mut_pos'] = ins_event['Location'].map(lambda x: get_mut_pos(x,'ins'))\n",
    "    # build dictionary of {chr:pos : [pep_num,spec_num]}\n",
    "    ins_event_count_dic = get_indel_pos_dic(ins_event)\n",
    "    \n",
    "    # 2. extract corresponding verified mutation in snpdb, add pep number and spec number\n",
    "    snpdb_ins_df['key']= snpdb_ins_df.apply(lambda x:x['chr']+':'+str(x['s'])+'-'+str(x['e']),axis=1)\n",
    "    snpdb_ins_df = snpdb_ins_df[snpdb_ins_df['key'].isin(ins_event_count_dic.keys())]\n",
    "    snpdb_ins_df = snpdb_ins_df.reset_index(drop=True)\n",
    "    \n",
    "    snpdb_ins_df[['pep_num','spec_num']] = snpdb_ins_df.apply(lambda x: pd.Series(ins_event_count_dic[x['key']]),axis=1)\n",
    "    del snpdb_ins_df['key']\n",
    "\n",
    "    # 3. read in annotated vcf and filter out verified ones\n",
    "    # return anno_snp_df\n",
    "    anno_ins_df = fil_vcf_df[fil_vcf_df.apply(lambda x: x['ref']=='-',axis=1)]\n",
    "    anno_ins_df = anno_ins_df.reset_index(drop=True)\n",
    "    anno_ins_df['e'] += 1\n",
    "    anno_ins_df = pd.merge(anno_ins_df,snpdb_ins_df,how='inner', on=['chr','s','e'])\n",
    "    anno_ins_df['gene'] = anno_ins_df['anno'].map(lambda x: get_mut_genes(x,id_name_dic))\n",
    "    return anno_ins_df"
   ]
  },
  {
   "cell_type": "code",
   "execution_count": 44,
   "metadata": {},
   "outputs": [],
   "source": [
    "ins_fn = path + '/08_insertion.txt'\n",
    "if not os.path.exists(ins_fn):\n",
    "    final_anno_ins_df = get_final_ins_event(event_df,snpdb_ins_df,fil_vcf_df,id_name_dic)\n",
    "    final_anno_ins_df['alt'] = final_anno_ins_df.apply(lambda x:','.join(list(set([x['alt_x'],x['alt_y']]))),axis=1)\n",
    "    final_anno_ins_df[['type','chr','s','e','ref','alt','anno','feature','read_num',\n",
    "                       'pep_num','spec_num','gene']].to_csv(ins_fn,sep='\\t',index=False)"
   ]
  },
  {
   "cell_type": "code",
   "execution_count": 45,
   "metadata": {},
   "outputs": [
    {
     "data": {
      "text/plain": [
       "{'frameshift insertion': 27, 'nonframeshift insertion': 16}"
      ]
     },
     "execution_count": 45,
     "metadata": {},
     "output_type": "execute_result"
    }
   ],
   "source": [
    "final_anno_ins_df['type'].value_counts().to_dict()"
   ]
  },
  {
   "cell_type": "markdown",
   "metadata": {},
   "source": [
    "#### 3. Analyze deletion"
   ]
  },
  {
   "cell_type": "code",
   "execution_count": 46,
   "metadata": {},
   "outputs": [],
   "source": [
    "def get_final_del_event(event_df,snpdb_del_df,fil_vcf_df,id_name_dic):\n",
    "    # 1. get proteogenomics verified mutation\n",
    "    del_event = event_df[event_df['Event'].values=='deletion']\n",
    "    del_event = del_event.reset_index(drop=True)\n",
    "    del_event['mut_pos'] = del_event['Location'].map(lambda x: get_mut_pos(x,'del'))\n",
    "    # build dictionary of {chr:pos : [pep_num,spec_num]}\n",
    "    del_event_count_dic = get_indel_pos_dic(del_event)\n",
    "\n",
    "    # 2. extract corresponding verified mutation in snpdb, add pep number and spec number\n",
    "    snpdb_del_df['key']= snpdb_del_df.apply(lambda x:x['chr']+':'+str(x['s'])+'-'+str(x['e']),axis=1)\n",
    "    snpdb_del_df = snpdb_del_df[snpdb_del_df['key'].isin(del_event_count_dic.keys())]\n",
    "    snpdb_del_df = snpdb_del_df.reset_index(drop=True)\n",
    "    snpdb_del_df[['pep_num','spec_num']] = snpdb_del_df.apply(lambda x: pd.Series(del_event_count_dic[x['key']]),axis=1)\n",
    "    del snpdb_del_df['key']\n",
    "\n",
    "    # 3. read in annotated vcf and filter out verified ones\n",
    "    # return anno_snp_df\n",
    "    anno_del_df = fil_vcf_df[fil_vcf_df['alt']=='-']\n",
    "    anno_del_df = anno_del_df.reset_index(drop=True)\n",
    "    anno_del_df['s'] -=1\n",
    "    anno_del_df = pd.merge(anno_del_df,snpdb_del_df,how='inner', on=['chr','s','e'])\n",
    "    anno_del_df['gene'] = anno_del_df['anno'].map(lambda x: get_mut_genes(x,id_name_dic))\n",
    "    return anno_del_df"
   ]
  },
  {
   "cell_type": "code",
   "execution_count": 47,
   "metadata": {},
   "outputs": [],
   "source": [
    "del_fn = path + '/09_deletion.txt'\n",
    "if not os.path.exists(del_fn):\n",
    "    final_anno_del_df = get_final_del_event(event_df,snpdb_del_df,fil_vcf_df,id_name_dic)\n",
    "    final_anno_del_df.to_csv(del_fn,sep='\\t',index=False)"
   ]
  },
  {
   "cell_type": "code",
   "execution_count": 48,
   "metadata": {},
   "outputs": [
    {
     "name": "stdout",
     "output_type": "stream",
     "text": [
      "{'nonframeshift deletion': 2, 'frameshift deletion': 4}\n",
      "there are 6 genes that have deletions\n"
     ]
    }
   ],
   "source": [
    "print final_anno_del_df['type'].value_counts().to_dict()\n",
    "print 'there are', final_anno_del_df['gene'].unique().shape[0],'genes that have deletions'"
   ]
  }
 ],
 "metadata": {
  "kernelspec": {
   "display_name": "Python 2",
   "language": "python",
   "name": "python2"
  },
  "language_info": {
   "codemirror_mode": {
    "name": "ipython",
    "version": 2
   },
   "file_extension": ".py",
   "mimetype": "text/x-python",
   "name": "python",
   "nbconvert_exporter": "python",
   "pygments_lexer": "ipython2",
   "version": "2.7.11"
  }
 },
 "nbformat": 4,
 "nbformat_minor": 2
}
