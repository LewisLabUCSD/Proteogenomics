{
 "cells": [
  {
   "cell_type": "code",
   "execution_count": 53,
   "metadata": {
    "collapsed": true
   },
   "outputs": [],
   "source": [
    "import os,glob,re\n",
    "import pandas as pd\n",
    "import numpy as np\n",
    "from Bio import SeqIO\n",
    "from natsort import natsorted\n",
    "import matplotlib.pyplot as plt\n",
    "%matplotlib inline\n",
    "plt.style.use('ggplot')"
   ]
  },
  {
   "cell_type": "code",
   "execution_count": 54,
   "metadata": {
    "collapsed": true
   },
   "outputs": [],
   "source": [
    "path = '/data/shangzhong/Proteogenomics/event_results'\n",
    "vcf_path = '/data/shangzhong/Proteogenomics/Database/SNP_Database_Generate/anno_vcf'\n",
    "ref_fa = '/data/genome/hamster/picr_old/picr.fa'\n",
    "pasa_path = '/data/shangzhong/Picr_assembly/Annotation/PASA/pasa_stringtie'\n",
    "event = path + '/all_events.txt'\n",
    "event_loc_fn = path + '/all_event_locations.txt'\n",
    "gff = pasa_path + '/03_pasa_stringtie.gff3'\n",
    "rna_fa = pasa_path + '/03_pasa_stringtie_rna.fa'\n",
    "splice_fn = path + '/splice.txt'\n",
    "snpdb_ins_fn = path + '/insertion.txt'\n",
    "snpdb_del_fn = path + '/deletion.txt'\n",
    "snpdb_snp_fn = path + '/snp.txt'\n",
    "#gff = '/data/genome/hamster/picr_old/updated_final.gff3'"
   ]
  },
  {
   "cell_type": "code",
   "execution_count": 55,
   "metadata": {},
   "outputs": [],
   "source": [
    "novel_fn = path + '/novel_res.txt'\n",
    "novel_df = pd.read_csv(novel_fn,sep='\\t',header=0)"
   ]
  },
  {
   "cell_type": "code",
   "execution_count": 56,
   "metadata": {},
   "outputs": [],
   "source": [
    "novel_df['pep'] = novel_df['Peptide'].map(lambda x: ''.join([l for l in x if l.isalpha()]))"
   ]
  },
  {
   "cell_type": "code",
   "execution_count": 57,
   "metadata": {},
   "outputs": [
    {
     "data": {
      "text/plain": [
       "9832"
      ]
     },
     "execution_count": 57,
     "metadata": {},
     "output_type": "execute_result"
    }
   ],
   "source": [
    "novel_df['pep'].unique().size"
   ]
  },
  {
   "cell_type": "markdown",
   "metadata": {},
   "source": [
    "First of all, merge all events files from multiple runs. Then get unique events, sum all he spectrum count, location count is the same for all runs. FDR take the maximum, Sprob take the minimum. "
   ]
  },
  {
   "cell_type": "code",
   "execution_count": 58,
   "metadata": {},
   "outputs": [],
   "source": [
    "def get_unique_event_location(event_loc_fn,event_uniq_loc_fn):\n",
    "    '''this function get unique event location'''\n",
    "    pep_dic = {}\n",
    "    with open(event_loc_fn) as inf:\n",
    "        for line in inf:\n",
    "            if line.startswith('#'): continue\n",
    "            item = line.strip().split('\\t')\n",
    "            chrom,pos,pep,spec_num,loc_num,fdr,sprob,strand = item\n",
    "            key = '\\t'.join([chrom,pos,pep])\n",
    "            if strand == '1':\n",
    "                strand = '+'\n",
    "            else:\n",
    "                strand = '-'\n",
    "            if key not in pep_dic:\n",
    "                pep_dic[key] = [int(spec_num),float(fdr),float(sprob),strand]\n",
    "            else:\n",
    "                value = pep_dic[key]\n",
    "                value[0] += int(spec_num)\n",
    "                value[1] = min(value[1],float(fdr))\n",
    "                value[2] = min(value[2],float(sprob))\n",
    "                if value[3] != strand:\n",
    "                    assert False,'strand is not consistent'\n",
    "                pep_dic[key] = value\n",
    "    with open(event_uniq_loc_fn,'w') as out:\n",
    "        out.write('\\t'.join(['Chrom','Pos','Pep','Spec_count','FDR','Sprob','Strand'])+'\\n')\n",
    "        for key,value in pep_dic.iteritems():\n",
    "            value = [str(v) for v in value]\n",
    "            out.write(key+'\\t'+'\\t'.join(value)+'\\n')\n",
    "    # add location count column\n",
    "    df = pd.read_csv(event_uniq_loc_fn,sep='\\t',header=0)\n",
    "    loc_dic = df['Pep'].value_counts().to_dict()\n",
    "    df['Loc_num'] = df['Pep'].map(lambda x: loc_dic[x])\n",
    "    # remove spliced peptides\n",
    "    df.to_csv(event_uniq_loc_fn,sep='\\t',index=False)"
   ]
  },
  {
   "cell_type": "code",
   "execution_count": 59,
   "metadata": {},
   "outputs": [],
   "source": [
    "event_uniq_loc_fn = path + '/all_event_uniq_locations.txt'\n",
    "if not os.path.exists(event_uniq_loc_fn):\n",
    "    get_unique_event_location(event_loc_fn,event_uniq_loc_fn)\n",
    "event_loc_df = pd.read_csv(event_uniq_loc_fn,sep='\\t',header=0)\n",
    "pep_loc_dic = event_loc_df['Pep'].value_counts()"
   ]
  },
  {
   "cell_type": "code",
   "execution_count": 60,
   "metadata": {
    "collapsed": true,
    "scrolled": true
   },
   "outputs": [],
   "source": [
    "def f(x):\n",
    "    '''this function groups all the events from different runs'''\n",
    "    d = {}\n",
    "    d['spec_count'] = x['spec_count'].sum()\n",
    "    d['location_count']=x['location_count'].max()\n",
    "    d['FDR'] = x['FDR'].max()\n",
    "    d['Sprob']=x['Sprob'].min()\n",
    "    infos = []\n",
    "    for i in x['GroupInfo'].tolist():\n",
    "        if i != 'nan':\n",
    "            infos.extend(i.split('|'))\n",
    "    infos = list(set(infos))\n",
    "    infos = [f for f in infos if f != '']\n",
    "    d['NumOfGroup'] = len(infos)+1\n",
    "    d['GroupInfo']='|'.join(infos)\n",
    "    return pd.Series(d)\n",
    "\n",
    "def get_pep_loc(row,pep_loc_dic):\n",
    "    '''gets number of peptide location for each peptide in each event, including group peptides'''\n",
    "    group = [row['Peptide']] + [p.split('/')[0].replace(':','') for p in row['GroupInfo'].split('|')]\n",
    "    locs = [str(pep_loc_dic[p]) for p in group if p != '']\n",
    "    return ','.join(locs)\n",
    "    \n",
    "event_df = pd.read_csv(event,sep='\\t',header=0)\n",
    "event_df['GroupInfo'] = event_df['GroupInfo'].astype('str')\n",
    "event_df = event_df.groupby(['Event','Peptide','Chromosome','Location','Strand']).apply(f)\n",
    "event_df.reset_index(inplace=True)\n",
    "event_df['Peptide'] = event_df['Peptide'].map(lambda x: ''.join([l for l in x if l.isalpha()]))\n",
    "event_df['pep_loc'] = event_df.apply(lambda x: get_pep_loc(x,pep_loc_dic),axis=1)\n",
    "event_df = event_df[event_df['pep_loc'].map(lambda x: x=='1' or '1,' in x or ',1' in x)]\n",
    "event_df.reset_index(inplace=True)\n",
    "del event_df['index']"
   ]
  },
  {
   "cell_type": "code",
   "execution_count": 61,
   "metadata": {},
   "outputs": [
    {
     "data": {
      "text/plain": [
       "mutation                    1741\n",
       "novel splice                1618\n",
       "transcript gene(non CDS)     110\n",
       "alternative splice            92\n",
       "frame shift                   78\n",
       "insertion                     56\n",
       "IG gene                       46\n",
       "reverse strand                33\n",
       "fusion gene                   25\n",
       "novel gene                    11\n",
       "deletion                       7\n",
       "Name: Event, dtype: int64"
      ]
     },
     "execution_count": 61,
     "metadata": {},
     "output_type": "execute_result"
    }
   ],
   "source": [
    "pts = event_df['Event'].value_counts().values.tolist()\n",
    "del pts[6]\n",
    "event_df['Event'].value_counts()"
   ]
  },
  {
   "cell_type": "code",
   "execution_count": 62,
   "metadata": {},
   "outputs": [
    {
     "data": {
      "image/png": "[encoded data removed]",
      "text/plain": [
       "<matplotlib.figure.Figure at 0x7f68f56cfe90>"
      ]
     },
     "metadata": {},
     "output_type": "display_data"
    }
   ],
   "source": [
    "# bax = brokenaxes(ylims=((0, 300), (1900,2000)), hspace=.15)\n",
    "f, (ax, ax2) = plt.subplots(2, 1, sharex=True)\n",
    "pts = [1184,973,114,78,70,42,22,9,5,6]\n",
    "xlabel = ['new splice','SNP','new CDS','frame shift','alter splice','INS','reverse','new gene','DEL','fusion']\n",
    "ax.bar(range(10),pts)\n",
    "ax2.bar(range(10),pts)\n",
    "ax.set_ylim(900,1300)  # outliers only\n",
    "ax2.set_ylim(0, 200)  # most of the data\n",
    "ax.spines['bottom'].set_visible(False)\n",
    "ax2.spines['top'].set_visible(False)\n",
    "ax.xaxis.tick_top()\n",
    "ax.tick_params(labeltop='off')  # don't put tick labels at the top\n",
    "# ax2.xaxis.tick_bottom()\n",
    "# ax2.set_xticklabels(xlabel)\n",
    "# ax2.set_xticks(xlabel)\n",
    "plt.xticks(range(10), xlabel)\n",
    "plt.xticks(rotation=90)\n",
    "_ = ax.set_title('proteomics event')\n",
    "# plt.savefig('/data/shangzhong/new_event.svg')"
   ]
  },
  {
   "cell_type": "markdown",
   "metadata": {},
   "source": [
    "### Analyze fusion genes in the file"
   ]
  },
  {
   "cell_type": "code",
   "execution_count": 63,
   "metadata": {
    "collapsed": true
   },
   "outputs": [],
   "source": [
    "def get_splice_dic(splice_fn):\n",
    "    # get dictionary {[chr,s,e,str]:number of reads}\n",
    "    splice_dic = {}\n",
    "    with open(splice_fn) as f:\n",
    "        for line in f:\n",
    "            if line.startswith('#'): continue\n",
    "            item = line.strip().split('\\t')\n",
    "            num = sum([int(n.split(':')[1]) for n in item[3].split(',')])\n",
    "            key = item[:3]+[item[4]]\n",
    "            splice_dic[';'.join(key)] = num\n",
    "    return splice_dic\n",
    "\n",
    "splice_dic = get_splice_dic(splice_fn)"
   ]
  },
  {
   "cell_type": "markdown",
   "metadata": {},
   "source": [
    "Since splicedb builds database on both strands, therefore, for some fusion events, the peptide s overlap with genes on different strands. Another case is that the fused genes on both ends are the same gene, which means the gene has multiple copies in the genome."
   ]
  },
  {
   "cell_type": "code",
   "execution_count": 64,
   "metadata": {
    "collapsed": true,
    "scrolled": true
   },
   "outputs": [],
   "source": [
    "def extract_feature_gff(gff_df,feature,geneid=False):\n",
    "    '''extract feature dataframe'''\n",
    "    df = gff_df[gff_df['feature'].values == feature]\n",
    "    df = df.reset_index(drop=True)\n",
    "    df['s'] -= 1\n",
    "    df['gene'] = df['anno'].map(lambda x: re.search('(?<=Name=).+?(?=;|$)',x).group(0))\n",
    "    if geneid:\n",
    "        df['gene_id'] = df['anno'].map(lambda x: re.search('(?<=gene_id=).+?(?=;|$)',x).group(0))\n",
    "    del df['anno']\n",
    "    return df\n",
    "# get gff df\n",
    "gff_df = pd.read_csv(gff,sep='\\t',header=None,comment='#',names=['chr','source','feature',\n",
    "                            's','e','none','str','frame','anno'])\n",
    "cds_df = extract_feature_gff(gff_df,'exon')\n",
    "rna_df = extract_feature_gff(gff_df,'mRNA')\n",
    "# build gene id name dictonary\n",
    "gene_df = extract_feature_gff(gff_df,'gene',geneid=True)\n",
    "id_name_dic = gene_df.set_index('gene_id')['gene'].to_dict()"
   ]
  },
  {
   "cell_type": "code",
   "execution_count": 65,
   "metadata": {
    "collapsed": true
   },
   "outputs": [],
   "source": [
    "def get_gene(row,cds_df,direction='same'):\n",
    "    '''this function gets the fusion genes using peptide splice information.\n",
    "    genes on sides of splice is split by comma, if one splice map to more than one \n",
    "    gene, the overlapped genes are split by ; '''\n",
    "    chrom = row['Chromosome']\n",
    "    loci = row['Location']\n",
    "    strand = row['Strand']\n",
    "    if direction == 'diff':\n",
    "        if strand == '+':\n",
    "            strand = '-'\n",
    "        else:\n",
    "            strand = '+'\n",
    "    genes = []\n",
    "    locis = loci.split(';')\n",
    "    for loc in locis:\n",
    "        pos = [int(p) for p in loc.split('-')]\n",
    "        fil_gff = cds_df[(cds_df['chr'].values==chrom)&(cds_df['str'].values==strand)]\n",
    "        cri = fil_gff.apply(lambda x:range(max(x['s'],pos[0]),min(x['e'],pos[1]))!=[],axis=1)\n",
    "        fil_gff = fil_gff[cri]                \n",
    "        gene = fil_gff['gene'].unique().tolist()\n",
    "        if len(gene)>1:\n",
    "            print loc,'has two genes',gene\n",
    "        genes.append(';'.join(gene))\n",
    "    return ','.join(genes)\n",
    "\n",
    "def get_read_num(row,splice_dic):\n",
    "    '''this function gets the number of reads supporting the event'''\n",
    "    loci = row['Location'].split(';')\n",
    "    pos = []\n",
    "    for i in range(len(loci)-1):\n",
    "        s = loci[i].split('-')[1]\n",
    "        e = loci[i+1].split('-')[0]\n",
    "        pos.append([s,e])\n",
    "    reads = []\n",
    "    for p in pos:\n",
    "        key = ';'.join([row['Chromosome']]+p+[row['Strand']])\n",
    "        try:\n",
    "            reads.append(splice_dic[key])\n",
    "        except:\n",
    "            print key,'is not in dictionary'\n",
    "            reads.append(0)\n",
    "    return ','.join([str(r) for r in reads])\n",
    "\n",
    "def fusion_filter(genes):\n",
    "    '''this function keeps the events whose both ends have annotated genes\n",
    "    on the same strand\n",
    "    input is genes column of fusion_df\n",
    "    '''\n",
    "    gene = [g for g in genes.strip().split(',') if g !='']\n",
    "    if len(gene)<=1:\n",
    "        return 'no'\n",
    "    else:\n",
    "        if len(set(gene))==1:\n",
    "            return 'same'\n",
    "        else:\n",
    "            return 'yes'"
   ]
  },
  {
   "cell_type": "code",
   "execution_count": 66,
   "metadata": {},
   "outputs": [],
   "source": [
    "def remove_splice_dup(x):\n",
    "    '''apply to groupby function to remove the duplicate splice sites\n",
    "    x is df grouped by ['Event','Chromosome','Strand','splice','read_num']'''\n",
    "    x['group'] = x['Peptide']+'/'+x['Location']\n",
    "    groups = x['group'].tolist()\n",
    "    d = {}\n",
    "    peps  = x['Peptide'].tolist()\n",
    "    locis = x['Location'].tolist()\n",
    "    fdr   = x['FDR'].tolist()\n",
    "    group_info   =  [g for g in x['GroupInfo'].tolist() if isinstance(g,str)]\n",
    "    loc_c        = x['location_count'].tolist()\n",
    "    spec_count = x['spec_count'].tolist()\n",
    "    genes = x['genes'].tolist()\n",
    "    d['Peptide'] = peps[0]\n",
    "    d['Location'] = locis[0]\n",
    "    d['FDR'] = max(fdr)\n",
    "    if len(groups) > 1:\n",
    "        d['GroupInfo'] = '|'.join(group_info) + '|' + '|'.join(groups[1:])\n",
    "    else:\n",
    "        d['GroupInfo'] = '|'.join(group_info)\n",
    "    d['NumOfGroup'] = x['NumOfGroup'].sum()\n",
    "    d['Sprob'] = x['Sprob'].max()\n",
    "    d['location_count'] = loc_c[0]\n",
    "    d['spec_count'] = spec_count[0]\n",
    "    d['pep_loc'] = ','.join(x['pep_loc'].tolist())\n",
    "    d['genes'] = genes[0]\n",
    "    return pd.Series(d)\n",
    "\n",
    "def get_rm_splice_dup_df(df):\n",
    "    '''merge rows with same splice sites'''\n",
    "    df = df.reset_index(drop=True)\n",
    "    df['splice'] = df['Location'].map(lambda x: '-'.join(x.split('-')[1:-1]))\n",
    "    df = df.groupby(['Event','Chromosome','Strand','splice','read_num']).apply(remove_splice_dup)\n",
    "    df.reset_index(inplace=True)\n",
    "    del df['splice']\n",
    "    return df"
   ]
  },
  {
   "cell_type": "code",
   "execution_count": 67,
   "metadata": {
    "collapsed": true
   },
   "outputs": [],
   "source": [
    "def process_event_with_splice(df,exon_df,splice_dic):\n",
    "    '''add gene names and read number and filter out rows with no reads'''\n",
    "    df['genes'] = df.apply(lambda x:get_gene(x,exon_df),axis=1)\n",
    "    df['read_num'] = df.apply(lambda x:get_read_num(x,splice_dic),axis=1)\n",
    "    df = df.query('read_num != \"0\"')\n",
    "    df = df.reset_index(drop=True)\n",
    "    return df"
   ]
  },
  {
   "cell_type": "code",
   "execution_count": 68,
   "metadata": {},
   "outputs": [],
   "source": [
    "def sort_df_by_chrom(df):\n",
    "    df['chr_idx'] = df['Chromosome'].map(lambda x: int(x.split('_')[1]))\n",
    "    df = df.sort_values('chr_idx')\n",
    "    del df['chr_idx']\n",
    "    return df"
   ]
  },
  {
   "cell_type": "code",
   "execution_count": 69,
   "metadata": {
    "scrolled": true
   },
   "outputs": [
    {
     "name": "stdout",
     "output_type": "stream",
     "text": [
      "8769020-8769056 has two genes ['HSH2D', 'RAB8A']\n",
      "8973929-8973938 has two genes ['ZNF709', 'ZNF844']\n",
      "8546964-8547037 has two genes ['HDGF', 'ISG20L2']\n",
      "809141-809174 has two genes ['NCAPD2', 'GAPDH']\n"
     ]
    }
   ],
   "source": [
    "fusion_df = event_df[event_df['Event'].values=='fusion gene']\n",
    "fusion_df = fusion_df.reset_index(drop=True)\n",
    "fusion_df = process_event_with_splice(fusion_df,cds_df,splice_dic)\n",
    "fusion_df = get_rm_splice_dup_df(fusion_df)\n",
    "fusion_df['keep'] = fusion_df['genes'].map(lambda x:fusion_filter(x))\n",
    "fusion_df = fusion_df.query('keep != \"no\"')\n",
    "fusion_df = fusion_df.reset_index(drop=True)"
   ]
  },
  {
   "cell_type": "code",
   "execution_count": 70,
   "metadata": {
    "scrolled": true
   },
   "outputs": [
    {
     "name": "stdout",
     "output_type": "stream",
     "text": [
      "there are yes    16\n",
      "Name: keep, dtype: int64\n",
      "there are 5 fusion event\n"
     ]
    }
   ],
   "source": [
    "print 'there are',fusion_df['keep'].value_counts()\n",
    "fusion_fn = path + '/01_fusion.txt'\n",
    "cri = fusion_df['read_num'].map(lambda x: sum([int(n) for n in x.split(',')])>=3)\n",
    "filter_fusion_df = fusion_df[cri]\n",
    "filter_fusion_df = filter_fusion_df.reset_index(drop=True)\n",
    "filter_fusion_df = sort_df_by_chrom(filter_fusion_df)\n",
    "filter_fusion_df.to_csv(fusion_fn,sep='\\t',index=False)\n",
    "print 'there are',filter_fusion_df['keep'].shape[0],'fusion event'"
   ]
  },
  {
   "cell_type": "markdown",
   "metadata": {},
   "source": [
    "#### Analyze alternative splice"
   ]
  },
  {
   "cell_type": "code",
   "execution_count": 71,
   "metadata": {},
   "outputs": [
    {
     "name": "stdout",
     "output_type": "stream",
     "text": [
      "9150872-9150905 has two genes ['SPAST', 'SLC30A6']\n",
      "9152949-9152952 has two genes ['SPAST', 'SLC30A6']\n",
      "8769020-8769056 has two genes ['HSH2D', 'RAB8A']\n",
      "8775668-8775677 has two genes ['HSH2D', 'RAB8A']\n",
      "19649594-19649641 has two genes ['gene_339', 'HNRNPA1', 'NFE2']\n",
      "12426265-12426268 has two genes ['SET', 'gene_22189']\n",
      "12426631-12426664 has two genes ['SET', 'gene_22189']\n",
      "376346-376363 has two genes ['gene_9603', 'FXYD5']\n",
      "377561-377586 has two genes ['gene_9603', 'FXYD5']\n",
      "19648176-19648180 has two genes ['HNRNPA1', 'NFE2']\n",
      "19649594-19649641 has two genes ['gene_339', 'HNRNPA1', 'NFE2']\n",
      "746341-746342 has two genes ['LOC103159745', 'ESX1']\n",
      "8968605-8968610 has two genes ['SNX14', 'SYNCRIP']\n"
     ]
    }
   ],
   "source": [
    "alter_splice_df = event_df.query('Event == \"alternative splice\"')\n",
    "alter_splice_df = alter_splice_df.reset_index(drop=True)\n",
    "alter_splice_df = process_event_with_splice(alter_splice_df,cds_df,splice_dic)\n",
    "alter_splice_df = get_rm_splice_dup_df(alter_splice_df)\n",
    "fail_alter_splice_df = alter_splice_df.query('genes==\",\"')\n",
    "alter_splice_df = alter_splice_df.query('genes != \",\"')\n",
    "alter_splice_df['genes'] = alter_splice_df['genes'].map(lambda x: ','.join(list(set(x.split(',')))))"
   ]
  },
  {
   "cell_type": "code",
   "execution_count": 72,
   "metadata": {
    "collapsed": true
   },
   "outputs": [
    {
     "name": "stdout",
     "output_type": "stream",
     "text": [
      "there are 89 alternative splice events\n",
      "there are 70 high quality alternative splice events\n"
     ]
    }
   ],
   "source": [
    "print 'there are', alter_splice_df.shape[0],'alternative splice events'\n",
    "alter_splice_fn = path + '/02_alter_splice.txt'\n",
    "cri = alter_splice_df['read_num'].map(lambda x: int(x)>=3)\n",
    "filter_alter_splice_df = alter_splice_df[cri]\n",
    "filter_alter_splice_df = filter_alter_splice_df.reset_index(drop=True)\n",
    "filter_alter_splice_df = sort_df_by_chrom(filter_alter_splice_df)\n",
    "filter_alter_splice_df.to_csv(alter_splice_fn,sep='\\t',index=False)\n",
    "print 'there are',filter_alter_splice_df.shape[0],'high quality alternative splice events'"
   ]
  },
  {
   "cell_type": "markdown",
   "metadata": {},
   "source": [
    "#### Analyze novel splice"
   ]
  },
  {
   "cell_type": "code",
   "execution_count": 73,
   "metadata": {
    "scrolled": true
   },
   "outputs": [],
   "source": [
    "novel_splice_fn = path + '/03_novel_splice.txt'\n",
    "if not os.path.exists(novel_splice_fn):\n",
    "    novel_splice_df = event_df.query('Event == \"novel splice\"')\n",
    "    novel_splice_df = novel_splice_df.reset_index(drop=True)\n",
    "    novel_splice_df = process_event_with_splice(novel_splice_df,cds_df,splice_dic)\n",
    "    novel_splice_df = get_rm_splice_dup_df(novel_splice_df)\n",
    "    novel_splice_df = novel_splice_df[novel_splice_df['read_num'].map(lambda x: x!='0' and '0,' \\\n",
    "                                                not in x and ',0' not in x)]\n",
    "    fail_novel_splice_df = novel_splice_df.query('genes==\",\"')\n",
    "    novel_splice_df = novel_splice_df.query('genes!=\",\"')\n",
    "    novel_splice_df['genes'] = novel_splice_df['genes'].map(lambda x: ','.join(list(set(x.split(',')))))\n",
    "    print 'there are',novel_splice_df.shape[0],'novel splice events'\n",
    "    cri = novel_splice_df['read_num'].map(lambda x: sum([int(n) for n in x.split(',')])>=3)\n",
    "    filter_novel_splice_df = novel_splice_df[cri]\n",
    "    filter_novel_splice_df = sort_df_by_chrom(filter_novel_splice_df)\n",
    "    filter_novel_splice_df.to_csv(novel_splice_fn,sep='\\t',index=False)"
   ]
  },
  {
   "cell_type": "code",
   "execution_count": 74,
   "metadata": {
    "scrolled": true
   },
   "outputs": [
    {
     "name": "stdout",
     "output_type": "stream",
     "text": [
      "there are 1110 novel splice events with at least 3 reads\n"
     ]
    }
   ],
   "source": [
    "filter_novel_splice_df = pd.read_csv(novel_splice_fn,sep='\\t',header=0)\n",
    "print 'there are',filter_novel_splice_df.shape[0],'novel splice events with at least 3 reads'"
   ]
  },
  {
   "cell_type": "markdown",
   "metadata": {},
   "source": [
    "The new event caller code don't cluster the peptides that have the same splice sites, so here I clustered them together, keep the rest of the the peptides in the groupinfo column."
   ]
  },
  {
   "cell_type": "markdown",
   "metadata": {},
   "source": [
    "#### Analyze novel gene\n",
    "Novel gene is identified from splicedb or six frame db, so here we cannot use the function process_event_with_splice.\n",
    "There are cases that it seems like the event is novel splice, but it's in different frame compared to the proteins, so the code assigns it to novel gene."
   ]
  },
  {
   "cell_type": "code",
   "execution_count": 75,
   "metadata": {
    "collapsed": true
   },
   "outputs": [],
   "source": [
    "novel_gene_df = event_df.query('Event == \"novel gene\"')\n",
    "novel_gene_df = novel_gene_df.reset_index(drop=True)"
   ]
  },
  {
   "cell_type": "code",
   "execution_count": 76,
   "metadata": {
    "scrolled": true
   },
   "outputs": [
    {
     "name": "stdout",
     "output_type": "stream",
     "text": [
      "8340063-8340066 has two genes ['gene_16802', 'PTMA']\n",
      "8340107-8340155 has two genes ['gene_16802', 'PTMA']\n",
      "8339951-8339957 has two genes ['gene_16802', 'PTMA']\n",
      "8340086-8340155 has two genes ['gene_16802', 'PTMA']\n"
     ]
    }
   ],
   "source": [
    "novel_gene_df['genes']=novel_gene_df.apply(lambda x: get_gene(x,cds_df),axis=1)\n",
    "novel_gene_df['genes']=novel_gene_df['genes'].map(lambda x: x.split(',')[0])\n",
    "novel_gene_df['read_num']=novel_gene_df.apply(lambda x: get_read_num(x,splice_dic),axis=1)"
   ]
  },
  {
   "cell_type": "code",
   "execution_count": 77,
   "metadata": {},
   "outputs": [
    {
     "name": "stdout",
     "output_type": "stream",
     "text": [
      "there are 11 novel genes\n",
      "there are 9 high qualtiy novel gene evnets\n"
     ]
    }
   ],
   "source": [
    "cri = novel_gene_df['read_num'].map(lambda x: sum([int(n) for n in x.split(',')])>=3)\n",
    "filter_novel_gene_df = novel_gene_df[cri]\n",
    "print 'there are',novel_gene_df.shape[0],'novel genes'\n",
    "print 'there are',filter_novel_gene_df.shape[0],'high qualtiy novel gene evnets'\n",
    "novel_gene_fn = path + '/04_novel_gene.txt'\n",
    "filter_novel_gene_df = filter_novel_gene_df.reset_index(drop=True)\n",
    "filter_novel_gene_df = sort_df_by_chrom(filter_novel_gene_df)\n",
    "filter_novel_gene_df = filter_novel_gene_df[['Event','Chromosome','Strand','read_num','FDR','GroupInfo','Location','NumOfGroup',\\\n",
    "                'Peptide','Sprob','genes','location_count','pep_loc','spec_count']]\n",
    "filter_novel_gene_df.to_csv(novel_gene_fn,sep='\\t',index=False)"
   ]
  },
  {
   "cell_type": "markdown",
   "metadata": {},
   "source": [
    "#### Analyze reverse event"
   ]
  },
  {
   "cell_type": "code",
   "execution_count": 78,
   "metadata": {
    "collapsed": true
   },
   "outputs": [],
   "source": [
    "def get_reverse_gene(row,cds_df,direction='same'):\n",
    "    '''this function gets the fusion genes using peptide splice information.\n",
    "    genes on sides of splice is split by comma, if one splice map to more than one \n",
    "    gene, the overlapped genes are split by ; '''\n",
    "    chrom = row['Chromosome']\n",
    "    loci = row['Location']\n",
    "    strand = row['Strand']\n",
    "    if direction == 'diff':\n",
    "        if strand == '+':\n",
    "            strand = '-'\n",
    "        else:\n",
    "            strand = '+'\n",
    "    genes = []\n",
    "    locis = loci.split(';')\n",
    "    poses = []\n",
    "    for loc in locis:\n",
    "        pos = [int(p) for p in loc.split('-')]\n",
    "        poses.extend(pos)\n",
    "    pos = [min(poses),max(poses)]\n",
    "    fil_gff = cds_df[(cds_df['chr'].values==chrom)&(cds_df['str'].values==strand)]\n",
    "    cri = fil_gff.apply(lambda x:range(max(x['s'],pos[0]),min(x['e'],pos[1]))!=[],axis=1)\n",
    "    fil_gff = fil_gff[cri]                \n",
    "    gene = fil_gff['gene'].unique().tolist()\n",
    "    if len(gene)>1:\n",
    "        print loc,'has two genes',gene\n",
    "    genes.append(';'.join(gene))\n",
    "    return ','.join(genes)"
   ]
  },
  {
   "cell_type": "code",
   "execution_count": 79,
   "metadata": {
    "collapsed": true
   },
   "outputs": [],
   "source": [
    "reverse_df = event_df.query('Event == \"reverse strand\"')\n",
    "reverse_df = reverse_df.reset_index(drop=True)"
   ]
  },
  {
   "cell_type": "code",
   "execution_count": 80,
   "metadata": {
    "scrolled": true
   },
   "outputs": [
    {
     "name": "stdout",
     "output_type": "stream",
     "text": [
      "26608242-26608251 has two genes ['gene_6887', 'RPL8']\n",
      "4049944-4049985 has two genes ['PRO', 'gene_18107']\n",
      "2901428-2901445 has two genes ['NRBF2', 'EIF1']\n",
      "145735-145764 has two genes ['A4GALT', 'gene_4']\n"
     ]
    }
   ],
   "source": [
    "reverse_df['genes'] = reverse_df.apply(lambda x: get_reverse_gene(x,rna_df,'diff'),axis=1)\n",
    "reverse_df['genes'] = reverse_df['genes'].map(lambda x: ','.join(list(set(x.split(',')))))\n",
    "reverse_df['read_num'] = reverse_df.apply(lambda x: get_read_num(x,splice_dic),axis=1)"
   ]
  },
  {
   "cell_type": "code",
   "execution_count": 81,
   "metadata": {},
   "outputs": [
    {
     "name": "stdout",
     "output_type": "stream",
     "text": [
      "there are 33 reverse events\n",
      "there are 22 high quanlity reverse events\n"
     ]
    }
   ],
   "source": [
    "print 'there are',reverse_df.shape[0],'reverse events'\n",
    "reverse_fn = path + '/05_reverse.txt'\n",
    "cri = reverse_df['read_num'].map(lambda x: sum([int(n) for n in x.split(',')])>=3)\n",
    "filter_reverse_df = reverse_df[cri]\n",
    "filter_reverse_df = filter_reverse_df.reset_index(drop=True)\n",
    "filter_reverse_df = sort_df_by_chrom(filter_reverse_df)\n",
    "filter_reverse_df = filter_reverse_df[['Event','Chromosome','Strand','read_num','FDR','GroupInfo','Location','NumOfGroup',\\\n",
    "                'Peptide','Sprob','genes','location_count','pep_loc','spec_count']]\n",
    "filter_reverse_df.to_csv(reverse_fn,sep='\\t',index=False)\n",
    "print 'there are',filter_reverse_df.shape[0],'high quanlity reverse events'"
   ]
  },
  {
   "cell_type": "markdown",
   "metadata": {},
   "source": [
    "#### Analyze new CDS"
   ]
  },
  {
   "cell_type": "code",
   "execution_count": 82,
   "metadata": {},
   "outputs": [
    {
     "name": "stdout",
     "output_type": "stream",
     "text": [
      "3116503-3116506 has two genes ['CCDC85C', 'gene_3595']\n",
      "8939530-8939599 has two genes ['RNF123', 'APEH']\n",
      "15817981-15818005 has two genes ['MGEA5', 'NPM3']\n",
      "15817981-15818038 has two genes ['MGEA5', 'NPM3']\n",
      "1848259-1848265 has two genes ['gene_6616', 'TNFAIP8L1']\n",
      "1854013-1854019 has two genes ['gene_6616', 'TNFAIP8L1']\n",
      "1848259-1848265 has two genes ['gene_6616', 'TNFAIP8L1']\n",
      "7552186-7552219 has two genes ['ATF4', 'gene_26570']\n",
      "7552186-7552219 has two genes ['ATF4', 'gene_26570']\n",
      "1163748-1163797 has two genes ['TUBB2B', 'TUBB2A', 'RIPK1', 'BPHL']\n",
      "1163748-1163797 has two genes ['TUBB2B', 'TUBB2A', 'RIPK1', 'BPHL']\n",
      "picr_15;19000635;19000641;+ is not in dictionary\n"
     ]
    }
   ],
   "source": [
    "new_CDS_df = event_df.query('Event == \"transcript gene(non CDS)\"')\n",
    "new_CDS_df = new_CDS_df.reset_index(drop=True)\n",
    "new_CDS_df['genes'] = new_CDS_df.apply(lambda x: get_reverse_gene(x,cds_df), axis=1)\n",
    "new_CDS_df['genes'] = new_CDS_df['genes'].map(lambda x: ','.join(list(set(x.split(',')))))\n",
    "new_CDS_df['read_num'] = new_CDS_df.apply(lambda x: get_read_num(x, splice_dic), axis=1)"
   ]
  },
  {
   "cell_type": "code",
   "execution_count": 83,
   "metadata": {},
   "outputs": [
    {
     "name": "stdout",
     "output_type": "stream",
     "text": [
      "there are 110 new CDS events\n",
      "there are 103 high quanlity new cds events\n"
     ]
    }
   ],
   "source": [
    "print 'there are', new_CDS_df.shape[0], 'new CDS events'\n",
    "new_cds_fn = path + '/12_new_cds.txt'\n",
    "cri = new_CDS_df['read_num'].map(lambda x: sum([int(n) for n in x.split(',')]) >= 3)\n",
    "filter_new_CDS_df = new_CDS_df[cri]\n",
    "filter_new_CDS_df = filter_new_CDS_df.reset_index(drop=True)\n",
    "filter_new_CDS_df = sort_df_by_chrom(filter_new_CDS_df)\n",
    "filter_new_CDS_df = filter_new_CDS_df[['Event','Chromosome','Strand','read_num','FDR','GroupInfo','Location','NumOfGroup',\\\n",
    "                'Peptide','Sprob','genes','location_count','pep_loc','spec_count']]\n",
    "filter_new_CDS_df.to_csv(new_cds_fn, sep='\\t', index=False)\n",
    "print 'there are', filter_new_CDS_df.shape[0],'high quanlity new cds events'"
   ]
  },
  {
   "cell_type": "markdown",
   "metadata": {},
   "source": [
    "#### Analyze frame shift"
   ]
  },
  {
   "cell_type": "code",
   "execution_count": 85,
   "metadata": {},
   "outputs": [
    {
     "name": "stdout",
     "output_type": "stream",
     "text": [
      " there are 78 high quanlity frame shift events\n"
     ]
    }
   ],
   "source": [
    "def get_final_frame_shift_df(event_df,cds_df,splice_dic):\n",
    "    frame_df = event_df.query('Event == \"frame shift\"')\n",
    "    frame_df = frame_df.reset_index(drop=True)\n",
    "    frame_df['genes']=frame_df.apply(lambda x: get_gene(x,cds_df),axis=1)\n",
    "    frame_df['genes']=frame_df['genes'].map(lambda x: ','.join(list(set(x.split(',')))))\n",
    "    frame_df['read_num']=frame_df.apply(lambda x: get_read_num(x,splice_dic),axis=1)\n",
    "    return frame_df\n",
    "frame_fn = path + '/06_frame_shift.txt'\n",
    "if not os.path.exists(frame_fn):\n",
    "    frame_df = get_final_frame_shift_df(event_df,cds_df,splice_dic)\n",
    "    cri = frame_df['read_num'].map(lambda x: sum([int(n) for n in x.split(',')])>=3)\n",
    "    filter_frame_df = frame_df[cri]\n",
    "    filter_frame_df = filter_frame_df.reset_index(drop=True)\n",
    "    filter_frame_df = sort_df_by_chrom(filter_frame_df)\n",
    "    filter_frame_df = filter_frame_df[['Event','Chromosome','Strand','read_num','FDR','GroupInfo','Location','NumOfGroup',\\\n",
    "                'Peptide','Sprob','genes','location_count','pep_loc','spec_count']]\n",
    "    filter_frame_df.to_csv(frame_fn,sep='\\t',index=False)\n",
    "filter_frame_df = pd.read_csv(frame_fn,sep='\\t',header=0)\n",
    "print 'there are',filter_frame_df.shape[0],'high quanlity frame shift events'"
   ]
  },
  {
   "cell_type": "markdown",
   "metadata": {},
   "source": [
    "### Analyze Mutation and INDEL\n",
    "1. read in the mutation and indel position generated by snpdb.\n",
    "2. extract protein verified snpdb.\n",
    "3. merge all the annovar annotated vcf files and remove the duplicates. Then we analyze mutation, insertion and deletion separatly.\n",
    "4. get overlap between 2 and 3."
   ]
  },
  {
   "cell_type": "markdown",
   "metadata": {},
   "source": [
    "* read in snpdb snp and indel"
   ]
  },
  {
   "cell_type": "code",
   "execution_count": 31,
   "metadata": {},
   "outputs": [],
   "source": [
    "def get_snpdb_read_num(support):\n",
    "    '''this function gets the number of reads supporting each mutation or indel from snpdb'''\n",
    "    n = 0\n",
    "    items = support.split(',')\n",
    "    for item in items:\n",
    "        n += int(item.split(':')[1])\n",
    "    return n\n",
    "\n",
    "# 1. read in snpdb generated mutation and indel\n",
    "snpdb_snp_df = pd.read_csv(snpdb_snp_fn,sep='\\t',comment='#',header=None,names=[\n",
    "    'chr','s','alt','supt','read_num'])\n",
    "snpdb_snp_df['read_num'] = snpdb_snp_df['supt'].map(lambda x: get_snpdb_read_num(x))\n",
    "del snpdb_snp_df['supt']\n",
    "snpdb_ins_df = pd.read_csv(snpdb_ins_fn,sep='\\t',comment='#',header=None,names=[\n",
    "    'chr','s','alt','supt','read_num'])\n",
    "snpdb_ins_df['read_num'] = snpdb_ins_df['supt'].map(lambda x: get_snpdb_read_num(x))\n",
    "del snpdb_ins_df['supt']\n",
    "snpdb_del_df = pd.read_csv(snpdb_del_fn,sep='\\t',comment='#',header=None,names=[\n",
    "    'chr','s','e','supt','read_num'])\n",
    "snpdb_del_df['read_num'] = snpdb_del_df['supt'].map(lambda x: get_snpdb_read_num(x))\n",
    "del snpdb_del_df['supt']\n",
    "snpdb_snp_df['e'] = snpdb_snp_df['s'] + 1\n",
    "snpdb_ins_df['e'] = snpdb_ins_df['s'] + 1"
   ]
  },
  {
   "cell_type": "markdown",
   "metadata": {},
   "source": [
    "* merge vcf files"
   ]
  },
  {
   "cell_type": "code",
   "execution_count": 32,
   "metadata": {},
   "outputs": [],
   "source": [
    "def remove_mut_dup(x):\n",
    "    '''this function removes duplications in merged annovar annotated vcf df'''\n",
    "    d = {}\n",
    "    d['anno'] = x['anno'].iloc[0]\n",
    "    feature = x['feature'].unique()\n",
    "    if len(feature)>1:\n",
    "        d['feature'] = 'het'\n",
    "    else:\n",
    "        d['feature'] = feature[0]\n",
    "    return pd.Series(d)\n",
    "\n",
    "def merge_vcf_df(vcf_fns):\n",
    "    '''merge annovar annotated vcf files'''\n",
    "    vcf_dfs = []\n",
    "    for vcf in vcf_fns:\n",
    "        df = pd.read_csv(vcf,sep='\\t',header=None,usecols=range(1,9))\n",
    "        vcf_dfs.append(df)\n",
    "    vcf_df = pd.concat(vcf_dfs)\n",
    "    vcf_df.columns = ['type','anno','chr','s','e','ref','alt','feature']\n",
    "    vcf_df = vcf_df.groupby(['type','chr','s','e','ref','alt']).apply(remove_mut_dup)\n",
    "    vcf_df.reset_index(inplace=True)\n",
    "    return vcf_df"
   ]
  },
  {
   "cell_type": "code",
   "execution_count": 33,
   "metadata": {},
   "outputs": [],
   "source": [
    "merge_vcf_fn = path + '/merged.vcf'\n",
    "if not os.path.exists(merge_vcf_fn):\n",
    "    vcfs = natsorted(glob.glob(vcf_path+'/*exonic_variant_function'))\n",
    "    vcf_df = merge_vcf_df(vcfs)\n",
    "    vcf_df.to_csv(merge_vcf_fn,sep='\\t',index=False)\n",
    "vcf_df = pd.read_csv(merge_vcf_fn,sep='\\t',header=0)\n",
    "vcf_df['s'] -= 1\n",
    "# filter out the synonymouse snv\n",
    "fil_vcf_df = vcf_df[vcf_df['type'].values!='synonymous SNV']\n",
    "fil_vcf_df = fil_vcf_df.reset_index(drop=True)"
   ]
  },
  {
   "cell_type": "code",
   "execution_count": 34,
   "metadata": {
    "collapsed": true
   },
   "outputs": [
    {
     "data": {
      "text/html": [
       "<div>\n",
       "<style>\n",
       "    .dataframe thead tr:only-child th {\n",
       "        text-align: right;\n",
       "    }\n",
       "\n",
       "    .dataframe thead th {\n",
       "        text-align: left;\n",
       "    }\n",
       "\n",
       "    .dataframe tbody tr th {\n",
       "        vertical-align: top;\n",
       "    }\n",
       "</style>\n",
       "<table border=\"1\" class=\"dataframe\">\n",
       "  <thead>\n",
       "    <tr style=\"text-align: right;\">\n",
       "      <th></th>\n",
       "      <th>number</th>\n",
       "    </tr>\n",
       "  </thead>\n",
       "  <tbody>\n",
       "    <tr>\n",
       "      <th>stoploss</th>\n",
       "      <td>348</td>\n",
       "    </tr>\n",
       "    <tr>\n",
       "      <th>nonframeshift insertion</th>\n",
       "      <td>1522</td>\n",
       "    </tr>\n",
       "    <tr>\n",
       "      <th>stopgain</th>\n",
       "      <td>1563</td>\n",
       "    </tr>\n",
       "    <tr>\n",
       "      <th>nonframeshift deletion</th>\n",
       "      <td>1676</td>\n",
       "    </tr>\n",
       "    <tr>\n",
       "      <th>frameshift deletion</th>\n",
       "      <td>6303</td>\n",
       "    </tr>\n",
       "    <tr>\n",
       "      <th>frameshift insertion</th>\n",
       "      <td>7856</td>\n",
       "    </tr>\n",
       "    <tr>\n",
       "      <th>nonsynonymous SNV</th>\n",
       "      <td>218332</td>\n",
       "    </tr>\n",
       "    <tr>\n",
       "      <th>synonymous SNV</th>\n",
       "      <td>769252</td>\n",
       "    </tr>\n",
       "  </tbody>\n",
       "</table>\n",
       "</div>"
      ],
      "text/plain": [
       "                         number\n",
       "stoploss                    348\n",
       "nonframeshift insertion    1522\n",
       "stopgain                   1563\n",
       "nonframeshift deletion     1676\n",
       "frameshift deletion        6303\n",
       "frameshift insertion       7856\n",
       "nonsynonymous SNV        218332\n",
       "synonymous SNV           769252"
      ]
     },
     "execution_count": 34,
     "metadata": {},
     "output_type": "execute_result"
    }
   ],
   "source": [
    "anno_vcf_stats = vcf_df['type'].value_counts().to_dict()\n",
    "anno_vcf_stats_df = pd.DataFrame.from_dict(anno_vcf_stats,orient='index')\n",
    "anno_vcf_stats_df.columns= ['number']\n",
    "anno_vcf_stats_df = anno_vcf_stats_df.sort_values('number')\n",
    "anno_vcf_stats_df"
   ]
  },
  {
   "cell_type": "markdown",
   "metadata": {},
   "source": [
    "#### 1. Analyze snp"
   ]
  },
  {
   "cell_type": "code",
   "execution_count": 35,
   "metadata": {},
   "outputs": [],
   "source": [
    "def get_mut_pos(location,mut='snp'):\n",
    "    '''this function gets the location of the mutation\n",
    "    * mut: snp, ins, del\n",
    "    '''\n",
    "    locis = location.split(';')\n",
    "    poses = []\n",
    "    if mut == 'snp':\n",
    "        symbol = 'M'\n",
    "    elif mut == 'ins':\n",
    "        symbol = 'I'\n",
    "    if mut == 'del':\n",
    "        for i in range(len(locis)-1):\n",
    "            pos = [locis[i].split('-')[1],locis[i+1].split('-')[0]]\n",
    "            poses.append('-'.join(pos))\n",
    "    else:\n",
    "        for i in range(len(locis)):\n",
    "            if locis[i][0] == symbol:\n",
    "                if i == 0: # need to get the next number\n",
    "                    pos = int(locis[i+1].split('-')[0])-1\n",
    "                else:\n",
    "                    pos = int(locis[i-1].split('-')[1])\n",
    "                poses.append('-'.join([str(pos),str(pos+1)]))\n",
    "#         poses = [str(p) for p in poses]\n",
    "    return ','.join(poses)\n",
    "\n",
    "\n",
    "def getSnpPosPrDic(snp_event,pep_loc_dic):\n",
    "    '''build a dictionary {chr:pos:alt_AA : [number of pep,spec_count]} \n",
    "    from proteogenomic mutation event'''\n",
    "    mut_pos = {}\n",
    "    for index,row in snp_event.iterrows():\n",
    "        locis = row['Location'].split(';')\n",
    "        chrom = row['Chromosome']\n",
    "        pep = row['Peptide']#''.join([l for l in row['Peptide'] if l.isalpha()])\n",
    "        pep_loc = row['pep_loc']\n",
    "        groups = row['GroupInfo'].split('|')[:-1]\n",
    "        all_pep = [pep] + [p.split('/')[0].replace(':','') for p in groups]\n",
    "        all_pep_loc = [str(pep_loc_dic[p]) for p in all_pep]\n",
    "        spec_count = int(row['spec_count'])\n",
    "        idx = 0\n",
    "    #     if row['Strand']=='-': locis = locis[::-1]\n",
    "        for i in range(len(locis)):\n",
    "            if 'M1' == locis[i]:\n",
    "                idx_p = int(idx/3)\n",
    "                if idx == 0:\n",
    "                    pos = int(locis[1].split('-')[0])\n",
    "                else:\n",
    "                    pos = int(locis[i-1].split('-')[1]) + 1\n",
    "                if row['Strand'] == '-':\n",
    "                    idx_p = len(pep)-idx_p-1\n",
    "                key = ':'.join([chrom,str(pos-1),pep[idx_p]])\n",
    "                if key in mut_pos:\n",
    "                    value = mut_pos[key]\n",
    "                    value[0] += 1\n",
    "                    value[1] += spec_count\n",
    "                    value[2] += ',' + ','.join(all_pep)\n",
    "                    value[3] += ',' + ','.join(all_pep_loc)\n",
    "                    mut_pos[key]=value\n",
    "                else:\n",
    "                    mut_pos[key] = [len(groups)+1,spec_count,','.join(all_pep),','.join(all_pep_loc)]\n",
    "                idx += 1\n",
    "            else:\n",
    "                pos = [int(p) for p in locis[i].split('-')]\n",
    "                idx += pos[1]-pos[0]\n",
    "    return mut_pos\n",
    "\n",
    "\n",
    "def get_alter_pr_from_snp(row,mut_pos):\n",
    "    '''this funcion \n",
    "    * row: a row of annovar annotated snp_df\n",
    "    * mut_pos: {chr:start_pos:alter:[pep_num,spec_num,pep,pep_loc]}'''\n",
    "    annos = row['anno'].strip().split(',')[:-1]\n",
    "    chrom = row['chr']\n",
    "    start = row['s']\n",
    "    new_annos = []\n",
    "    spectrum = [0,0,'','']\n",
    "    for anno in annos:\n",
    "        key = ':'.join([chrom,str(start),anno[-1]])\n",
    "        if key in mut_pos:\n",
    "            new_annos.append(anno)\n",
    "            spectrum = mut_pos[key]\n",
    "        else:\n",
    "            pass\n",
    "    row['anno'] = ','.join(new_annos)\n",
    "    return pd.Series(spectrum)\n",
    "\n",
    "\n",
    "def get_mut_genes(anno,id_name_dic):\n",
    "    # get gene name from gene id in annotated results\n",
    "    items = anno.split(',')[:-1]\n",
    "    genes = []\n",
    "    try:\n",
    "        for item in items:\n",
    "            genes.append(id_name_dic[item.split(':')[0]])\n",
    "    except:\n",
    "        print anno\n",
    "    return ','.join(list(set(genes)))"
   ]
  },
  {
   "cell_type": "code",
   "execution_count": 36,
   "metadata": {},
   "outputs": [],
   "source": [
    "def get_final_snp_event(event_df,snpdb_snp_df,fil_vcf_df,id_name_dic,pep_loc_dic):\n",
    "    '''this function gets all the snp events'''\n",
    "    # 1. get proteogenomics verified mutation\n",
    "    snp_event = event_df.query('Event==\"mutation\"')\n",
    "    snp_pos_dic = getSnpPosPrDic(snp_event,pep_loc_dic)  # {chr:pos:alt_AA : [pep_num,spec_num]}\n",
    "\n",
    "    # 2. extract nonsynonymouse mutation from annotation \n",
    "    anno_snp_df = fil_vcf_df[fil_vcf_df.apply(lambda x:(x['alt']!='-') & (x['ref']!='-'),axis=1)]\n",
    "    anno_snp_df = anno_snp_df.reset_index(drop=True)\n",
    "    # 3. overlap with snpdb_snp_df\n",
    "    anno_snpdb_snp_df = pd.merge(anno_snp_df,snpdb_snp_df,on=['chr','s','e','alt'])\n",
    "    anno_snpdb_snp_df[['pep_num','spec_num','pep','pep_loc']] = anno_snpdb_snp_df.apply(lambda row: get_alter_pr_from_snp(row,snp_pos_dic),axis=1)\n",
    "    anno_snpdb_snp_df = anno_snpdb_snp_df[anno_snpdb_snp_df['pep_num'].values>0]\n",
    "    anno_snpdb_snp_df = anno_snpdb_snp_df.reset_index(drop=True)\n",
    "    anno_snpdb_snp_df['gene'] = anno_snpdb_snp_df['anno'].map(lambda x:get_mut_genes(x,id_name_dic))\n",
    "    anno_snpdb_snp_df = anno_snpdb_snp_df[anno_snpdb_snp_df['pep_loc'].map(lambda x: '1' in x or ',1' in x or '1,' in x)]\n",
    "    anno_snpdb_snp_df.to_csv(snp_fn,sep='\\t',index=False)\n",
    "    return anno_snpdb_snp_df"
   ]
  },
  {
   "cell_type": "code",
   "execution_count": 37,
   "metadata": {},
   "outputs": [
    {
     "name": "stdout",
     "output_type": "stream",
     "text": [
      "there are 991 high quality mutations\n"
     ]
    }
   ],
   "source": [
    "snp_fn = path + '/07_snp_event.txt'\n",
    "if not os.path.exists(snp_fn):\n",
    "    final_anno_snp_df = get_final_snp_event(event_df,snpdb_snp_df,fil_vcf_df,id_name_dic,pep_loc_dic)\n",
    "    final_anno_snp_df = final_anno_snp_df.rename(columns={'chr':'Chromosome'})\n",
    "    final_anno_snp_df = sort_df_by_chrom(final_anno_snp_df)\n",
    "    final_anno_snp_df.to_csv(snp_fn,sep='\\t',index=False)\n",
    "final_anno_snp_df = pd.read_csv(snp_fn,sep='\\t',header=0)\n",
    "print 'there are',final_anno_snp_df.shape[0],'high quality mutations'"
   ]
  },
  {
   "cell_type": "markdown",
   "metadata": {},
   "source": [
    "#### 2. Analyze insertions"
   ]
  },
  {
   "cell_type": "code",
   "execution_count": 38,
   "metadata": {},
   "outputs": [],
   "source": [
    "def get_indel_pos_dic(ins_event,pep_loc_dic):\n",
    "    mut_count_dic = {}\n",
    "    for index,row in ins_event.iterrows():\n",
    "        locis = row['Location'].split(';')\n",
    "        chrom = row['Chromosome']\n",
    "        pep = row['Peptide']#''.join([l for l in row['Peptide'] if l.isalpha()])\n",
    "        pos   = row['mut_pos'].split(',')\n",
    "        pep_loc = row['pep_loc']\n",
    "        groups = row['GroupInfo'].split('|')[:-1]\n",
    "        all_pep = [pep] + [p.split('/')[0].replace(':','') for p in groups]\n",
    "        all_pep_loc = [str(pep_loc_dic[p]) for p in all_pep]\n",
    "        spec = int(row['spec_count'])\n",
    "        for p in pos:\n",
    "            key = ':'.join([chrom,p])\n",
    "            if key in mut_count_dic:\n",
    "                mut_count_dic[key][0] += 1\n",
    "                mut_count_dic[key][1] += int(spec)\n",
    "                mut_count_dic[key][2] += ','+','.join(all_pep)\n",
    "                mut_count_dic[key][3] += ','+','.join(all_pep_loc)\n",
    "            else:\n",
    "                mut_count_dic[key] = [1,int(spec),','.join(all_pep),','.join(all_pep_loc)]\n",
    "    return mut_count_dic"
   ]
  },
  {
   "cell_type": "code",
   "execution_count": 39,
   "metadata": {},
   "outputs": [],
   "source": [
    "def get_final_ins_event(event_df,snpdb_ins_df,fil_vcf_df,id_name_dic,pep_loc_dic):\n",
    "    '''this function gets the final snp event verified  by proteomics\n",
    "    * event_df: all event results\n",
    "    * snpdb_ins_df: all insertion generated from snpdb\n",
    "    * fil_vcf_df: all mutation in annovar annotated mutation\n",
    "    * id_name_dic: {geneid:genename}\n",
    "    '''\n",
    "    # 1. get proteogenomics verified mutation\n",
    "    ins_event = event_df[event_df['Event'].values=='insertion']\n",
    "    ins_event = ins_event.reset_index(drop=True)\n",
    "    ins_event['mut_pos'] = ins_event['Location'].map(lambda x: get_mut_pos(x,'ins'))\n",
    "    # build dictionary of {chr:pos : [pep_num,spec_num]}\n",
    "    ins_event_count_dic = get_indel_pos_dic(ins_event,pep_loc_dic)\n",
    "    # 2. extract corresponding verified mutation in snpdb, add pep number and spec number\n",
    "    snpdb_ins_df['key']= snpdb_ins_df.apply(lambda x:x['chr']+':'+str(x['s'])+'-'+str(x['e']),axis=1)\n",
    "    snpdb_ins_df = snpdb_ins_df[snpdb_ins_df['key'].isin(ins_event_count_dic.keys())]\n",
    "    snpdb_ins_df = snpdb_ins_df.reset_index(drop=True)\n",
    "    \n",
    "    snpdb_ins_df[['pep_num','spec_num','pep','pep_loc']] = snpdb_ins_df.apply(lambda x: pd.Series(ins_event_count_dic[x['key']]),axis=1)\n",
    "    del snpdb_ins_df['key']\n",
    "\n",
    "    # 3. read in annotated vcf and filter out verified ones\n",
    "    # return anno_snp_df\n",
    "    anno_ins_df = fil_vcf_df[fil_vcf_df.apply(lambda x: x['ref']=='-',axis=1)]\n",
    "    anno_ins_df = anno_ins_df.reset_index(drop=True)\n",
    "    anno_ins_df['s'] += 1\n",
    "    anno_ins_df['e'] += 1\n",
    "    anno_ins_df = pd.merge(anno_ins_df,snpdb_ins_df,how='inner', on=['chr','s','e'])\n",
    "    anno_ins_df['gene'] = anno_ins_df['anno'].map(lambda x: get_mut_genes(x,id_name_dic))\n",
    "    anno_ins_df = anno_ins_df[anno_ins_df['pep_loc'].map(lambda x: '1' in x or ',1' in x or '1,' in x)]\n",
    "    return anno_ins_df"
   ]
  },
  {
   "cell_type": "code",
   "execution_count": 40,
   "metadata": {},
   "outputs": [
    {
     "name": "stdout",
     "output_type": "stream",
     "text": [
      "there are 42 high quality insertions\n"
     ]
    }
   ],
   "source": [
    "ins_fn = path + '/08_insertion.txt'\n",
    "if not os.path.exists(ins_fn):\n",
    "    final_anno_ins_df = get_final_ins_event(event_df,snpdb_ins_df,fil_vcf_df,id_name_dic,pep_loc_dic)\n",
    "    final_anno_ins_df['alt'] = final_anno_ins_df.apply(lambda x:','.join(list(set([x['alt_x'],x['alt_y']]))),axis=1)\n",
    "    final_anno_ins_df = final_anno_ins_df.rename(columns={'chr':'Chromosome'})\n",
    "    final_anno_ins_df = sort_df_by_chrom(final_anno_ins_df)\n",
    "    final_anno_ins_df[['type','Chromosome','s','e','ref','alt','anno','feature','read_num',\n",
    "                       'pep_num','spec_num','pep','pep_loc','gene']].to_csv(ins_fn,sep='\\t',index=False)\n",
    "    final_anno_ins_df = final_anno_ins_df.rename(columns={'chr':'Chromosome'})\n",
    "final_anno_ins_df = pd.read_csv(ins_fn,sep='\\t',header=0)\n",
    "\n",
    "print 'there are',final_anno_ins_df.shape[0],'high quality insertions'"
   ]
  },
  {
   "cell_type": "markdown",
   "metadata": {},
   "source": [
    "#### 3. Analyze deletion"
   ]
  },
  {
   "cell_type": "code",
   "execution_count": 41,
   "metadata": {},
   "outputs": [],
   "source": [
    "def get_final_del_event(event_df,snpdb_del_df,fil_vcf_df,id_name_dic,pep_loc_dic):\n",
    "    # 1. get proteogenomics verified mutation\n",
    "    del_event = event_df[event_df['Event'].values=='deletion']\n",
    "    del_event = del_event.reset_index(drop=True)\n",
    "    del_event['mut_pos'] = del_event['Location'].map(lambda x: get_mut_pos(x,'del'))\n",
    "    # build dictionary of {chr:pos : [pep_num,spec_num]}\n",
    "    del_event_count_dic = get_indel_pos_dic(del_event,pep_loc_dic)\n",
    "\n",
    "    # 2. extract corresponding verified mutation in snpdb, add pep number and spec number\n",
    "    snpdb_del_df['key']= snpdb_del_df.apply(lambda x:x['chr']+':'+str(x['s'])+'-'+str(x['e']),axis=1)\n",
    "    snpdb_del_df = snpdb_del_df[snpdb_del_df['key'].isin(del_event_count_dic.keys())]\n",
    "    snpdb_del_df = snpdb_del_df.reset_index(drop=True)\n",
    "    snpdb_del_df[['pep_num','spec_num','pep','pep_loc']] = snpdb_del_df.apply(lambda x: pd.Series(del_event_count_dic[x['key']]),axis=1)\n",
    "    del snpdb_del_df['key']\n",
    "    # 3. read in annotated vcf and filter out verified ones\n",
    "    # return anno_snp_df\n",
    "    anno_del_df = fil_vcf_df[fil_vcf_df['alt']=='-']\n",
    "    anno_del_df = anno_del_df.reset_index(drop=True)\n",
    "#     anno_del_df['s'] -=1\n",
    "    anno_del_df = pd.merge(anno_del_df,snpdb_del_df,how='inner', on=['chr','s','e'])\n",
    "    anno_del_df['gene'] = anno_del_df['anno'].map(lambda x: get_mut_genes(x,id_name_dic))\n",
    "    anno_del_df = anno_del_df[anno_del_df['pep_loc'].map(lambda x: '1' in x or ',1' in x or '1,' in x)]\n",
    "    return anno_del_df"
   ]
  },
  {
   "cell_type": "code",
   "execution_count": 123,
   "metadata": {},
   "outputs": [
    {
     "name": "stdout",
     "output_type": "stream",
     "text": [
      "there are 6 high quality deletions\n"
     ]
    }
   ],
   "source": [
    "del_fn = path + '/09_deletion.txt'\n",
    "if not os.path.exists(del_fn):\n",
    "    final_anno_del_df = get_final_del_event(event_df,snpdb_del_df,fil_vcf_df,id_name_dic,pep_loc_dic)\n",
    "    final_anno_del_df = final_anno_del_df.rename(columns={'chr':'Chromosome'})\n",
    "    final_anno_del_df = sort_df_by_chrom(final_anno_del_df)\n",
    "    final_anno_del_df.to_csv(del_fn,sep='\\t',index=False)\n",
    "final_anno_del_df = pd.read_csv(del_fn,sep='\\t',header=0)\n",
    "print 'there are',final_anno_del_df.shape[0],'high quality deletions'"
   ]
  },
  {
   "cell_type": "code",
   "execution_count": 43,
   "metadata": {},
   "outputs": [],
   "source": [
    "final_mutation_df = pd.concat([final_anno_snp_df, final_anno_ins_df, final_anno_del_df])\n",
    "final_mutation_df.to_csv(path + '/10_merge_mutation.txt', sep='\\t',index=False)"
   ]
  },
  {
   "cell_type": "markdown",
   "metadata": {},
   "source": [
    "### Merge all events"
   ]
  },
  {
   "cell_type": "code",
   "execution_count": 86,
   "metadata": {},
   "outputs": [],
   "source": [
    "final_event_df = pd.concat([filter_fusion_df.iloc[:,:-1], filter_alter_splice_df, filter_novel_splice_df, filter_novel_gene_df,\n",
    "                           filter_reverse_df, filter_frame_df, filter_new_CDS_df])\n",
    "final_event_df.to_csv(path + '/11_merge_events.txt', sep='\\t', index=False)"
   ]
  },
  {
   "cell_type": "markdown",
   "metadata": {},
   "source": [
    "### The following analysis tries to identify how many verified snps are also identified using hamster illumina DNAseq. For these snps, if they are hom snp in hamster, then it may indicate the wrong genome assembly, if they are het, then it's fine because it means hamster have different allels in wt."
   ]
  },
  {
   "cell_type": "code",
   "execution_count": 47,
   "metadata": {},
   "outputs": [],
   "source": [
    "# get {rnaid: [start, end]}\n",
    "cds_pos_dic = {}\n",
    "for record in SeqIO.parse(rna_fa,'fasta'):\n",
    "    head = record.description\n",
    "    if 'CDS=' in head:\n",
    "        idx = head.index('CDS=')\n",
    "        pos = head[idx+4:].split('-')\n",
    "        cds_pos_dic[record.id] = [int(p) for p in pos]"
   ]
  },
  {
   "cell_type": "code",
   "execution_count": 58,
   "metadata": {},
   "outputs": [],
   "source": [
    "# first get the reference mutation\n",
    "ham_vcf_fn = path + '/vcf/hamsterDNA2newAssembly.merged.filter.vcf'\n",
    "ham_vcf_df = pd.read_csv(ham_vcf_fn,sep='\\t',header=None,usecols=[0,1,3,4,7,8,9],names=['Chromosome','s','ref','alt','info','gt','gt1'])\n",
    "ham_vcf_df['s'] -= 1\n",
    "\n",
    "ham_snp_df = ham_vcf_df[ham_vcf_df.apply(lambda x:len(x['ref'])==len(x['alt']),axis=1)]\n",
    "ham_ins_df = ham_vcf_df[ham_vcf_df.apply(lambda x:len(x['ref'])<len(x['alt']),axis=1)]\n",
    "ham_del_df = ham_vcf_df[ham_vcf_df.apply(lambda x:len(x['ref'])>len(x['alt']),axis=1)]\n",
    "ham_snp_df = ham_snp_df.reset_index(drop=True)\n",
    "ham_ins_df = ham_ins_df.reset_index(drop=True)\n",
    "ham_del_df = ham_del_df.reset_index(drop=True)\n",
    "ham_ins_df['alt'] = ham_ins_df['alt'].map(lambda x: x[1:])\n",
    "ham_del_df['ref'] = ham_del_df['ref'].map(lambda x: x[1:])\n",
    "ham_del_df['s'] += 1\n",
    "\n",
    "ham_snp_df['id'] = ham_snp_df.apply(lambda x:':'.join([x['Chromosome'],str(x['s']),x['alt']]),axis=1).tolist()\n",
    "ham_snp_vcfs = ham_snp_df['id'].tolist()"
   ]
  },
  {
   "cell_type": "code",
   "execution_count": 60,
   "metadata": {},
   "outputs": [
    {
     "name": "stdout",
     "output_type": "stream",
     "text": [
      "there are 991 protein verified snps\n",
      "973 of which are not in reference\n"
     ]
    }
   ],
   "source": [
    "final_anno_snp_df['id']=final_anno_snp_df.apply(lambda x:':'.join([x['Chromosome'],str(x['s']),x['alt']]),axis=1)\n",
    "filter_final_anno_snp_df = final_anno_snp_df.query('id not in @ham_snp_vcfs')\n",
    "nofilter_final_anno_snp_df = final_anno_snp_df.query('id in @ham_snp_vcfs')\n",
    "print 'there are',final_anno_snp_df.shape[0],'protein verified snps'\n",
    "print filter_final_anno_snp_df.shape[0],'of which are not in reference'"
   ]
  },
  {
   "cell_type": "code",
   "execution_count": 61,
   "metadata": {},
   "outputs": [
    {
     "name": "stdout",
     "output_type": "stream",
     "text": [
      "snps that are not in reference: {'het': 238, 'hom': 735}\n",
      "snps that are also in reference: {'het': 5, 'hom': 13}\n",
      "type               feature\n",
      "nonsynonymous SNV  het        237\n",
      "                   hom        735\n",
      "stoploss           het          1\n",
      "dtype: int64\n"
     ]
    }
   ],
   "source": [
    "print 'snps that are not in reference:',filter_final_anno_snp_df['feature'].value_counts().to_dict()\n",
    "print 'snps that are also in reference:',nofilter_final_anno_snp_df['feature'].value_counts().to_dict()\n",
    "print filter_final_anno_snp_df.groupby(['type','feature']).size()"
   ]
  },
  {
   "cell_type": "code",
   "execution_count": 62,
   "metadata": {},
   "outputs": [],
   "source": [
    "# with open('/data/shangzhong/snp_genes.txt','w') as out:\n",
    "#     out.write('\\n'.join(filter_final_anno_snp_df['gene'].unique().tolist()))\n",
    "gene_mut_count = filter_final_anno_snp_df['gene'].value_counts().to_dict()"
   ]
  },
  {
   "cell_type": "code",
   "execution_count": 63,
   "metadata": {},
   "outputs": [
    {
     "name": "stdout",
     "output_type": "stream",
     "text": [
      "snps that are also in hamster from hamster reads {'het': 3, 'hom': 15}\n"
     ]
    }
   ],
   "source": [
    "veri_ham_snp_df = ham_snp_df[ham_snp_df['id'].isin(nofilter_final_anno_snp_df['id'].tolist())]\n",
    "veri_ham_snp_df = veri_ham_snp_df.reset_index(drop=True)\n",
    "veri_ham_snp_df['feature'] = veri_ham_snp_df['gt1'].map(lambda x: 'hom' if x.split(':')[0]=='1/1' else 'het')\n",
    "print 'snps that are also in hamster from hamster reads',veri_ham_snp_df['feature'].value_counts().to_dict()\n",
    "merge_cho_ham_snp_df = pd.merge(nofilter_final_anno_snp_df,veri_ham_snp_df,on=['id','Chromosome','s','ref','alt'])"
   ]
  },
  {
   "cell_type": "markdown",
   "metadata": {},
   "source": [
    "There are 6 different on het/hom between proteomics and hamster"
   ]
  },
  {
   "cell_type": "code",
   "execution_count": 64,
   "metadata": {},
   "outputs": [
    {
     "name": "stdout",
     "output_type": "stream",
     "text": [
      "there are 737 genes have mutations\n"
     ]
    },
    {
     "data": {
      "text/html": [
       "<div>\n",
       "<style>\n",
       "    .dataframe thead tr:only-child th {\n",
       "        text-align: right;\n",
       "    }\n",
       "\n",
       "    .dataframe thead th {\n",
       "        text-align: left;\n",
       "    }\n",
       "\n",
       "    .dataframe tbody tr th {\n",
       "        vertical-align: top;\n",
       "    }\n",
       "</style>\n",
       "<table border=\"1\" class=\"dataframe\">\n",
       "  <thead>\n",
       "    <tr style=\"text-align: right;\">\n",
       "      <th></th>\n",
       "      <th>type</th>\n",
       "      <th>Chromosome</th>\n",
       "      <th>s</th>\n",
       "      <th>e</th>\n",
       "      <th>ref</th>\n",
       "      <th>alt</th>\n",
       "      <th>anno</th>\n",
       "      <th>feature</th>\n",
       "      <th>read_num</th>\n",
       "      <th>pep_num</th>\n",
       "      <th>spec_num</th>\n",
       "      <th>pep</th>\n",
       "      <th>pep_loc</th>\n",
       "      <th>gene</th>\n",
       "      <th>id</th>\n",
       "    </tr>\n",
       "  </thead>\n",
       "  <tbody>\n",
       "    <tr>\n",
       "      <th>910</th>\n",
       "      <td>stoploss</td>\n",
       "      <td>picr_132</td>\n",
       "      <td>1098016</td>\n",
       "      <td>1098017</td>\n",
       "      <td>A</td>\n",
       "      <td>G</td>\n",
       "      <td>gene_5982:asmbl_17512:exon1:c.T301C:p.X101R,</td>\n",
       "      <td>het</td>\n",
       "      <td>203</td>\n",
       "      <td>1</td>\n",
       "      <td>1</td>\n",
       "      <td>KITVFVTNNGCLNFTEENDEVLVAGFGR</td>\n",
       "      <td>1</td>\n",
       "      <td>RPS23</td>\n",
       "      <td>picr_132:1098016:G</td>\n",
       "    </tr>\n",
       "  </tbody>\n",
       "</table>\n",
       "</div>"
      ],
      "text/plain": [
       "         type Chromosome        s        e ref alt  \\\n",
       "910  stoploss   picr_132  1098016  1098017   A   G   \n",
       "\n",
       "                                             anno feature  read_num  pep_num  \\\n",
       "910  gene_5982:asmbl_17512:exon1:c.T301C:p.X101R,     het       203        1   \n",
       "\n",
       "     spec_num                           pep pep_loc   gene                  id  \n",
       "910         1  KITVFVTNNGCLNFTEENDEVLVAGFGR       1  RPS23  picr_132:1098016:G  "
      ]
     },
     "metadata": {},
     "output_type": "display_data"
    }
   ],
   "source": [
    "snp_genes = list(set([f for g in filter_final_anno_snp_df['gene'] for f in g.split(',')]))\n",
    "print 'there are',len(snp_genes),'genes have mutations'\n",
    "display(final_anno_snp_df.query('type==\"stoploss\"'))"
   ]
  },
  {
   "cell_type": "code",
   "execution_count": 66,
   "metadata": {},
   "outputs": [
    {
     "data": {
      "image/png": "[encoded data removed]",
      "text/plain": [
       "<matplotlib.figure.Figure at 0x7f3d3ac49d50>"
      ]
     },
     "metadata": {},
     "output_type": "display_data"
    },
    {
     "data": {
      "image/png": "[encoded data removed]",
      "text/plain": [
       "<matplotlib.figure.Figure at 0x7f3d0cf5eb50>"
      ]
     },
     "metadata": {},
     "output_type": "display_data"
    }
   ],
   "source": [
    "def plot_snp_df(snp_df,title):\n",
    "    mut_rates = (snp_df['ref']+'->'+snp_df['alt']).value_counts().to_dict()\n",
    "    mut_rates['C->A'] += mut_rates['G->T']\n",
    "    mut_rates['C->G'] += mut_rates['G->C']\n",
    "    mut_rates['C->T'] += mut_rates['G->A']\n",
    "    mut_rates['T->A'] += mut_rates['A->T']\n",
    "    mut_rates['T->C'] += mut_rates['A->G']\n",
    "    mut_rates['T->G'] += mut_rates['A->C']\n",
    "    for k in mut_rates.keys():\n",
    "        if k[0] in ['G','A']:\n",
    "            del mut_rates[k]\n",
    "\n",
    "    mut_rates = pd.DataFrame.from_dict(mut_rates,orient='index')\n",
    "    ax = mut_rates[0].plot.pie(figsize=(6,6),autopct='%.1f%%')\n",
    "    _ = ax.set(ylabel='',title=title,aspect='equal')\n",
    "plot_snp_df(filter_final_anno_snp_df,'proteomic verified SNV')\n",
    "plt.savefig('/data/shangzhong/mut_1.svg')\n",
    "plt.figure()\n",
    "anno_snp_df = fil_vcf_df[fil_vcf_df.apply(lambda x:(x['alt']!='-') & (x['ref']!='-'),axis=1)]\n",
    "plot_snp_df(anno_snp_df,'annotated SNV')\n",
    "plt.savefig('/data/shangzhong/mut_2.svg')"
   ]
  },
  {
   "cell_type": "code",
   "execution_count": 68,
   "metadata": {},
   "outputs": [],
   "source": [
    "ham_ins_df['id'] = ham_ins_df.apply(lambda x: ':'.join([x['Chromosome'],str(x['s']),x['alt']]),axis=1)\n",
    "ham_ins_vcfs = ham_ins_df['id'].tolist()"
   ]
  },
  {
   "cell_type": "code",
   "execution_count": 69,
   "metadata": {},
   "outputs": [
    {
     "name": "stdout",
     "output_type": "stream",
     "text": [
      "ins that in proteogenomics 42\n",
      "ins that after filtering ones in hamster 42\n"
     ]
    }
   ],
   "source": [
    "final_anno_ins_df['id']=final_anno_ins_df.apply(lambda x:':'.join([x['Chromosome'],str(x['s']),x['alt']]),axis=1)\n",
    "filter_final_anno_ins_df = final_anno_ins_df.query('id not in @ham_ins_vcfs')\n",
    "print 'ins that in proteogenomics',final_anno_ins_df.shape[0]\n",
    "print 'ins that after filtering ones in hamster',filter_final_anno_ins_df.shape[0]"
   ]
  },
  {
   "cell_type": "code",
   "execution_count": 70,
   "metadata": {},
   "outputs": [
    {
     "name": "stdout",
     "output_type": "stream",
     "text": [
      "{'het': 12, 'hom': 30}\n",
      "there are 41 genes have mutations\n",
      "{'nonframeshift insertion': 16, 'frameshift insertion': 26}\n",
      "type                     feature\n",
      "frameshift insertion     het         4\n",
      "                         hom        22\n",
      "nonframeshift insertion  het         8\n",
      "                         hom         8\n",
      "dtype: int64\n"
     ]
    }
   ],
   "source": [
    "ins_genes = list(set([f for g in filter_final_anno_ins_df['gene'] for f in g.split(',')]))\n",
    "print final_anno_ins_df['feature'].value_counts().to_dict()\n",
    "print 'there are',len(ins_genes),'genes have mutations'\n",
    "print final_anno_ins_df['type'].value_counts().to_dict()\n",
    "print final_anno_ins_df.groupby(['type','feature']).size()"
   ]
  },
  {
   "cell_type": "code",
   "execution_count": 71,
   "metadata": {},
   "outputs": [],
   "source": [
    "ham_del_df['id'] = ham_del_df.apply(lambda x: ':'.join([x['Chromosome'],str(x['s']),x['ref']]),axis=1)\n",
    "ham_del_vcfs = ham_del_df['id'].tolist()"
   ]
  },
  {
   "cell_type": "code",
   "execution_count": 74,
   "metadata": {},
   "outputs": [
    {
     "name": "stdout",
     "output_type": "stream",
     "text": [
      "6\n",
      "6\n"
     ]
    }
   ],
   "source": [
    "final_anno_del_df['id']=final_anno_del_df.apply(lambda x:''.join([x['chr'],str(x['s']),x['ref']]),axis=1)\n",
    "filter_final_anno_del_df = final_anno_del_df.query('id not in @ham_del_vcfs')\n",
    "print final_anno_del_df.shape[0]\n",
    "print filter_final_anno_del_df.shape[0]"
   ]
  },
  {
   "cell_type": "code",
   "execution_count": 75,
   "metadata": {},
   "outputs": [
    {
     "name": "stdout",
     "output_type": "stream",
     "text": [
      "{'het': 3, 'hom': 3}\n",
      "there are 6 genes have mutations\n",
      "{'nonframeshift deletion': 2, 'frameshift deletion': 4}\n"
     ]
    }
   ],
   "source": [
    "del_genes = list(set([f for g in filter_final_anno_del_df['gene'] for f in g.split(',')]))\n",
    "print final_anno_del_df['feature'].value_counts().to_dict()\n",
    "print 'there are',len(del_genes),'genes have mutations'\n",
    "print filter_final_anno_del_df['type'].value_counts().to_dict()"
   ]
  },
  {
   "cell_type": "code",
   "execution_count": 76,
   "metadata": {},
   "outputs": [],
   "source": [
    "def get_mut_dist2start(df,cds_pos_dic,mut_type='snp'):\n",
    "    '''this function gets the distance of mutation to the protein start'''\n",
    "    df = df.reset_index(drop=True)\n",
    "    if mut_type == 'snp':\n",
    "        df['mut_pos'] = df['anno'].map(lambda x: int(re.search('(?<=c.\\S)\\d+',x).group(0)))\n",
    "    else:\n",
    "        df['mut_pos'] = df['anno'].map(lambda x: int(re.search('(?<=c.)\\d+',x).group(0)))\n",
    "    df['rnaid'] = df['anno'].map(lambda x: x.split(':')[1])\n",
    "    df[['start','end']] = df.apply(lambda x: pd.Series(cds_pos_dic[x['rnaid']]),axis=1)\n",
    "    df['loc_per'] = (df['mut_pos']-df['start'])/(df['end']-df['start'])\n",
    "    return df"
   ]
  },
  {
   "cell_type": "code",
   "execution_count": 77,
   "metadata": {},
   "outputs": [
    {
     "data": {
      "image/png": "[encoded data removed]",
      "text/plain": [
       "<matplotlib.figure.Figure at 0x7f3d3ac67450>"
      ]
     },
     "metadata": {},
     "output_type": "display_data"
    }
   ],
   "source": [
    "snp_dist = get_mut_dist2start(filter_final_anno_snp_df,cds_pos_dic,mut_type='snp')\n",
    "\n",
    "ax = snp_dist.query('loc_per > -1')['loc_per'].plot(kind='hist',title='mutation location relative to start codon',bins=100)\n",
    "_ = ax.set_xlabel('percentile length of proteins')\n",
    "# _ = ax.set_xlim([-1,1])\n",
    "plt.savefig('/data/shangzhong/snp_in_gene_body.svg')"
   ]
  },
  {
   "cell_type": "code",
   "execution_count": 78,
   "metadata": {},
   "outputs": [
    {
     "data": {
      "image/png": "[encoded data removed]",
      "text/plain": [
       "<matplotlib.figure.Figure at 0x7f3d3ab28790>"
      ]
     },
     "metadata": {},
     "output_type": "display_data"
    },
    {
     "data": {
      "image/png": "[encoded data removed]",
      "text/plain": [
       "<matplotlib.figure.Figure at 0x7f3d35f12390>"
      ]
     },
     "metadata": {},
     "output_type": "display_data"
    },
    {
     "data": {
      "image/png": "[encoded data removed]",
      "text/plain": [
       "<matplotlib.figure.Figure at 0x7f3d35f51610>"
      ]
     },
     "metadata": {},
     "output_type": "display_data"
    }
   ],
   "source": [
    "snp_dist = get_mut_dist2start(filter_final_anno_snp_df,cds_pos_dic,mut_type='snp')\n",
    "ins_dist = get_mut_dist2start(filter_final_anno_ins_df,cds_pos_dic,mut_type='ins')\n",
    "del_dist = get_mut_dist2start(filter_final_anno_del_df,cds_pos_dic,mut_type='del')\n",
    "ax = snp_dist['loc_per'].plot(kind='hist',title='mutation location relative to start codon',bins=100)\n",
    "_ = ax.set_xlabel('percentile length of proteins')\n",
    "_ = ax.set_xlim([-1,1])\n",
    "plt.savefig('/data/shangzhong/snp_in_gene_body.svg')\n",
    "plt.figure()\n",
    "ax = ins_dist['loc_per'].plot(kind='hist',title='mutation location relative to start codon',bins=100)\n",
    "_ = ax.set_xlabel('percentile length of proteins')\n",
    "_ = ax.set_xlim([-1,1])\n",
    "plt.figure()\n",
    "ax = del_dist['loc_per'].plot(kind='hist',title='mutation location relative to start codon',bins=100)\n",
    "_ = ax.set_xlabel('percentile length of proteins')\n",
    "_ = ax.set_xlim([-1,1])"
   ]
  },
  {
   "cell_type": "code",
   "execution_count": 79,
   "metadata": {},
   "outputs": [
    {
     "name": "stdout",
     "output_type": "stream",
     "text": [
      "overlap of frame shift and mutation genes ['DDX21', 'HSPG2', 'PGM1', 'STRAP', 'POLD1', 'PTK2B', 'PRKCSH', 'UQCRC2', 'UQCRC1']\n",
      "overlap of snp and insertion set(['VAT1', 'RIF1', 'PTMA', 'PLEKHG5', 'CALR', 'HSP90B1', 'AHNAK2', 'HNRNPUL1'])\n",
      "overlap of snp and deletions set(['SIK3'])\n"
     ]
    }
   ],
   "source": [
    "print 'overlap of frame shift and mutation genes',list(set(frame_df['genes'].unique().tolist()).intersection(snp_genes))\n",
    "print 'overlap of snp and insertion', set(snp_genes).intersection(ins_genes)\n",
    "print 'overlap of snp and deletions', set(snp_genes).intersection(del_genes)"
   ]
  },
  {
   "cell_type": "markdown",
   "metadata": {},
   "source": [
    "### Check difference between CHOK1, CHOS, DG44 cell lines."
   ]
  },
  {
   "cell_type": "code",
   "execution_count": 97,
   "metadata": {},
   "outputs": [],
   "source": [
    "def process_vcf(ham_vcf_fn):\n",
    "    '''this function process the vcf to make it compatible with proteogenomics vcf results'''\n",
    "    ham_vcf_df = pd.read_csv(ham_vcf_fn,sep='\\t',header=None,usecols=[0,1,3,4,7,8,9],names=['Chromosome','s','ref','alt','info','gt','gt1'])\n",
    "    ham_vcf_df['s'] -= 1\n",
    "\n",
    "    ham_snp_df = ham_vcf_df[ham_vcf_df.apply(lambda x:len(x['ref'])==len(x['alt']),axis=1)]\n",
    "    ham_ins_df = ham_vcf_df[ham_vcf_df.apply(lambda x:len(x['ref'])<len(x['alt']),axis=1)]\n",
    "    ham_del_df = ham_vcf_df[ham_vcf_df.apply(lambda x:len(x['ref'])>len(x['alt']),axis=1)]\n",
    "    ham_snp_df = ham_snp_df.reset_index(drop=True)\n",
    "    ham_ins_df = ham_ins_df.reset_index(drop=True)\n",
    "    ham_del_df = ham_del_df.reset_index(drop=True)\n",
    "    ham_ins_df['alt'] = ham_ins_df['alt'].map(lambda x: x[1:])\n",
    "    ham_ins_df['s'] += 1\n",
    "    ham_del_df['ref'] = ham_del_df['ref'].map(lambda x: x[1:])\n",
    "    ham_del_df['s'] += 1\n",
    "\n",
    "    ham_snp_df['id'] = ham_snp_df.apply(lambda x:':'.join([x['Chromosome'],str(x['s']),x['alt']]),axis=1).tolist()\n",
    "    return ham_snp_df, ham_ins_df, ham_del_df"
   ]
  },
  {
   "cell_type": "code",
   "execution_count": 111,
   "metadata": {},
   "outputs": [],
   "source": [
    "def read_vcf(vcf_fn):\n",
    "    snp_fn = vcf_fn[:-3]+'snp.vcf'\n",
    "    ins_fn = vcf_fn[:-3]+'ins.vcf'\n",
    "    del_fn = vcf_fn[:-3]+'del.vcf'\n",
    "    if not os.path.exists(snp_fn):\n",
    "        snp_df, ins_df, del_df = process_vcf(vcf_fn)\n",
    "        snp_df.to_csv(snp_fn,sep='\\t',index=False)\n",
    "        ins_df.to_csv(ins_fn,sep='\\t',index=False)\n",
    "        del_df.to_csv(del_fn,sep='\\t',index=False)\n",
    "    else:\n",
    "        snp_df = pd.read_csv(snp_fn,sep='\\t',header=0)\n",
    "        ins_df = pd.read_csv(ins_fn,sep='\\t',header=0)\n",
    "        del_df = pd.read_csv(del_fn,sep='\\t',header=0)\n",
    "    return snp_df, ins_df, del_df"
   ]
  },
  {
   "cell_type": "code",
   "execution_count": 101,
   "metadata": {},
   "outputs": [],
   "source": [
    "chos_vcf_fn = path + '/vcf/chos.merged.filter.origin.vcf'\n",
    "chos_snp_df, chos_ins_df, chos_del_df = read_vcf(chos_vcf_fn)"
   ]
  },
  {
   "cell_type": "code",
   "execution_count": 130,
   "metadata": {},
   "outputs": [
    {
     "data": {
      "text/plain": [
       "(991, 15)"
      ]
     },
     "execution_count": 130,
     "metadata": {},
     "output_type": "execute_result"
    }
   ],
   "source": [
    "final_anno_snp_df"
   ]
  },
  {
   "cell_type": "code",
   "execution_count": 112,
   "metadata": {},
   "outputs": [],
   "source": [
    "dg44_vcf_fn = path + '/vcf/2015_12_DG44.merged.filter.origin.vcf'\n",
    "dg44_snp_df, dg44_ins_df, dg44_del_df = read_vcf(dg44_vcf_fn)"
   ]
  },
  {
   "cell_type": "code",
   "execution_count": 113,
   "metadata": {},
   "outputs": [],
   "source": [
    "chok1_vcf_fn = path + '/vcf/CHOK1.origin.vcf'\n",
    "k1_snp_df, k1_ins_df, k1_del_df = read_vcf(chok1_vcf_fn)"
   ]
  },
  {
   "cell_type": "code",
   "execution_count": 114,
   "metadata": {},
   "outputs": [],
   "source": [
    "merge_k1_snp_df = pd.merge(final_anno_snp_df, k1_snp_df[['Chromosome','s','gt1']], on=['Chromosome','s'], how='inner')\n",
    "merge_chos_snp_df = pd.merge(final_anno_snp_df, chos_snp_df[['Chromosome','s','gt1']], on=['Chromosome','s'], how='inner')\n",
    "merge_dg44_snp_df = pd.merge(final_anno_snp_df, dg44_snp_df[['Chromosome','s','gt1']], on=['Chromosome','s'], how='inner')\n",
    "\n",
    "merge_snp_df = reduce(lambda left, right: pd.merge(left, right, on=merge_k1_snp_df.columns.tolist()[:-1], how='outer'),\n",
    "                      [merge_k1_snp_df, merge_chos_snp_df, merge_dg44_snp_df])\n",
    "merge_snp_df = merge_snp_df.rename(columns={'gt1_x':'k1', 'gt1_y':'chos','gt1':'dg44'})"
   ]
  },
  {
   "cell_type": "code",
   "execution_count": 116,
   "metadata": {},
   "outputs": [],
   "source": [
    "merge_k1_ins_df = pd.merge(final_anno_ins_df, k1_ins_df[['Chromosome','s','gt1']], on=['Chromosome','s'], how='inner')\n",
    "merge_chos_ins_df = pd.merge(final_anno_ins_df, chos_ins_df[['Chromosome','s','gt1']], on=['Chromosome','s'], how='inner')\n",
    "merge_dg44_ins_df = pd.merge(final_anno_ins_df, dg44_ins_df[['Chromosome','s','gt1']], on=['Chromosome','s'], how='inner')\n",
    "\n",
    "merge_ins_df = reduce(lambda left, right: pd.merge(left, right, on=merge_k1_ins_df.columns.tolist()[:-1], how='outer'),\n",
    "                      [merge_k1_ins_df, merge_chos_ins_df, merge_dg44_ins_df])\n",
    "merge_ins_df = merge_ins_df.rename(columns={'gt1_x':'k1', 'gt1_y':'chos','gt1':'dg44'})"
   ]
  },
  {
   "cell_type": "code",
   "execution_count": 124,
   "metadata": {},
   "outputs": [],
   "source": [
    "merge_k1_del_df = pd.merge(final_anno_del_df, k1_del_df[['Chromosome','s','gt1']], on=['Chromosome','s'], how='inner')\n",
    "merge_chos_del_df = pd.merge(final_anno_del_df, chos_del_df[['Chromosome','s','gt1']], on=['Chromosome','s'], how='inner')\n",
    "merge_dg44_del_df = pd.merge(final_anno_del_df, dg44_del_df[['Chromosome','s','gt1']], on=['Chromosome','s'], how='inner')\n",
    "\n",
    "merge_del_df = reduce(lambda left, right: pd.merge(left, right, on=merge_k1_del_df.columns.tolist()[:-1], how='outer'),\n",
    "                      [merge_k1_del_df, merge_chos_del_df, merge_dg44_del_df])\n",
    "merge_del_df = merge_del_df.rename(columns={'gt1_x':'k1', 'gt1_y':'chos','gt1':'dg44'})"
   ]
  },
  {
   "cell_type": "code",
   "execution_count": 125,
   "metadata": {},
   "outputs": [
    {
     "name": "stdout",
     "output_type": "stream",
     "text": [
      "(260, 18)\n",
      "(7, 18)\n",
      "(4, 18)\n",
      "(13, 18)\n",
      "(45, 18)\n",
      "(4, 18)\n",
      "(20, 18)\n"
     ]
    }
   ],
   "source": [
    "print merge_snp_df.query('(k1 == k1) & (chos == chos) & (dg44 == dg44)').shape\n",
    "print merge_snp_df.query('(k1 == k1) & (chos == chos) & (dg44 != dg44)').shape\n",
    "print merge_snp_df.query('(k1 == k1) & (chos != chos) & (dg44 == dg44)').shape\n",
    "print merge_snp_df.query('(k1 != k1) & (chos == chos) & (dg44 == dg44)').shape\n",
    "print merge_snp_df.query('(k1 == k1) & (chos != chos) & (dg44 != dg44)').shape\n",
    "print merge_snp_df.query('(k1 != k1) & (chos == chos) & (dg44 != dg44)').shape\n",
    "print merge_snp_df.query('(k1 != k1) & (chos != chos) & (dg44 == dg44)').shape"
   ]
  },
  {
   "cell_type": "code",
   "execution_count": 126,
   "metadata": {},
   "outputs": [
    {
     "data": {
      "image/png": "[encoded data removed]",
      "text/plain": [
       "<matplotlib.figure.Figure at 0x7f3c47a58d10>"
      ]
     },
     "metadata": {},
     "output_type": "display_data"
    }
   ],
   "source": [
    "import matplotlib.pyplot as plt\n",
    "from matplotlib_venn import venn3, venn3_circles\n",
    "plt.figure(figsize=(6,6))\n",
    "# v=venn3(subsets = (45, 4, 7, 20, 4, 13, 260), set_labels = ('CHOK1', 'CHOS', 'DG44'))\n",
    "# v.get_label_by_id('A').set_text('My Favourite group!')\n",
    "c=venn3_circles(subsets = (45, 4, 7, 20, 4, 13, 260), linestyle='dashed', linewidth=1, color=\"grey\")\n",
    "v=venn3(subsets = (45, 4, 7, 20, 4, 13, 260), set_labels = (('CHOK1', 'CHOS', 'DG44')))\n",
    "plt.title('Identified SNPs in CHO derived cell lines')\n",
    "plt.savefig('/home/shangzhong/fig.svg')\n",
    "plt.show()"
   ]
  },
  {
   "cell_type": "code",
   "execution_count": 124,
   "metadata": {},
   "outputs": [],
   "source": [
    "import pandas as pd\n",
    "from Bio import Entrez\n",
    "Entrez.email = 'shl198@eng.ucsd.edu'"
   ]
  },
  {
   "cell_type": "code",
   "execution_count": 146,
   "metadata": {},
   "outputs": [],
   "source": [
    "path = '/data/shangzhong/DE/cho_genbank_protein_acc_2_geneid'\n",
    "in_file = path + '/pr_acc.txt'\n",
    "out_file = path + '/pr.fa'\n",
    "db = path + '/cho_ham_pr'\n",
    "# db_cho = path + '/cho_pr'\n",
    "blast_res = path + '/blast2cho_hamster.txt'\n",
    "# blast_res_cho = path + '/blast2cho.txt'\n",
    "hamster_id_fn = path + '/hamster_all_id.txt'\n",
    "cho_id_fn = path  + '/chok1_all_ID.txt'\n",
    "# with open(in_file) as f, open(out_file, 'w') as out:\n",
    "#     for line in f:\n",
    "#         pr = line.strip()\n",
    "#         try:\n",
    "#             handle = Entrez.efetch(db='nucleotide',id=pr, rettype='fasta', retmode='fasta')\n",
    "#             out.write(handle.read()[:-1])\n",
    "#         except:\n",
    "#             print pr"
   ]
  },
  {
   "cell_type": "code",
   "execution_count": 135,
   "metadata": {},
   "outputs": [
    {
     "data": {
      "text/plain": [
       "0"
      ]
     },
     "execution_count": 135,
     "metadata": {},
     "output_type": "execute_result"
    }
   ],
   "source": [
    "import subprocess\n",
    "cmd = 'blastp -query {in_f} -db {db} -outfmt 6 -num_threads 16 -num_alignments 1 -out {out}'.format(in_f=out_file, db=db, out=blast_res)\n",
    "subprocess.call(cmd,shell=True)"
   ]
  },
  {
   "cell_type": "code",
   "execution_count": 137,
   "metadata": {},
   "outputs": [],
   "source": [
    "blast_df = pd.read_csv(blast_res, sep='\\t',header=None)"
   ]
  },
  {
   "cell_type": "code",
   "execution_count": 139,
   "metadata": {},
   "outputs": [],
   "source": [
    "blast_df = blast_df[[0,1]].drop_duplicates()"
   ]
  },
  {
   "cell_type": "code",
   "execution_count": 152,
   "metadata": {},
   "outputs": [],
   "source": [
    "blast_df[0] = blast_df[0].map(lambda x: x.split('.')[0])\n",
    "blast_df[1] = blast_df[1].map(lambda x: x.split('.')[0])\n",
    "blast_df.columns = ['pr','refseq_pr']"
   ]
  },
  {
   "cell_type": "code",
   "execution_count": 153,
   "metadata": {},
   "outputs": [
    {
     "data": {
      "text/html": [
       "<div>\n",
       "<style>\n",
       "    .dataframe thead tr:only-child th {\n",
       "        text-align: right;\n",
       "    }\n",
       "\n",
       "    .dataframe thead th {\n",
       "        text-align: left;\n",
       "    }\n",
       "\n",
       "    .dataframe tbody tr th {\n",
       "        vertical-align: top;\n",
       "    }\n",
       "</style>\n",
       "<table border=\"1\" class=\"dataframe\">\n",
       "  <thead>\n",
       "    <tr style=\"text-align: right;\">\n",
       "      <th></th>\n",
       "      <th>pr</th>\n",
       "      <th>refseq_pr</th>\n",
       "    </tr>\n",
       "  </thead>\n",
       "  <tbody>\n",
       "    <tr>\n",
       "      <th>0</th>\n",
       "      <td>AOR52806</td>\n",
       "      <td>YP_537128</td>\n",
       "    </tr>\n",
       "    <tr>\n",
       "      <th>1</th>\n",
       "      <td>CAA33678</td>\n",
       "      <td>XP_007606206</td>\n",
       "    </tr>\n",
       "    <tr>\n",
       "      <th>2</th>\n",
       "      <td>EGV91170</td>\n",
       "      <td>XP_016836212</td>\n",
       "    </tr>\n",
       "    <tr>\n",
       "      <th>3</th>\n",
       "      <td>EGV91229</td>\n",
       "      <td>XP_016821936</td>\n",
       "    </tr>\n",
       "    <tr>\n",
       "      <th>4</th>\n",
       "      <td>EGV91274</td>\n",
       "      <td>XP_007635863</td>\n",
       "    </tr>\n",
       "  </tbody>\n",
       "</table>\n",
       "</div>"
      ],
      "text/plain": [
       "         pr     refseq_pr\n",
       "0  AOR52806     YP_537128\n",
       "1  CAA33678  XP_007606206\n",
       "2  EGV91170  XP_016836212\n",
       "3  EGV91229  XP_016821936\n",
       "4  EGV91274  XP_007635863"
      ]
     },
     "execution_count": 153,
     "metadata": {},
     "output_type": "execute_result"
    }
   ],
   "source": [
    "blast_df.head()"
   ]
  },
  {
   "cell_type": "code",
   "execution_count": 155,
   "metadata": {},
   "outputs": [],
   "source": [
    "ham_id_df = pd.read_csv(hamster_id_fn, sep='\\t', header=0)\n",
    "ham_id_df['PrAccess'] = ham_id_df['PrAccess'].map(lambda x: x.split('.')[0])\n",
    "ham_pr_id_dic = ham_id_df.set_index('PrAccess')['GeneID'].to_dict()\n",
    "\n",
    "cho_id_df = pd.read_csv(cho_id_fn, sep='\\t', header=0)\n",
    "cho_id_df['PrAccess'] = cho_id_df['PrAccess'].map(lambda x: x.split('.')[0])\n",
    "cho_pr_id_dic = cho_id_df.set_index('PrAccess')['GeneID'].to_dict()\n",
    "\n",
    "ham_pr_id_dic.update(cho_pr_id_dic)"
   ]
  },
  {
   "cell_type": "code",
   "execution_count": 157,
   "metadata": {},
   "outputs": [],
   "source": [
    "blast_df['geneid'] = blast_df['refseq_pr'].map(lambda x: ham_pr_id_dic[x])"
   ]
  },
  {
   "cell_type": "code",
   "execution_count": 160,
   "metadata": {},
   "outputs": [],
   "source": [
    "blast_df.to_csv(path + '/id_map_res.txt',sep='\\t',index=False)"
   ]
  },
  {
   "cell_type": "code",
   "execution_count": null,
   "metadata": {},
   "outputs": [],
   "source": []
  }
 ],
 "metadata": {
  "kernelspec": {
   "display_name": "Python 2",
   "language": "python",
   "name": "python2"
  },
  "language_info": {
   "codemirror_mode": {
    "name": "ipython",
    "version": 2
   },
   "file_extension": ".py",
   "mimetype": "text/x-python",
   "name": "python",
   "nbconvert_exporter": "python",
   "pygments_lexer": "ipython2",
   "version": "2.7.11"
  }
 },
 "nbformat": 4,
 "nbformat_minor": 2
}
