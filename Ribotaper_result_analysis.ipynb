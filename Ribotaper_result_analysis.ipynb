{
 "cells": [
  {
   "cell_type": "code",
   "execution_count": 2,
   "metadata": {
    "collapsed": true
   },
   "outputs": [],
   "source": [
    "import pandas as pd\n",
    "import os,re,sarge\n",
    "import numpy as np\n",
    "from Bio import SeqIO\n",
    "from natsort import natsorted\n",
    "from pybedtools import BedTool\n",
    "import matplotlib.pyplot as plt\n",
    "import copy\n",
    "%matplotlib inline\n",
    "plt.style.use('ggplot')"
   ]
  },
  {
   "cell_type": "code",
   "execution_count": 3,
   "metadata": {
    "collapsed": true
   },
   "outputs": [],
   "source": [
    "ribo_taper_path  = '/data/shangzhong/RibosomeProfiling/Ribotaper'\n",
    "pasa_path = '/data/shangzhong/Picr_assembly/Annotation/PASA/pasa_stringtie'\n",
    "picr_rna = pasa_path + '/03_pasa_stringtie_rna.fa'\n",
    "orf = ribo_taper_path + '/ORFs_max'\n",
    "orf_fil = ribo_taper_path + '/ORFs_max_filt'\n",
    "thread = 16\n",
    "ham_gff = pasa_path + '/03_pasa_stringtie.gff3'"
   ]
  },
  {
   "cell_type": "markdown",
   "metadata": {},
   "source": [
    "In the RiboTaper result file ORFs_max_filt, the CDS start and stop position is represented using start position of P site, in the downstream analysis it would be easier to change it to the typical position as gff file."
   ]
  },
  {
   "cell_type": "code",
   "execution_count": 4,
   "metadata": {
    "collapsed": true
   },
   "outputs": [],
   "source": [
    "def get_rna_coding_regions(rna_fa):\n",
    "    '''this function gets the start and end positions of CDS relative to rna sequence in the form\n",
    "    {rna:[cds_s,cds_e]}'''\n",
    "    rna_dic = SeqIO.index(picr_rna,'fasta')\n",
    "    cds_s_e_dic = {}\n",
    "    for r in rna_dic:\n",
    "        desp = rna_dic[r].description\n",
    "        try:\n",
    "            pos = re.search('(?<=CDS=).+?(?=$)',desp).group(0).split('-')\n",
    "            pos = [int(p) for p in pos]\n",
    "            pos[0] -= 1\n",
    "#             cds_s_e_dic['-'.join(r.split('_'))] = pos\n",
    "            cds_s_e_dic[r] = pos\n",
    "        except:\n",
    "            pass\n",
    "    return cds_s_e_dic"
   ]
  },
  {
   "cell_type": "code",
   "execution_count": 5,
   "metadata": {
    "collapsed": true,
    "scrolled": true
   },
   "outputs": [],
   "source": [
    "# change anno start and end position to gff format, 1 based\n",
    "cds_s_e_dic = get_rna_coding_regions(picr_rna)\n",
    "orf_fil_df = pd.read_csv(orf_fil,sep='\\t',header=0)\n",
    "orf_fil_df['transcript_id'] = orf_fil_df['transcript_id'].map(lambda x: '_'.join(x.split('-')))\n",
    "orf_fil_df['annotated_start'] = orf_fil_df['transcript_id'].map(lambda x: \n",
    "                        int(cds_s_e_dic[x][0]) if x in cds_s_e_dic else None)\n",
    "orf_fil_df['annotated_stop'] = orf_fil_df['transcript_id'].map(lambda x: \n",
    "                        int(cds_s_e_dic[x][1]) if x in cds_s_e_dic else None)\n",
    "orf_fil_df['stop_pos'] += 2\n",
    "orf_fil_df['start_pos'] -= 1"
   ]
  },
  {
   "cell_type": "markdown",
   "metadata": {},
   "source": [
    "Ribotaper doesn't tell which isoforms the reads come from, it reports all the isofroms. eg:\n",
    "\n",
    "...........AUG..|..|----intron--..|..|..|---intron---|..|..|..Stop\n",
    "\n",
    "...........AUG..|..|------------intron---------------|..|..|..Stop\n",
    "Both ORFs may be reported, but it does not necessarily mean that both actually exist.\n",
    "So let's first check how many rnas in annotation doesn't have proteins, but their isoforms encode proteins."
   ]
  },
  {
   "cell_type": "code",
   "execution_count": 6,
   "metadata": {
    "collapsed": true
   },
   "outputs": [
    {
     "name": "stdout",
     "output_type": "stream",
     "text": [
      "there are 10 rnas that do not have proteins, but their isoforms have proteins,which indicates they may not be lncRNA\n"
     ]
    }
   ],
   "source": [
    "def ncrna_gene_has_pr(gff):\n",
    "    '''this function finds noncoding transcripts whose isoforms have proteins \n",
    "    these transcripts are probably not noncoding rnas.'''\n",
    "    gff_df = pd.read_csv(ham_gff,sep='\\t',header=None,comment='#')\n",
    "    rna_df = gff_df[gff_df[2].values == 'mRNA']\n",
    "    rna_df = rna_df.reset_index(drop=True)\n",
    "    rna_df['rnaid'] = rna_df[8].map(lambda x:re.search('(?<=ID=).+?(?=;)',x).group(0))\n",
    "#     rna_df['rnaid'] = rna_df['rnaid'].map(lambda x: '-'.join(x.split('_')))\n",
    "    rna_df['geneid']= rna_df[8].map(lambda x:re.search('(?<=gene_id=).+?(?=;)',x).group(0))\n",
    "    rna_gid_dic = rna_df.set_index('rnaid')['geneid']\n",
    "\n",
    "    cds_df = gff_df[gff_df[2].values=='CDS']\n",
    "    cds_df = cds_df.reset_index(drop=True)\n",
    "    cds_df['rnaid'] = cds_df[8].map(lambda x:re.search('(?<=Parent=).+?(?=;)',x).group(0))\n",
    "#     cds_df['rnaid'] = cds_df['rnaid'].map(lambda x: '-'.join(x.split('_')))\n",
    "    cds_df['geneid']=cds_df[8].map(lambda x:re.search('(?<=gene_id=).+?(?=;)',x).group(0))\n",
    "    coding_rnas = cds_df['rnaid'].unique().tolist()\n",
    "    id_df = cds_df[['rnaid','geneid']].drop_duplicates()\n",
    "    gid_crna_dic = {k:list(v) for k,v in id_df.groupby('geneid')['rnaid']}\n",
    "    ncrna = list(set(rna_gid_dic.keys())-set(coding_rnas))\n",
    "    ncrna_crna_dic = {}\n",
    "    for rna in ncrna:\n",
    "        try:\n",
    "            gid = rna_gid_dic[rna]\n",
    "            rnas = gid_crna_dic[gid]\n",
    "            ncrna_crna_dic[rna] = [gid,rnas]\n",
    "        except:\n",
    "            pass\n",
    "    return ncrna_crna_dic\n",
    "\n",
    "ncrna_crna_dic = ncrna_gene_has_pr(ham_gff)\n",
    "ncrna_crnas = ncrna_crna_dic.keys()\n",
    "print 'there are',len(ncrna_crnas),'rnas that do not have proteins, but their isoforms have proteins,'\\\n",
    "    'which indicates they may not be lncRNA'"
   ]
  },
  {
   "cell_type": "markdown",
   "metadata": {},
   "source": [
    "For some transcripts, ribotaper reports more than one protein. We split rnas with/without duplicated proteins and analyze them separtely. Each of them would have 3 categories when comparing with annotation: \n",
    "1. Annotation doesn't have protein.\n",
    "2. start in the same frame, which means the end is the same.\n",
    "3. start in the different frame, which means the end is not the same."
   ]
  },
  {
   "cell_type": "markdown",
   "metadata": {},
   "source": [
    "### Analyze transcripts with unique proteins first"
   ]
  },
  {
   "cell_type": "code",
   "execution_count": 7,
   "metadata": {
    "collapsed": true
   },
   "outputs": [],
   "source": [
    "# get duplicated rnas\n",
    "dup_rnas = orf_fil_df[orf_fil_df['transcript_id'].duplicated()]['transcript_id'].unique().tolist()\n",
    "uni_rnas = list(set(orf_fil_df['transcript_id'].unique().tolist())-set(dup_rnas))\n",
    "uni_df = orf_fil_df[~orf_fil_df['transcript_id'].isin(dup_rnas)]\n",
    "uni_df = uni_df.reset_index(drop=True)\n",
    "dup_df = orf_fil_df[orf_fil_df['transcript_id'].isin(dup_rnas)]\n",
    "dup_df = dup_df.reset_index(drop=True)"
   ]
  },
  {
   "cell_type": "code",
   "execution_count": 8,
   "metadata": {},
   "outputs": [
    {
     "name": "stdout",
     "output_type": "stream",
     "text": [
      "In 24709 transcripts with unique proteins, there are 13666 have same proteins, 1318 have new proteins, 8775 have diff proteins in the same frame, 950 have diff proteins in diff frame\n",
      "After filterring out non coding rnas whose isoforms encode rnas, there are 1318 left to be further analyzed\n",
      "there are 3991 transcripts have duplicated proteins\n"
     ]
    }
   ],
   "source": [
    "def get_rnas_in_diff_categories(uni_df):\n",
    "    '''this function extract transcripts that have same proteins, have new proteins\n",
    "    have different proteins in same frame, have different proteins in diff frame'''\n",
    "    uni_same_rnas = uni_df.query('(start_pos==annotated_start) and (stop_pos==annotated_stop)')\\\n",
    "                    ['transcript_id'].unique().tolist()\n",
    "    uni_no_rnas = uni_df[uni_df['annotated_start'].isnull()]['transcript_id'].unique().tolist()\n",
    "    uni_diff_df = uni_df[~uni_df['transcript_id'].isin(uni_same_rnas+uni_no_rnas)]\n",
    "    uni_diff_df = uni_diff_df.reset_index(drop=True)\n",
    "    # change to integer\n",
    "    uni_diff_df['annotated_start'] = uni_diff_df['annotated_start'].astype('int')\n",
    "    uni_diff_df['annotated_stop'] = uni_diff_df['annotated_stop'].astype('int')\n",
    "    # split same frame and different frame\n",
    "    uni_diff_sf_rnas_df = uni_diff_df.query('(start_pos-annotated_start)%3==0')\n",
    "    uni_diff_sf_rnas = uni_diff_sf_rnas_df['transcript_id'].unique().tolist()\n",
    "    uni_diff_df_rnas_df = uni_diff_df.query('(start_pos-annotated_start)%3!=0')\n",
    "    uni_diff_df_rnas = uni_diff_df_rnas_df['transcript_id'].unique().tolist()\n",
    "    return uni_same_rnas, uni_no_rnas, uni_diff_sf_rnas, uni_diff_df_rnas, uni_diff_sf_rnas_df,\\\n",
    "        uni_diff_df_rnas_df\n",
    "\n",
    "uni_rna_types = get_rnas_in_diff_categories(uni_df)\n",
    "print 'In',len(uni_rnas),'transcripts with unique proteins, there are',len(uni_rna_types[0]),'have same '\\\n",
    "'proteins,',len(uni_rna_types[1]),'have new proteins,',len(uni_rna_types[2]),'have diff proteins '\\\n",
    "'in the same frame,',len(uni_rna_types[3]),'have diff proteins in diff frame'\n",
    "uni_fil_no_rnas = list(set(uni_rna_types[1])-set(ncrna_crnas))\n",
    "print 'After filterring out non coding rnas whose isoforms encode rnas, there are',\\\n",
    "len(uni_fil_no_rnas),'left to be further analyzed'\n",
    "print 'there are',len(dup_rnas),'transcripts have duplicated proteins'"
   ]
  },
  {
   "cell_type": "markdown",
   "metadata": {},
   "source": [
    "We are only interested in the proteins that are different from annotation.\n",
    "1. For transcripts with new proteins, we keep the ones whose isoforms don't encode proteins.\n",
    "2. For transcripts with diff proteins, we check how many of them are extended or shrinked.\n",
    "First, let's see for different protiens in the same frame, how many proteins are extended or shriked compared to annotation"
   ]
  },
  {
   "cell_type": "code",
   "execution_count": 46,
   "metadata": {
    "scrolled": true
   },
   "outputs": [
    {
     "name": "stdout",
     "output_type": "stream",
     "text": [
      "there are 305 extend rnas\n",
      "there are 8187 shrink rans\n",
      "there are 189 utr5 rnas\n",
      "there are 93 utr3 rnas\n"
     ]
    },
    {
     "data": {
      "image/png": "[encoded data removed]",
      "text/plain": [
       "<matplotlib.figure.Figure at 0x7ff76bd00bd0>"
      ]
     },
     "metadata": {},
     "output_type": "display_data"
    }
   ],
   "source": [
    "plt.rcParams[\"figure.figsize\"] = (6,4)\n",
    "uni_diff_sf_rna_df = uni_rna_types[4]\n",
    "uni_diff_sf_rna_df['dist']=uni_diff_sf_rna_df['annotated_start']-uni_diff_sf_rna_df['start_pos']\n",
    "extend_rnas = uni_diff_sf_rna_df.query('(dist>0) & (stop_pos>annotated_start)')['transcript_id'].unique().tolist()\n",
    "shrink_rnas = uni_diff_sf_rna_df.query('(dist<0) & (start_pos<annotated_stop)')['transcript_id'].unique().tolist()\n",
    "uni_sf_utr5_rnas = uni_diff_sf_rna_df.query('(dist>0) & (stop_pos<annotated_start)')['transcript_id'].unique().tolist()\n",
    "uni_sf_utr3_rnas = uni_diff_sf_rna_df.query('(dist<0) & (start_pos>annotated_stop)')['transcript_id'].unique().tolist()\n",
    "print 'there are',len(extend_rnas),'extend rnas'\n",
    "print 'there are',len(shrink_rnas),'shrink rans'\n",
    "print 'there are',len(uni_sf_utr5_rnas),'utr5 rnas'\n",
    "print 'there are',len(uni_sf_utr3_rnas),'utr3 rnas'\n",
    "# plot\n",
    "ax = (-uni_diff_sf_rna_df['dist']).plot(kind='hist',bins=500)\n",
    "_ = ax.set_xlim([-500,1000])\n",
    "_ = ax.set_title('Number of extended and shrunken proteins in RiboTaper')\n",
    "_ = ax.set_xlabel('Base pairs downstream of annotated translation start site')\n",
    "plt.savefig('/data/shangzhong/ribotaper.jpg',ppi=300)"
   ]
  },
  {
   "cell_type": "markdown",
   "metadata": {},
   "source": [
    "** From the above figure, we can see that most of the ribo protein differ from annotation in the same frame are shorter than the annotation. The possible reason is that the riboseq is CHO data, the annotation merged all tissues. which may reflect the real case that in CHO those proteins are shorter. \n",
    "Another possible reason is that transdecoder pipeline is more aggressive to include the upstream coding regions. **"
   ]
  },
  {
   "cell_type": "markdown",
   "metadata": {},
   "source": [
    "For the proteins in different frames, check if they overlap with annotation or not."
   ]
  },
  {
   "cell_type": "code",
   "execution_count": 10,
   "metadata": {},
   "outputs": [
    {
     "name": "stdout",
     "output_type": "stream",
     "text": [
      "there are 291 anno proteins in different frame and overlap with annotations\n",
      "there are 291 ribo proteins in different frame and overlap with annotations\n"
     ]
    }
   ],
   "source": [
    "uni_diff_df_rna_df = uni_rna_types[5]\n",
    "uni_diff_df_ribo_bed = BedTool.from_dataframe(uni_diff_df_rna_df[['transcript_id',\n",
    "                                            'start_pos','stop_pos','ORF_id_tr']])\n",
    "uni_diff_df_anno_bed = BedTool.from_dataframe(uni_diff_df_rna_df[['transcript_id',\n",
    "                                            'annotated_start','annotated_stop']])                                            \n",
    "uni_diff_ribo_anno_inter_df = uni_diff_df_ribo_bed.intersect(uni_diff_df_anno_bed,wo=True)\\\n",
    "        .to_dataframe(names=['rnaid','ribo_s','ribo_e','ORF_id_tr','rnaid_1','anno_s','anno_e','length'])\n",
    "uni_diff_ribo_anno_inter_anno_rnas = uni_diff_ribo_anno_inter_df['rnaid'].unique().tolist()\n",
    "uni_diff_ribo_anno_inter_ribo_rnas = uni_diff_ribo_anno_inter_df['ORF_id_tr'].unique().tolist()\n",
    "print 'there are',len(uni_diff_ribo_anno_inter_anno_rnas),'anno proteins in different frame and overlap with annotations'\n",
    "print 'there are',len(uni_diff_ribo_anno_inter_ribo_rnas),'ribo proteins in different frame and overlap with annotations'"
   ]
  },
  {
   "cell_type": "code",
   "execution_count": 11,
   "metadata": {
    "scrolled": true
   },
   "outputs": [
    {
     "name": "stdout",
     "output_type": "stream",
     "text": [
      "In ribo proteins that in different frames with annotation, there are 470 utr5 and 189 utr3\n"
     ]
    }
   ],
   "source": [
    "# get proteins that are in different frame with annotation, and check if they are utr5 or utr3\n",
    "uni_diff_ribo_anno_non_inter_df = uni_diff_df_ribo_bed.intersect(uni_diff_df_anno_bed,v=True)\\\n",
    "        .to_dataframe()\n",
    "# get utr protein\n",
    "uni_diff_ribo_anno_non_inter_df = uni_diff_df_rna_df[uni_diff_df_rna_df['transcript_id']\\\n",
    "                    .isin(uni_diff_ribo_anno_non_inter_df['chrom'].tolist())]\n",
    "uni_diff_ribo_anno_non_inter_df = uni_diff_ribo_anno_non_inter_df.reset_index(drop=True)\n",
    "# define if the utr is 5' or 3'\n",
    "def utr_type(row):\n",
    "    if row['start_pos']> row['annotated_start']:\n",
    "        return '3'\n",
    "    elif row['annotated_start'] > row['stop_pos']:\n",
    "        return '5'\n",
    "    else:\n",
    "        assert False\n",
    "uni_diff_ribo_anno_non_inter_df.loc[:,'utr_type']=uni_diff_ribo_anno_non_inter_df.apply(\\\n",
    "    lambda x:utr_type(x),axis=1)\n",
    "utr_count = uni_diff_ribo_anno_non_inter_df['utr_type'].value_counts()\n",
    "uni_diff_utr5_rnas = uni_diff_ribo_anno_non_inter_df.query('utr_type == \"5\"')['transcript_id'].unique().tolist()\n",
    "uni_diff_utr3_rnas = uni_diff_ribo_anno_non_inter_df.query('utr_type == \"3\"')['transcript_id'].unique().tolist()\n",
    "print 'In ribo proteins that in different frames with annotation, there are',utr_count['5'],'utr5 and',utr_count['3'],'utr3'"
   ]
  },
  {
   "cell_type": "code",
   "execution_count": 12,
   "metadata": {
    "scrolled": true
   },
   "outputs": [
    {
     "data": {
      "image/png": "[encoded data removed]",
      "text/plain": [
       "<matplotlib.figure.Figure at 0x7ff768985cd0>"
      ]
     },
     "metadata": {},
     "output_type": "display_data"
    },
    {
     "data": {
      "image/png": "[encoded data removed]",
      "text/plain": [
       "<matplotlib.figure.Figure at 0x7ff7964b0210>"
      ]
     },
     "metadata": {},
     "output_type": "display_data"
    },
    {
     "data": {
      "image/png": "[encoded data removed]",
      "text/plain": [
       "<matplotlib.figure.Figure at 0x7ff769ee6f10>"
      ]
     },
     "metadata": {},
     "output_type": "display_data"
    }
   ],
   "source": [
    "uni_diff_ribo_anno_inter_df['ribo_len']=uni_diff_ribo_anno_inter_df['ribo_e']-uni_diff_ribo_anno_inter_df['ribo_s']\n",
    "uni_diff_ribo_anno_inter_df['anno_len']=uni_diff_ribo_anno_inter_df['anno_e']-uni_diff_ribo_anno_inter_df['anno_s']\n",
    "uni_diff_ribo_anno_inter_df['ribo_perc']=uni_diff_ribo_anno_inter_df['length']/uni_diff_ribo_anno_inter_df['ribo_len']\n",
    "ax = uni_diff_ribo_anno_inter_df['length'].plot(kind='hist',bins=100)\n",
    "_ = ax.set_title('ribo protein(diff frame) overlap with annotation')\n",
    "_ = ax.set_xlabel('length (nt)')\n",
    "ax = uni_diff_ribo_anno_inter_df[['ribo_len','anno_len']].plot(kind='hist',bins=100)\n",
    "_ = ax.set_title('ribo protein(diff frame) nt length distribution')\n",
    "_ = ax.set_xlabel('length (nt)')\n",
    "ax = uni_diff_ribo_anno_inter_df[['ribo_perc']].plot(kind='hist',bins=100)\n",
    "_ = ax.set_title('ribo protein(diff frame) portion overlap')\n",
    "_ = ax.set_xlabel('portion of ribo protein length')"
   ]
  },
  {
   "cell_type": "markdown",
   "metadata": {},
   "source": [
    "### Analyze transcripts with duplicated proteins, it seems like there are many transcripts have multiple proteins, except the ones same with annotation, those proteins in different frames are much shorter than the annotation and are usually overlapped with annotation. **"
   ]
  },
  {
   "cell_type": "code",
   "execution_count": 13,
   "metadata": {
    "collapsed": true
   },
   "outputs": [],
   "source": [
    "def dup_df2dic(dup_df):\n",
    "    '''transfer duplicated proteins into dictionaries\n",
    "    the first item in the values is annotation region, the\n",
    "    rest are riboseq regions'''\n",
    "    dup_norna_dic = {} # annotation doesn't have protein\n",
    "    dup_dic = {}  # annotation has protein\n",
    "    for index,row in dup_df.iterrows():\n",
    "        rnaid = row['transcript_id']\n",
    "        if np.isnan(row['annotated_start']):\n",
    "            if rnaid in dup_norna_dic:\n",
    "                dup_norna_dic[rnaid].append([row['start_pos'],row['stop_pos']])\n",
    "            else:\n",
    "                dup_norna_dic[rnaid] = [[row['start_pos'],row['stop_pos']]]\n",
    "        else:\n",
    "            if rnaid in dup_dic:\n",
    "                dup_dic[rnaid].append([row['start_pos'],row['stop_pos']])\n",
    "            else:\n",
    "                dup_dic[rnaid]=[[int(row['annotated_start']),int(row['annotated_stop'])]\n",
    "                               ,[row['start_pos'],row['stop_pos']]]\n",
    "    # sort based on start position\n",
    "    for k, v in dup_norna_dic.iteritems():\n",
    "        dup_norna_dic[k] = sorted(v,key=lambda x:x[0])\n",
    "    for k, v in dup_dic.iteritems():\n",
    "        dup_dic[k] = [v[0]] + sorted(v[1:],key=lambda x:x[0])\n",
    "    return dup_dic,dup_norna_dic\n",
    "\n",
    "def check_overlap_nornas(dic):\n",
    "    '''check how many rnas with duplicate novel proteins overlapped\n",
    "    dic: {rnaid:[[s1,e1],[s2,e2]]}''' \n",
    "    dup_overlap_nornas = []\n",
    "    for k,v in dic.iteritems():\n",
    "        for i in range(len(v)-1):\n",
    "            if range(max([v[i][0],v[i+1][0]]),min([v[i][1],v[i+1][1]])) != []:\n",
    "                dup_overlap_nornas.append(k)\n",
    "                break\n",
    "    return dup_overlap_nornas\n",
    "\n",
    "def check_overlap_rnas(dic):\n",
    "    '''check how many rnas with duplicate proteins overlapped\n",
    "    dic: {rnaid:[[anno_s,anno_e],[s1,e1],[s2,e2]]}''' \n",
    "    dup_overlap_rnas = []\n",
    "    for k,v in dic.iteritems():\n",
    "        for i in range(1,len(v)-1):\n",
    "            if range(max([v[i][0],v[i+1][0]]),min([v[i][1],v[i+1][1]])) != []:\n",
    "                dup_overlap_rnas.append(k)\n",
    "                break\n",
    "    return dup_overlap_rnas"
   ]
  },
  {
   "cell_type": "code",
   "execution_count": 14,
   "metadata": {},
   "outputs": [
    {
     "name": "stdout",
     "output_type": "stream",
     "text": [
      "In duplicated proteins, there are 311 rnas do not have proteins in annotation but have proteins in riboseq\n",
      "After filterring out non coding rnas whose isoforms encode proteins, there are 310 left to be further analyzed\n"
     ]
    }
   ],
   "source": [
    "dup_dic,dup_norna_dic = dup_df2dic(dup_df)\n",
    "print 'In duplicated proteins, there are',len(dup_norna_dic),'rnas do not have',\\\n",
    "        'proteins in annotation but have proteins in riboseq'\n",
    "dup_nornas = list(set(dup_norna_dic.keys())-set(ncrna_crnas))\n",
    "print 'After filterring out non coding rnas whose isoforms encode proteins, there are',\\\n",
    "            len(dup_nornas),'left to be further analyzed'"
   ]
  },
  {
   "cell_type": "code",
   "execution_count": 15,
   "metadata": {
    "scrolled": true
   },
   "outputs": [
    {
     "name": "stdout",
     "output_type": "stream",
     "text": [
      "There are 54 rnas do not have proteins in annotation  and have duplicated proteins in riboseq overlapped with each othter\n",
      "There are 733 rnas have proteins in both annotaion and riboseq and they overlapped with each other\n"
     ]
    }
   ],
   "source": [
    "dup_overlap_nornas = check_overlap_nornas(dup_norna_dic)\n",
    "print 'There are',len(dup_overlap_nornas),'rnas do not have proteins in annotation',\\\n",
    "            ' and have duplicated proteins in riboseq overlapped with each othter'\n",
    "dup_noverlap_nornas = list(set(dup_norna_dic.keys())-set(dup_overlap_nornas))\n",
    "dup_overlap_rnas = check_overlap_rnas(dup_dic)\n",
    "print 'There are',len(dup_overlap_rnas),'rnas have proteins in both annotaion and riboseq',\\\n",
    "        'and they overlapped with each other'"
   ]
  },
  {
   "cell_type": "markdown",
   "metadata": {},
   "source": [
    "* First analyze the rnas that have one ribo protein same with annotation"
   ]
  },
  {
   "cell_type": "code",
   "execution_count": 16,
   "metadata": {
    "collapsed": true,
    "scrolled": true
   },
   "outputs": [],
   "source": [
    "def get_stats4_dup_same_rnas(dup_same_rnas_dic):\n",
    "    dup_utr5_rnas = []\n",
    "    dup_utr3_rnas = []\n",
    "    for k,v in dup_same_rnas_dic.iteritems():\n",
    "        for i in v[1:]:\n",
    "            if i[1] <= v[0][0]:\n",
    "                i.append('utr5')\n",
    "                dup_utr5_rnas.append(k)\n",
    "            elif i[0]>=v[0][1]:\n",
    "                i.append('utr3')\n",
    "                dup_utr3_rnas.append(k)\n",
    "            else:\n",
    "                percent = (min(i[1],v[0][1])-max(i[0],v[0][0]))/float((i[1]-i[0]))\n",
    "                i.append('overlap '+str(percent))\n",
    "    dup_utr5_rnas = set(dup_utr5_rnas)\n",
    "    dup_utr3_rnas = set(dup_utr3_rnas)\n",
    "    dup_utr5_3_rnas = dup_utr5_rnas.intersection(dup_utr3_rnas)\n",
    "    dup_same_rnas_overlap_rnas = set(dup_same_rnas_dic.keys())-dup_utr5_rnas-dup_utr3_rnas\n",
    "    overlap_pct = {}\n",
    "    for rna in dup_same_rnas_overlap_rnas:\n",
    "        v = dup_same_rnas_dic[rna]\n",
    "        for i in v[1:]:\n",
    "            if v[0] != i[:2]:\n",
    "                overlap_pct[rna]=float(i[2].split()[1])\n",
    "    dup_utr5_only_rnas = set(dup_utr5_rnas) - set(dup_utr5_3_rnas)\n",
    "    dup_utr3_only_rnas = set(dup_utr3_rnas) - set(dup_utr5_3_rnas)\n",
    "    print 'there are',len(dup_utr5_3_rnas),'rnas have both 5 and 3 UTR and proteins'\n",
    "    print 'there are',len(dup_utr5_rnas)-len(dup_utr5_3_rnas),'rnas that have ribo 5UTR and proteins'\n",
    "    print 'there are',len(dup_utr3_rnas)-len(dup_utr5_3_rnas),'rnas that have ribo 3UTR and proteins'\n",
    "    print 'there are',len(dup_same_rnas_overlap_rnas),'rnas that have prs overlap with annotation'\n",
    "    return overlap_pct,list(dup_utr5_3_rnas),list(dup_utr5_only_rnas),list(dup_utr3_only_rnas),list(dup_same_rnas_overlap_rnas)"
   ]
  },
  {
   "cell_type": "code",
   "execution_count": 17,
   "metadata": {
    "scrolled": true
   },
   "outputs": [
    {
     "name": "stdout",
     "output_type": "stream",
     "text": [
      "there are 84 rnas have both 5 and 3 UTR and proteins\n",
      "there are 1151 rnas that have ribo 5UTR and proteins\n",
      "there are 580 rnas that have ribo 3UTR and proteins\n",
      "there are 367 rnas that have prs overlap with annotation\n"
     ]
    }
   ],
   "source": [
    "# get rnas that have one ribo protein same with annotation\n",
    "dup_same_rnas = []\n",
    "for k,v in dup_dic.iteritems():\n",
    "    for i in v[1:]:\n",
    "        if i == v[0]:\n",
    "            dup_same_rnas.append(k)\n",
    "            break\n",
    "dup_same_rnas_dic = copy.deepcopy({k:dup_dic[k] for k in dup_same_rnas})\n",
    "dup_same_rnas_overlap_pct,dup_same_rnas_utr53,dup_same_rnas_utr5,dup_same_rnas_utr3,dup_same_rnas_overlap = get_stats4_dup_same_rnas(dup_same_rnas_dic)"
   ]
  },
  {
   "cell_type": "code",
   "execution_count": 18,
   "metadata": {},
   "outputs": [
    {
     "name": "stdout",
     "output_type": "stream",
     "text": [
      "there are 42 rnas have both 5 and 3 UTR and proteins\n",
      "there are 628 rnas that have ribo 5UTR and proteins\n",
      "there are 437 rnas that have ribo 3UTR and proteins\n",
      "there are 391 rnas that have prs overlap with annotation\n"
     ]
    }
   ],
   "source": [
    "# get rnas that have ribo proteins different with annotation\n",
    "dup_diff_rnas_dic = copy.deepcopy({k:dup_dic[k] for k in dup_dic if k not in dup_same_rnas})\n",
    "dup_diff_rnas_overlap_pct,dup_diff_rnas_utr53,dup_diff_rnas_utr5,dup_diff_rnas_utr3,dup_diff_rnas_overlap = get_stats4_dup_same_rnas(dup_diff_rnas_dic)"
   ]
  },
  {
   "cell_type": "code",
   "execution_count": 19,
   "metadata": {
    "scrolled": true
   },
   "outputs": [
    {
     "data": {
      "image/png": "[encoded data removed]",
      "text/plain": [
       "<matplotlib.figure.Figure at 0x7ff76bb4fed0>"
      ]
     },
     "metadata": {},
     "output_type": "display_data"
    }
   ],
   "source": [
    "df = pd.DataFrame.from_dict(dup_same_rnas_overlap_pct,orient='index')\n",
    "ax = df[0].plot(kind='hist',bins=50,alpha=0.5,label='with same pr (360)')\n",
    "df = pd.DataFrame.from_dict(dup_diff_rnas_overlap_pct,orient='index')\n",
    "ax = df[0].plot(kind='hist',bins=50,alpha=0.5,label='with diff pr (387)')\n",
    "handles,labels = ax.get_legend_handles_labels()\n",
    "ax.legend(handles[::-1], labels[::-1])\n",
    "_ = ax.set_title('portion of ribo duplicate protein overlapped with annotation')\n",
    "_ = ax.set_xlabel('portion')"
   ]
  },
  {
   "cell_type": "code",
   "execution_count": 20,
   "metadata": {},
   "outputs": [],
   "source": [
    "def add_dup_norna_type(rna_dic,rnas,feature,pos_dic):\n",
    "    for rna in rnas:\n",
    "        pos = pos_dic[rna]\n",
    "        for p in pos:\n",
    "            key = '_'.join([rna,str(p[0]),str(p[1])])\n",
    "            rna_dic[key] = [feature,feature]\n",
    "    return rna_dic\n",
    "\n",
    "def add_dup_same_rna_type(rna_dic,rnas,feature,pos_dic):\n",
    "    for rna in rnas:\n",
    "        pos = pos_dic[rna]\n",
    "        for p in pos[1:]:\n",
    "            key = '_'.join([rna,str(p[0]),str(p[1])])\n",
    "            if 'overlap' in p[2]:\n",
    "                if p[2] == 'overlap 1.0':\n",
    "                    rna_type_dic[key] = [feature, 'same']\n",
    "                else:\n",
    "                    rna_type_dic[key] = [feature, 'overlap']\n",
    "            else:\n",
    "                rna_type_dic[key] = [feature, p[2]]\n",
    "    return rna_dic\n",
    "\n",
    "def add_uni_rna_type(rna_dic,rnas,feature):\n",
    "    for rna in rnas:\n",
    "        if rna in rna_dic:\n",
    "            assert False,rna+' already in dictionary'\n",
    "        else:\n",
    "            rna_dic[rna] = feature\n",
    "    return rna_dic\n",
    "        \n",
    "rna_type_dic = {}\n",
    "rna_type_dic = add_uni_rna_type(rna_type_dic,uni_rna_types[0],'uni_same')\n",
    "rna_type_dic = add_uni_rna_type(rna_type_dic,uni_rna_types[1],'uni_new')\n",
    "rna_type_dic = add_uni_rna_type(rna_type_dic,extend_rnas,'uni_extend')\n",
    "rna_type_dic = add_uni_rna_type(rna_type_dic,shrink_rnas,'uni_shrink')\n",
    "rna_type_dic = add_uni_rna_type(rna_type_dic,uni_sf_utr5_rnas,'uni_sf_utr5')\n",
    "rna_type_dic = add_uni_rna_type(rna_type_dic,uni_sf_utr3_rnas,'uni_sf_utr3')\n",
    "rna_type_dic = add_uni_rna_type(rna_type_dic,uni_diff_ribo_anno_inter_anno_rnas,'uni_diff_overlap')\n",
    "rna_type_dic = add_uni_rna_type(rna_type_dic,uni_diff_utr5_rnas,'uni_diff_utr5')\n",
    "rna_type_dic = add_uni_rna_type(rna_type_dic,uni_diff_utr3_rnas,'uni_diff_utr3')\n",
    "\n",
    "rna_type_dic = add_dup_norna_type(rna_type_dic,dup_overlap_nornas,'dup_overlap_nornas',dup_norna_dic) # overlap with it self\n",
    "rna_type_dic = add_dup_norna_type(rna_type_dic,dup_noverlap_nornas,'dup_noverlap_nornas',dup_norna_dic)\n",
    "rna_type_dic = add_dup_same_rna_type(rna_type_dic,dup_same_rnas_overlap,'dup_same_overlap',dup_same_rnas_dic)\n",
    "rna_type_dic = add_dup_same_rna_type(rna_type_dic,dup_same_rnas_utr53,'dup_same_utr53',dup_same_rnas_dic)\n",
    "rna_type_dic = add_dup_same_rna_type(rna_type_dic,dup_same_rnas_utr5,'dup_same_utr5',dup_same_rnas_dic)\n",
    "rna_type_dic = add_dup_same_rna_type(rna_type_dic,dup_same_rnas_utr3,'dup_same_utr3',dup_same_rnas_dic)\n",
    "rna_type_dic = add_dup_same_rna_type(rna_type_dic,dup_diff_rnas_overlap,'dup_diff_overlap',dup_diff_rnas_dic)\n",
    "rna_type_dic = add_dup_same_rna_type(rna_type_dic,dup_diff_rnas_utr53,'dup_diff_utr53',dup_diff_rnas_dic)\n",
    "rna_type_dic = add_dup_same_rna_type(rna_type_dic,dup_diff_rnas_utr5,'dup_diff_utr5',dup_diff_rnas_dic)\n",
    "rna_type_dic = add_dup_same_rna_type(rna_type_dic,dup_diff_rnas_utr3,'dup_diff_utr3',dup_diff_rnas_dic)"
   ]
  },
  {
   "cell_type": "markdown",
   "metadata": {},
   "source": [
    "|                 |          Summary                 |                             |\n",
    "|-----------------|----------------------------------|-----------------------------|\n",
    "| Unique (24733)  | same pr (13528)                  |                             |\n",
    "|                 | new pr (1603)                    | filter coding isoform(1367) |\n",
    "|                 | diff same frame (8708)           | Extend (480)                |\n",
    "|                 |                                  | Shrink (8228)               |\n",
    "|                 | diff diff frame (894)            | Overlap with anno (272)     |\n",
    "|                 |                                  | UTR5 (446)                  |\n",
    "|                 |                                  | UTR3 (176)                  |\n",
    "| Duplicate(3974) | new pr (360)                     | Filter coding isoform (323) |\n",
    "|                 |                                  | Overlap(56)                 |\n",
    "|                 |                                  | Nonoverlap (304)            |\n",
    "|                 | One is same with  anno pr (2151) | Overlap (360)               |\n",
    "|                 |                                  | UTR5_3 (84)                 |\n",
    "|                 |                                  | UTR5 (1135)                 |\n",
    "|                 |                                  | UTR3 (572)                  |\n",
    "|                 | Diff pr (1463)                   | Overlap(387)                |\n",
    "|                 |                                  | UTR5_3 (41)                 |\n",
    "|                 |                                  | UTR5 (609)                  |\n",
    "|                 |                                  | UTR3 (426)                  |"
   ]
  },
  {
   "cell_type": "code",
   "execution_count": 21,
   "metadata": {},
   "outputs": [
    {
     "data": {
      "image/png": "[encoded data removed]",
      "text/plain": [
       "<matplotlib.figure.Figure at 0x7ff76b57eb10>"
      ]
     },
     "metadata": {},
     "output_type": "display_data"
    }
   ],
   "source": [
    "import matplotlib.pyplot as plt\n",
    "import numpy as np\n",
    "fig, ax = plt.subplots()\n",
    "\n",
    "size = 0.3\n",
    "# vals = np.array([[16982, 648],[7727, 3343]])\n",
    "vals = np.array([[16982, 7727],[648, 3343]])\n",
    "\n",
    "cmap = plt.get_cmap(\"tab20c\")\n",
    "outer_colors = cmap(np.arange(2)*4)\n",
    "inner_colors = cmap(np.array([1, 2, 5,6]))\n",
    "\n",
    "ax.pie(vals.sum(axis=1), radius=1, colors=outer_colors,\n",
    "       wedgeprops=dict(width=size, edgecolor='w'),labels=['Unique', 'Multiple'])\n",
    "\n",
    "ax.pie(vals.flatten(), radius=1-size, colors=inner_colors,\n",
    "       wedgeprops=dict(width=size, edgecolor='w'))\n",
    "\n",
    "ax.set(aspect=\"equal\", title='RiboTaper predicted ORFs')\n",
    "plt.savefig('/data/shangzhong/ribotaper.svg')"
   ]
  },
  {
   "cell_type": "code",
   "execution_count": 22,
   "metadata": {},
   "outputs": [],
   "source": [
    "fn = '/data/shangzhong/Proteogenomics/event_results/novel_res.txt'\n",
    "df = pd.read_csv(fn,sep='\\t',header=0)"
   ]
  },
  {
   "cell_type": "code",
   "execution_count": 23,
   "metadata": {},
   "outputs": [],
   "source": [
    "df['pep'] = df['Peptide'].map(lambda x: ''.join([p for p in x if p.isalpha()])[:-1])"
   ]
  },
  {
   "cell_type": "code",
   "execution_count": 24,
   "metadata": {},
   "outputs": [
    {
     "data": {
      "text/plain": [
       "9808"
      ]
     },
     "execution_count": 24,
     "metadata": {},
     "output_type": "execute_result"
    }
   ],
   "source": [
    "df['pep'].unique().size"
   ]
  },
  {
   "cell_type": "markdown",
   "metadata": {},
   "source": [
    "#### Analyze known pepties statistics"
   ]
  },
  {
   "cell_type": "code",
   "execution_count": 25,
   "metadata": {},
   "outputs": [],
   "source": [
    "path = '/data/shangzhong/Picr_assembly/Annotation/PASA/pasa_stringtie'\n",
    "dft_pr_fn = path + '/03_pasa_stringtie_pr.fa'\n",
    "# unique protein sequences\n",
    "dft_pep_pr_dic = {}\n",
    "for record in SeqIO.parse(dft_pr_fn, 'fasta'):\n",
    "    seq = str(record.seq)\n",
    "    if seq in dft_pep_pr_dic:\n",
    "        dft_pep_pr_dic[seq].append(record.id)\n",
    "    else:\n",
    "        dft_pep_pr_dic[seq] = [record.id]\n",
    "dft_prs = [v[0] for v in dft_pep_pr_dic.values()]"
   ]
  },
  {
   "cell_type": "code",
   "execution_count": 26,
   "metadata": {},
   "outputs": [],
   "source": [
    "ribotaper_pro_path = '/data/s3cha/CHO_ENOSI_JOB/taper'\n",
    "known_pep_pos_fn = ribotaper_pro_path + '/known_pos.txt'\n",
    "novel_pep_pos_fn = ribotaper_pro_path + '/all_event_locations.txt'\n",
    "ribo_pep_pos_fn = ribotaper_pro_path + '/ribo_pep_pos.txt'\n",
    "ribo_pep_pos2knowndb_fn = ribotaper_pro_path + '/ribo_pep_pos_in_knownDB.txt'"
   ]
  },
  {
   "cell_type": "code",
   "execution_count": 27,
   "metadata": {},
   "outputs": [],
   "source": [
    "def get_gene_rna(ham_gff):\n",
    "    '''add geneid, rnaid, rna confident score to gff dataframe \n",
    "    return gff_df and rna_gene_dic in format of {rna id:gene id}'''\n",
    "    gff_df = pd.read_csv(ham_gff,sep='\\t',header=None,comment='#')\n",
    "    gff_df = gff_df[gff_df[2].values=='mRNA']\n",
    "    gff_df['rnaid'] = gff_df[8].map(lambda x: re.search('(?<=ID=).+?(?=;)',x).group(0))\n",
    "    gff_df['geneid'] = gff_df[8].map(lambda x: re.search('(?<=gene_id=).+?(?=;)',x).group(0))\n",
    "    rna_gene_dic = gff_df.set_index('rnaid')['geneid'].to_dict()\n",
    "    gff_df['rna_cs'] = gff_df[8].map(lambda x: re.search('(?<=cs=).+?(?=$|;)',x).group(0))\n",
    "    return gff_df,rna_gene_dic\n",
    "\n",
    "gff_df,rna_gene_dic = get_gene_rna(ham_gff)"
   ]
  },
  {
   "cell_type": "code",
   "execution_count": 28,
   "metadata": {},
   "outputs": [],
   "source": [
    "def add_geneid_pepnum(pep_pos_fn,rna_gene_dic):\n",
    "    ''' add geneid, and number of genes each peptide map to\n",
    "    pep_pos_fn: 4 columns [rna, pep, pos, spec_num]. \n",
    "    rna_gene_dic: {rnaid, geneid}\n",
    "    '''\n",
    "    # analyze known peptides\n",
    "    pep_pos_df = pd.read_csv(pep_pos_fn,sep='\\t',header=0,names=['rna','pep','pos','spec_num'])\n",
    "    pep_pos_df['geneid'] = pep_pos_df['rna'].map(lambda x:rna_gene_dic[x])\n",
    "    # get {pep: number of genes mapped to}\n",
    "    pep_gene_dic = pep_pos_df[['pep','geneid']].drop_duplicates().groupby('pep').count().to_dict()['geneid']\n",
    "    pep_pos_df['pep_num_gene'] = pep_pos_df['pep'].map(lambda x: pep_gene_dic[x])\n",
    "    return pep_pos_df\n",
    "\n",
    "known_pep_pos_df = add_geneid_pepnum(known_pep_pos_fn,rna_gene_dic)"
   ]
  },
  {
   "cell_type": "code",
   "execution_count": 29,
   "metadata": {},
   "outputs": [
    {
     "name": "stdout",
     "output_type": "stream",
     "text": [
      "there are 208904 peptides map uniquely to known db\n"
     ]
    }
   ],
   "source": [
    "print 'there are',known_pep_pos_df.query('pep_num_gene == 1')['pep'].unique().shape[0],'peptides map uniquely to known db'"
   ]
  },
  {
   "cell_type": "code",
   "execution_count": 30,
   "metadata": {},
   "outputs": [
    {
     "name": "stdout",
     "output_type": "stream",
     "text": [
      "there are 41409 proteins have at least two peptides with at least one peptides map uniquely\n"
     ]
    }
   ],
   "source": [
    "def get_verified_proteins(known_pep_pos_df):\n",
    "    '''get proteins verified by peptides\n",
    "    known_pep_pos_df: dataframe with columns, ['rna', 'pep', 'pos', 'spec_num', 'geneid', 'pep_num_gene']\n",
    "    '''\n",
    "    rna_pepnum_dic = {k:list(v) for k,v in known_pep_pos_df.groupby('rna')['pep_num_gene']}\n",
    "    # get verified proteins\n",
    "    verified_prs = []\n",
    "    for k,v in rna_pepnum_dic.iteritems():\n",
    "        if 1 in v and len(v)>1:\n",
    "            verified_prs.append(k)\n",
    "    return verified_prs\n",
    "\n",
    "verified_prs = get_verified_proteins(known_pep_pos_df)\n",
    "print 'there are',len(verified_prs),'proteins have at least two peptides with at least one peptides map uniquely'"
   ]
  },
  {
   "cell_type": "code",
   "execution_count": 31,
   "metadata": {},
   "outputs": [
    {
     "name": "stdout",
     "output_type": "stream",
     "text": [
      "known_pep_pos_df line: 1029274\n",
      "after remove duplicate lines 1029274\n",
      "if the two numbers above are the same, it means there is no peptide map to multi locations in a rna \n",
      "\n",
      "draft annotation protein confidence scores {'1': 49084, '3': 2607, '2': 10260, '5': 16070, '4': 4129}\n",
      "verified proteins with different confidence scores {'1': 34626, '3': 1313, '2': 4579, '4': 891} \n",
      "\n"
     ]
    }
   ],
   "source": [
    "# analyze known peptides\n",
    "print 'known_pep_pos_df line:',known_pep_pos_df.shape[0]\n",
    "print 'after remove duplicate lines',known_pep_pos_df[['rna','pep']].drop_duplicates().shape[0]\n",
    "print 'if the two numbers above are the same, it means there is no peptide map to multi locations in a rna \\n'\n",
    "\n",
    "print 'draft annotation protein confidence scores', gff_df['rna_cs'].value_counts().to_dict()\n",
    "print 'verified proteins with different confidence scores', gff_df.query('rnaid in @verified_prs')['rna_cs'].value_counts().to_dict(),'\\n'"
   ]
  },
  {
   "cell_type": "markdown",
   "metadata": {},
   "source": [
    "#### Anazlye MS to Ribo protein sequence results\n",
    "1. Get peptide position relative to proteins in protein databases for ribo_new peptides and known peptides\n",
    "2. Get transcripts that have peptides support extend and shrink portion"
   ]
  },
  {
   "cell_type": "code",
   "execution_count": 32,
   "metadata": {},
   "outputs": [],
   "source": [
    "def read_ribo_pep_pos_df(fn):\n",
    "    '''\n",
    "    df: ['id', 'pep', 'pos', 'spec_num', 'nt_pos', 'rnaid', 'geneid']\n",
    "    dic: {ribo_pr_fa_header: [list of positions of peptides]}\n",
    "    pep_dic: {ribo_pr_fa_header:[list of peptides]}\n",
    "    '''\n",
    "    df = pd.read_csv(fn,sep='\\t',header=0,names=['id','pep','pos','spec_num'])\n",
    "    df['nt_pos'] = df['pos']*3\n",
    "    df['rnaid']  = df['id'].map(lambda x: '_'.join(x.split('_')[0].split('-')))\n",
    "    df['start']  = df['id'].map(lambda x: int(x.split(':')[0].split('_')[1])-1)\n",
    "    df['end']  = df['id'].map(lambda x: int(x.split(':')[0].split('_')[2])+2)\n",
    "    df['pos2rna'] = df['start'] + df['nt_pos']\n",
    "    df['geneid'] = df['id'].map(lambda x: x.split(':')[1])\n",
    "    df['rnaid_pos'] = df.apply(lambda x: '_'.join([x['rnaid'],str(x['start']),str(x['end'])]),axis=1)\n",
    "    pep_gene_dic = df[['pep','geneid']].drop_duplicates().groupby('pep').count().to_dict()['geneid']\n",
    "    df['pep_num_gene'] = df['pep'].map(lambda x: pep_gene_dic[x])\n",
    "#     dic = {k:list(v) for k,v in df.groupby('id')['pos']}\n",
    "#     pep_dic = {k:list(v) for k,v in df.groupby('id')['pep']}\n",
    "    return df\n",
    "\n",
    "# known_pep_pos_dic = {k:list(v) for k,v in known_pep_pos_df.groupby('rna')['pos']}\n",
    "# known_pep_dic   = {k:list(v) for k,v in known_pep_pos_df.groupby('rna')['pep']}\n",
    "ribo_pep_pos_df = read_ribo_pep_pos_df(ribo_pep_pos_fn)\n",
    "ribo_pep_pos2knowndb_df = pd.read_csv(ribo_pep_pos2knowndb_fn,sep='\\t',header=0,names=['id','pep','pos','spec_num'])\n",
    "ribo_pep2known = ribo_pep_pos2knowndb_df['pep'].unique().tolist()\n",
    "recmb = ['lightchain_mRNA','heavychain_mRNA','NeoRKanR_mRNA']\n",
    "ribo_pep_pos_df = ribo_pep_pos_df.query('(pep not in @ribo_pep2known) & (rnaid not in @recmb)')\n",
    "ribo_pep_pos_df = ribo_pep_pos_df.reset_index(drop=True)\n",
    "ribo_pep_pos_df['anno_s'] = ribo_pep_pos_df['rnaid'].map(lambda x:cds_s_e_dic[x][0] if x in cds_s_e_dic else '')\n",
    "ribo_pep_pos_df['anno_e'] = ribo_pep_pos_df['rnaid'].map(lambda x:cds_s_e_dic[x][1] if x in cds_s_e_dic else '')"
   ]
  },
  {
   "cell_type": "code",
   "execution_count": 33,
   "metadata": {},
   "outputs": [],
   "source": [
    "uni_ribo_pep_pos_df = ribo_pep_pos_df[ribo_pep_pos_df['rnaid'].isin(rna_type_dic.keys())]\n",
    "uni_ribo_pep_pos_df = uni_ribo_pep_pos_df.reset_index(drop=True)\n",
    "uni_ribo_pep_pos_df['type'] = uni_ribo_pep_pos_df['rnaid'].map(lambda x: rna_type_dic[x])\n",
    "dup_ribo_pep_pos_df = ribo_pep_pos_df[ribo_pep_pos_df['rnaid_pos'].isin(rna_type_dic.keys())]\n",
    "dup_ribo_pep_pos_df = dup_ribo_pep_pos_df.reset_index(drop=True)\n",
    "dup_ribo_pep_pos_df['type'] = dup_ribo_pep_pos_df['rnaid_pos'].map(lambda x: rna_type_dic[x][0])\n",
    "dup_ribo_pep_pos_df['type1'] = dup_ribo_pep_pos_df['rnaid_pos'].map(lambda x: rna_type_dic[x][1])"
   ]
  },
  {
   "cell_type": "code",
   "execution_count": 34,
   "metadata": {},
   "outputs": [
    {
     "name": "stdout",
     "output_type": "stream",
     "text": [
      "filter known pep, there are 2617 peptides uniquely identified using riboseq database\n"
     ]
    }
   ],
   "source": [
    "# 1. check how many peptides are newly identified using riboseq\n",
    "novel_pep_pos_df = pd.read_csv(novel_pep_pos_fn,sep='\\t',header=None,comment='#')\n",
    "novel_peps = novel_pep_pos_df[2].unique().tolist()\n",
    "ribo_peps = ribo_pep_pos_df['pep'].unique().tolist()\n",
    "print 'filter known pep, there are',len(ribo_peps),'peptides uniquely identified using riboseq database'"
   ]
  },
  {
   "cell_type": "code",
   "execution_count": 35,
   "metadata": {},
   "outputs": [],
   "source": [
    "# ribo_pep_pos_orign_dic = {} # change key from asmbl-region:..:..: to asmbl_region\n",
    "# for k,v in ribo_pep_pos_dic.iteritems():\n",
    "#     k = k.split(':')[0]\n",
    "#     ribo_pep_pos_orign_dic[k] = v"
   ]
  },
  {
   "cell_type": "markdown",
   "metadata": {},
   "source": [
    "#### For unique proteins from ribotaper\n",
    "##### 1. check if there are peptides support uni no rnas"
   ]
  },
  {
   "cell_type": "code",
   "execution_count": 36,
   "metadata": {},
   "outputs": [],
   "source": [
    "def uni_get_pep_support_ribo_rnas(df,novel=novel_peps):\n",
    "    dic = {k:list(v) for k,v in df.groupby('rnaid')['pep_num_gene']}\n",
    "    dic = {k:v for k,v in dic.iteritems() if 1 in v}\n",
    "    df = df.query('pep not in @novel_peps')\n",
    "    fil_dic = {k:list(v) for k,v in df.groupby('rnaid')['pep_num_gene']}\n",
    "    fil_dic = {k:v for k,v in dic.iteritems() if 1 in v}\n",
    "    print 'after filter there are',len(fil_dic),'rnas'\n",
    "    return dic"
   ]
  },
  {
   "cell_type": "code",
   "execution_count": 37,
   "metadata": {},
   "outputs": [
    {
     "name": "stdout",
     "output_type": "stream",
     "text": [
      "after filter there are 168 rnas\n",
      "there are 168 ribo uni new rnas have peptides support\n"
     ]
    }
   ],
   "source": [
    "uni_new_df = uni_ribo_pep_pos_df.query('type == \"uni_new\"')\n",
    "uni_new_df = uni_new_df.reset_index(drop=True)\n",
    "uni_new_pep_rnas_dic = uni_get_pep_support_ribo_rnas(uni_new_df)\n",
    "print 'there are',len(uni_new_pep_rnas_dic), 'ribo uni new rnas have peptides support'"
   ]
  },
  {
   "cell_type": "markdown",
   "metadata": {},
   "source": [
    "##### 2. check if there are peptides support extend protion in riboseq"
   ]
  },
  {
   "cell_type": "code",
   "execution_count": 38,
   "metadata": {},
   "outputs": [
    {
     "name": "stdout",
     "output_type": "stream",
     "text": [
      "after filter there are 8 rnas\n",
      "there are 8 extend rnas have peptide support\n"
     ]
    }
   ],
   "source": [
    "def get_extend(row):\n",
    "    '''this function gets peptides that locates in the extended region compared to annotation'''\n",
    "    if row['start'] <= row['pos2rna'] < row['anno_s']:\n",
    "        return 'yes'\n",
    "    else:\n",
    "        return 'no'\n",
    "\n",
    "# extend\n",
    "uni_extend_df = uni_ribo_pep_pos_df.query('type==\"uni_extend\"')\n",
    "uni_extend_df = uni_extend_df.reset_index(drop=True)\n",
    "extend_pep_rnas_dic = uni_get_pep_support_ribo_rnas(uni_extend_df)\n",
    "uni_extend_df['extend_region'] = uni_extend_df.apply(lambda x:get_extend(x),axis=1)\n",
    "print 'there are',len(extend_pep_rnas_dic),'extend rnas have peptide support'"
   ]
  },
  {
   "cell_type": "markdown",
   "metadata": {},
   "source": [
    "##### 3. check if there are peptides support extend protion in riboseq"
   ]
  },
  {
   "cell_type": "code",
   "execution_count": 39,
   "metadata": {},
   "outputs": [
    {
     "name": "stdout",
     "output_type": "stream",
     "text": [
      "Among 8280 unique shrink proteins 4680 have peptides support\n"
     ]
    }
   ],
   "source": [
    "def get_shrink_pep(row,known_pep_pos_dic):\n",
    "    '''this function gets peptides that locates in the shrink region compared to annotation'''\n",
    "    try:\n",
    "        pep = known_pep_pos_dic[row['transcript_id']]\n",
    "        pep = [p for p in pep if row['annotated_start']<=p<row['start_pos']]\n",
    "    except:\n",
    "        pep = []\n",
    "    return ','.join([str(p) for p in pep])\n",
    "\n",
    "known_pep_pos_dic = {k:list(v) for k,v in known_pep_pos_df.groupby('rna')['pos']}\n",
    "# shrink proteins\n",
    "uni_shrink_df = uni_diff_sf_rna_df.query('dist < 0')\n",
    "uni_shrink_df = uni_shrink_df.reset_index(drop=True)\n",
    "uni_shrink_df['pep_loc'] = uni_shrink_df.apply(lambda x:get_shrink_pep(x,known_pep_pos_dic),axis=1)\n",
    "pep_sup_uni_shrink_df = uni_shrink_df.query('pep_loc != \"\"')\n",
    "print 'Among',uni_shrink_df.shape[0],'unique shrink proteins',pep_sup_uni_shrink_df.shape[0],\\\n",
    "    'have peptides support'"
   ]
  },
  {
   "cell_type": "markdown",
   "metadata": {},
   "source": [
    "##### 4. check if uni utr5 and utr3 have peptides"
   ]
  },
  {
   "cell_type": "code",
   "execution_count": 40,
   "metadata": {},
   "outputs": [
    {
     "name": "stdout",
     "output_type": "stream",
     "text": [
      "after filter there are 12 rnas\n",
      "there are 12 ribo uni same frame utr5 rnas have peptide support\n",
      "after filter there are 0 rnas\n",
      "there are 0 ribo uni same frame utr3 rnas have peptide support\n"
     ]
    }
   ],
   "source": [
    "uni_utr5_df = uni_ribo_pep_pos_df.query('type == \"uni_sf_utr5\"')\n",
    "uni_utr5_pep_rnas_dic = uni_get_pep_support_ribo_rnas(uni_utr5_df)\n",
    "print 'there are',len(uni_utr5_pep_rnas_dic),'ribo uni same frame utr5 rnas have peptide support'\n",
    "uni_utr3_df = uni_ribo_pep_pos_df.query('type == \"uni_sf_ut35\"')\n",
    "uni_utr3_pep_rnas_dic = uni_get_pep_support_ribo_rnas(uni_utr3_df)\n",
    "print 'there are',len(uni_utr3_pep_rnas_dic),'ribo uni same frame utr3 rnas have peptide support'"
   ]
  },
  {
   "cell_type": "markdown",
   "metadata": {},
   "source": [
    "##### 5. check if uni diff overlap, utr5, utr3 have peptide support"
   ]
  },
  {
   "cell_type": "code",
   "execution_count": 41,
   "metadata": {},
   "outputs": [
    {
     "name": "stdout",
     "output_type": "stream",
     "text": [
      "after filter there are 9 rnas\n",
      "there are 9 ribo uni diff frame overlap with anno rnas have peptide support\n",
      "after filter there are 31 rnas\n",
      "there are 31 ribo uni diff frame utr5 rnas have peptide support\n",
      "after filter there are 24 rnas\n",
      "there are 24 ribo uni diff frame utr3 rnas have peptide support\n"
     ]
    }
   ],
   "source": [
    "uni_diff_overlap_df = uni_ribo_pep_pos_df.query('type == \"uni_diff_overlap\"')\n",
    "uni_diff_overlap_pep_rnas_dic = uni_get_pep_support_ribo_rnas(uni_diff_overlap_df)\n",
    "print 'there are',len(uni_diff_overlap_pep_rnas_dic),'ribo uni diff frame overlap with anno rnas have peptide support'\n",
    "uni_diff_utr5_df = uni_ribo_pep_pos_df.query('type == \"uni_diff_utr5\"')\n",
    "uni_diff_utr5_pep_rnas_dic = uni_get_pep_support_ribo_rnas(uni_diff_utr5_df)\n",
    "print 'there are',len(uni_diff_utr5_pep_rnas_dic),'ribo uni diff frame utr5 rnas have peptide support'\n",
    "uni_diff_utr3_df = uni_ribo_pep_pos_df.query('type == \"uni_diff_utr3\"')\n",
    "uni_diff_utr3_pep_rnas_dic = uni_get_pep_support_ribo_rnas(uni_diff_utr3_df)\n",
    "print 'there are',len(uni_diff_utr3_pep_rnas_dic),'ribo uni diff frame utr3 rnas have peptide support'"
   ]
  },
  {
   "cell_type": "markdown",
   "metadata": {},
   "source": [
    "##### 6. check if dup new pr have peptide support"
   ]
  },
  {
   "cell_type": "code",
   "execution_count": 42,
   "metadata": {},
   "outputs": [
    {
     "name": "stdout",
     "output_type": "stream",
     "text": [
      "after filter there are 22 rnas\n",
      "there are 22 ribo dup overlap nornas have peptide support\n",
      "after filter there are 28 rnas\n",
      "there are 28 ribo dup overlap nornas have peptide support\n"
     ]
    }
   ],
   "source": [
    "dup_overlap_nornas_df = dup_ribo_pep_pos_df.query('type == \"dup_overlap_nornas\"')\n",
    "dup_overlap_nornas_pep_rnas_dic = uni_get_pep_support_ribo_rnas(dup_overlap_nornas_df)\n",
    "print 'there are',len(dup_overlap_nornas_pep_rnas_dic),'ribo dup overlap nornas have peptide support'\n",
    "dup_noverlap_nornas_df = dup_ribo_pep_pos_df.query('type == \"dup_noverlap_nornas\"')\n",
    "dup_noverlap_nornas_pep_rnas_dic = uni_get_pep_support_ribo_rnas(dup_noverlap_nornas_df)\n",
    "print 'there are',len(dup_noverlap_nornas_pep_rnas_dic),'ribo dup overlap nornas have peptide support'"
   ]
  },
  {
   "cell_type": "markdown",
   "metadata": {},
   "source": [
    "##### 7. check if dup with one the same with annotation have peptide"
   ]
  },
  {
   "cell_type": "code",
   "execution_count": 43,
   "metadata": {},
   "outputs": [
    {
     "name": "stdout",
     "output_type": "stream",
     "text": [
      "there are 6 dup same rnas overlap with peptide support\n",
      "there are 7 dup same rnas utr5 and utr3 with peptide support\n",
      "there are 40 dup same rnas utr5 with peptide support\n",
      "there are 44 dup same rnas utr3 with peptide support\n"
     ]
    }
   ],
   "source": [
    "def dup_same_get_pep_support_ribo_rnas(df):\n",
    "    same = df.query('type1 == \"same\"')\n",
    "    dic_same = {k:list(v) for k,v in same.groupby('rnaid')['pep_num_gene']}\n",
    "    dic_same = {k:v for k,v in dic_same.iteritems() if 1 in v}\n",
    "    other = df.query('type1 != \"same\"')\n",
    "    dic_other = {k:list(v) for k,v in other.groupby('rnaid')['pep_num_gene']}\n",
    "    dic_other = {k:v for k,v in dic_other.iteritems() if 1 in v}\n",
    "    return dic_same,dic_other\n",
    "\n",
    "dup_same_rnas_overlap_df = dup_ribo_pep_pos_df.query('type == \"dup_same_overlap\"')\n",
    "dup_same_rnas_overlap_dic,dup_same_rnas_overlap_pep_dic = dup_same_get_pep_support_ribo_rnas(dup_same_rnas_overlap_df)\n",
    "print 'there are',len(dup_same_rnas_overlap_pep_dic),'dup same rnas overlap with peptide support'\n",
    "dup_same_rnas_utr53_df = dup_ribo_pep_pos_df.query('type == \"dup_same_utr53\"')\n",
    "dup_same_rnas_utr53_dic,dup_same_rnas_utr53_pep_dic = dup_same_get_pep_support_ribo_rnas(dup_same_rnas_utr53_df)\n",
    "print 'there are',len(dup_same_rnas_utr53_pep_dic),'dup same rnas utr5 and utr3 with peptide support'\n",
    "dup_same_rnas_utr5_df = dup_ribo_pep_pos_df.query('type == \"dup_same_utr5\"')\n",
    "dup_same_rnas_utr5_dic,dup_same_rnas_utr5_pep_dic = dup_same_get_pep_support_ribo_rnas(dup_same_rnas_utr5_df)\n",
    "print 'there are',len(dup_same_rnas_utr5_pep_dic),'dup same rnas utr5 with peptide support'\n",
    "dup_same_rnas_utr3_df = dup_ribo_pep_pos_df.query('type == \"dup_same_utr3\"')\n",
    "dup_same_rnas_utr3_dic,dup_same_rnas_utr3_pep_dic = dup_same_get_pep_support_ribo_rnas(dup_same_rnas_utr3_df)\n",
    "print 'there are',len(dup_same_rnas_utr3_pep_dic),'dup same rnas utr3 with peptide support'"
   ]
  },
  {
   "cell_type": "markdown",
   "metadata": {},
   "source": [
    "##### 8. check if dup with diff rnas have peptide support"
   ]
  },
  {
   "cell_type": "code",
   "execution_count": 44,
   "metadata": {},
   "outputs": [
    {
     "name": "stdout",
     "output_type": "stream",
     "text": [
      "after filter there are 5 rnas\n",
      "there are 5 dup diff rna overlap have peptides\n",
      "after filter there are 5 rnas\n",
      "there are 5 dup diff rna utr53 have peptides\n",
      "after filter there are 25 rnas\n",
      "there are 25 dup diff rna utr5 have peptides\n",
      "after filter there are 46 rnas\n",
      "there are 46 dup diff rna utr3 have peptides\n"
     ]
    }
   ],
   "source": [
    "dup_diff_rnas_overlap_df = dup_ribo_pep_pos_df.query('type == \"dup_diff_overlap\"')\n",
    "dup_diff_rnas_overlap_pep_dic = uni_get_pep_support_ribo_rnas(dup_diff_rnas_overlap_df)\n",
    "print 'there are', len(dup_diff_rnas_overlap_pep_dic), 'dup diff rna overlap have peptides'\n",
    "dup_diff_rnas_utr53_df = dup_ribo_pep_pos_df.query('type == \"dup_diff_utr53\"')\n",
    "dup_diff_rnas_utr53_pep_dic = uni_get_pep_support_ribo_rnas(dup_diff_rnas_utr53_df)\n",
    "print 'there are', len(dup_diff_rnas_utr53_pep_dic), 'dup diff rna utr53 have peptides'\n",
    "dup_diff_rnas_utr5_df = dup_ribo_pep_pos_df.query('type == \"dup_diff_utr5\"')\n",
    "dup_diff_rnas_utr5_pep_dic = uni_get_pep_support_ribo_rnas(dup_diff_rnas_utr5_df)\n",
    "print 'there are', len(dup_diff_rnas_utr5_pep_dic), 'dup diff rna utr5 have peptides'\n",
    "dup_diff_rnas_utr3_df = dup_ribo_pep_pos_df.query('type == \"dup_diff_utr3\"')\n",
    "dup_diff_rnas_utr3_pep_dic = uni_get_pep_support_ribo_rnas(dup_diff_rnas_utr3_df)\n",
    "print 'there are', len(dup_diff_rnas_utr3_pep_dic), 'dup diff rna utr3 have peptides'"
   ]
  }
 ],
 "metadata": {
  "kernelspec": {
   "display_name": "Python 2",
   "language": "python",
   "name": "python2"
  },
  "language_info": {
   "codemirror_mode": {
    "name": "ipython",
    "version": 2
   },
   "file_extension": ".py",
   "mimetype": "text/x-python",
   "name": "python",
   "nbconvert_exporter": "python",
   "pygments_lexer": "ipython2",
   "version": "2.7.11"
  }
 },
 "nbformat": 4,
 "nbformat_minor": 2
}
