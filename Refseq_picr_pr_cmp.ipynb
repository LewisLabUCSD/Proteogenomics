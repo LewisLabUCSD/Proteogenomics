{
 "cells": [
  {
   "cell_type": "markdown",
   "metadata": {},
   "source": [
    "#### Check protein sequence consistency between picr and hamster refseq\n",
    "Since our goal is to improve the annotation, first we check how many protein sequences in the picr annotation are consistent with hamster refseq proteins\n",
    "Since they use different ids, we use gene names to map between refseq and picr annotation"
   ]
  },
  {
   "cell_type": "code",
   "execution_count": 1,
   "metadata": {
    "collapsed": true,
    "hideCode": false,
    "hidePrompt": false,
    "scrolled": true
   },
   "outputs": [],
   "source": [
    "from Bio import SeqIO\n",
    "import gzip,re,sarge,os\n",
    "import pandas as pd\n",
    "from itertools import product\n",
    "import matplotlib\n",
    "import matplotlib.pyplot as plt\n",
    "%matplotlib inline\n",
    "plt.style.use('ggplot')\n",
    "import seaborn\n",
    "import numpy as np"
   ]
  },
  {
   "cell_type": "code",
   "execution_count": 2,
   "metadata": {
    "collapsed": true,
    "hideCode": false,
    "hidePrompt": true
   },
   "outputs": [],
   "source": [
    "picr_tr   = '/data/genome/hamster/picr/Other/picr.maker.transcripts'\n",
    "picr_pr   = '/data/genome/hamster/picr/Other/picr.maker.prot'\n",
    "picr_gff  = '/data/genome/hamster/picr_old/picr_merge7.gff3'\n",
    "refseq_tr = '/data/genome/hamster/ncbi_refseq/hamster_rna.fa'\n",
    "refseq_pr = '/data/genome/hamster/ncbi_refseq/hamster_pr.fa'\n",
    "refseq_id = '/data/genome/hamster/ncbi_refseq/all_id.txt'"
   ]
  },
  {
   "cell_type": "code",
   "execution_count": 3,
   "metadata": {
    "collapsed": true,
    "hideCode": true,
    "hidePrompt": false
   },
   "outputs": [],
   "source": [
    "def picr_gene_name_dic(gff):\n",
    "    '''{genename:geneid}'''\n",
    "    dic = {}\n",
    "    with open(gff) as p:\n",
    "        for line in p:\n",
    "            if line.startswith('#'): continue\n",
    "            item = line.strip().split('\\t')\n",
    "            if item[2] != 'gene': continue\n",
    "            try:\n",
    "                gid = re.search('(?<=gene_id=).+?(?=[,;]|$)',item[8]).group(0)\n",
    "            except:\n",
    "                continue\n",
    "            try:\n",
    "                name= re.search('(?<=Name=).+?(?=[;,]|$)',item[8]).group(0).upper()\n",
    "            except:\n",
    "                continue\n",
    "            if name in dic:\n",
    "                dic[name].append(gid)\n",
    "            else:\n",
    "                dic[name] = [gid]\n",
    "    return dic"
   ]
  },
  {
   "cell_type": "code",
   "execution_count": 4,
   "metadata": {
    "hideCode": false,
    "hidePrompt": false
   },
   "outputs": [
    {
     "name": "stdout",
     "output_type": "stream",
     "text": [
      "('there are', 18109, 'gene names in picr')\n",
      "('there are', 20347, 'gene names in refseq')\n",
      "('there are', 13202, 'gene names overlap between refseq and picr genome')\n"
     ]
    }
   ],
   "source": [
    "# get picr name:gene id mapping\n",
    "picr_g_name_dic = picr_gene_name_dic(picr_gff)\n",
    "# get refseq name:protein mapping\n",
    "df = pd.read_csv(refseq_id,sep='\\t',header=0)\n",
    "df = df[df['PrAccess'].values != '-']\n",
    "refseq_g_pr_dic = {k.upper():list(v) for k,v in df.groupby('GeneSymbol')['PrAccess']}\n",
    "refseq_g_tr_dic = {k.upper():list(v) for k,v in df.groupby('GeneSymbol')['TrAccess']}\n",
    "# get common genes\n",
    "common_genes = list(set(picr_g_name_dic.keys()).intersection(refseq_g_pr_dic.keys()))\n",
    "print('there are',len(picr_g_name_dic.keys()),'gene names in picr')\n",
    "print('there are',len(refseq_g_pr_dic.keys()),'gene names in refseq')\n",
    "print('there are',len(common_genes), 'gene names overlap between refseq and picr genome')"
   ]
  },
  {
   "cell_type": "code",
   "execution_count": 5,
   "metadata": {
    "collapsed": true,
    "hideCode": true
   },
   "outputs": [],
   "source": [
    "def picr_refseq_blast(map_out,picr_fa,refseq_fa,picr_g_name_dic,refseq_g_trpr_dic,blast):\n",
    "    '''\n",
    "    * picr_fa: picr protein/mRNA sequence in fa format\n",
    "    * refseq_fa: refseq protein/mRNA sequence in fa format\n",
    "    * map_out: store results\n",
    "    '''\n",
    "    # index protein sequences\n",
    "    picr   = SeqIO.index(picr_fa,'fasta')\n",
    "    refseq = SeqIO.index(refseq_fa,'fasta')\n",
    "\n",
    "    if os.path.exists(map_out): os.remove(map_out)\n",
    "    with open(map_out,'a') as f:\n",
    "        for g in common_genes:\n",
    "            qry = 'query.fa'\n",
    "            sub = 'subject.fa'\n",
    "            picr_records = [picr[gene+'-RA'] for gene in picr_g_name_dic[g]]\n",
    "            SeqIO.write(picr_records,qry,'fasta')\n",
    "            refseq_records = [refseq[gene] for gene in refseq_g_trpr_dic[g]]\n",
    "            SeqIO.write(refseq_records,sub,'fasta')\n",
    "            res = sarge.get_stdout(blast + ' -query {q} -subject {s} \\\n",
    "                            -outfmt \\'6 qacc sacc pident length mismatch \\\n",
    "                            gapopen qstart qend sstart send evalue \\\n",
    "                            qlen slen\\' -num_alignments 1'.format(q=qry,s=sub))\n",
    "            f.write(res)"
   ]
  },
  {
   "cell_type": "code",
   "execution_count": 6,
   "metadata": {
    "collapsed": true,
    "hideCode": false,
    "scrolled": true
   },
   "outputs": [],
   "source": [
    "def map_plot(cmp_df,feature):\n",
    "    # percent mapping distribution\n",
    "    cmp_df = cmp_df.groupby(['qry','sub'])['pident','diff_len'].mean()\n",
    "    plt.figure()\n",
    "    ax = cmp_df['pident'].plot.hist(bins=50,title='picr blast to refseq '+feature)\n",
    "    _ = ax.set_xlabel('map percentage')\n",
    "    # 100% match distance distribution\n",
    "    plt.figure()\n",
    "    full_match = cmp_df.query('(-200 < diff_len < 200 ) and (pident==100)')\n",
    "    ax = full_match['diff_len'].plot.hist(bins=100)\n",
    "    _ = ax.set_title('length difference between picr and refseq ' +feature )\n",
    "    _ = ax.set_xlabel('length difference')"
   ]
  },
  {
   "cell_type": "code",
   "execution_count": 7,
   "metadata": {
    "collapsed": true,
    "scrolled": true
   },
   "outputs": [],
   "source": [
    "trmap_out = '/data/shangzhong/Picr_assembly/Annotation/picr_refseq_tr_map.txt'\n",
    "# picr_refseq_blast(trmap_out,picr_tr,refseq_tr,picr_g_name_dic,refseq_g_tr_dic,'blastn')\n",
    "prmap_out = '/data/shangzhong/Picr_assembly/Annotation/picr_refseq_pr_map.txt'\n",
    "# picr_refseq_blast(prmap_out,picr_pr,refseq_pr,picr_g_name_dic,refseq_g_pr_dic,'blastp')"
   ]
  },
  {
   "cell_type": "code",
   "execution_count": 8,
   "metadata": {
    "scrolled": true
   },
   "outputs": [
    {
     "data": {
      "image/png": "[encoded data removed]",
      "text/plain": [
       "<matplotlib.figure.Figure at 0x7f25aa7a04d0>"
      ]
     },
     "metadata": {},
     "output_type": "display_data"
    },
    {
     "data": {
      "image/png": "[encoded data removed]",
      "text/plain": [
       "<matplotlib.figure.Figure at 0x7f25a978a090>"
      ]
     },
     "metadata": {},
     "output_type": "display_data"
    },
    {
     "data": {
      "image/png": "[encoded data removed]",
      "text/plain": [
       "<matplotlib.figure.Figure at 0x7f2581c3fe50>"
      ]
     },
     "metadata": {},
     "output_type": "display_data"
    },
    {
     "data": {
      "image/png": "[encoded data removed]",
      "text/plain": [
       "<matplotlib.figure.Figure at 0x7f25a804e2d0>"
      ]
     },
     "metadata": {},
     "output_type": "display_data"
    }
   ],
   "source": [
    "trmap_out = '/data/shangzhong/Picr_assembly/Annotation/picr_refseq_tr_map.txt'\n",
    "trcmp_df = pd.read_csv(trmap_out,sep='\\t',header=None,names=['qry','sub','pident','len','mm',\n",
    "            'gapopen','qstart','qend','sstart','send','evalue','qlen','slen'])\n",
    "trcmp_df['diff_len'] = trcmp_df['qlen'] - trcmp_df['slen']\n",
    "map_plot(trcmp_df,'protein')\n",
    "# plot protein\n",
    "prmap_out = '/data/shangzhong/Picr_assembly/Annotation/picr_refseq_pr_map.txt'\n",
    "prcmp_df = pd.read_csv(prmap_out,sep='\\t',header=None,names=['qry','sub','pident','len','mm',\n",
    "            'gapopen','qstart','qend','sstart','send','evalue','qlen','slen'])\n",
    "prcmp_df['diff_len'] = trcmp_df['qlen'] - trcmp_df['slen']\n",
    "map_plot(prcmp_df,'protein')"
   ]
  },
  {
   "cell_type": "code",
   "execution_count": 9,
   "metadata": {},
   "outputs": [
    {
     "name": "stdout",
     "output_type": "stream",
     "text": [
      "(5313,)\n",
      "(3193, 14)\n"
     ]
    }
   ],
   "source": [
    "# fragments that are perfectly match and how many of them are full length of qry or sub\n",
    "print prcmp_df.query('pident == 100')['qry'].unique().shape\n",
    "print prcmp_df.query('(pident == 100) and ((len==qlen) or (len==slen))').shape"
   ]
  },
  {
   "cell_type": "markdown",
   "metadata": {},
   "source": [
    "### Then let's look at the protein splice sites consitency between picr and hamster"
   ]
  },
  {
   "cell_type": "code",
   "execution_count": 10,
   "metadata": {
    "collapsed": true
   },
   "outputs": [],
   "source": [
    "cmp_prs = list(set(prcmp_df['sub'].tolist()))\n",
    "cmp_prs = [p.split('.')[0] for p in cmp_prs]\n",
    "picr_cmp_prs = list(set(prcmp_df['qry'].tolist()))"
   ]
  },
  {
   "cell_type": "code",
   "execution_count": null,
   "metadata": {
    "scrolled": true
   },
   "outputs": [],
   "source": [
    "from pybedtools import BedTool\n",
    "draft_gff = '/data/genome/hamster/picr_old/Other/picr_draft.gff3'\n",
    "draft_gff_df = pd.read_csv(draft_gff,sep='\\t',header=None,comment='#')\n",
    "draft_gff_df = draft_gff_df[draft_gff_df[2].values=='CDS']\n",
    "draft_gff_df = draft_gff_df.reset_index(drop=True)\n",
    "draft_gff_df['pr'] = draft_gff_df[8].map(lambda x: re.search('(?<=Target=).+?(?=\\.)',x).group(0))\n",
    "draft_gff_df = draft_gff_df[[0,3,4,'pr',5,6]]\n",
    "print('there are '+str(draft_gff_df.shape[0])+' CDS in draft annotation')\n",
    "draft_gff_df = draft_gff_df[draft_gff_df['pr'].isin(cmp_prs)]\n",
    "print('there are '+str(draft_gff_df.shape[0])+' CDS in draft annotation whose genes map to picr')\n",
    "draft_gff_df.columns = ['dr_chr','dr_s','dr_e','dr_pr','dr_score','dr_str']\n",
    "draft_gff_df = draft_gff_df.sort_values(by=['dr_chr','dr_s'])\n",
    "draft_gff_df = draft_gff_df.reset_index(drop=True)\n",
    "# bed read\n",
    "draft_gff_bed = BedTool.from_dataframe(draft_gff_df)"
   ]
  },
  {
   "cell_type": "code",
   "execution_count": null,
   "metadata": {
    "scrolled": true
   },
   "outputs": [],
   "source": [
    "picr_gff_df = pd.read_csv(picr_gff,sep='\\t',header=None,comment='#')\n",
    "picr_gff_df = picr_gff_df[picr_gff_df[2].values=='CDS']\n",
    "picr_gff_df = picr_gff_df.reset_index(drop=True)\n",
    "picr_gff_df['pr'] = picr_gff_df[8].map(lambda x: re.search('(?<=Parent=).+?(?=;)',x).group(0))\n",
    "picr_gff_df = picr_gff_df[[0,3,4,'pr',5,6]]\n",
    "print('there are '+str(picr_gff_df.shape[0])+' CDS in draft annotation')\n",
    "picr_gff_df = picr_gff_df[picr_gff_df['pr'].isin(picr_cmp_prs)]\n",
    "print('there are '+str(picr_gff_df.shape[0])+' CDS in draft annotation whose genes map to refseq')\n",
    "picr_gff_df.columns = ['chr','s','e','pr','score','str']\n",
    "picr_gff_df = picr_gff_df.sort_values(by=['chr','s'])\n",
    "picr_gff_df = picr_gff_df.reset_index(drop=True)\n",
    "# bed read in \n",
    "picr_gff_bed = BedTool.from_dataframe(picr_gff_df)"
   ]
  },
  {
   "cell_type": "code",
   "execution_count": null,
   "metadata": {},
   "outputs": [],
   "source": [
    "columns = ['chr','s','e','pr','score','str',\\\n",
    "           'dr_chr','dr_s','dr_e','dr_pr','dr_score','dr_str','num_bases']\n",
    "intersect_df = picr_gff_bed.intersect(draft_gff_bed,s=True,wo=True).to_dataframe(names=columns)\n",
    "intersect_df['left_dist'] = intersect_df['dr_s'] - intersect_df['s']\n",
    "intersect_df['right_dist'] = intersect_df['dr_e'] - intersect_df['e']"
   ]
  },
  {
   "cell_type": "markdown",
   "metadata": {},
   "source": [
    "In the draft annotation, there are many genes with isoforms, so till now the intersect between draft and picr CDS regions would have many repetitive regions. so next I will extract the the best match based on the picr_refseq_pr_map."
   ]
  },
  {
   "cell_type": "code",
   "execution_count": null,
   "metadata": {
    "collapsed": true
   },
   "outputs": [],
   "source": [
    "picr_refseq_df = pd.read_csv(prmap_out,sep='\\t',header=None,\n",
    "                             usecols=[0,1],names=['picr','draft'])\n",
    "picr_refseq_pr_dic = picr_refseq_df.set_index('picr')['draft'].to_dict()"
   ]
  },
  {
   "cell_type": "code",
   "execution_count": null,
   "metadata": {
    "collapsed": true,
    "scrolled": true
   },
   "outputs": [],
   "source": [
    "def keep_row(row,picr_refseq_pr_dic):\n",
    "    if row['pr'] in picr_refseq_pr_dic:\n",
    "        if picr_refseq_pr_dic[row['pr']].split('.')[0] == row['dr_pr']:\n",
    "            return True\n",
    "        else:\n",
    "            return False\n",
    "    else:\n",
    "        return False\n",
    "cri = intersect_df.apply(lambda row: keep_row(row,picr_refseq_pr_dic),axis=1)\n",
    "intersect_df = intersect_df[cri]\n",
    "intersect_df = intersect_df.reset_index(drop=True)"
   ]
  },
  {
   "cell_type": "code",
   "execution_count": null,
   "metadata": {
    "collapsed": true
   },
   "outputs": [],
   "source": [
    "cds_map_df = intersect_df.set_index(['pr','dr_pr'])[['chr','s','e',\\\n",
    "        'dr_chr','dr_s','dr_e','left_dist','right_dist']].drop_duplicates()"
   ]
  },
  {
   "cell_type": "code",
   "execution_count": null,
   "metadata": {
    "scrolled": true
   },
   "outputs": [],
   "source": [
    "print('There are '+str(cds_map_df.shape[0]) + ' Overlapped CDS')\n",
    "inconsist_CDS = cds_map_df.query('(left_dist != 0) or (right_dist != 0)').shape[0]\n",
    "print('There are '+str(inconsist_CDS)+' CDS that are not consistent between refseq and picr')\n",
    "print('Percentage is 22.7%')\n",
    "inconsist_rnas = cds_map_df.query('(left_dist != 0) or (right_dist != 0)')\n",
    "print('There are '+str(len(set(inconsist_rnas.index.get_level_values(0))))+' inconsistent RNAs')"
   ]
  },
  {
   "cell_type": "code",
   "execution_count": null,
   "metadata": {},
   "outputs": [],
   "source": [
    "ax = inconsist_rnas.query('(abs(right_dist)<5000) and (abs(left_dist)<5000)')[['left_dist','right_dist']].plot.hist(bins=500)\n",
    "ax.set_xlim(-500,500)\n",
    "ax.set_title('CDS distance distribution between picr and refseq')"
   ]
  },
  {
   "cell_type": "markdown",
   "metadata": {},
   "source": [
    "#### The follwing is to check if picr protein is the same as picr annotation"
   ]
  },
  {
   "cell_type": "code",
   "execution_count": null,
   "metadata": {
    "collapsed": true
   },
   "outputs": [],
   "source": [
    "# check the consistency between picr genome and picr annotation\n",
    "picr_fn = '/data/genome/hamster/picr/picr.fa'\n",
    "picr_handle = SeqIO.index(picr_fn,'fasta')"
   ]
  },
  {
   "cell_type": "code",
   "execution_count": null,
   "metadata": {
    "collapsed": true,
    "scrolled": true
   },
   "outputs": [],
   "source": [
    "# check if protein sequence from picr genome is the same with those one provided\n",
    "gff_df = pd.read_csv(picr_gff,sep='\\t',header=None,comment='#',names=[\n",
    "    'chr','source','feature','start','end','score','strand','frame','anno'])\n",
    "\n",
    "gff_df = gff_df[gff_df['feature'].values=='CDS']\n",
    "gff_df = gff_df.reset_index(drop=True)\n",
    "\n",
    "gff_df['prid'] = gff_df['anno'].map(lambda x:re.search('(?<=ID=).+?(?=:)',x).group(0))"
   ]
  },
  {
   "cell_type": "code",
   "execution_count": null,
   "metadata": {
    "collapsed": true
   },
   "outputs": [],
   "source": [
    "def get_gene_seq(self,ref_dic,gid,id_type='pr'):\n",
    "        '''this function gets seqeunce of a transcript or protein\n",
    "        * self: df with \n",
    "        * ref_dic: handle reads using SeqIO.index(fa,'fasta')\n",
    "        * gid: gene id\n",
    "        '''\n",
    "        df = self\n",
    "        if id_type == 'tr':\n",
    "            feature = 'exon'\n",
    "            id_t = 'trid'\n",
    "        elif id_type == 'pr':\n",
    "            feature = 'CDS'\n",
    "            id_t = 'prid'\n",
    "        region_df = df[(df['feature'].values==feature) & (df[id_t].values==gid)]\n",
    "        region_df = region_df.sort_values(by='start')\n",
    "        # get sequence\n",
    "        scaff = region_df['chr'].tolist()[0]\n",
    "        scaff_seq = ref_dic[scaff].seq\n",
    "        strand = region_df['strand'].tolist()[0]\n",
    "        \n",
    "        g_seq = ''\n",
    "        for s,e in zip(region_df['start'],region_df['end']):\n",
    "            g_seq += scaff_seq[int(s)-1:int(e)]\n",
    "        # consider strand\n",
    "        if strand == '-':\n",
    "            g_seq = g_seq.reverse_complement()\n",
    "        \n",
    "        if id_type == 'pr':\n",
    "            g_seq = g_seq.translate()\n",
    "        return str(g_seq)"
   ]
  },
  {
   "cell_type": "code",
   "execution_count": null,
   "metadata": {
    "collapsed": true
   },
   "outputs": [],
   "source": [
    "proteins = list(set(gff_df['prid'].tolist()))"
   ]
  },
  {
   "cell_type": "code",
   "execution_count": null,
   "metadata": {
    "collapsed": true
   },
   "outputs": [],
   "source": [
    "for pr in proteins:\n",
    "    gff_seq = get_gene_seq(gff_df,picr_handle,pr)\n",
    "    fn_seq  = picr[pr].seq\n",
    "    if gff_seq != fn_seq:\n",
    "        print pr, 'is not consistent'"
   ]
  },
  {
   "cell_type": "code",
   "execution_count": null,
   "metadata": {},
   "outputs": [],
   "source": []
  }
 ],
 "metadata": {
  "celltoolbar": "Hide code",
  "kernelspec": {
   "display_name": "Python 2",
   "language": "python",
   "name": "python2"
  },
  "language_info": {
   "codemirror_mode": {
    "name": "ipython",
    "version": 2
   },
   "file_extension": ".py",
   "mimetype": "text/x-python",
   "name": "python",
   "nbconvert_exporter": "python",
   "pygments_lexer": "ipython2",
   "version": "2.7.11"
  }
 },
 "nbformat": 4,
 "nbformat_minor": 2
}
